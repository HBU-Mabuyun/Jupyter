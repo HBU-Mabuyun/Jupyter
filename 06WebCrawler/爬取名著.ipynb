{
 "cells": [
  {
   "cell_type": "markdown",
   "metadata": {},
   "source": [
    "https://www.jianshu.com/p/e597b5921112"
   ]
  },
  {
   "cell_type": "code",
   "execution_count": 6,
   "metadata": {},
   "outputs": [],
   "source": [
    "import urllib.request\n",
    "import re\n",
    "indexUrl=\"http://www.shicimingju.com/book/sanguoyanyi.html\"\n",
    "html =urllib.request.urlopen(indexUrl).read()\n",
    "html=html.decode('utf8')"
   ]
  },
  {
   "cell_type": "code",
   "execution_count": 7,
   "metadata": {},
   "outputs": [],
   "source": [
    "book_name=re.findall('<h1>(.*)</h1>',html,re.S)\n",
    "chapter=re.findall('href=\"/book/.{0,30}\\d\\.html\">(.*?)</a>',html,re.S)\n",
    "bookurl=re.findall('href=\"(/book/.{0,30}\\d\\.html)\">',html,re.S)\n",
    "chapterUrlBegin=re.sub('.html','',indexUrl)#将书的链接替换成每章的链接开头"
   ]
  },
  {
   "cell_type": "code",
   "execution_count": 8,
   "metadata": {},
   "outputs": [],
   "source": [
    "for i in range(0,len(bookurl)):\n",
    "    #提取每章的number\n",
    "    number=re.findall('/(.{1,4})\\.html',bookurl[i])\n",
    "    #合并字符串形成每章的链接\n",
    "    chapterUrl=re.sub('$',\"/\"+number[0]+\".html\",chapterUrlBegin)\n",
    "    #打开链接网页\n",
    "    chapterHtml=urllib.request.urlopen(chapterUrl).read()\n",
    "    chapterHtml=chapterHtml.decode('utf-8','ignore')\n",
    "    #找到每章内容\n",
    "    chapterText=re.findall('<div id=\"con2\".*?>(.*?)</div>',chapterHtml,re.S)\n",
    "    #替换其中的标签<p></p>和&nbsp\n",
    "    chapterText=re.sub('<p>','',''.join(chapterText))\n",
    "    chapterText = re.sub('</p>', '', ''.join(chapterText))\n",
    "    chapterText = re.sub('', ' ', ''.join(chapterText))\n",
    "    #输出文件\n",
    "    f=open('book/'+\"\".join(book_name)+'.txt','a',encoding='utf-8')\n",
    "    f.write(chapter[i]+\"\\n\")\n",
    "    f.write(chapterText+\"\\n\")\n",
    "    f.close()"
   ]
  },
  {
   "cell_type": "code",
   "execution_count": null,
   "metadata": {},
   "outputs": [],
   "source": []
  }
 ],
 "metadata": {
  "kernelspec": {
   "display_name": "Python 3",
   "language": "python",
   "name": "python3"
  },
  "language_info": {
   "codemirror_mode": {
    "name": "ipython",
    "version": 3
   },
   "file_extension": ".py",
   "mimetype": "text/x-python",
   "name": "python",
   "nbconvert_exporter": "python",
   "pygments_lexer": "ipython3",
   "version": "3.6.2"
  }
 },
 "nbformat": 4,
 "nbformat_minor": 2
}
