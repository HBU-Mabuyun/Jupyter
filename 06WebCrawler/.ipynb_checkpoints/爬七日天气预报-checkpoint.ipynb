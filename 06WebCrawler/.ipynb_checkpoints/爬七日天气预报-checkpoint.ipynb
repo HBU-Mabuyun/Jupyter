{
 "cells": [
  {
   "cell_type": "markdown",
   "metadata": {},
   "source": [
    "### https://blog.csdn.net/Bo_wen_/article/details/50868339"
   ]
  },
  {
   "cell_type": "code",
   "execution_count": 1,
   "metadata": {},
   "outputs": [],
   "source": [
    "# coding : UTF-8"
   ]
  },
  {
   "cell_type": "code",
   "execution_count": 2,
   "metadata": {},
   "outputs": [],
   "source": [
    "import requests\n",
    "import csv\n",
    "import random\n",
    "import time\n",
    "import socket\n",
    "import http.client\n",
    "# import urllib.request\n",
    "from bs4 import BeautifulSoup"
   ]
  },
  {
   "cell_type": "code",
   "execution_count": 3,
   "metadata": {},
   "outputs": [],
   "source": [
    "def get_content(url , data = None):\n",
    "    header={\n",
    "        'Accept': 'text/html,application/xhtml+xml,application/xml;q=0.9,image/webp,*/*;q=0.8',\n",
    "        'Accept-Encoding': 'gzip, deflate, sdch',\n",
    "        'Accept-Language': 'zh-CN,zh;q=0.8',\n",
    "        'Connection': 'keep-alive',\n",
    "        'User-Agent': 'Mozilla/5.0 (Windows NT 6.3; WOW64) AppleWebKit/537.36 (KHTML, like Gecko) Chrome/43.0.235'\n",
    "    }\n",
    "    timeout = random.choice(range(80, 180))\n",
    "    while True:\n",
    "        try:\n",
    "            rep = requests.get(url,headers = header,timeout = timeout)\n",
    "            rep.encoding = 'utf-8'\n",
    "            # req = urllib.request.Request(url, data, header)\n",
    "            # response = urllib.request.urlopen(req, timeout=timeout)\n",
    "            # html1 = response.read().decode('UTF-8', errors='ignore')\n",
    "            # response.close()\n",
    "            break\n",
    "        # except urllib.request.HTTPError as e:\n",
    "        #         print( '1:', e)\n",
    "        #         time.sleep(random.choice(range(5, 10)))\n",
    "        #\n",
    "        # except urllib.request.URLError as e:\n",
    "        #     print( '2:', e)\n",
    "        #     time.sleep(random.choice(range(5, 10)))\n",
    "        except socket.timeout as e:\n",
    "            print( '3:', e)\n",
    "            time.sleep(random.choice(range(8,15)))\n",
    "\n",
    "        except socket.error as e:\n",
    "            print( '4:', e)\n",
    "            time.sleep(random.choice(range(20, 60)))\n",
    "\n",
    "        except http.client.BadStatusLine as e:\n",
    "            print( '5:', e)\n",
    "            time.sleep(random.choice(range(30, 80)))\n",
    "\n",
    "        except http.client.IncompleteRead as e:\n",
    "            print( '6:', e)\n",
    "            time.sleep(random.choice(range(5, 15)))\n",
    "\n",
    "    return rep.text\n",
    "    # return html_text"
   ]
  },
  {
   "cell_type": "code",
   "execution_count": 4,
   "metadata": {},
   "outputs": [],
   "source": [
    "def get_data(html_text):\n",
    "    final = []\n",
    "    bs = BeautifulSoup(html_text, \"html.parser\")  # 创建BeautifulSoup对象\n",
    "    body = bs.body # 获取body部分\n",
    "    data = body.find('div', {'id': '7d'})  # 找到id为7d的div\n",
    "    ul = data.find('ul')  # 获取ul部分\n",
    "    li = ul.find_all('li')  # 获取所有的li\n",
    "\n",
    "    for day in li: # 对每个li标签中的内容进行遍历\n",
    "        temp = []\n",
    "        date = day.find('h1').string  # 找到日期\n",
    "        temp.append(date)  # 添加到temp中\n",
    "        inf = day.find_all('p')  # 找到li中的所有p标签\n",
    "        temp.append(inf[0].string,)  # 第一个p标签中的内容（天气状况）加到temp中\n",
    "        if inf[1].find('span') is None:\n",
    "            temperature_highest = None # 天气预报可能没有当天的最高气温（到了傍晚，就是这样），需要加个判断语句,来输出最低气温\n",
    "        else:\n",
    "            temperature_highest = inf[1].find('span').string  # 找到最高温\n",
    "            temperature_highest = temperature_highest.replace('℃', '')  # 到了晚上网站会变，最高温度后面也有个℃\n",
    "        temperature_lowest = inf[1].find('i').string  # 找到最低温\n",
    "        temperature_lowest = temperature_lowest.replace('℃', '')  # 最低温度后面有个℃，去掉这个符号\n",
    "        temp.append(temperature_highest)   # 将最高温添加到temp中\n",
    "        temp.append(temperature_lowest)   #将最低温添加到temp中\n",
    "        final.append(temp)   #将temp加到final中\n",
    "\n",
    "    return final"
   ]
  },
  {
   "cell_type": "code",
   "execution_count": 5,
   "metadata": {},
   "outputs": [],
   "source": [
    "def write_data(data, name):\n",
    "    file_name = name\n",
    "    with open(file_name, 'a', errors='ignore', newline='') as f:\n",
    "            f_csv = csv.writer(f)\n",
    "            f_csv.writerows(data)"
   ]
  },
  {
   "cell_type": "code",
   "execution_count": 6,
   "metadata": {},
   "outputs": [],
   "source": [
    "url ='http://www.weather.com.cn/weather/101090201.shtml'\n",
    "html = get_content(url)\n",
    "result = get_data(html)\n",
    "#write_data(result, 'weather.csv')"
   ]
  },
  {
   "cell_type": "code",
   "execution_count": 7,
   "metadata": {},
   "outputs": [
    {
     "data": {
      "text/plain": [
       "[['2日（今天）', '晴', None, '13'],\n",
       " ['3日（明天）', '多云转阴', '14', '4'],\n",
       " ['4日（后天）', '小雨', '8', '4'],\n",
       " ['5日（周四）', '多云', '13', '3'],\n",
       " ['6日（周五）', '晴', '15', '2'],\n",
       " ['7日（周六）', '晴', '14', '3'],\n",
       " ['8日（周日）', '晴', '16', '4']]"
      ]
     },
     "execution_count": 7,
     "metadata": {},
     "output_type": "execute_result"
    }
   ],
   "source": [
    "result"
   ]
  },
  {
   "cell_type": "code",
   "execution_count": 8,
   "metadata": {},
   "outputs": [],
   "source": [
    "import pandas as pd\n",
    "weather = pd.DataFrame(result)\n",
    "weather.columns = ['date','weather','max','min']"
   ]
  },
  {
   "cell_type": "code",
   "execution_count": 9,
   "metadata": {},
   "outputs": [
    {
     "data": {
      "text/html": [
       "<div>\n",
       "<style>\n",
       "    .dataframe thead tr:only-child th {\n",
       "        text-align: right;\n",
       "    }\n",
       "\n",
       "    .dataframe thead th {\n",
       "        text-align: left;\n",
       "    }\n",
       "\n",
       "    .dataframe tbody tr th {\n",
       "        vertical-align: top;\n",
       "    }\n",
       "</style>\n",
       "<table border=\"1\" class=\"dataframe\">\n",
       "  <thead>\n",
       "    <tr style=\"text-align: right;\">\n",
       "      <th></th>\n",
       "      <th>date</th>\n",
       "      <th>weather</th>\n",
       "      <th>max</th>\n",
       "      <th>min</th>\n",
       "    </tr>\n",
       "  </thead>\n",
       "  <tbody>\n",
       "    <tr>\n",
       "      <th>0</th>\n",
       "      <td>2日（今天）</td>\n",
       "      <td>晴</td>\n",
       "      <td>None</td>\n",
       "      <td>13</td>\n",
       "    </tr>\n",
       "    <tr>\n",
       "      <th>1</th>\n",
       "      <td>3日（明天）</td>\n",
       "      <td>多云转阴</td>\n",
       "      <td>14</td>\n",
       "      <td>4</td>\n",
       "    </tr>\n",
       "    <tr>\n",
       "      <th>2</th>\n",
       "      <td>4日（后天）</td>\n",
       "      <td>小雨</td>\n",
       "      <td>8</td>\n",
       "      <td>4</td>\n",
       "    </tr>\n",
       "    <tr>\n",
       "      <th>3</th>\n",
       "      <td>5日（周四）</td>\n",
       "      <td>多云</td>\n",
       "      <td>13</td>\n",
       "      <td>3</td>\n",
       "    </tr>\n",
       "    <tr>\n",
       "      <th>4</th>\n",
       "      <td>6日（周五）</td>\n",
       "      <td>晴</td>\n",
       "      <td>15</td>\n",
       "      <td>2</td>\n",
       "    </tr>\n",
       "    <tr>\n",
       "      <th>5</th>\n",
       "      <td>7日（周六）</td>\n",
       "      <td>晴</td>\n",
       "      <td>14</td>\n",
       "      <td>3</td>\n",
       "    </tr>\n",
       "    <tr>\n",
       "      <th>6</th>\n",
       "      <td>8日（周日）</td>\n",
       "      <td>晴</td>\n",
       "      <td>16</td>\n",
       "      <td>4</td>\n",
       "    </tr>\n",
       "  </tbody>\n",
       "</table>\n",
       "</div>"
      ],
      "text/plain": [
       "     date weather   max min\n",
       "0  2日（今天）       晴  None  13\n",
       "1  3日（明天）    多云转阴    14   4\n",
       "2  4日（后天）      小雨     8   4\n",
       "3  5日（周四）      多云    13   3\n",
       "4  6日（周五）       晴    15   2\n",
       "5  7日（周六）       晴    14   3\n",
       "6  8日（周日）       晴    16   4"
      ]
     },
     "execution_count": 9,
     "metadata": {},
     "output_type": "execute_result"
    }
   ],
   "source": [
    "weather"
   ]
  },
  {
   "cell_type": "code",
   "execution_count": null,
   "metadata": {},
   "outputs": [],
   "source": []
  }
 ],
 "metadata": {
  "kernelspec": {
   "display_name": "Python 3",
   "language": "python",
   "name": "python3"
  },
  "language_info": {
   "codemirror_mode": {
    "name": "ipython",
    "version": 3
   },
   "file_extension": ".py",
   "mimetype": "text/x-python",
   "name": "python",
   "nbconvert_exporter": "python",
   "pygments_lexer": "ipython3",
   "version": "3.8.3"
  }
 },
 "nbformat": 4,
 "nbformat_minor": 2
}
