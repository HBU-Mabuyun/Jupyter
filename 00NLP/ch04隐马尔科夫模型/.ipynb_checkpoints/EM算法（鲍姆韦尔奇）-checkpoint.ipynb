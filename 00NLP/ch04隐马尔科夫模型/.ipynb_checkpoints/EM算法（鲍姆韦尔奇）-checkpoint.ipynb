{
 "cells": [
  {
   "cell_type": "markdown",
   "metadata": {},
   "source": [
    "https://blog.csdn.net/firparks/article/details/54934112"
   ]
  },
  {
   "cell_type": "code",
   "execution_count": 1,
   "metadata": {},
   "outputs": [],
   "source": [
    "    #前向-后向算法(Baum-Welch算法):由 EM算法 & HMM 结合形成\n",
    "    def baum_welch(self,O,e=0.05):\n",
    "\n",
    "        row=self.A.shape[0]\n",
    "        col=len(O)\n",
    "\n",
    "        done=False\n",
    "        while not done:\n",
    "            zeta=numpy.zeros((row,row,col-1))\n",
    "            alpha=self.forward(O)\n",
    "            beta=self.backward(O)\n",
    "            #EM算法：由 E-步骤 和 M-步骤 组成\n",
    "            #E-步骤：计算期望值zeta和gamma\n",
    "            for t in range(col-1):\n",
    "                #分母部分\n",
    "                denominator=numpy.dot(numpy.dot(alpha[:,t],self.A)*self.B[:,O[t+1]],beta[:,t+1])\n",
    "                for i in range(row):\n",
    "                    #分子部分以及zeta的值\n",
    "                    numerator=alpha[i,t]*self.A[i,:]*self.B[:,O[t+1]]*beta[:,t+1]\n",
    "                    zeta[i,:,t]=numerator/denominator\n",
    "            gamma=numpy.sum(zeta,axis=1)\n",
    "            final_numerator=(alpha[:,col-1]*beta[:,col-1]).reshape(-1,1)\n",
    "            final=final_numerator/numpy.sum(final_numerator)\n",
    "            gamma=numpy.hstack((gamma,final))\n",
    "            #M-步骤：重新估计参数Pi,A,B\n",
    "            newPi=gamma[:,0]\n",
    "            newA=numpy.sum(zeta,axis=2)/numpy.sum(gamma[:,:-1],axis=1)\n",
    "            newB=numpy.copy(self.B)\n",
    "            b_denominator=numpy.sum(gamma,axis=1)\n",
    "            temp_matrix=numpy.zeros((1,len(O)))\n",
    "            for k in range(self.B.shape[1]):\n",
    "                for t in range(len(O)):\n",
    "                    if O[t]==k:\n",
    "                        temp_matrix[0][t]=1\n",
    "                newB[:,k]=numpy.sum(gamma*temp_matrix,axis=1)/b_denominator\n",
    "            #终止阀值\n",
    "            if numpy.max(abs(self.Pi-newPi))<e and numpy.max(abs(self.A-newA))<e and numpy.max(abs(self.B-newB))<e:\n",
    "                done=True \n",
    "            self.A=newA\n",
    "            self.B=newB\n",
    "            self.Pi=newPi\n",
    "        return self.Pi"
   ]
  },
  {
   "cell_type": "code",
   "execution_count": null,
   "metadata": {},
   "outputs": [],
   "source": []
  }
 ],
 "metadata": {
  "kernelspec": {
   "display_name": "Python 3",
   "language": "python",
   "name": "python3"
  },
  "language_info": {
   "codemirror_mode": {
    "name": "ipython",
    "version": 3
   },
   "file_extension": ".py",
   "mimetype": "text/x-python",
   "name": "python",
   "nbconvert_exporter": "python",
   "pygments_lexer": "ipython3",
   "version": "3.7.8"
  }
 },
 "nbformat": 4,
 "nbformat_minor": 4
}
