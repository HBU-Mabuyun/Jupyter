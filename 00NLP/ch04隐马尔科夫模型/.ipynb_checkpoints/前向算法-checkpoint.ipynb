{
 "cells": [
  {
   "cell_type": "markdown",
   "metadata": {},
   "source": [
    "https://blog.csdn.net/firparks/article/details/54631541"
   ]
  },
  {
   "cell_type": "code",
   "execution_count": 1,
   "metadata": {},
   "outputs": [],
   "source": [
    "    #前向算法：1.初始化，2：归纳计算，3：求和终结\n",
    "    def forwardProcedure(self):\n",
    "        #初始化\n",
    "        sums=0.0\n",
    "        num=0\n",
    "        p=0\n",
    "        count=1\n",
    "        #申请相应的二元数组\n",
    "        alpha=[[0 for col in range(0,len(S))] for row in range(0,len(O))]\n",
    "        for keys in Pi.keys():\n",
    "            alpha[0][num]=Pi[keys]*B[keys][O[0]]\n",
    "            num+=1\n",
    "\n",
    "        #归纳计算\n",
    "        for times in range(len(O)-1):\n",
    "            #当前的行\n",
    "            rowNum=int(num/len(S))\n",
    "            #当前的列\n",
    "            colNum=num%len(S)\n",
    "            for j in S:\n",
    "                for i in A.keys():\n",
    "                    #累加的前半部分\n",
    "                    sums+=alpha[rowNum-1][colNum]*A[i][j]\n",
    "                #根据前面所有节点计算出下一个节点，并存入二维数组\n",
    "                alpha[rowNum][colNum]=sums*B[j][O[count]]\n",
    "                colNum+=1\n",
    "                num+=1\n",
    "            count+=1\n",
    "\n",
    "        #求和终结\n",
    "        for final in range(len(S)):\n",
    "            p+=alpha[len(O)-1][final]\n",
    "        return p\n"
   ]
  },
  {
   "cell_type": "code",
   "execution_count": null,
   "metadata": {},
   "outputs": [],
   "source": []
  }
 ],
 "metadata": {
  "kernelspec": {
   "display_name": "Python 3",
   "language": "python",
   "name": "python3"
  },
  "language_info": {
   "codemirror_mode": {
    "name": "ipython",
    "version": 3
   },
   "file_extension": ".py",
   "mimetype": "text/x-python",
   "name": "python",
   "nbconvert_exporter": "python",
   "pygments_lexer": "ipython3",
   "version": "3.7.8"
  }
 },
 "nbformat": 4,
 "nbformat_minor": 4
}
