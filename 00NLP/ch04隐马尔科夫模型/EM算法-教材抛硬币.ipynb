{
 "cells": [
  {
   "cell_type": "markdown",
   "metadata": {},
   "source": [
    "Code ： Ma bu yun @ 2017 computer science 3 "
   ]
  },
  {
   "cell_type": "code",
   "execution_count": 16,
   "metadata": {},
   "outputs": [],
   "source": [
    "import numpy\n",
    "import math"
   ]
  },
  {
   "cell_type": "markdown",
   "metadata": {},
   "source": [
    "# 估算步骤 M ，对当前的模型求对应的期望值"
   ]
  },
  {
   "cell_type": "code",
   "execution_count": 17,
   "metadata": {},
   "outputs": [],
   "source": [
    "def em_single(theta,O):#对于当前的模型求对应的期望值(估算步骤)\n",
    "# 三个值分别为选择硬币c1的概率、抛c1硬币为正面的概率、抛c2硬币为正面的概率。\n",
    "    pi=theta[0]\n",
    "    h1=theta[1]\n",
    "    h2=theta[2]\n",
    "    new_pi=0\n",
    "    new_h1=0\n",
    "    new_h2=0\n",
    "    PB=[]\n",
    "    head=[]\n",
    "    \n",
    "    for o in O:\n",
    "        t=len(o)\n",
    "        cnt = o.sum()#正面的数量\n",
    "        head.append(cnt)#head=[3.0,3,0]\n",
    "    \n",
    "    for o in O:\n",
    "        t=len(o)\n",
    "        heads = o.sum()#正面的数量\n",
    "        tails=t-heads#反面的数量\n",
    "\n",
    "        u=(pi*math.pow(h1,heads)*math.pow(1-h1,tails))/(pi*math.pow(h1,heads)*math.pow(1-h1,tails)+(1-pi)*math.pow(h2,heads)*math.pow(1-h2,tails))\n",
    "        PB.append(u)\n",
    "\n",
    "    l=len(PB)\n",
    "    new_pi=sum(PB)/l\n",
    "    for i in range(l):\n",
    "        new_h1+=PB[i]*head[i]/t\n",
    "        new_h2+=(1-PB[i])*head[i]/t\n",
    "    new_h1=new_h1/sum(PB)\n",
    "    new_h2=new_h2/(l-sum(PB))#因为有c1 c2两种可能，总观测数减去c1的即为c2的\n",
    "    \n",
    "    return [new_pi,new_h1,new_h2]"
   ]
  },
  {
   "cell_type": "markdown",
   "metadata": {},
   "source": [
    "# 最大化步骤 M"
   ]
  },
  {
   "cell_type": "code",
   "execution_count": 19,
   "metadata": {},
   "outputs": [],
   "source": [
    "def em(theta,Y,tol):#最大化步骤\n",
    "    j=0\n",
    "    while j<1000:\n",
    "        new_theta=em_single(theta,Y)\n",
    "        change=numpy.abs(new_theta[0] - theta[0])\n",
    "        if change<tol:\n",
    "            break\n",
    "        else:\n",
    "            theta = new_theta\n",
    "            j=j+1\n",
    "        print(\"迭代\",j,\"次后的参数为:\")\n",
    "        print(new_theta)\n",
    "    return new_theta    "
   ]
  },
  {
   "cell_type": "markdown",
   "metadata": {},
   "source": [
    "## Y = { < HHH >,< TTT >,< HHH >,< TTT > }，theta=[0.3,0.3,0.6]"
   ]
  },
  {
   "cell_type": "code",
   "execution_count": 22,
   "metadata": {},
   "outputs": [
    {
     "name": "stdout",
     "output_type": "stream",
     "text": [
      "初始参数为:\n",
      "[0.3, 0.3, 0.6]\n",
      "迭代 1 次后的参数为:\n",
      "[0.3737649610410474, 0.0680206318504191, 0.7578245253976398]\n",
      "迭代 2 次后的参数为:\n",
      "[0.4859367224237726, 0.0004438948678989641, 0.9722232981496766]\n",
      "迭代 3 次后的参数为:\n",
      "[0.49998864947922056, 8.997364138533166e-11, 0.9999772993837971]\n",
      "迭代 4 次后的参数为:\n",
      "[0.49999999999999417, 7.2837620757937955e-31, 0.9999999999999885]\n",
      "迭代 5 次后的参数为:\n",
      "[0.5, 3.864268131526994e-91, 1.0]\n"
     ]
    }
   ],
   "source": [
    "if __name__==\"__main__\":\n",
    "    # 硬币投掷结果\n",
    "    O = numpy.array([[1,1,1],#Y={<HHH>,<TTT>,<HHH>,<TTT>}\n",
    "                     [0,0,0],\n",
    "                     [1,1,1],\n",
    "                     [0,0,0]])\n",
    "    \n",
    "    theta=[0.3,0.3,0.6]\n",
    "    t=len(theta)\n",
    "    print(\"初始参数为:\")\n",
    "    print(theta)\n",
    "    theta=em(theta,O,1e-15)"
   ]
  },
  {
   "cell_type": "markdown",
   "metadata": {},
   "source": [
    "# Y = { < HHH >,< TTT >,< HHH >,< TTT > }，theta=[0.3,0.6,0.3]"
   ]
  },
  {
   "cell_type": "code",
   "execution_count": 23,
   "metadata": {},
   "outputs": [
    {
     "name": "stdout",
     "output_type": "stream",
     "text": [
      "初始参数为:\n",
      "[0.3, 0.6, 0.3]\n",
      "迭代 1 次后的参数为:\n",
      "[0.42411952776084494, 0.9127067933826116, 0.1960532284893392]\n",
      "迭代 2 次后的参数为:\n",
      "[0.49383143288578557, 0.9990463316044389, 0.01311720832912568]\n",
      "迭代 3 次后的参数为:\n",
      "[0.49999884045406173, 0.9999999991196001, 2.3199668942951497e-06]\n",
      "迭代 4 次后的参数为:\n",
      "[0.5, 1.0, 0.0]\n"
     ]
    }
   ],
   "source": [
    "if __name__==\"__main__\":\n",
    "    # 硬币投掷结果\n",
    "    O = numpy.array([[1,1,1],#Y={<HHH>,<TTT>,<HHH>,<TTT>}\n",
    "                     [0,0,0],\n",
    "                     [1,1,1],\n",
    "                     [0,0,0]])\n",
    "    \n",
    "    theta=[0.3,0.6,0.3]\n",
    "    t=len(theta)\n",
    "    print(\"初始参数为:\")\n",
    "    print(theta)\n",
    "    theta=em(theta,O,1e-15)"
   ]
  },
  {
   "cell_type": "markdown",
   "metadata": {},
   "source": [
    "# Y = { < HHH >,< TTT >,< HHH >,< TTT > }，theta=[0.3,0.5,0.5]"
   ]
  },
  {
   "cell_type": "code",
   "execution_count": 25,
   "metadata": {},
   "outputs": [
    {
     "name": "stdout",
     "output_type": "stream",
     "text": [
      "初始参数为:\n",
      "[0.3, 0.5, 0.5]\n"
     ]
    }
   ],
   "source": [
    "if __name__==\"__main__\":\n",
    "    # 硬币投掷结果\n",
    "    O = numpy.array([[1,1,1],#Y={<HHH>,<TTT>,<HHH>,<TTT>}\n",
    "                     [0,0,0],\n",
    "                     [1,1,1],\n",
    "                     [0,0,0]])\n",
    "    \n",
    "    theta=[0.3,0.5,0.5]\n",
    "    t=len(theta)\n",
    "    print(\"初始参数为:\")\n",
    "    print(theta)\n",
    "    theta=em(theta,O,1e-15)"
   ]
  },
  {
   "cell_type": "markdown",
   "metadata": {},
   "source": [
    "# Y={< HHH >,< TTT >,< HHH >,< TTT >,< HHH >}"
   ]
  },
  {
   "cell_type": "code",
   "execution_count": 5,
   "metadata": {},
   "outputs": [
    {
     "name": "stdout",
     "output_type": "stream",
     "text": [
      "初始参数为:\n",
      "[0.3, 0.3, 0.6]\n",
      "迭代后的参数为:\n",
      "[0.30918146035826166, 0.09867498051441934, 0.8243720930232556]\n",
      "迭代后的参数为:\n",
      "[0.3939554835658416, 0.0011680774868996465, 0.9892669815682442]\n",
      "迭代后的参数为:\n",
      "[0.39999923714929053, 1.6051259994677699e-09, 0.9999987275136867]\n",
      "迭代后的参数为:\n",
      "[0.4, 4.1354965770141735e-27, 1.0]\n"
     ]
    }
   ],
   "source": [
    "if __name__==\"__main__\":\n",
    "    # 硬币投掷结果\n",
    "    O = numpy.array([[1,1,1],#Y={<HHH>,<TTT>,<HHH>,<TTT>,<HHH>}\n",
    "                     [0,0,0],\n",
    "                     [1,1,1],\n",
    "                     [0,0,0],\n",
    "                     [1,1,1]])\n",
    "    \n",
    "    theta=[0.3,0.3,0.6]\n",
    "    t=len(theta)\n",
    "    print(\"初始参数为:\")\n",
    "    print(theta)\n",
    "    theta=em(theta,O,1e-15)"
   ]
  },
  {
   "cell_type": "markdown",
   "metadata": {},
   "source": [
    "# Y={< HHT >,< TTT >,< HHH >,< TTT >}"
   ]
  },
  {
   "cell_type": "code",
   "execution_count": 21,
   "metadata": {},
   "outputs": [
    {
     "name": "stdout",
     "output_type": "stream",
     "text": [
      "初始参数为:\n",
      "[0.3, 0.3, 0.6]\n",
      "迭代 1 次后的参数为:\n",
      "[0.40052678084479404, 0.09744080982087254, 0.6299514318894547]\n",
      "迭代 2 次后的参数为:\n",
      "[0.46324395530391616, 0.014832389900927554, 0.7634672319980693]\n",
      "迭代 3 次后的参数为:\n",
      "[0.49244858915771006, 0.00046176843633726416, 0.8204868719812777]\n",
      "迭代 4 次后的参数为:\n",
      "[0.4970329032793529, 5.738758851165776e-07, 0.8284167774555042]\n",
      "迭代 5 次后的参数为:\n",
      "[0.4974570650736583, 9.259806224830134e-13, 0.8291165544438055]\n",
      "迭代 6 次后的参数为:\n",
      "[0.4974921372411866, 2.4205696949917793e-24, 0.829174422026213]\n",
      "迭代 7 次后的参数为:\n",
      "[0.4974950210804694, 1.6546032069727765e-47, 0.8291791805975124]\n",
      "迭代 8 次后的参数为:\n",
      "[0.4974952581136708, 7.731403116163062e-94, 0.8291795717241612]\n",
      "迭代 9 次后的参数为:\n",
      "[0.4974952775956603, 1.6880612865665634e-186, 0.8291796038712574]\n",
      "迭代 10 次后的参数为:\n",
      "[0.49749527919689973, 0.0, 0.8291796065134518]\n",
      "迭代 11 次后的参数为:\n",
      "[0.49749527932850685, 0.0, 0.8291796067306156]\n",
      "迭代 12 次后的参数为:\n",
      "[0.4974952793393237, 0.0, 0.8291796067484646]\n",
      "迭代 13 次后的参数为:\n",
      "[0.49749527934021276, 0.0, 0.8291796067499316]\n",
      "迭代 14 次后的参数为:\n",
      "[0.4974952793402858, 0.0, 0.8291796067500522]\n",
      "迭代 15 次后的参数为:\n",
      "[0.4974952793402918, 0.0, 0.8291796067500621]\n"
     ]
    }
   ],
   "source": [
    "if __name__==\"__main__\":\n",
    "    # 硬币投掷结果\n",
    "    O = numpy.array([[1,1,0],#Y={<HHT>,<TTT>,<HHH>,<TTT>}\n",
    "                     [0,0,0],\n",
    "                     [1,1,1],\n",
    "                     [0,0,0],])\n",
    "    \n",
    "    theta=[0.3,0.3,0.6]\n",
    "    t=len(theta)\n",
    "    print(\"初始参数为:\")\n",
    "    print(theta)\n",
    "    theta=em(theta,O,1e-15)"
   ]
  },
  {
   "cell_type": "code",
   "execution_count": null,
   "metadata": {},
   "outputs": [],
   "source": []
  }
 ],
 "metadata": {
  "kernelspec": {
   "display_name": "Python 3",
   "language": "python",
   "name": "python3"
  },
  "language_info": {
   "codemirror_mode": {
    "name": "ipython",
    "version": 3
   },
   "file_extension": ".py",
   "mimetype": "text/x-python",
   "name": "python",
   "nbconvert_exporter": "python",
   "pygments_lexer": "ipython3",
   "version": "3.7.8"
  }
 },
 "nbformat": 4,
 "nbformat_minor": 2
}
