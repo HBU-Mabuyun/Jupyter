{
 "cells": [
  {
   "cell_type": "code",
   "execution_count": 2,
   "metadata": {},
   "outputs": [
    {
     "name": "stdout",
     "output_type": "stream",
     "text": [
      "Model loaded succeed\n",
      "thulac分词: 萨 哈 夫 说 ， 伊拉克 将 同 联合国 销毁 伊拉克 大规模 杀伤性 武器 特别 委员会 继续 保持 合作 。\n"
     ]
    }
   ],
   "source": [
    "import thulac\n",
    "sentence = '萨哈夫说，伊拉克将同联合国销毁伊拉克大规模杀伤性武器特别委员会继续保持合作。'\n",
    "#seg_only设置词性标注与否，deli设置分词以后以什么分隔\n",
    "thu = thulac.thulac(seg_only=True, deli=' ')\n",
    "text = thu.cut(sentence, text=True)\n",
    "print('thulac分词:', text)\n"
   ]
  }
 ],
 "metadata": {
  "kernelspec": {
   "display_name": "Python 3",
   "language": "python",
   "name": "python3"
  },
  "language_info": {
   "codemirror_mode": {
    "name": "ipython",
    "version": 3
   },
   "file_extension": ".py",
   "mimetype": "text/x-python",
   "name": "python",
   "nbconvert_exporter": "python",
   "pygments_lexer": "ipython3",
   "version": "3.7.6"
  }
 },
 "nbformat": 4,
 "nbformat_minor": 4
}
