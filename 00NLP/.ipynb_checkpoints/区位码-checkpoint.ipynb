{
 "cells": [
  {
   "cell_type": "code",
   "execution_count": 20,
   "metadata": {
    "scrolled": true
   },
   "outputs": [
    {
     "name": "stdout",
     "output_type": "stream",
     "text": [
      "°×\n",
      "b'\\xc2\\xb0\\xc3\\x97'\n",
      "掳脳\n"
     ]
    }
   ],
   "source": [
    "zone_num = 16 #区号\n",
    "bit_num = 55 #位号\n",
    "\n",
    "r = zone_num + 0xA0\n",
    "b = bit_num + 0xA0\n",
    "\n",
    "s = chr(r) + chr(b)\n",
    "print(s)\n",
    "tmp_bytes = bytes(s,encoding='utf8')\n",
    "print(tmp_bytes)\n",
    "tmp = tmp_bytes.decode('gbk')\n",
    "print(tmp)"
   ]
  },
  {
   "cell_type": "code",
   "execution_count": 10,
   "metadata": {},
   "outputs": [
    {
     "name": "stdout",
     "output_type": "stream",
     "text": [
      "菜鸟教程\n",
      "UTF-8 编码： b'\\xe8\\x8f\\x9c\\xe9\\xb8\\x9f\\xe6\\x95\\x99\\xe7\\xa8\\x8b'\n",
      "GBK 编码： b'\\xb2\\xcb\\xc4\\xf1\\xbd\\xcc\\xb3\\xcc'\n",
      "UTF-8 解码： 菜鸟教程\n",
      "GBK 解码： 菜鸟教程\n",
      "GBK 解码： 菜鸟教程\n"
     ]
    }
   ],
   "source": [
    "str = \"菜鸟教程\";\n",
    "str_utf8 = str.encode(\"UTF-8\")\n",
    "str_gbk = str.encode(\"GBK\")\n",
    " \n",
    "print(str)\n",
    " \n",
    "print(\"UTF-8 编码：\", str_utf8)\n",
    "print(\"GBK 编码：\", str_gbk)\n",
    " \n",
    "print(\"UTF-8 解码：\", str_utf8.decode('UTF-8','strict'))\n",
    "print(\"GBK 解码：\", str_gbk.decode('GBK','strict'))\n",
    "print(\"GBK 解码：\", str_gbk.decode('GBK'))"
   ]
  },
  {
   "cell_type": "code",
   "execution_count": 13,
   "metadata": {},
   "outputs": [
    {
     "data": {
      "text/plain": [
       "bytes"
      ]
     },
     "execution_count": 13,
     "metadata": {},
     "output_type": "execute_result"
    }
   ],
   "source": [
    "type(str_gbk)"
   ]
  },
  {
   "cell_type": "code",
   "execution_count": null,
   "metadata": {},
   "outputs": [],
   "source": []
  }
 ],
 "metadata": {
  "kernelspec": {
   "display_name": "Python 3",
   "language": "python",
   "name": "python3"
  },
  "language_info": {
   "codemirror_mode": {
    "name": "ipython",
    "version": 3
   },
   "file_extension": ".py",
   "mimetype": "text/x-python",
   "name": "python",
   "nbconvert_exporter": "python",
   "pygments_lexer": "ipython3",
   "version": "3.7.6"
  }
 },
 "nbformat": 4,
 "nbformat_minor": 4
}
