{
 "cells": [
  {
   "cell_type": "code",
   "execution_count": 78,
   "metadata": {},
   "outputs": [],
   "source": [
    "# https://www.jianshu.com/p/f7393735ee0e\n",
    "# https://blog.csdn.net/HeyShHeyou/article/details/84586266\n",
    "\n",
    "import re\n",
    "import operator\n",
    "\n",
    "my_str = \"输出：hello world, 你好世界, 世界你好，你好Python输入.\""
   ]
  },
  {
   "cell_type": "code",
   "execution_count": 79,
   "metadata": {},
   "outputs": [],
   "source": [
    "def str_count(strs):   \n",
    "    str_dict = {}\n",
    "    result = re.compile(u'[\\u4e00-\\u9fa5]')# 正则表达式 判断汉字\n",
    "    for i in strs:\n",
    "        if result.search(i):\n",
    "            str_dict[i] = str_dict.get(i,0) + 1 # 利用字典中的get方法, 如果存在加1, 如果不存在返回0\n",
    "#             print(i,str_dict[i])\n",
    "    return str_dict"
   ]
  },
  {
   "cell_type": "code",
   "execution_count": 80,
   "metadata": {},
   "outputs": [
    {
     "name": "stdout",
     "output_type": "stream",
     "text": [
      "{'输': 2, '出': 1, '你': 3, '好': 3, '世': 2, '界': 2, '入': 1}\n"
     ]
    }
   ],
   "source": [
    "x = str_count(my_str)\n",
    "print (x)"
   ]
  },
  {
   "cell_type": "code",
   "execution_count": 81,
   "metadata": {},
   "outputs": [
    {
     "name": "stdout",
     "output_type": "stream",
     "text": [
      "[('你', 3), ('好', 3), ('输', 2), ('世', 2), ('界', 2), ('出', 1), ('入', 1)]\n"
     ]
    }
   ],
   "source": [
    "sorted_x = sorted(x.items(), key=operator.itemgetter(1), reverse=True)\n",
    "print (sorted_x)"
   ]
  },
  {
   "cell_type": "code",
   "execution_count": 82,
   "metadata": {},
   "outputs": [
    {
     "name": "stdout",
     "output_type": "stream",
     "text": [
      "('你', 3)\n",
      "('好', 3)\n",
      "('输', 2)\n",
      "('世', 2)\n",
      "('界', 2)\n",
      "('出', 1)\n",
      "('入', 1)\n"
     ]
    }
   ],
   "source": [
    "for i in sorted_x:\n",
    "    print(i)"
   ]
  },
  {
   "cell_type": "code",
   "execution_count": null,
   "metadata": {},
   "outputs": [],
   "source": []
  }
 ],
 "metadata": {
  "kernelspec": {
   "display_name": "Python 3",
   "language": "python",
   "name": "python3"
  },
  "language_info": {
   "codemirror_mode": {
    "name": "ipython",
    "version": 3
   },
   "file_extension": ".py",
   "mimetype": "text/x-python",
   "name": "python",
   "nbconvert_exporter": "python",
   "pygments_lexer": "ipython3",
   "version": "3.7.6"
  }
 },
 "nbformat": 4,
 "nbformat_minor": 4
}
