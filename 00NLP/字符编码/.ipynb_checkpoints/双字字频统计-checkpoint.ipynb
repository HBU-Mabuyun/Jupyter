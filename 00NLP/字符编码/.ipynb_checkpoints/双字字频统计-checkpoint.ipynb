{
 "cells": [
  {
   "cell_type": "code",
   "execution_count": 42,
   "metadata": {},
   "outputs": [],
   "source": [
    "import operator\n",
    "import re\n",
    "strs = \"中国（china）是发展中国家，中国在发展，发展在中国，我们都有一个家名字叫中国，中国祝福你，我们都热爱祖国。祝福祖国。\""
   ]
  },
  {
   "cell_type": "code",
   "execution_count": 43,
   "metadata": {},
   "outputs": [
    {
     "name": "stdout",
     "output_type": "stream",
     "text": [
      "{'中': 6, '国': 8, '是': 1, '发': 3, '展': 3, '家': 2, '在': 2, '我': 2, '们': 2, '都': 2, '有': 1, '一': 1, '个': 1, '名': 1, '字': 1, '叫': 1, '祝': 2, '福': 2, '你': 1, '热': 1, '爱': 1, '祖': 2}\n",
      "{'中国': 6, '是发': 1, '发展': 3, '展中': 1, '国家': 1, '国在': 1, '在发': 1, '展在': 1, '在中': 1, '我们': 2, '们都': 2, '都有': 1, '有一': 1, '一个': 1, '个家': 1, '家名': 1, '名字': 1, '字叫': 1, '叫中': 1, '国祝': 1, '祝福': 2, '福你': 1, '都热': 1, '热爱': 1, '爱祖': 1, '祖国': 2, '福祖': 1}\n"
     ]
    }
   ],
   "source": [
    "str_dict = {}\n",
    "word_dict = {}\n",
    "temp=''\n",
    "\n",
    "for i in strs:\n",
    "    result = re.compile(u'[\\u4e00-\\u9fa5]')\n",
    "    if result.search(i):\n",
    "        str_dict[i] = str_dict.get(i,0) + 1 \n",
    "        word = temp+i    \n",
    "        if temp!='':\n",
    "            word_dict[word] = word_dict.get(word,0) + 1 \n",
    "        temp = i\n",
    "    else:\n",
    "        temp = ''\n",
    "        \n",
    "print (str_dict)\n",
    "print (word_dict)"
   ]
  },
  {
   "cell_type": "code",
   "execution_count": 44,
   "metadata": {},
   "outputs": [
    {
     "name": "stdout",
     "output_type": "stream",
     "text": [
      "('中国', 6)\n",
      "('发展', 3)\n",
      "('我们', 2)\n",
      "('们都', 2)\n",
      "('祝福', 2)\n",
      "('祖国', 2)\n",
      "('是发', 1)\n",
      "('展中', 1)\n",
      "('国家', 1)\n",
      "('国在', 1)\n",
      "('在发', 1)\n",
      "('展在', 1)\n",
      "('在中', 1)\n",
      "('都有', 1)\n",
      "('有一', 1)\n",
      "('一个', 1)\n",
      "('个家', 1)\n",
      "('家名', 1)\n",
      "('名字', 1)\n",
      "('字叫', 1)\n",
      "('叫中', 1)\n",
      "('国祝', 1)\n",
      "('福你', 1)\n",
      "('都热', 1)\n",
      "('热爱', 1)\n",
      "('爱祖', 1)\n",
      "('福祖', 1)\n"
     ]
    }
   ],
   "source": [
    "sorted_x = sorted(word_dict.items(), key=operator.itemgetter(1), reverse=True)\n",
    "for i in sorted_x:\n",
    "    print(i)"
   ]
  },
  {
   "cell_type": "code",
   "execution_count": null,
   "metadata": {},
   "outputs": [],
   "source": []
  }
 ],
 "metadata": {
  "kernelspec": {
   "display_name": "Python 3",
   "language": "python",
   "name": "python3"
  },
  "language_info": {
   "codemirror_mode": {
    "name": "ipython",
    "version": 3
   },
   "file_extension": ".py",
   "mimetype": "text/x-python",
   "name": "python",
   "nbconvert_exporter": "python",
   "pygments_lexer": "ipython3",
   "version": "3.7.6"
  }
 },
 "nbformat": 4,
 "nbformat_minor": 4
}
