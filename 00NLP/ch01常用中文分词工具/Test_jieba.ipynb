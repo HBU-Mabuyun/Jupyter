{
 "cells": [
  {
   "cell_type": "code",
   "execution_count": 1,
   "metadata": {},
   "outputs": [],
   "source": [
    "import jieba"
   ]
  },
  {
   "cell_type": "code",
   "execution_count": 2,
   "metadata": {},
   "outputs": [
    {
     "name": "stderr",
     "output_type": "stream",
     "text": [
      "Building prefix dict from the default dictionary ...\n",
      "Dumping model to file cache C:\\Users\\ADMINI~1\\AppData\\Local\\Temp\\1\\jieba.cache\n",
      "Loading model cost 1.127 seconds.\n",
      "Prefix dict has been built successfully.\n"
     ]
    },
    {
     "name": "stdout",
     "output_type": "stream",
     "text": [
      "\n",
      "Full Mode: 我/ 来到/ 北京/ 清华/ 清华大学/ 华大/ 大学\n"
     ]
    }
   ],
   "source": [
    "seg_list = jieba.cut(\"我来到北京清华大学\", cut_all=True)# 全模式\n",
    "print(\"\\nFull Mode: \" + \"/ \".join(seg_list))  "
   ]
  },
  {
   "cell_type": "code",
   "execution_count": 3,
   "metadata": {},
   "outputs": [
    {
     "name": "stdout",
     "output_type": "stream",
     "text": [
      "\n",
      "Default Mode: 我/ 来到/ 北京/ 清华大学\n"
     ]
    }
   ],
   "source": [
    "seg_list = jieba.cut(\"我来到北京清华大学\", cut_all=False) # 精确模式\n",
    "print(\"\\nDefault Mode: \" + \"/ \".join(seg_list)) "
   ]
  },
  {
   "cell_type": "code",
   "execution_count": 5,
   "metadata": {},
   "outputs": [
    {
     "name": "stdout",
     "output_type": "stream",
     "text": [
      "\n",
      "默认模式:我/ 来到/ 北京/ 清华大学\n"
     ]
    }
   ],
   "source": [
    "seg_list = jieba.cut(\"我来到北京清华大学\")  # 默认是精确模式\n",
    "print('\\n默认模式:'+\"/ \".join(seg_list))"
   ]
  },
  {
   "cell_type": "markdown",
   "metadata": {},
   "source": [
    "# 启动paddle模式。 0.40版之后开始支持，早期版本不支持. \n",
    "##### 利用PaddlePaddle深度学习框架，训练序列标注（双向GRU）网络模型实现分词。同时支持词性标注。\n",
    "##### 经测试：python 3.7 可以用，3.8不可以。"
   ]
  },
  {
   "cell_type": "code",
   "execution_count": 3,
   "metadata": {
    "scrolled": true
   },
   "outputs": [
    {
     "name": "stderr",
     "output_type": "stream",
     "text": [
      "Paddle enabled successfully......\n"
     ]
    }
   ],
   "source": [
    "jieba.enable_paddle()"
   ]
  },
  {
   "cell_type": "code",
   "execution_count": 4,
   "metadata": {},
   "outputs": [
    {
     "name": "stdout",
     "output_type": "stream",
     "text": [
      "3.7.8 | packaged by conda-forge | (default, Jul 31 2020, 01:53:57) [MSC v.1916 64 bit (AMD64)]\n"
     ]
    }
   ],
   "source": [
    "import sys \n",
    "print(sys.version) "
   ]
  },
  {
   "cell_type": "code",
   "execution_count": 5,
   "metadata": {},
   "outputs": [
    {
     "name": "stdout",
     "output_type": "stream",
     "text": [
      "Paddle Mode: 我/来到/北京清华大学\n",
      "Paddle Mode: 乒乓球/拍卖/完/了\n",
      "Paddle Mode: 中国科学技术大学\n",
      "\n",
      "Full Mode: 我/ 来到/ 北京/ 清华/ 清华大学/ 华大/ 大学\n",
      "\n",
      "Default Mode: 我/ 来到/ 北京/ 清华大学\n",
      "他, 来到, 了, 网易, 杭研, 大厦\n",
      "小明, 硕士, 毕业, 于, 中国, 科学, 学院, 科学院, 中国科学院, 计算, 计算所, ，, 后, 在, 日本, 京都, 大学, 日本京都大学, 深造\n"
     ]
    }
   ],
   "source": [
    "strs=[\"我来到北京清华大学\",\"乒乓球拍卖完了\",\"中国科学技术大学\"]\n",
    "for str in strs:\n",
    "    seg_list = jieba.cut(str,use_paddle=True) # 使用paddle模式\n",
    "    print(\"Paddle Mode: \" + '/'.join(list(seg_list)))\n",
    "\n",
    "seg_list = jieba.cut(\"我来到北京清华大学\", cut_all=True)\n",
    "print(\"\\nFull Mode: \" + \"/ \".join(seg_list))  # 全模式\n",
    "\n",
    "seg_list = jieba.cut(\"我来到北京清华大学\", cut_all=False)\n",
    "print(\"\\nDefault Mode: \" + \"/ \".join(seg_list))  # 精确模式\n",
    "\n",
    "seg_list = jieba.cut(\"他来到了网易杭研大厦\")  # 默认是精确模式\n",
    "print(\", \".join(seg_list))\n",
    "\n",
    "seg_list = jieba.cut_for_search(\"小明硕士毕业于中国科学院计算所，后在日本京都大学深造\")  # 搜索引擎模式\n",
    "print(\", \".join(seg_list))\n"
   ]
  },
  {
   "cell_type": "code",
   "execution_count": 6,
   "metadata": {},
   "outputs": [
    {
     "name": "stdout",
     "output_type": "stream",
     "text": [
      "全模式:  2015 年 我 毕业 于 西安 建筑 科技 大学\n",
      "新词模式:  2015年 我 毕业 于 西安建筑科技大学\n",
      "精确模式:  2015 年 我 毕业 于 西安 建筑 科技 大学\n",
      "搜索模式:  2015 年 我 毕业 于 西安 建筑 科技 大学\n",
      "全模式:  2015 年 我 毕业 于 西安 科技 大学\n",
      "新词模式:  2015年 我 毕业 于 西安科技大学\n",
      "精确模式:  2015 年 我 毕业 于 西安 科技 大学\n",
      "搜索模式:  2015 年 我 毕业 于 西安 科技 大学\n",
      "全模式:  2015 年 我 毕业 于 西安 西安电子科技大学 电子 电子科 电子科技 科技 大学\n",
      "新词模式:  2015年 我 毕业 于 西安电子科技大学\n",
      "精确模式:  2015 年 我 毕业 于 西安电子科技大学\n",
      "搜索模式:  2015 年 我 毕业 于 西安 电子 科技 大学 电子科 西安电子科技大学\n",
      "全模式:  2015 年 我 毕业 于 西安 建筑 科技 大学\n",
      "新词模式:  2015年 我 毕业 于 西安建筑科技大学\n",
      "精确模式:  2015 年 我 毕业 于 西安 建筑 科技 大学\n",
      "搜索模式:  2015 年 我 毕业 于 西安 建筑 科技 大学\n",
      "全模式:  2015 年 我 毕业 于 西安 西安交通 西安交通大学 交通 大学\n",
      "新词模式:  2015年 我 毕业 于 西安交通大学\n",
      "精确模式:  2015 年 我 毕业 于 西安交通大学\n",
      "搜索模式:  2015 年 我 毕业 于 西安 交通 大学 西安交通大学\n",
      "全模式:  2015 年 我 毕业 于 北京 北京大学 大学\n",
      "新词模式:  2015年 我 毕业 于 北京大学\n",
      "精确模式:  2015 年 我 毕业 于 北京大学\n",
      "搜索模式:  2015 年 我 毕业 于 北京 大学 北京大学\n"
     ]
    }
   ],
   "source": [
    "# -*- coding:utf-8 -*-\n",
    "import jieba\n",
    "\n",
    "# jieba.enable_paddle()  # 开启paddle模式\n",
    "sentences = [\"2015年我毕业于西安建筑科技大学\",\n",
    "             \"2015年我毕业于西安科技大学\",\n",
    "             \"2015年我毕业于西安电子科技大学\",\n",
    "             \"2015年我毕业于西安建筑科技大学\",\n",
    "             \"2015年我毕业于西安交通大学\",\n",
    "             \"2015年我毕业于北京大学\"]\n",
    "\n",
    "for sentence in sentences:\n",
    "    # 全模式\n",
    "    words = jieba.cut(sentence, cut_all=True)\n",
    "    print(\"全模式:  %s\" % \" \".join(words))\n",
    "\n",
    "    words = jieba.cut(sentence, use_paddle=True)\n",
    "    print(\"新词模式:  %s\" % \" \".join(words))\n",
    "    # 默认精确模式\n",
    "    words = jieba.cut(sentence)\n",
    "    print(\"精确模式:  %s\" % \" \".join(words))\n",
    "\n",
    "    # 搜索模式\n",
    "    words = jieba.cut_for_search(sentence)\n",
    "    print(\"搜索模式:  %s\" % \" \".join(words))\n"
   ]
  },
  {
   "cell_type": "code",
   "execution_count": null,
   "metadata": {},
   "outputs": [],
   "source": []
  }
 ],
 "metadata": {
  "kernelspec": {
   "display_name": "Python 3",
   "language": "python",
   "name": "python3"
  },
  "language_info": {
   "codemirror_mode": {
    "name": "ipython",
    "version": 3
   },
   "file_extension": ".py",
   "mimetype": "text/x-python",
   "name": "python",
   "nbconvert_exporter": "python",
   "pygments_lexer": "ipython3",
   "version": "3.8.3"
  }
 },
 "nbformat": 4,
 "nbformat_minor": 4
}
