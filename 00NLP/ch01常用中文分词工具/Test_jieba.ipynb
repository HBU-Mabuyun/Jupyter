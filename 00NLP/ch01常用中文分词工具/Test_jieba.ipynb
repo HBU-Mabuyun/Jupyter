{
 "cells": [
  {
   "cell_type": "code",
   "execution_count": 10,
   "metadata": {},
   "outputs": [
    {
     "name": "stderr",
     "output_type": "stream",
     "text": [
      "Installing paddle-tiny, please wait a minute......\n",
      "Import paddle error, please use command to install: pip install paddlepaddle-tiny==1.6.1.Now, back to jieba basic cut......\n"
     ]
    },
    {
     "ename": "UnboundLocalError",
     "evalue": "local variable 'paddle' referenced before assignment",
     "output_type": "error",
     "traceback": [
      "\u001b[1;31m---------------------------------------------------------------------------\u001b[0m",
      "\u001b[1;31mUnboundLocalError\u001b[0m                         Traceback (most recent call last)",
      "\u001b[1;32m<ipython-input-10-3d90fd772a20>\u001b[0m in \u001b[0;36m<module>\u001b[1;34m\u001b[0m\n\u001b[0;32m      2\u001b[0m \u001b[1;32mimport\u001b[0m \u001b[0mjieba\u001b[0m\u001b[1;33m\u001b[0m\u001b[1;33m\u001b[0m\u001b[0m\n\u001b[0;32m      3\u001b[0m \u001b[1;33m\u001b[0m\u001b[0m\n\u001b[1;32m----> 4\u001b[1;33m \u001b[0mjieba\u001b[0m\u001b[1;33m.\u001b[0m\u001b[0menable_paddle\u001b[0m\u001b[1;33m(\u001b[0m\u001b[1;33m)\u001b[0m\u001b[1;33m\u001b[0m\u001b[1;33m\u001b[0m\u001b[0m\n\u001b[0m\u001b[0;32m      5\u001b[0m \u001b[1;31m# 启动paddle模式。 0.40版之后开始支持，早期版本不支持.\u001b[0m\u001b[1;33m\u001b[0m\u001b[1;33m\u001b[0m\u001b[1;33m\u001b[0m\u001b[0m\n\u001b[0;32m      6\u001b[0m \u001b[1;31m# 利用PaddlePaddle深度学习框架，训练序列标注（双向GRU）网络模型实现分词。同时支持词性标注。\u001b[0m\u001b[1;33m\u001b[0m\u001b[1;33m\u001b[0m\u001b[1;33m\u001b[0m\u001b[0m\n",
      "\u001b[1;32m~\\anaconda3\\lib\\site-packages\\jieba\\_compat.py\u001b[0m in \u001b[0;36menable_paddle\u001b[1;34m()\u001b[0m\n\u001b[0;32m     37\u001b[0m                 \u001b[1;34m\"Import paddle error, please use command to install: pip install paddlepaddle-tiny==1.6.1.\"\u001b[0m\u001b[1;33m\u001b[0m\u001b[1;33m\u001b[0m\u001b[0m\n\u001b[0;32m     38\u001b[0m                 \"Now, back to jieba basic cut......\")\n\u001b[1;32m---> 39\u001b[1;33m     \u001b[1;32mif\u001b[0m \u001b[0mpaddle\u001b[0m\u001b[1;33m.\u001b[0m\u001b[0m__version__\u001b[0m \u001b[1;33m<\u001b[0m \u001b[1;34m'1.6.1'\u001b[0m\u001b[1;33m:\u001b[0m\u001b[1;33m\u001b[0m\u001b[1;33m\u001b[0m\u001b[0m\n\u001b[0m\u001b[0;32m     40\u001b[0m         default_logger.debug(\"Find your own paddle version doesn't satisfy the minimum requirement (1.6.1), \"\n\u001b[0;32m     41\u001b[0m                              \u001b[1;34m\"please install paddle tiny by 'pip install --upgrade paddlepaddle-tiny', \"\u001b[0m\u001b[1;33m\u001b[0m\u001b[1;33m\u001b[0m\u001b[0m\n",
      "\u001b[1;31mUnboundLocalError\u001b[0m: local variable 'paddle' referenced before assignment"
     ]
    }
   ],
   "source": [
    "# encoding=utf-8\n",
    "import jieba\n",
    "\n",
    "jieba.enable_paddle()\n",
    "# 启动paddle模式。 0.40版之后开始支持，早期版本不支持. \n",
    "# 利用PaddlePaddle深度学习框架，训练序列标注（双向GRU）网络模型实现分词。同时支持词性标注。\n",
    "\n",
    "strs=[\"我来到北京清华大学\",\"乒乓球拍卖完了\",\"中国科学技术大学\"]\n",
    "for str in strs:\n",
    "    seg_list = jieba.cut(str,use_paddle=True) # 使用paddle模式\n",
    "    print(\"Paddle Mode: \" + '/'.join(list(seg_list)))\n",
    "\n",
    "seg_list = jieba.cut(\"我来到北京清华大学\", cut_all=True)\n",
    "print(\"\\nFull Mode: \" + \"/ \".join(seg_list))  # 全模式\n",
    "\n",
    "seg_list = jieba.cut(\"我来到北京清华大学\", cut_all=False)\n",
    "print(\"\\nDefault Mode: \" + \"/ \".join(seg_list))  # 精确模式\n",
    "\n",
    "seg_list = jieba.cut(\"他来到了网易杭研大厦\")  # 默认是精确模式\n",
    "print(\", \".join(seg_list))\n",
    "\n",
    "seg_list = jieba.cut_for_search(\"小明硕士毕业于中国科学院计算所，后在日本京都大学深造\")  # 搜索引擎模式\n",
    "print(\", \".join(seg_list))\n"
   ]
  },
  {
   "cell_type": "code",
   "execution_count": 9,
   "metadata": {},
   "outputs": [
    {
     "name": "stdout",
     "output_type": "stream",
     "text": [
      "全模式:  2015 年 我 毕业 于 西安 建筑 科技 大学\n",
      "新词模式:  2015 年 我 毕业 于 西安 建筑 科技 大学\n",
      "精确模式:  2015 年 我 毕业 于 西安 建筑 科技 大学\n",
      "搜索模式:  2015 年 我 毕业 于 西安 建筑 科技 大学\n",
      "全模式:  2015 年 我 毕业 于 西安 科技 大学\n",
      "新词模式:  2015 年 我 毕业 于 西安 科技 大学\n",
      "精确模式:  2015 年 我 毕业 于 西安 科技 大学\n",
      "搜索模式:  2015 年 我 毕业 于 西安 科技 大学\n",
      "全模式:  2015 年 我 毕业 于 西安 西安电子科技大学 电子 电子科 电子科技 科技 大学\n",
      "新词模式:  2015 年 我 毕业 于 西安电子科技大学\n",
      "精确模式:  2015 年 我 毕业 于 西安电子科技大学\n",
      "搜索模式:  2015 年 我 毕业 于 西安 电子 科技 大学 电子科 西安电子科技大学\n",
      "全模式:  2015 年 我 毕业 于 西安 建筑 科技 大学\n",
      "新词模式:  2015 年 我 毕业 于 西安 建筑 科技 大学\n",
      "精确模式:  2015 年 我 毕业 于 西安 建筑 科技 大学\n",
      "搜索模式:  2015 年 我 毕业 于 西安 建筑 科技 大学\n",
      "全模式:  2015 年 我 毕业 于 西安 西安交通 西安交通大学 交通 大学\n",
      "新词模式:  2015 年 我 毕业 于 西安交通大学\n",
      "精确模式:  2015 年 我 毕业 于 西安交通大学\n",
      "搜索模式:  2015 年 我 毕业 于 西安 交通 大学 西安交通大学\n",
      "全模式:  2015 年 我 毕业 于 北京 北京大学 大学\n",
      "新词模式:  2015 年 我 毕业 于 北京大学\n",
      "精确模式:  2015 年 我 毕业 于 北京大学\n",
      "搜索模式:  2015 年 我 毕业 于 北京 大学 北京大学\n"
     ]
    }
   ],
   "source": [
    "# -*- coding:utf-8 -*-\n",
    "import jieba\n",
    "\n",
    "# jieba.enable_paddle()  # 开启paddle模式\n",
    "sentences = [\"2015年我毕业于西安建筑科技大学\",\n",
    "             \"2015年我毕业于西安科技大学\",\n",
    "             \"2015年我毕业于西安电子科技大学\",\n",
    "             \"2015年我毕业于西安建筑科技大学\",\n",
    "             \"2015年我毕业于西安交通大学\",\n",
    "             \"2015年我毕业于北京大学\"]\n",
    "\n",
    "for sentence in sentences:\n",
    "    # 全模式\n",
    "    words = jieba.cut(sentence, cut_all=True)\n",
    "    print(\"全模式:  %s\" % \" \".join(words))\n",
    "\n",
    "    words = jieba.cut(sentence, use_paddle=True)\n",
    "    print(\"新词模式:  %s\" % \" \".join(words))\n",
    "    # 默认精确模式\n",
    "    words = jieba.cut(sentence)\n",
    "    print(\"精确模式:  %s\" % \" \".join(words))\n",
    "\n",
    "    # 搜索模式\n",
    "    words = jieba.cut_for_search(sentence)\n",
    "    print(\"搜索模式:  %s\" % \" \".join(words))\n"
   ]
  },
  {
   "cell_type": "code",
   "execution_count": null,
   "metadata": {},
   "outputs": [],
   "source": []
  }
 ],
 "metadata": {
  "kernelspec": {
   "display_name": "Python 3",
   "language": "python",
   "name": "python3"
  },
  "language_info": {
   "codemirror_mode": {
    "name": "ipython",
    "version": 3
   },
   "file_extension": ".py",
   "mimetype": "text/x-python",
   "name": "python",
   "nbconvert_exporter": "python",
   "pygments_lexer": "ipython3",
   "version": "3.8.3"
  }
 },
 "nbformat": 4,
 "nbformat_minor": 4
}
