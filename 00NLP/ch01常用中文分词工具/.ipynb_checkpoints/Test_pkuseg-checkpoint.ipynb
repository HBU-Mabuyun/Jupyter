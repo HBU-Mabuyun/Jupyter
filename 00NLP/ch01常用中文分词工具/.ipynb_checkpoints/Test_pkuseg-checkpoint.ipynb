{
 "cells": [
  {
   "cell_type": "code",
   "execution_count": 1,
   "metadata": {},
   "outputs": [],
   "source": [
    "# pkuseg分词\n",
    "# pkuseg.pkuseg(model_name=\"default\", user_dict=\"default\", postag=False)\n",
    "# model_name\n",
    "# 模型路径。\n",
    "# \"default\"，默认参数，表示使用我们预训练好的混合领域模型(仅对pip下载的用户)。\n",
    "# \"news\", 使用新闻领域模型。\n",
    "# \"web\", 使用网络领域模型。\n",
    "# \"medicine\", 使用医药领域模型。\n",
    "# \"tourism\", 使用旅游领域模型。\n",
    "# model_path, 从用户指定路径加载模型。\n",
    "# user_dict\n",
    "# 设置用户词典。\n",
    "# \"default\", 默认参数，使用我们提供的词典。\n",
    "# None, 不使用词典。\n",
    "# dict_path, 在使用默认词典的同时会额外使用用户自定义词典，可以填自己的用户词典的路径，词典格式为一行一个词。\n",
    "# postag\n",
    "# 是否进行词性分析。\n",
    "# False, 默认参数，只进行分词，不进行词性标注。\n",
    "# True, 会在分词的同时进行词性标注。\n",
    "\n"
   ]
  },
  {
   "cell_type": "code",
   "execution_count": 2,
   "metadata": {},
   "outputs": [
    {
     "name": "stdout",
     "output_type": "stream",
     "text": [
      "萨哈夫 说 ， 伊拉克 将 同 联合国 销毁 伊拉克 大规模 杀伤性 武器 特别 委员会 继续 保持 合作 。\n"
     ]
    }
   ],
   "source": [
    "import pkuseg\n",
    "sentence = '萨哈夫说，伊拉克将同联合国销毁伊拉克大规模杀伤性武器特别委员会继续保持合作。'\n",
    "seg = pkuseg.pkuseg(postag=False)  # 以默认配置加载模型，不进行词性分析\n",
    "sentence = seg.cut(sentence)  # 进行分词\n",
    "print(' '.join(sentence))"
   ]
  },
  {
   "cell_type": "code",
   "execution_count": null,
   "metadata": {},
   "outputs": [],
   "source": []
  }
 ],
 "metadata": {
  "kernelspec": {
   "display_name": "Python 3",
   "language": "python",
   "name": "python3"
  },
  "language_info": {
   "codemirror_mode": {
    "name": "ipython",
    "version": 3
   },
   "file_extension": ".py",
   "mimetype": "text/x-python",
   "name": "python",
   "nbconvert_exporter": "python",
   "pygments_lexer": "ipython3",
   "version": "3.8.3"
  }
 },
 "nbformat": 4,
 "nbformat_minor": 4
}
