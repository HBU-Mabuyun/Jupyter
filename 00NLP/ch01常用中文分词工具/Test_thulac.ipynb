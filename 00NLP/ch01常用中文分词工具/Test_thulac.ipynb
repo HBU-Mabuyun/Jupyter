{
 "cells": [
  {
   "cell_type": "code",
   "execution_count": 1,
   "metadata": {},
   "outputs": [
    {
     "name": "stdout",
     "output_type": "stream",
     "text": [
      "Model loaded succeed\n",
      "thulac分词: 希腊 的 经济 结构 较 特殊\n"
     ]
    }
   ],
   "source": [
    "import thulac\n",
    "import re\n",
    "sentence = '希腊  的  经济  结构  较  特殊'\n",
    "#seg_only设置词性标注与否，deli设置分词以后以什么分隔\n",
    "thu = thulac.thulac(seg_only=True, deli=' ')\n",
    "text = thu.cut(re.sub(\"\\\\s+\", \"\", sentence), text=True)\n",
    "print('thulac分词:', text)"
   ]
  },
  {
   "cell_type": "markdown",
   "metadata": {},
   "source": [
    "python3.8不支持clock了"
   ]
  },
  {
   "cell_type": "code",
   "execution_count": null,
   "metadata": {},
   "outputs": [],
   "source": []
  }
 ],
 "metadata": {
  "kernelspec": {
   "display_name": "Python 3",
   "language": "python",
   "name": "python3"
  },
  "language_info": {
   "codemirror_mode": {
    "name": "ipython",
    "version": 3
   },
   "file_extension": ".py",
   "mimetype": "text/x-python",
   "name": "python",
   "nbconvert_exporter": "python",
   "pygments_lexer": "ipython3",
   "version": "3.7.8"
  }
 },
 "nbformat": 4,
 "nbformat_minor": 4
}
