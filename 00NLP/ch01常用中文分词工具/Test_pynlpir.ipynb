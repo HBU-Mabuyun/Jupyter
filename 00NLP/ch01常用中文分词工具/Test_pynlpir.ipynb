{
 "cells": [
  {
   "cell_type": "code",
   "execution_count": 1,
   "metadata": {},
   "outputs": [
    {
     "name": "stdout",
     "output_type": "stream",
     "text": [
      "pynlpir分词： ['萨哈夫', '说', '，', '伊拉克', '将', '同', '联合国', '销毁', '伊拉克', '大规模', '杀伤性', '武器', '特别', '委员会', '继续', '保持', '合作', '。']\n",
      "pynlpir词性标注： [('萨哈夫', 'noun'), ('说', 'verb'), ('，', 'punctuation mark'), ('伊拉克', 'noun'), ('将', 'adverb'), ('同', 'preposition'), ('联合国', 'noun'), ('销毁', 'verb'), ('伊拉克', 'noun'), ('大规模', 'distinguishing word'), ('杀伤性', 'noun'), ('武器', 'noun'), ('特别', 'adjective'), ('委员会', 'noun'), ('继续', 'verb'), ('保持', 'verb'), ('合作', 'verb'), ('。', 'punctuation mark')]\n"
     ]
    }
   ],
   "source": [
    "# -*- coding: utf-8 -*-\n",
    "import pynlpir\n",
    "sentence = '萨哈夫说，伊拉克将同联合国销毁伊拉克大规模杀伤性武器特别委员会继续保持合作。'\n",
    "pynlpir.open()\n",
    "#pos_tagging：是否进行词性标注\n",
    "tag_seg = pynlpir.segment(sentence, pos_tagging=False)\n",
    "print('pynlpir分词：',tag_seg)\n",
    "tag_word = pynlpir.segment(sentence, pos_tagging=True)\n",
    "print('pynlpir词性标注：',tag_word)\n",
    "pynlpir.close()"
   ]
  },
  {
   "cell_type": "markdown",
   "metadata": {},
   "source": [
    "证书到期 ？？"
   ]
  },
  {
   "cell_type": "code",
   "execution_count": null,
   "metadata": {},
   "outputs": [],
   "source": []
  }
 ],
 "metadata": {
  "kernelspec": {
   "display_name": "Python 3",
   "language": "python",
   "name": "python3"
  },
  "language_info": {
   "codemirror_mode": {
    "name": "ipython",
    "version": 3
   },
   "file_extension": ".py",
   "mimetype": "text/x-python",
   "name": "python",
   "nbconvert_exporter": "python",
   "pygments_lexer": "ipython3",
   "version": "3.7.8"
  }
 },
 "nbformat": 4,
 "nbformat_minor": 4
}
