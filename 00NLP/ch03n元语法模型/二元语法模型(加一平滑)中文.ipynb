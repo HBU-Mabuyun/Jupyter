{
 "cells": [
  {
   "cell_type": "markdown",
   "metadata": {},
   "source": [
    "# https://blog.csdn.net/firparks/article/details/54563683"
   ]
  },
  {
   "cell_type": "markdown",
   "metadata": {},
   "source": [
    "### 基于以下语料建立语言模型\n",
    "研究生物很有意思。\n",
    "\n",
    "他大学时代是研究生物的。\n",
    "\n",
    "生物专业是他的首选目标。\n",
    "\n",
    "他是研究生。"
   ]
  },
  {
   "cell_type": "markdown",
   "metadata": {},
   "source": [
    "### 尝试以“词”作为基元，计算出现句子“他是研究生物的”的概率"
   ]
  },
  {
   "cell_type": "code",
   "execution_count": 1,
   "metadata": {},
   "outputs": [],
   "source": [
    "import jieba\n",
    "from _overlapped import NULL"
   ]
  },
  {
   "cell_type": "markdown",
   "metadata": {},
   "source": [
    "#将句子变为\"BOSxxxxxEOS\"这种形式"
   ]
  },
  {
   "cell_type": "code",
   "execution_count": 2,
   "metadata": {},
   "outputs": [],
   "source": [
    "def reform(sentence):\n",
    "    #如果是以“。”结束的则将“。”删掉\n",
    "    if sentence.endswith(\"。\"):\n",
    "        sentence=sentence[:-1]\n",
    "    #添加起始符BOS和终止符EOS   \n",
    "    sentence_modify1=sentence.replace(\"。\", \"EOSBOS\")\n",
    "    sentence_modify2=\"BOS\"+sentence_modify1+\"EOS\"\n",
    "    print(sentence_modify2)\n",
    "    return sentence_modify2"
   ]
  },
  {
   "cell_type": "markdown",
   "metadata": {},
   "source": [
    "#分词并统计词频"
   ]
  },
  {
   "cell_type": "code",
   "execution_count": 3,
   "metadata": {},
   "outputs": [],
   "source": [
    "def segmentation(sentence,lists,dicts=NULL):\n",
    "    jieba.suggest_freq(\"BOS\", True)\n",
    "    jieba.suggest_freq(\"EOS\", True)\n",
    "    sentence = jieba.cut(sentence,HMM=False)\n",
    "    format_sentence=\",\".join(sentence)\n",
    "    #将词按\",\"分割后依次填入数组word_list[]\n",
    "    lists=format_sentence.split(\",\")\n",
    "    #统计词频，如果词在字典word_dir{}中出现过则+1，未出现则=1\n",
    "    if dicts!=NULL:\n",
    "        for word in lists:\n",
    "            if word not in dicts:\n",
    "                dicts[word]=1\n",
    "            else:\n",
    "                dicts[word]+=1               \n",
    "    return lists"
   ]
  },
  {
   "cell_type": "markdown",
   "metadata": {},
   "source": [
    "#比较两个数列，二元语法"
   ]
  },
  {
   "cell_type": "code",
   "execution_count": 4,
   "metadata": {},
   "outputs": [],
   "source": [
    "def compareList(ori_list,test_list):\n",
    "    #申请空间\n",
    "    count_list=[0]*(len(test_list))\n",
    "    #遍历测试的字符串\n",
    "    for i in range(0,len(test_list)-1):\n",
    "        #遍历语料字符串，且因为是二元语法，不用比较语料字符串的最后一个字符\n",
    "        for j in range(0,len(ori_list)-2):                \n",
    "            #如果测试的第一个词和语料的第一个词相等则比较第二个词\n",
    "            if test_list[i]==ori_list[j]:\n",
    "                if test_list[i+1]==ori_list[j+1]:\n",
    "                    count_list[i]+=1\n",
    "    return count_list"
   ]
  },
  {
   "cell_type": "markdown",
   "metadata": {},
   "source": [
    "#计算概率   ，加一平滑 "
   ]
  },
  {
   "cell_type": "code",
   "execution_count": 5,
   "metadata": {},
   "outputs": [],
   "source": [
    "def probability(test_list,count_list,ori_dict):\n",
    "    flag=0\n",
    "    #概率值为p\n",
    "    p=1\n",
    "    for key in test_list: \n",
    "        #数据平滑处理：加1法\n",
    "        p*=(float(count_list[flag]+1)/float(ori_dict[key]+1))\n",
    "        flag+=1\n",
    "    return p"
   ]
  },
  {
   "cell_type": "markdown",
   "metadata": {},
   "source": [
    "#语料句子"
   ]
  },
  {
   "cell_type": "code",
   "execution_count": 6,
   "metadata": {},
   "outputs": [],
   "source": [
    "sentence_ori=\"研究生物很有意思。他大学时代是研究生物的。生物专业是他的首选目标。他是研究生。\"\n",
    "ori_list=[]\n",
    "ori_dict={}\n",
    "sentence_ori_temp=\"\""
   ]
  },
  {
   "cell_type": "markdown",
   "metadata": {},
   "source": [
    "#测试句子"
   ]
  },
  {
   "cell_type": "code",
   "execution_count": 7,
   "metadata": {},
   "outputs": [],
   "source": [
    "sentence_test=\"他是研究生物的\"\n",
    "sentence_test_temp=\"\" \n",
    "test_list=[]\n",
    "count_list=[]\n",
    "p=0"
   ]
  },
  {
   "cell_type": "code",
   "execution_count": 8,
   "metadata": {},
   "outputs": [],
   "source": [
    "#分词并将结果存入一个list，词频统计结果存入字典"
   ]
  },
  {
   "cell_type": "code",
   "execution_count": 9,
   "metadata": {},
   "outputs": [
    {
     "name": "stderr",
     "output_type": "stream",
     "text": [
      "Building prefix dict from the default dictionary ...\n",
      "Loading model from cache C:\\Users\\David\\AppData\\Local\\Temp\\jieba.cache\n"
     ]
    },
    {
     "name": "stdout",
     "output_type": "stream",
     "text": [
      "BOS研究生物很有意思EOSBOS他大学时代是研究生物的EOSBOS生物专业是他的首选目标EOSBOS他是研究生EOS\n"
     ]
    },
    {
     "name": "stderr",
     "output_type": "stream",
     "text": [
      "Loading model cost 0.624 seconds.\n",
      "Prefix dict has been built successfully.\n"
     ]
    },
    {
     "name": "stdout",
     "output_type": "stream",
     "text": [
      "BOS他是研究生物的EOS\n",
      "\" 他是研究生物的 \"出现的概率是： 0.01\n"
     ]
    }
   ],
   "source": [
    "sentence_ori_temp=reform(sentence_ori)\n",
    "ori_list=segmentation(sentence_ori_temp,ori_list,ori_dict)\n",
    "\n",
    "sentence_test_temp=reform(sentence_test)\n",
    "test_list=segmentation(sentence_test_temp,test_list)\n",
    "\n",
    "count_list=compareList(ori_list, test_list)\n",
    "p=probability(test_list,count_list,ori_dict)\n",
    "\n",
    "print('\"',sentence_test,'\"出现的概率是：',p)\n",
    "\n"
   ]
  },
  {
   "cell_type": "code",
   "execution_count": 11,
   "metadata": {},
   "outputs": [
    {
     "name": "stdout",
     "output_type": "stream",
     "text": [
      "lists: ['BOS', '研究', '生物', '很', '有意思', 'EOS', 'BOS', '他', '大学', '时代', '是', '研究', '生物', '的', 'EOS', 'BOS', '生物', '专业', '是', '他', '的', '首选', '目标', 'EOS', 'BOS', '他', '是', '研究生', 'EOS']\n",
      "dicts: {'BOS': 4, '研究': 2, '生物': 3, '很': 1, '有意思': 1, 'EOS': 4, '他': 3, '大学': 1, '时代': 1, '是': 3, '的': 2, '专业': 1, '首选': 1, '目标': 1, '研究生': 1}\n",
      "lists: ['BOS', '他', '是', '研究', '生物', '的', 'EOS']\n",
      "dicts: 0\n",
      "\n",
      "count_list [2, 1, 1, 2, 1, 1, 0]\n",
      "0.01\n"
     ]
    }
   ],
   "source": [
    "'''\n",
    "Created on 2017年1月15日\n",
    "\n",
    "@author: 薛沛雷\n",
    "'''\n",
    "\n",
    "import jieba\n",
    "from _overlapped import NULL\n",
    "\n",
    "\n",
    "#将句子变为\"BOSxxxxxEOS\"这种形式\n",
    "def reform(sentence):\n",
    "    #如果是以“。”结束的则将“。”删掉\n",
    "    if sentence.endswith(\"。\"):\n",
    "        sentence=sentence[:-1]\n",
    "    #添加起始符BOS和终止符EOS   \n",
    "    sentence_modify1=sentence.replace(\"。\", \"EOSBOS\")\n",
    "    sentence_modify2=\"BOS\"+sentence_modify1+\"EOS\"\n",
    "    return sentence_modify2\n",
    "\n",
    "\n",
    "#分词并统计词频\n",
    "def segmentation(sentence,lists,dicts=NULL):\n",
    "    jieba.suggest_freq(\"BOS\", True)\n",
    "    jieba.suggest_freq(\"EOS\", True)\n",
    "    sentence = jieba.cut(sentence,HMM=False)\n",
    "    format_sentence=\",\".join(sentence)\n",
    "    #将词按\",\"分割后依次填入数组word_list[]\n",
    "    lists=format_sentence.split(\",\")\n",
    "    #统计词频，如果词在字典word_dir{}中出现过则+1，未出现则=1\n",
    "    if dicts!=NULL:\n",
    "        for word in lists:\n",
    "            if word not in dicts:\n",
    "                dicts[word]=1\n",
    "            else:\n",
    "                dicts[word]+=1               \n",
    "    print('lists:',lists)\n",
    "    print('dicts:',dicts)\n",
    "    return lists\n",
    "\n",
    "\n",
    "#比较两个数列，二元语法\n",
    "def compareList(ori_list,test_list):\n",
    "    #申请空间\n",
    "    count_list=[0]*(len(test_list))\n",
    "    #遍历测试的字符串\n",
    "    for i in range(0,len(test_list)-1):\n",
    "        #遍历语料字符串，且因为是二元语法，不用比较语料字符串的最后一个字符\n",
    "        for j in range(0,len(ori_list)-2):                \n",
    "            #如果测试的第一个词和语料的第一个词相等则比较第二个词\n",
    "            if test_list[i]==ori_list[j]:\n",
    "                if test_list[i+1]==ori_list[j+1]:\n",
    "                    count_list[i]+=1\n",
    "    return count_list\n",
    "\n",
    "\n",
    "#计算概率    \n",
    "def probability(test_list,count_list,ori_dict):\n",
    "    flag=0\n",
    "    #概率值为p\n",
    "    p=1\n",
    "    for key in test_list: \n",
    "        #数据平滑处理：加1法\n",
    "        p*=(float(count_list[flag]+1)/float(ori_dict[key]+1))\n",
    "        flag+=1\n",
    "    return p\n",
    "\n",
    "\n",
    "if __name__ == \"__main__\":\n",
    "\n",
    "    #语料句子\n",
    "    sentence_ori=\"研究生物很有意思。他大学时代是研究生物的。生物专业是他的首选目标。他是研究生。\"\n",
    "    ori_list=[]\n",
    "    ori_dict={}\n",
    "    sentence_ori_temp=\"\"\n",
    "\n",
    "    #测试句子\n",
    "    sentence_test=\"他是研究生物的\"\n",
    "    sentence_test_temp=\"\" \n",
    "    test_list=[]\n",
    "    count_list=[]\n",
    "    p=0\n",
    "\n",
    "    #分词并将结果存入一个list，词频统计结果存入字典\n",
    "    sentence_ori_temp=reform(sentence_ori)\n",
    "    ori_list=segmentation(sentence_ori_temp,ori_list,ori_dict)\n",
    "\n",
    "    sentence_test_temp=reform(sentence_test)\n",
    "    test_list=segmentation(sentence_test_temp,test_list)\n",
    "\n",
    "    count_list=compareList(ori_list, test_list)\n",
    "    print('\\ncount_list',count_list)\n",
    "    p=probability(test_list,count_list,ori_dict)\n",
    "    print(p)\n",
    "\n"
   ]
  },
  {
   "cell_type": "code",
   "execution_count": null,
   "metadata": {},
   "outputs": [],
   "source": []
  }
 ],
 "metadata": {
  "kernelspec": {
   "display_name": "Python 3",
   "language": "python",
   "name": "python3"
  },
  "language_info": {
   "codemirror_mode": {
    "name": "ipython",
    "version": 3
   },
   "file_extension": ".py",
   "mimetype": "text/x-python",
   "name": "python",
   "nbconvert_exporter": "python",
   "pygments_lexer": "ipython3",
   "version": "3.7.8"
  }
 },
 "nbformat": 4,
 "nbformat_minor": 4
}
