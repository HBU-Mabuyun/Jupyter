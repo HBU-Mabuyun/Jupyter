{
 "cells": [
  {
   "cell_type": "markdown",
   "metadata": {},
   "source": [
    "# https://blog.csdn.net/firparks/article/details/54563683"
   ]
  },
  {
   "cell_type": "markdown",
   "metadata": {},
   "source": [
    "### 基于以下语料建立语言模型\n",
    "Father read Holy Bible.\n",
    "\n",
    "Mother read a text book.\n",
    "\n",
    "He read a book by grandpa."
   ]
  },
  {
   "cell_type": "markdown",
   "metadata": {},
   "source": [
    "### 𝑝(\"Father read a book\")= 0.06"
   ]
  },
  {
   "cell_type": "code",
   "execution_count": 6,
   "metadata": {},
   "outputs": [],
   "source": [
    "sentence_ori=\"Father read Holy Bible. Mother read a text book. He read a book by grandpa.\""
   ]
  },
  {
   "cell_type": "code",
   "execution_count": 7,
   "metadata": {},
   "outputs": [],
   "source": [
    "sentence_test=\"Father read a book\""
   ]
  },
  {
   "cell_type": "code",
   "execution_count": 42,
   "metadata": {},
   "outputs": [
    {
     "name": "stdout",
     "output_type": "stream",
     "text": [
      "\n",
      "sentence_modify2: BOSFather read Holy BibleEOSBOS Mother read a text bookEOSBOS He read a book by grandpaEOS\n",
      "\n",
      "lists: ['BOS', 'Father', 'read', 'Holy', 'Bible', 'EOS', 'BOS', 'Mother', 'read', 'a', 'text', 'book', 'EOS', 'BOS', 'He', 'read', 'a', 'book', 'by', 'grandpa', 'EOS']\n",
      "\n",
      "dicts: {'BOS': 3, 'Father': 1, 'read': 3, 'Holy': 1, 'Bible': 1, 'EOS': 3, 'Mother': 1, 'a': 2, 'text': 1, 'book': 2, 'He': 1, 'by': 1, 'grandpa': 1}\n",
      "\n",
      "ori_list ['BOS', 'Father', 'read', 'Holy', 'Bible', 'EOS', 'BOS', 'Mother', 'read', 'a', 'text', 'book', 'EOS', 'BOS', 'He', 'read', 'a', 'book', 'by', 'grandpa', 'EOS']\n",
      "\n",
      "sentence_modify2: BOSFather read a bookEOS\n",
      "\n",
      "lists: ['BOS', 'Father', 'read', 'a', 'book', 'EOS']\n",
      "\n",
      "dicts: 0\n",
      "\n",
      "test_list ['BOS', 'Father', 'read', 'a', 'book', 'EOS']\n",
      "\n",
      "count_list [1, 1, 2, 1, 1, 0]\n",
      "1 3\n",
      "1 1\n",
      "2 3\n",
      "1 2\n",
      "1 2\n",
      "\n",
      "\" Father read a book \"出现的概率是： 0.05555555555555555\n"
     ]
    }
   ],
   "source": [
    "import jieba\n",
    "from _overlapped import NULL\n",
    "\n",
    "#将句子变为\"BOSxxxxxEOS\"这种形式\n",
    "def reform(sentence):\n",
    "    #如果是以“。”结束的则将“。”删掉\n",
    "    if sentence.endswith(\".\"):\n",
    "        sentence=sentence[:-1]\n",
    "    #添加起始符BOS和终止符EOS   \n",
    "    sentence_modify1=sentence.replace(\".\", \"EOSBOS\")\n",
    "    sentence_modify2=\"BOS\"+sentence_modify1+\"EOS\"\n",
    "    print('\\nsentence_modify2:',sentence_modify2)\n",
    "    return sentence_modify2\n",
    "\n",
    "\n",
    "#分词并统计词频\n",
    "def segmentation(sentence,lists,dicts=NULL):\n",
    "    jieba.suggest_freq(\"BOS\", True)\n",
    "    jieba.suggest_freq(\"EOS\", True)\n",
    "    sentence = jieba.cut(sentence,HMM=False)\n",
    "    format_sentence=\",\".join(sentence)\n",
    "    #将词按\",\"分割后依次填入数组word_list[]\n",
    "    lists=format_sentence.split(\",\")\n",
    "    #去除lists中的空格\n",
    "    for i in lists:\n",
    "        if ' ' in lists:\n",
    "            lists.remove(' ')\n",
    "    #统计词频，如果词在字典word_dir{}中出现过则+1，未出现则=1\n",
    "    if dicts!=NULL:\n",
    "        for word in lists:\n",
    "            if word not in dicts:\n",
    "                dicts[word]=1\n",
    "            else:\n",
    "                dicts[word]+=1               \n",
    "    print('\\nlists:',lists)\n",
    "    print('\\ndicts:',dicts)\n",
    "    return lists\n",
    "\n",
    "\n",
    "#比较两个数列，二元语法\n",
    "def compareList(ori_list,test_list):\n",
    "    #申请空间\n",
    "    count_list=[0]*(len(test_list))\n",
    "    #遍历测试的字符串\n",
    "    for i in range(0,len(test_list)-1):\n",
    "        #遍历语料字符串，且因为是二元语法，不用比较语料字符串的最后一个字符\n",
    "        for j in range(0,len(ori_list)-2):                \n",
    "            #如果测试的第一个词和语料的第一个词相等则比较第二个词\n",
    "            if test_list[i]==ori_list[j]:\n",
    "                if test_list[i+1]==ori_list[j+1]:\n",
    "                    count_list[i]+=1\n",
    "    return count_list\n",
    "\n",
    "\n",
    "#计算概率    \n",
    "def probability(test_list,count_list,ori_dict):\n",
    "    flag=0\n",
    "    #概率值为p\n",
    "    p=1\n",
    "    for key in test_list[0:-1]: \n",
    "        #数据平滑处理：加1法 ; 0表示未使用\n",
    "        p*=(float(count_list[flag]+0)/float(ori_dict[key]))\n",
    "        print(count_list[flag],ori_dict[key])\n",
    "        flag+=1\n",
    "    return p\n",
    "\n",
    "\n",
    "if __name__ == \"__main__\":\n",
    "\n",
    "    #语料句子\n",
    "    sentence_ori=\"Father read Holy Bible. Mother read a text book. He read a book by grandpa.\"\n",
    "    ori_list=[]\n",
    "    ori_dict={}\n",
    "    sentence_ori_temp=\"\"\n",
    "\n",
    "    #测试句子\n",
    "    sentence_test=\"Father read a book\"\n",
    "    sentence_test_temp=\"\" \n",
    "    test_list=[]\n",
    "    count_list=[]\n",
    "    p=0\n",
    "\n",
    "    #分词并将结果存入一个list，词频统计结果存入字典\n",
    "    sentence_ori_temp=reform(sentence_ori)\n",
    "    ori_list=segmentation(sentence_ori_temp,ori_list,ori_dict)\n",
    "    print('\\nori_list',ori_list)\n",
    "\n",
    "    sentence_test_temp=reform(sentence_test)\n",
    "    test_list=segmentation(sentence_test_temp,test_list)\n",
    "    print('\\ntest_list',test_list)\n",
    "    \n",
    "    count_list=compareList(ori_list, test_list)\n",
    "    print('\\ncount_list',count_list)\n",
    "    \n",
    "    p=probability(test_list,count_list,ori_dict)\n",
    "\n",
    "    print('\\n\"',sentence_test,'\"出现的概率是：',p)\n",
    "\n"
   ]
  },
  {
   "cell_type": "code",
   "execution_count": null,
   "metadata": {},
   "outputs": [],
   "source": []
  }
 ],
 "metadata": {
  "kernelspec": {
   "display_name": "Python 3",
   "language": "python",
   "name": "python3"
  },
  "language_info": {
   "codemirror_mode": {
    "name": "ipython",
    "version": 3
   },
   "file_extension": ".py",
   "mimetype": "text/x-python",
   "name": "python",
   "nbconvert_exporter": "python",
   "pygments_lexer": "ipython3",
   "version": "3.8.3"
  }
 },
 "nbformat": 4,
 "nbformat_minor": 4
}
