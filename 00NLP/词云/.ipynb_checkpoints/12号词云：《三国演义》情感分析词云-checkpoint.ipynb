{
 "cells": [
  {
   "cell_type": "code",
   "execution_count": 4,
   "metadata": {},
   "outputs": [],
   "source": [
    "import wordcloud\n",
    "import jieba\n",
    "from PIL import Image\n",
    "import matplotlib.pyplot as plt\n",
    "import numpy as np\n",
    "import imageio"
   ]
  },
  {
   "cell_type": "code",
   "execution_count": 5,
   "metadata": {},
   "outputs": [],
   "source": [
    "mk = imageio.imread(\"picture/chinamap.png\")"
   ]
  },
  {
   "cell_type": "code",
   "execution_count": 6,
   "metadata": {},
   "outputs": [],
   "source": [
    "# 构建并配置两个词云对象w1和w2，分别存放积极词和消极词\n",
    "w1 = wordcloud.WordCloud(width=1000,height=700,background_color='white',font_path='msyh.ttc',mask=mk,scale=5)\n",
    "w2 = wordcloud.WordCloud(width=1000,height=700,background_color='white',font_path='msyh.ttc',mask=mk,scale=5)"
   ]
  },
  {
   "cell_type": "code",
   "execution_count": 7,
   "metadata": {},
   "outputs": [
    {
     "name": "stderr",
     "output_type": "stream",
     "text": [
      "Building prefix dict from the default dictionary ...\n",
      "Loading model from cache C:\\Users\\David\\AppData\\Local\\Temp\\jieba.cache\n",
      "Loading model cost 0.697 seconds.\n",
      "Prefix dict has been built successfully.\n"
     ]
    },
    {
     "name": "stdout",
     "output_type": "stream",
     "text": [
      "开始进行情感分析，请稍等，三国演义全文那么长的文本需要三分钟左右\n"
     ]
    }
   ],
   "source": [
    "# 对来自外部文件的文本进行中文分词，得到积极词汇和消极词汇的两个列表\n",
    "f = open('words/三国演义.txt',encoding='utf-8')\n",
    "txt = f.read()\n",
    "txtlist = jieba.lcut(txt)\n",
    "positivelist = []\n",
    "negativelist = []\n",
    "\n",
    "# 下面对文本中的每个词进行情感分析，情感>0.96判为积极词，情感<0.06判为消极词\n",
    "print('开始进行情感分析，请稍等，三国演义全文那么长的文本需要三分钟左右')\n",
    "# 导入自然语言处理第三方库snownlp\n",
    "import snownlp\n",
    "for each in txtlist:\n",
    "    each_word = snownlp.SnowNLP(each)\n",
    "    feeling = each_word.sentiments\n",
    "    if feeling > 0.96:\n",
    "        positivelist.append(each)\n",
    "    elif feeling < 0.06:\n",
    "        negativelist.append(each)\n",
    "    else:\n",
    "        pass\n",
    "# 将积极和消极的两个列表各自合并成积极字符串和消极字符串，字符串中的词用空格分隔\n",
    "positive_string = \" \".join(positivelist)\n",
    "negative_string = \" \".join(negativelist)\n",
    "\n",
    "\n"
   ]
  },
  {
   "cell_type": "code",
   "execution_count": 8,
   "metadata": {},
   "outputs": [
    {
     "name": "stdout",
     "output_type": "stream",
     "text": [
      "词云生成完成\n"
     ]
    }
   ],
   "source": [
    "# 将string变量传入w的generate()方法，给词云输入文字\n",
    "w1.generate(positive_string)\n",
    "w2.generate(negative_string)\n",
    "\n",
    "# 将积极、消极的两个词云图片导出到当前文件夹\n",
    "w1.to_file('WordClouds/output12-positive.png')\n",
    "w2.to_file('WordClouds/output12-negative.png')\n",
    "print('词云生成完成')"
   ]
  },
  {
   "cell_type": "code",
   "execution_count": 9,
   "metadata": {},
   "outputs": [
    {
     "data": {
      "image/png": "[encoded data removed]",
      "text/plain": [
       "<Figure size 432x288 with 2 Axes>"
      ]
     },
     "metadata": {
      "needs_background": "light"
     },
     "output_type": "display_data"
    }
   ],
   "source": [
    "img1=Image.open(\"WordClouds/output12-positive.png\")\n",
    "img2=Image.open(\"WordClouds/output12-negative.png\")\n",
    "m1=np.asarray(img1)\n",
    "m2=np.asarray(img2)\n",
    "\n",
    "fig, axes = plt.subplots(1, 2)\n",
    "axes[0].imshow(m1)\n",
    "axes[1].imshow(m2)\n",
    "\n",
    "for ax in axes:\n",
    "    ax.set_axis_off()\n",
    "plt.show()"
   ]
  },
  {
   "cell_type": "code",
   "execution_count": null,
   "metadata": {},
   "outputs": [],
   "source": []
  }
 ],
 "metadata": {
  "kernelspec": {
   "display_name": "Python 3",
   "language": "python",
   "name": "python3"
  },
  "language_info": {
   "codemirror_mode": {
    "name": "ipython",
    "version": 3
   },
   "file_extension": ".py",
   "mimetype": "text/x-python",
   "name": "python",
   "nbconvert_exporter": "python",
   "pygments_lexer": "ipython3",
   "version": "3.7.6"
  }
 },
 "nbformat": 4,
 "nbformat_minor": 4
}
