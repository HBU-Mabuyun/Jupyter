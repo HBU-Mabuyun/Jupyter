{
 "cells": [
  {
   "cell_type": "markdown",
   "metadata": {},
   "source": [
    "https://www.cnblogs.com/Belter/p/6128644.html"
   ]
  },
  {
   "cell_type": "code",
   "execution_count": 8,
   "metadata": {},
   "outputs": [],
   "source": []
  },
  {
   "cell_type": "code",
   "execution_count": 24,
   "metadata": {
    "scrolled": true
   },
   "outputs": [],
   "source": [
    "from numpy import *\n",
    "import os\n",
    "\n",
    "path = r'C:\\GitHub\\Jupyter\\25LogisticRegression\\data'\n",
    "training_sample = 'Logistic_Regression-trainingSample.txt'\n",
    "testing_sample = 'Logistic_Regression-testingSample.txt'\n",
    "\n",
    "# 从文件中读入训练样本的数据\n",
    "def loadDataSet(p, file_n):\n",
    "    dataMat = []\n",
    "    labelMat = []\n",
    "    fr = open(os.path.join(p, file_n))\n",
    "    for line in fr.readlines():\n",
    "        lineArr = line.strip().split()\n",
    "        # 三个特征x0, x1, x2, x0=1\n",
    "        dataMat.append([1.0, float(lineArr[0]), float(lineArr[1])])\n",
    "        labelMat.append(int(lineArr[2]))  # 样本标签y\n",
    "    return dataMat, labelMat\n",
    "\n",
    "def sigmoid(X):\n",
    "    return 1.0/(1+exp(-X))\n",
    "\n",
    "# 梯度下降法求回归系数a\n",
    "def gradAscent(dataMatIn, classLabels):\n",
    "    dataMatrix = mat(dataMatIn)             # 转换成numpy中的矩阵, X, 90 x 3\n",
    "    labelMat = mat(classLabels).transpose()  # 转换成numpy中的矩阵, y, 90 x 1\n",
    "    m, n = shape(dataMatrix)  # m=90, n=3\n",
    "    alpha = 0.001  # 学习率\n",
    "    maxCycles = 1000\n",
    "    weights = ones((n, 1))  # 初始参数, 3 x 1\n",
    "    for k in range(maxCycles):              # heavy on matrix operations\n",
    "        h = sigmoid(dataMatrix * weights)     # 模型预测值, 90 x 1\n",
    "        error = h - labelMat              # 真实值与预测值之间的误差, 90 x 1\n",
    "        temp = dataMatrix.transpose() * error  # 所有参数的偏导数, 3 x 1\n",
    "        weights = weights - alpha * temp  # 更新权重\n",
    "    return weights\n",
    "\n",
    "# 分类效果展示，参数weights就是回归系数\n",
    "def plotBestFit(weights):\n",
    "    import matplotlib.pyplot as plt\n",
    "    dataMat,labelMat=loadDataSet(path, training_sample)\n",
    "    dataArr = array(dataMat)\n",
    "    n = shape(dataArr)[0]\n",
    "    xcord1 = []; ycord1 = []\n",
    "    xcord2 = []; ycord2 = []\n",
    "    for i in range(n):\n",
    "        if int(labelMat[i])== 1:\n",
    "            xcord1.append(dataArr[i,1]); ycord1.append(dataArr[i,2])\n",
    "        else:\n",
    "            xcord2.append(dataArr[i,1]); ycord2.append(dataArr[i,2])\n",
    "    fig = plt.figure()\n",
    "    ax = fig.add_subplot(111)\n",
    "    ax.scatter(xcord1, ycord1, s=30, c='red', marker='s')\n",
    "    ax.scatter(xcord2, ycord2, s=30, c='green')\n",
    "    x = arange(-3.0, 3.0, 0.1)\n",
    "    y = (-weights[0]-weights[1]*x)/weights[2]  # x2 = f(x1)\n",
    "    ax.plot(x, y)\n",
    "    plt.xlabel('X1'); plt.ylabel('X2');\n",
    "    plt.show()\n",
    "    \n",
    "# 测试函数\n",
    "def test_logistic_regression():\n",
    "    dataArr, labelMat = loadDataSet(path, training_sample)  # 读入训练样本中的原始数据\n",
    "    A = gradAscent(dataArr, labelMat)  # 回归系数a的值\n",
    "    h = sigmoid(mat(dataArr)*A)  # 预测结果h(a)的值\n",
    "    #print(dataArr, labelMat)\n",
    "    print(A)\n",
    "    #print(h)\n",
    "    plotBestFit(A.getA())"
   ]
  },
  {
   "cell_type": "code",
   "execution_count": 25,
   "metadata": {
    "scrolled": false
   },
   "outputs": [
    {
     "name": "stdout",
     "output_type": "stream",
     "text": [
      "[[ 5.262118  ]\n",
      " [ 0.60847797]\n",
      " [-0.75168429]]\n"
     ]
    },
    {
     "data": {
      "image/png": "[encoded data removed]",
      "text/plain": [
       "<matplotlib.figure.Figure at 0x1c2f7564a20>"
      ]
     },
     "metadata": {},
     "output_type": "display_data"
    }
   ],
   "source": [
    "test_logistic_regression()"
   ]
  },
  {
   "cell_type": "code",
   "execution_count": 27,
   "metadata": {},
   "outputs": [],
   "source": [
    "def predict_test_sample():\n",
    "    A = [5.262118, 0.60847797, -0.75168429]  # 上面计算出来的回归系数a\n",
    "    dataArr, labelMat = loadDataSet(path, testing_sample)  \n",
    "    h_test = sigmoid(mat(dataArr) * mat(A).transpose())  # 将读入的数据和A转化成numpy中的矩阵\n",
    "    print(h_test)  # 预测的结果"
   ]
  },
  {
   "cell_type": "code",
   "execution_count": 21,
   "metadata": {},
   "outputs": [
    {
     "name": "stdout",
     "output_type": "stream",
     "text": [
      "[[ 0.99714035]\n",
      " [ 0.04035907]\n",
      " [ 0.12535895]\n",
      " [ 0.99048731]\n",
      " [ 0.98075409]\n",
      " [ 0.97708653]\n",
      " [ 0.09004989]\n",
      " [ 0.97884487]\n",
      " [ 0.28594188]\n",
      " [ 0.00359693]]\n"
     ]
    }
   ],
   "source": [
    "predict_test_sample()"
   ]
  },
  {
   "cell_type": "code",
   "execution_count": null,
   "metadata": {},
   "outputs": [],
   "source": []
  }
 ],
 "metadata": {
  "kernelspec": {
   "display_name": "Python 3",
   "language": "python",
   "name": "python3"
  },
  "language_info": {
   "codemirror_mode": {
    "name": "ipython",
    "version": 3
   },
   "file_extension": ".py",
   "mimetype": "text/x-python",
   "name": "python",
   "nbconvert_exporter": "python",
   "pygments_lexer": "ipython3",
   "version": "3.6.2"
  }
 },
 "nbformat": 4,
 "nbformat_minor": 2
}
