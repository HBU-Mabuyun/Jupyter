{
 "cells": [
  {
   "cell_type": "markdown",
   "metadata": {},
   "source": [
    "https://blog.csdn.net/huahuazhu/article/details/73385362"
   ]
  },
  {
   "cell_type": "markdown",
   "metadata": {},
   "source": [
    "# 批量梯度下降算法"
   ]
  },
  {
   "cell_type": "code",
   "execution_count": 8,
   "metadata": {
    "scrolled": false
   },
   "outputs": [
    {
     "name": "stdout",
     "output_type": "stream",
     "text": [
      "50\n",
      "loop count = 304 \tw: [ 5.64168888  1.88283729]\n",
      "【intercept = 5.71919477408】 【slope = 1.87100184202】\n"
     ]
    },
    {
     "data": {
      "image/png": "[encoded data removed]",
      "text/plain": [
       "<matplotlib.figure.Figure at 0x1c56731d320>"
      ]
     },
     "metadata": {},
     "output_type": "display_data"
    }
   ],
   "source": [
    "#!/usr/bin/python\n",
    "#coding=utf-8\n",
    "import numpy as np\n",
    "from scipy import stats\n",
    "import matplotlib.pyplot as plt\n",
    "\n",
    "# 构造训练数据\n",
    "x = np.arange(0., 10., 0.2)\n",
    "m = len(x)  # 训练数据点数目\n",
    "print (m)\n",
    "x0 = np.full(m, 1.0)\n",
    "input_data = np.vstack([x0, x]).T  # 将偏置b作为权向量的第一个分量\n",
    "target_data = 2 * x + 5 + np.random.randn(m)\n",
    "\n",
    "# 两种终止条件\n",
    "loop_max = 10000  # 最大迭代次数(防止死循环)\n",
    "epsilon = 1e-3\n",
    "\n",
    "# 初始化权值\n",
    "np.random.seed(0)\n",
    "theta = np.random.randn(2)\n",
    "\n",
    "alpha = 0.001  # 步长(注意取值过大会导致振荡即不收敛,过小收敛速度变慢)\n",
    "diff = 0.\n",
    "error = np.zeros(2)\n",
    "count = 0  # 循环次数\n",
    "finish = 0  # 终止标志\n",
    "\n",
    "while count < loop_max:\n",
    "    count += 1\n",
    "\n",
    "    # 标准梯度下降是在权值更新前对所有样例汇总误差，而随机梯度下降的权值是通过考查某个训练样例来更新的\n",
    "    # 在标准梯度下降中，权值更新的每一步对多个样例求和，需要更多的计算\n",
    "    sum_m = np.zeros(2)\n",
    "    for i in range(m):\n",
    "        dif = (np.dot(theta, input_data[i]) - target_data[i]) * input_data[i]\n",
    "        sum_m = sum_m + dif  # 当alpha取值过大时,sum_m会在迭代过程中会溢出\n",
    "\n",
    "    theta = theta - alpha * sum_m  # 注意步长alpha的取值,过大会导致振荡\n",
    "    # theta = theta - 0.005 * sum_m      # alpha取0.005时产生振荡,需要将alpha调小\n",
    "\n",
    "    # 判断是否已收敛\n",
    "    if np.linalg.norm(theta - error) < epsilon:\n",
    "        finish = 1\n",
    "        break\n",
    "    else:\n",
    "        error = theta\n",
    "    #print ('loop count = %d' % count, '\\tw:',theta)\n",
    "print ('loop count = %d' % count, '\\tw:',theta)\n",
    "\n",
    "# check with scipy linear regression\n",
    "slope, intercept, r_value, p_value, slope_std_error = stats.linregress(x, target_data)\n",
    "print ('【intercept = %s】 【slope = %s】' % (intercept, slope))\n",
    "\n",
    "plt.plot(x, target_data, 'g*')\n",
    "plt.plot(x, theta[1] * x + theta[0], 'r-')\n",
    "plt.show()"
   ]
  },
  {
   "cell_type": "code",
   "execution_count": null,
   "metadata": {},
   "outputs": [],
   "source": []
  }
 ],
 "metadata": {
  "kernelspec": {
   "display_name": "Python 3",
   "language": "python",
   "name": "python3"
  },
  "language_info": {
   "codemirror_mode": {
    "name": "ipython",
    "version": 3
   },
   "file_extension": ".py",
   "mimetype": "text/x-python",
   "name": "python",
   "nbconvert_exporter": "python",
   "pygments_lexer": "ipython3",
   "version": "3.6.2"
  }
 },
 "nbformat": 4,
 "nbformat_minor": 2
}
