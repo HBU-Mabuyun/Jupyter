{
 "cells": [
  {
   "cell_type": "markdown",
   "metadata": {},
   "source": [
    "http://www.runoob.com/python3/python3-basic-operators.html"
   ]
  },
  {
   "cell_type": "code",
   "execution_count": 46,
   "metadata": {},
   "outputs": [
    {
     "name": "stdout",
     "output_type": "stream",
     "text": [
      "1 - c 的值为： 50\n",
      "2 - c 的值为： -10\n",
      "3 - c 的值为： 600\n",
      "4 - c 的值为： 0.6666666666666666\n",
      "5 - c 的值为： 20\n",
      "6 - c 的值为： 8\n",
      "7 - c 的值为： 2\n"
     ]
    }
   ],
   "source": [
    "#Python算术运算符\n",
    "a = 20\n",
    "b = 30\n",
    "c = 0\n",
    " \n",
    "c = a + b\n",
    "print (\"1 - c 的值为：\", c)\n",
    " \n",
    "c = a - b\n",
    "print (\"2 - c 的值为：\", c)\n",
    " \n",
    "c = a * b\n",
    "print (\"3 - c 的值为：\", c)\n",
    " \n",
    "c = a / b\n",
    "print (\"4 - c 的值为：\", c)\n",
    " \n",
    "c = a % b #取模 - 返回除法的余数\n",
    "print (\"5 - c 的值为：\", c)\n",
    " \n",
    "# 修改变量 a 、b 、c\n",
    "a = 2\n",
    "b = 3\n",
    "c = a**b #幂 - 返回x的y次幂\n",
    "print (\"6 - c 的值为：\", c)\n",
    " \n",
    "a = 10\n",
    "b = 5\n",
    "c = a//b #取整除 - 返回商的整数部分\n",
    "print (\"7 - c 的值为：\", c)"
   ]
  },
  {
   "cell_type": "code",
   "execution_count": 47,
   "metadata": {},
   "outputs": [
    {
     "name": "stdout",
     "output_type": "stream",
     "text": [
      "1 - a 不等于 b\n",
      "2 - a 不等于 b\n",
      "3 - a 大于等于 b\n",
      "4 - a 大于 b\n",
      "5 - a 小于等于 b\n",
      "6 - b 大于等于 a\n"
     ]
    }
   ],
   "source": [
    "#Python比较运算符\n",
    "a = 21\n",
    "b = 10\n",
    "c = 0\n",
    " \n",
    "if ( a == b ):\n",
    "   print (\"1 - a 等于 b\")\n",
    "else:\n",
    "   print (\"1 - a 不等于 b\")\n",
    " \n",
    "if ( a != b ):\n",
    "   print (\"2 - a 不等于 b\")\n",
    "else:\n",
    "   print (\"2 - a 等于 b\")\n",
    " \n",
    "if ( a < b ):\n",
    "   print (\"3 - a 小于 b\")\n",
    "else:\n",
    "   print (\"3 - a 大于等于 b\")\n",
    " \n",
    "if ( a > b ):\n",
    "   print (\"4 - a 大于 b\")\n",
    "else:\n",
    "   print (\"4 - a 小于等于 b\")\n",
    " \n",
    "# 修改变量 a 和 b 的值\n",
    "a = 5;\n",
    "b = 20;\n",
    "if ( a <= b ):\n",
    "   print (\"5 - a 小于等于 b\")\n",
    "else:\n",
    "   print (\"5 - a 大于  b\")\n",
    " \n",
    "if ( b >= a ):\n",
    "   print (\"6 - b 大于等于 a\")\n",
    "else:\n",
    "   print (\"6 - b 小于 a\")"
   ]
  },
  {
   "cell_type": "code",
   "execution_count": 48,
   "metadata": {},
   "outputs": [
    {
     "name": "stdout",
     "output_type": "stream",
     "text": [
      "1 - c 的值为： 31\n",
      "2 - c 的值为： 52\n",
      "3 - c 的值为： 1092\n",
      "4 - c 的值为： 52.0\n",
      "5 - c 的值为： 2\n",
      "6 - c 的值为： 2097152\n",
      "7 - c 的值为： 99864\n"
     ]
    }
   ],
   "source": [
    "#Python赋值运算符\n",
    "a = 21\n",
    "b = 10\n",
    "c = 0\n",
    " \n",
    "c = a + b\n",
    "print (\"1 - c 的值为：\", c)\n",
    " \n",
    "c += a\n",
    "print (\"2 - c 的值为：\", c)\n",
    " \n",
    "c *= a\n",
    "print (\"3 - c 的值为：\", c)\n",
    " \n",
    "c /= a \n",
    "print (\"4 - c 的值为：\", c)\n",
    " \n",
    "c = 2\n",
    "c %= a\n",
    "print (\"5 - c 的值为：\", c)\n",
    " \n",
    "c **= a\n",
    "print (\"6 - c 的值为：\", c)\n",
    " \n",
    "c //= a\n",
    "print (\"7 - c 的值为：\", c)"
   ]
  },
  {
   "cell_type": "code",
   "execution_count": 49,
   "metadata": {},
   "outputs": [
    {
     "name": "stdout",
     "output_type": "stream",
     "text": [
      "1 - c 的值为： 12\n",
      "2 - c 的值为： 61\n",
      "3 - c 的值为： 49\n",
      "4 - c 的值为： -61\n",
      "5 - c 的值为： 240\n",
      "6 - c 的值为： 15\n"
     ]
    }
   ],
   "source": [
    "#Python位运算符\n",
    "a = 60            # 60 = 0011 1100 \n",
    "b = 13            # 13 = 0000 1101 \n",
    "c = 0\n",
    " \n",
    "c = a & b;        # 12 = 0000 1100\n",
    "print (\"1 - c 的值为：\", c)\n",
    " \n",
    "c = a | b;        # 61 = 0011 1101 \n",
    "print (\"2 - c 的值为：\", c)\n",
    " \n",
    "c = a ^ b;        # 49 = 0011 0001\n",
    "print (\"3 - c 的值为：\", c)\n",
    " \n",
    "c = ~a;           # -61 = 1100 0011\n",
    "print (\"4 - c 的值为：\", c)\n",
    " \n",
    "c = a << 2;       # 240 = 1111 0000\n",
    "print (\"5 - c 的值为：\", c)\n",
    " \n",
    "c = a >> 2;       # 15 = 0000 1111\n",
    "print (\"6 - c 的值为：\", c)"
   ]
  },
  {
   "cell_type": "code",
   "execution_count": 50,
   "metadata": {},
   "outputs": [
    {
     "name": "stdout",
     "output_type": "stream",
     "text": [
      "1 - 变量 a 和 b 都为 true\n",
      "2 - 变量 a 和 b 都为 true，或其中一个变量为 true\n",
      "3 - 变量 a 和 b 有一个不为 true\n",
      "4 - 变量 a 和 b 都为 true，或其中一个变量为 true\n",
      "5 - 变量 a 和 b 都为 false，或其中一个变量为 false\n"
     ]
    }
   ],
   "source": [
    "#Python逻辑运算符\n",
    "a = 10\n",
    "b = 20\n",
    " \n",
    "if ( a and b ):\n",
    "   print (\"1 - 变量 a 和 b 都为 true\")\n",
    "else:\n",
    "   print (\"1 - 变量 a 和 b 有一个不为 true\")\n",
    " \n",
    "if ( a or b ):\n",
    "   print (\"2 - 变量 a 和 b 都为 true，或其中一个变量为 true\")\n",
    "else:\n",
    "   print (\"2 - 变量 a 和 b 都不为 true\")\n",
    " \n",
    "# 修改变量 a 的值\n",
    "a = 0\n",
    "if ( a and b ):\n",
    "   print (\"3 - 变量 a 和 b 都为 true\")\n",
    "else:\n",
    "   print (\"3 - 变量 a 和 b 有一个不为 true\")\n",
    " \n",
    "if ( a or b ):\n",
    "   print (\"4 - 变量 a 和 b 都为 true，或其中一个变量为 true\")\n",
    "else:\n",
    "   print (\"4 - 变量 a 和 b 都不为 true\")\n",
    " \n",
    "if not( a and b ):\n",
    "   print (\"5 - 变量 a 和 b 都为 false，或其中一个变量为 false\")\n",
    "else:\n",
    "   print (\"5 - 变量 a 和 b 都为 true\")"
   ]
  },
  {
   "cell_type": "code",
   "execution_count": 51,
   "metadata": {},
   "outputs": [
    {
     "name": "stdout",
     "output_type": "stream",
     "text": [
      "1 - 变量 a 不在给定的列表中 list 中\n",
      "2 - 变量 b 不在给定的列表中 list 中\n",
      "3 - 变量 a 在给定的列表中 list 中\n"
     ]
    }
   ],
   "source": [
    "#Python成员运算符\n",
    "a = 10\n",
    "b = 20\n",
    "list = [1, 2, 3, 4, 5 ];\n",
    " \n",
    "if ( a in list ):\n",
    "   print (\"1 - 变量 a 在给定的列表中 list 中\")\n",
    "else:\n",
    "   print (\"1 - 变量 a 不在给定的列表中 list 中\")\n",
    " \n",
    "if ( b not in list ):\n",
    "   print (\"2 - 变量 b 不在给定的列表中 list 中\")\n",
    "else:\n",
    "   print (\"2 - 变量 b 在给定的列表中 list 中\")\n",
    " \n",
    "# 修改变量 a 的值\n",
    "a = 2\n",
    "if ( a in list ):\n",
    "   print (\"3 - 变量 a 在给定的列表中 list 中\")\n",
    "else:\n",
    "   print (\"3 - 变量 a 不在给定的列表中 list 中\")"
   ]
  },
  {
   "cell_type": "code",
   "execution_count": 59,
   "metadata": {},
   "outputs": [
    {
     "name": "stdout",
     "output_type": "stream",
     "text": [
      "1910370000\n",
      "1910370000\n",
      "1 - a 和 b 有相同的标识\n",
      "2 - a 和 b 有相同的标识\n",
      "1910370000\n",
      "1910370320\n",
      "3 - a 和 b 没有相同的标识\n",
      "4 - a 和 b 没有相同的标识\n"
     ]
    }
   ],
   "source": [
    "#Python身份运算符\n",
    "#x is y, 类似 id(x) == id(y) , 如果引用的是同一个对象则返回 True，否则返回 False\n",
    "#注： id() 函数用于获取对象内存地址。\n",
    "a = 20\n",
    "b = 20\n",
    "print (id(a));print (id(b))\n",
    "if ( a is b ):\n",
    "   print (\"1 - a 和 b 有相同的标识\")\n",
    "else:\n",
    "   print (\"1 - a 和 b 没有相同的标识\")\n",
    " \n",
    "if ( id(a) == id(b) ):\n",
    "   print (\"2 - a 和 b 有相同的标识\")\n",
    "else:\n",
    "   print (\"2 - a 和 b 没有相同的标识\")\n",
    " \n",
    "# 修改变量 b 的值\n",
    "b = 30\n",
    "print (id(a));print (id(b))\n",
    "if ( a is b ):\n",
    "   print (\"3 - a 和 b 有相同的标识\")\n",
    "else:\n",
    "   print (\"3 - a 和 b 没有相同的标识\")\n",
    " \n",
    "if ( a is not b ):\n",
    "   print (\"4 - a 和 b 没有相同的标识\")\n",
    "else:\n",
    "   print (\"4 - a 和 b 有相同的标识\")"
   ]
  },
  {
   "cell_type": "code",
   "execution_count": 53,
   "metadata": {},
   "outputs": [
    {
     "data": {
      "text/plain": [
       "True"
      ]
     },
     "execution_count": 53,
     "metadata": {},
     "output_type": "execute_result"
    }
   ],
   "source": [
    "# is 用于判断两个变量引用对象是否为同一个， == 用于判断引用变量的值是否相等。\n",
    "a = [1, 2, 3]\n",
    "b = a #引用\n",
    "b is a "
   ]
  },
  {
   "cell_type": "code",
   "execution_count": 54,
   "metadata": {},
   "outputs": [
    {
     "data": {
      "text/plain": [
       "True"
      ]
     },
     "execution_count": 54,
     "metadata": {},
     "output_type": "execute_result"
    }
   ],
   "source": [
    "b == a"
   ]
  },
  {
   "cell_type": "code",
   "execution_count": 55,
   "metadata": {},
   "outputs": [
    {
     "name": "stdout",
     "output_type": "stream",
     "text": [
      "1924760656712\n",
      "1924760656712\n"
     ]
    }
   ],
   "source": [
    "print (id(a));print (id(b))"
   ]
  },
  {
   "cell_type": "code",
   "execution_count": 56,
   "metadata": {},
   "outputs": [
    {
     "data": {
      "text/plain": [
       "False"
      ]
     },
     "execution_count": 56,
     "metadata": {},
     "output_type": "execute_result"
    }
   ],
   "source": [
    "b = a[:]#赋值\n",
    "b is a"
   ]
  },
  {
   "cell_type": "code",
   "execution_count": 57,
   "metadata": {},
   "outputs": [
    {
     "data": {
      "text/plain": [
       "True"
      ]
     },
     "execution_count": 57,
     "metadata": {},
     "output_type": "execute_result"
    }
   ],
   "source": [
    "b == a"
   ]
  },
  {
   "cell_type": "code",
   "execution_count": 60,
   "metadata": {},
   "outputs": [
    {
     "name": "stdout",
     "output_type": "stream",
     "text": [
      "1910370000\n",
      "1910370320\n"
     ]
    }
   ],
   "source": [
    "print (id(a));print (id(b))"
   ]
  },
  {
   "cell_type": "markdown",
   "metadata": {},
   "source": [
    "# a b 为何是相同内存地址？"
   ]
  },
  {
   "cell_type": "code",
   "execution_count": 64,
   "metadata": {},
   "outputs": [
    {
     "name": "stdout",
     "output_type": "stream",
     "text": [
      "1910370000\n",
      "1910370000\n",
      "a 和 b 有相同的标识\n"
     ]
    }
   ],
   "source": [
    "#Python身份运算符\n",
    "#x is y, 类似 id(x) == id(y) , 如果引用的是同一个对象则返回 True，否则返回 False\n",
    "#注： id() 函数用于获取对象内存地址。\n",
    "a = 20\n",
    "b = 20\n",
    "print (id(a));print (id(b))\n",
    "if ( a is b ):\n",
    "   print (\"a 和 b 有相同的标识\")\n",
    "else:\n",
    "   print (\"a 和 b 没有相同的标识\")"
   ]
  },
  {
   "cell_type": "code",
   "execution_count": 65,
   "metadata": {},
   "outputs": [
    {
     "name": "stdout",
     "output_type": "stream",
     "text": [
      "1924743011856\n",
      "1924743012240\n",
      "a 和 b 没有相同的标识\n"
     ]
    }
   ],
   "source": [
    "a = 2000\n",
    "b = 2000\n",
    "print (id(a));print (id(b))\n",
    "if ( a is b ):\n",
    "   print (\"a 和 b 有相同的标识\")\n",
    "else:\n",
    "   print (\"a 和 b 没有相同的标识\")"
   ]
  },
  {
   "cell_type": "markdown",
   "metadata": {},
   "source": [
    "# 结论：小整数池"
   ]
  },
  {
   "cell_type": "markdown",
   "metadata": {},
   "source": [
    "编译器会有一个小整数池的概念，会把（-5，256）间的数预先创建好，而当a和b超过这个范围的时候，两个变量就会指向不同的对象了，因此地址也会不一样。\n",
    "小整数池：http://blog.csdn.net/wangyunfeis/article/details/77607156"
   ]
  },
  {
   "cell_type": "code",
   "execution_count": null,
   "metadata": {},
   "outputs": [],
   "source": []
  }
 ],
 "metadata": {
  "kernelspec": {
   "display_name": "Python 3",
   "language": "python",
   "name": "python3"
  },
  "language_info": {
   "codemirror_mode": {
    "name": "ipython",
    "version": 3
   },
   "file_extension": ".py",
   "mimetype": "text/x-python",
   "name": "python",
   "nbconvert_exporter": "python",
   "pygments_lexer": "ipython3",
   "version": "3.6.2"
  }
 },
 "nbformat": 4,
 "nbformat_minor": 2
}
