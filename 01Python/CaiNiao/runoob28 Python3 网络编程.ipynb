{
 "cells": [
  {
   "cell_type": "code",
   "execution_count": null,
   "metadata": {},
   "outputs": [],
   "source": [
    "# 导入 socket、sys 模块\n",
    "import socket\n",
    "import sys\n",
    "\n",
    "# 创建 socket 对象\n",
    "serversocket = socket.socket(\n",
    "            socket.AF_INET, socket.SOCK_STREAM) \n",
    "\n",
    "# 获取本地主机名\n",
    "host = socket.gethostname()\n",
    "\n",
    "port = 9999\n",
    "\n",
    "# 绑定端口号\n",
    "serversocket.bind((host, port))\n",
    "\n",
    "# 设置最大连接数，超过后排队\n",
    "serversocket.listen(5)\n",
    "\n",
    "while True:\n",
    "    # 建立客户端连接\n",
    "    clientsocket,addr = serversocket.accept()      \n",
    "\n",
    "    print(\"连接地址: %s\" % str(addr))\n",
    "    \n",
    "    msg='欢迎访问菜鸟教程！'+ \"\\r\\n\"\n",
    "    clientsocket.send(msg.encode('utf-8'))\n",
    "    clientsocket.close()"
   ]
  },
  {
   "cell_type": "code",
   "execution_count": null,
   "metadata": {},
   "outputs": [],
   "source": [
    "import socket\n",
    "import sys\n",
    "\n",
    "# 创建 socket 对象\n",
    "s = socket.socket(socket.AF_INET, socket.SOCK_STREAM) \n",
    "\n",
    "# 获取本地主机名\n",
    "host = socket.gethostname() \n",
    "\n",
    "# 设置端口好\n",
    "port = 9999\n",
    "\n",
    "# 连接服务，指定主机和端口\n",
    "s.connect((host, port))\n",
    "\n",
    "# 接收小于 1024 字节的数据\n",
    "msg = s.recv(1024)\n",
    "\n",
    "s.close()\n",
    "\n",
    "print (msg.decode('utf-8'))"
   ]
  },
  {
   "cell_type": "code",
   "execution_count": null,
   "metadata": {},
   "outputs": [],
   "source": []
  }
 ],
 "metadata": {
  "kernelspec": {
   "display_name": "Python 3",
   "language": "python",
   "name": "python3"
  },
  "language_info": {
   "codemirror_mode": {
    "name": "ipython",
    "version": 3
   },
   "file_extension": ".py",
   "mimetype": "text/x-python",
   "name": "python",
   "nbconvert_exporter": "python",
   "pygments_lexer": "ipython3",
   "version": "3.6.2"
  }
 },
 "nbformat": 4,
 "nbformat_minor": 2
}
