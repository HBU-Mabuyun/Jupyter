{
 "cells": [
  {
   "cell_type": "code",
   "execution_count": 1,
   "metadata": {},
   "outputs": [],
   "source": [
    "from datetime import datetime\n",
    "import pandas as pd\n",
    "import numpy as np"
   ]
  },
  {
   "cell_type": "code",
   "execution_count": 2,
   "metadata": {
    "scrolled": true
   },
   "outputs": [
    {
     "data": {
      "text/plain": [
       "2000-01-01   -0.497569\n",
       "2000-01-02    0.257398\n",
       "2000-01-03   -0.043434\n",
       "2000-01-04   -0.132677\n",
       "2000-01-05   -0.590192\n",
       "2000-01-06    1.191975\n",
       "2000-01-07   -0.413933\n",
       "2000-01-08    0.706605\n",
       "2000-01-09    2.694364\n",
       "2000-01-10   -0.932797\n",
       "2000-01-11    0.389827\n",
       "2000-01-12   -0.974288\n",
       "2000-01-13    1.801719\n",
       "2000-01-14   -0.179777\n",
       "2000-01-15   -0.481498\n",
       "2000-01-16    0.460164\n",
       "2000-01-17   -0.381329\n",
       "2000-01-18   -0.032269\n",
       "2000-01-19   -1.220398\n",
       "2000-01-20   -0.203542\n",
       "2000-01-21    0.349406\n",
       "2000-01-22   -0.635240\n",
       "2000-01-23    1.494514\n",
       "2000-01-24    1.070907\n",
       "2000-01-25   -1.439380\n",
       "2000-01-26   -1.528639\n",
       "2000-01-27    0.871956\n",
       "2000-01-28    1.552545\n",
       "2000-01-29   -0.883787\n",
       "2000-01-30   -1.986892\n",
       "                ...   \n",
       "2000-03-11   -0.339444\n",
       "2000-03-12   -0.387738\n",
       "2000-03-13   -1.752217\n",
       "2000-03-14   -0.393020\n",
       "2000-03-15    0.970690\n",
       "2000-03-16    0.445142\n",
       "2000-03-17    0.406717\n",
       "2000-03-18   -0.372714\n",
       "2000-03-19    0.468175\n",
       "2000-03-20   -0.595942\n",
       "2000-03-21   -0.182712\n",
       "2000-03-22    0.286689\n",
       "2000-03-23    1.027280\n",
       "2000-03-24   -0.669836\n",
       "2000-03-25    1.423281\n",
       "2000-03-26   -1.305457\n",
       "2000-03-27    1.265735\n",
       "2000-03-28   -1.018281\n",
       "2000-03-29   -0.475914\n",
       "2000-03-30    0.592365\n",
       "2000-03-31   -0.050647\n",
       "2000-04-01    0.285436\n",
       "2000-04-02   -0.579365\n",
       "2000-04-03    0.159853\n",
       "2000-04-04   -0.502143\n",
       "2000-04-05   -0.426836\n",
       "2000-04-06    0.151201\n",
       "2000-04-07    1.384328\n",
       "2000-04-08    1.744211\n",
       "2000-04-09   -1.869732\n",
       "Freq: D, Length: 100, dtype: float64"
      ]
     },
     "execution_count": 2,
     "metadata": {},
     "output_type": "execute_result"
    }
   ],
   "source": [
    "rng = pd.date_range('2000-01-01', periods=100, freq='D')\n",
    "\n",
    "ts = pd.Series(np.random.randn(len(rng)), index=rng)\n",
    "\n",
    "tsts.resample('M').mean()"
   ]
  },
  {
   "cell_type": "code",
   "execution_count": 3,
   "metadata": {},
   "outputs": [
    {
     "data": {
      "text/plain": [
       "2000-01-31    0.015597\n",
       "2000-02-29   -0.250034\n",
       "2000-03-31   -0.073814\n",
       "2000-04-30    0.038550\n",
       "Freq: M, dtype: float64"
      ]
     },
     "execution_count": 3,
     "metadata": {},
     "output_type": "execute_result"
    }
   ],
   "source": [
    "ts.resample('M').mean()"
   ]
  },
  {
   "cell_type": "markdown",
   "metadata": {},
   "source": [
    "# 降采样"
   ]
  },
  {
   "cell_type": "code",
   "execution_count": 4,
   "metadata": {},
   "outputs": [
    {
     "data": {
      "text/plain": [
       "2000-01-01 00:00:00     0\n",
       "2000-01-01 00:01:00     1\n",
       "2000-01-01 00:02:00     2\n",
       "2000-01-01 00:03:00     3\n",
       "2000-01-01 00:04:00     4\n",
       "2000-01-01 00:05:00     5\n",
       "2000-01-01 00:06:00     6\n",
       "2000-01-01 00:07:00     7\n",
       "2000-01-01 00:08:00     8\n",
       "2000-01-01 00:09:00     9\n",
       "2000-01-01 00:10:00    10\n",
       "2000-01-01 00:11:00    11\n",
       "Freq: T, dtype: int32"
      ]
     },
     "execution_count": 4,
     "metadata": {},
     "output_type": "execute_result"
    }
   ],
   "source": [
    "rng = pd.date_range('2000-01-01', periods=12, freq='T')\n",
    "ts = pd.Series(np.arange(12), index=rng)\n",
    "ts\n"
   ]
  },
  {
   "cell_type": "code",
   "execution_count": 5,
   "metadata": {},
   "outputs": [
    {
     "data": {
      "text/plain": [
       "1999-12-31 23:55:00     0\n",
       "2000-01-01 00:00:00    15\n",
       "2000-01-01 00:05:00    40\n",
       "2000-01-01 00:10:00    11\n",
       "Freq: 5T, dtype: int32"
      ]
     },
     "execution_count": 5,
     "metadata": {},
     "output_type": "execute_result"
    }
   ],
   "source": [
    "ts.resample('5min', closed='right').sum()"
   ]
  },
  {
   "cell_type": "markdown",
   "metadata": {},
   "source": [
    "# OHLC重采样"
   ]
  },
  {
   "cell_type": "markdown",
   "metadata": {},
   "source": [
    "# 升采样和插值"
   ]
  },
  {
   "cell_type": "markdown",
   "metadata": {},
   "source": [
    "# 通过时期进行重采样"
   ]
  },
  {
   "cell_type": "code",
   "execution_count": null,
   "metadata": {},
   "outputs": [],
   "source": []
  }
 ],
 "metadata": {
  "kernelspec": {
   "display_name": "Python 3",
   "language": "python",
   "name": "python3"
  },
  "language_info": {
   "codemirror_mode": {
    "name": "ipython",
    "version": 3
   },
   "file_extension": ".py",
   "mimetype": "text/x-python",
   "name": "python",
   "nbconvert_exporter": "python",
   "pygments_lexer": "ipython3",
   "version": "3.6.2"
  }
 },
 "nbformat": 4,
 "nbformat_minor": 2
}
