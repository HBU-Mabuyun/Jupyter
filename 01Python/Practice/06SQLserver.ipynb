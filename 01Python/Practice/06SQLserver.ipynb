{
 "cells": [
  {
   "cell_type": "code",
   "execution_count": 42,
   "metadata": {},
   "outputs": [
    {
     "name": "stdout",
     "output_type": "stream",
     "text": [
      "start:\n",
      "connected!\n",
      "\n",
      "-------全部输出--------\n",
      "[('201215121', '李勇                ', '男', 20, 'CS                  '), ('201215122', '刘晨                ', '女', 19, 'CS                  '), ('201215123', '王敏                ', '女', 18, 'MA                  '), ('201215125', '张立                ', '男', 19, 'IS                  '), ('201215128', '陈冬                ', '男', 20, 'IS                  ')]\n",
      "\n",
      "-------取出每一行，按格式输出--------\n",
      "sno=201215121 | sname=李勇 | sex=男 | age=20 | sdept=CS\n",
      "sno=201215122 | sname=刘晨 | sex=女 | age=19 | sdept=CS\n",
      "sno=201215123 | sname=王敏 | sex=女 | age=18 | sdept=MA\n",
      "sno=201215125 | sname=张立 | sex=男 | age=19 | sdept=IS\n",
      "sno=201215128 | sname=陈冬 | sex=男 | age=20 | sdept=IS\n",
      "End of try\n"
     ]
    }
   ],
   "source": [
    "import pymssql\n",
    "# pip install pymssql\n",
    "\n",
    "print (\"start:\")\n",
    "conn = pymssql.connect(host='.',user='sa',password='sql',database='Test', charset=\"GBK\")\n",
    "# 要启动TCP/IP协议：https://blog.csdn.net/a873744779/article/details/90640946\n",
    "# conn = pymssql.connect('127.0.0.1','sa','sql','Test')\n",
    "print (\"connected!\")\n",
    "\n",
    "cur=conn.cursor()\n",
    "cur.execute('select top 5 * from [dbo].[Student]')\n",
    "#如果update/delete/insert记得要conn.commit()#否则数据库事务无法提交\n",
    "print ('\\n-------全部输出--------')\n",
    "print (cur.fetchall())\n",
    "\n",
    "print ('\\n-------取出每一行，按格式输出--------')\n",
    "\n",
    "try:\n",
    "    sql = 'select top 5 * from [dbo].[Student]'\n",
    "    cursor = conn.cursor()\n",
    "    cursor.execute(sql)# 执行SQL语句       \n",
    "    results = cursor.fetchall()# 获取所有记录列表\n",
    "    # print (results) #打印\n",
    "    for row in results:\n",
    "        MYsno = row[0]\n",
    "        MYsname = row[1]\n",
    "        MYsex = row[2]\n",
    "        MYage = row[3]\n",
    "        MYsdept = row[4] \n",
    "        print (\"sno=%s | sname=%s | sex=%s | age=%d | sdept=%s\"%(MYsno, MYsname.strip(), MYsex, MYage, MYsdept.strip() ))# 打印结果\n",
    "except:\n",
    "    print (\"Error: unable to fetch data\")\n",
    "finally:\n",
    "    print (\"End of try\")\n",
    "cur.close()\n",
    "cursor.close()\n",
    "conn.close()"
   ]
  },
  {
   "cell_type": "code",
   "execution_count": null,
   "metadata": {},
   "outputs": [],
   "source": []
  },
  {
   "cell_type": "code",
   "execution_count": null,
   "metadata": {},
   "outputs": [],
   "source": []
  },
  {
   "cell_type": "code",
   "execution_count": null,
   "metadata": {},
   "outputs": [],
   "source": []
  }
 ],
 "metadata": {
  "kernelspec": {
   "display_name": "Python 3",
   "language": "python",
   "name": "python3"
  },
  "language_info": {
   "codemirror_mode": {
    "name": "ipython",
    "version": 3
   },
   "file_extension": ".py",
   "mimetype": "text/x-python",
   "name": "python",
   "nbconvert_exporter": "python",
   "pygments_lexer": "ipython3",
   "version": "3.7.6"
  }
 },
 "nbformat": 4,
 "nbformat_minor": 2
}
