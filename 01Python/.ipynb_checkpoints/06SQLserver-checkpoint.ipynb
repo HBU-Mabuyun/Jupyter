{
 "cells": [
  {
   "cell_type": "code",
   "execution_count": 20,
   "metadata": {},
   "outputs": [
    {
     "name": "stdout",
     "output_type": "stream",
     "text": [
      "start:\n",
      "connected!\n",
      "[('201215121', '李勇                ', 20, '男'), ('201215122', '刘晨                ', 19, '女'), ('201215123', '王敏                ', 18, '女'), ('201215125', '张立                ', 19, '男')]\n",
      "-------取出每一行，按格式输出--------\n",
      "sno=201215121   sname=李勇   age=20   sex=男\n",
      "sno=201215122   sname=刘晨   age=19   sex=女\n",
      "sno=201215123   sname=王敏   age=18   sex=女\n",
      "sno=201215125   sname=张立   age=19   sex=男\n",
      "End of try\n"
     ]
    }
   ],
   "source": [
    "import pymssql\n",
    "# pip install pymssql-2.1.3-cp36-cp36m-win_amd64.whl\n",
    "print (\"start:\")\n",
    "conn = pymssql.connect(host='.',user='sa',password='sql',database='Test', charset=\"GBK\")\n",
    "# conn = pymssql.connect('127.0.0.1','sa','sql','Test')\n",
    "print (\"connected!\")\n",
    "\n",
    "cur=conn.cursor()\n",
    "cur.execute('select top 5 * from [dbo].[S]')\n",
    "#如果update/delete/insert记得要conn.commit()#否则数据库事务无法提交\n",
    "print (cur.fetchall())\n",
    "print ('-------取出每一行，按格式输出--------')\n",
    "sql = 'select top 5 * from [dbo].[S]'\n",
    "cursor = conn.cursor()\n",
    "try:\n",
    "   # 执行SQL语句\n",
    "   cursor.execute(sql)\n",
    "   # 获取所有记录列表\n",
    "   results = cursor.fetchall()\n",
    "   for row in results:\n",
    "      sno = row[0]\n",
    "      sname = row[1]\n",
    "      age = row[2]\n",
    "      sex = row[3]\n",
    "      \n",
    "       # 打印结果\n",
    "      print (\"sno=%s   sname=%s   age=%d   sex=%s\" % \\\n",
    "             (sno, sname.strip(), age, sex ))\n",
    "except:\n",
    "   print (\"Error: unable to fetch data\")\n",
    "finally:\n",
    "    print (\"End of try\")\n",
    "cur.close()\n",
    "cursor.close()\n",
    "conn.close()"
   ]
  },
  {
   "cell_type": "code",
   "execution_count": null,
   "metadata": {},
   "outputs": [],
   "source": []
  }
 ],
 "metadata": {
  "kernelspec": {
   "display_name": "Python 3",
   "language": "python",
   "name": "python3"
  },
  "language_info": {
   "codemirror_mode": {
    "name": "ipython",
    "version": 3
   },
   "file_extension": ".py",
   "mimetype": "text/x-python",
   "name": "python",
   "nbconvert_exporter": "python",
   "pygments_lexer": "ipython3",
   "version": "3.6.2"
  }
 },
 "nbformat": 4,
 "nbformat_minor": 2
}
