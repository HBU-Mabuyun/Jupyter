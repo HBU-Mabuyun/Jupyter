{
 "cells": [
  {
   "cell_type": "code",
   "execution_count": 3,
   "metadata": {},
   "outputs": [
    {
     "name": "stdout",
     "output_type": "stream",
     "text": [
      "\n",
      "本地时间为(未格式化) :\n",
      " time.struct_time(tm_year=2020, tm_mon=7, tm_mday=23, tm_hour=23, tm_min=16, tm_sec=11, tm_wday=3, tm_yday=205, tm_isdst=0)\n",
      "\n",
      "本地时间为 :\n",
      " Thu Jul 23 23:16:11 2020\n"
     ]
    }
   ],
   "source": [
    "import time\n",
    "localtime = time.localtime(time.time())\n",
    "print (\"\\n本地时间为(未格式化) :\\n\", localtime)\n",
    "localtime = time.asctime( time.localtime(time.time()) )\n",
    "print (\"\\n本地时间为 :\\n\", localtime)"
   ]
  }
 ],
 "metadata": {
  "kernelspec": {
   "display_name": "Python 3",
   "language": "python",
   "name": "python3"
  },
  "language_info": {
   "codemirror_mode": {
    "name": "ipython",
    "version": 3
   },
   "file_extension": ".py",
   "mimetype": "text/x-python",
   "name": "python",
   "nbconvert_exporter": "python",
   "pygments_lexer": "ipython3",
   "version": "3.7.6"
  }
 },
 "nbformat": 4,
 "nbformat_minor": 2
}
