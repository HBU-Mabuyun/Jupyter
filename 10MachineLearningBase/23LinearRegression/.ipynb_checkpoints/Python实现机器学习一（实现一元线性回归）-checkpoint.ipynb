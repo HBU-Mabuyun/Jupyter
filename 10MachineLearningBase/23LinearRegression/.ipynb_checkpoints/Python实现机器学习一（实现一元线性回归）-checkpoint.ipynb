{
 "cells": [
  {
   "cell_type": "markdown",
   "metadata": {},
   "source": [
    "http://lib.csdn.net/article/machinelearning/3493"
   ]
  },
  {
   "cell_type": "markdown",
   "metadata": {},
   "source": [
    " 回归是统计学中最有力的工具之一。\n",
    " \n",
    " 机器学习监督学习算法分为：\n",
    " ### 分类算法 和 回归算法\n",
    " 其实就是根据类别标签分布类型为离散型、连续性而定义的。\n",
    " \n",
    " 分类算法用于离散型分布预测，如前面讲过的KNN、决策树、朴素贝叶斯、adaboost、SVM、Logistic回归都是分类算法；\n",
    " \n",
    " 回归算法用于连续型分布预测，针对的是数值型的样本，使用回归，可以在给定输入的时候预测出一个数值，这是对分类方法的提升，因为这样可以预测连续型数据而不仅仅是离散的类别标签。"
   ]
  },
  {
   "cell_type": "markdown",
   "metadata": {},
   "source": [
    " 回归的目的就是建立一个回归方程用来预测目标值，回归的求解就是求这个回归方程的回归系数。\n",
    " \n",
    " 预测的方法当然十分简单：\n",
    " \n",
    " 回归系数 乘以 输入值 再 全部相加 就得到了 预测值。"
   ]
  },
  {
   "cell_type": "markdown",
   "metadata": {},
   "source": [
    "1、若X与y之间存在着较强的相关关系，则有y=a+bX+c.\n",
    "\n",
    "2、若a与b的值已知，则给出相应的X值。我们可以得到相应的y的预测值。\n",
    "\n",
    "  参数：\n",
    "- 截距项a\n",
    "- 斜率b\n",
    "- 误差项c"
   ]
  },
  {
   "cell_type": "markdown",
   "metadata": {},
   "source": [
    "# 预测房子价格"
   ]
  },
  {
   "cell_type": "code",
   "execution_count": 1,
   "metadata": {},
   "outputs": [],
   "source": [
    "import matplotlib.pyplot as plt\n",
    "import numpy as np\n",
    "import pandas as pd\n",
    "from sklearn import datasets, linear_model"
   ]
  },
  {
   "cell_type": "code",
   "execution_count": 10,
   "metadata": {},
   "outputs": [],
   "source": [
    "# Function to get data\n",
    "def get_data(file_name):\n",
    " data = pd.read_csv(file_name)  #here ,use pandas to read cvs file.\n",
    " X_parameter = []\n",
    " Y_parameter = []\n",
    " for single_square_feet ,single_price_value in zip(data['square_feet'],data['price']):#遍历数据，\n",
    "       X_parameter.append([float(single_square_feet)])#存储在相应的list列表中\n",
    "       Y_parameter.append(float(single_price_value))\n",
    " print(X_parameter) \n",
    " print(Y_parameter)\n",
    " return X_parameter,Y_parameter"
   ]
  },
  {
   "cell_type": "code",
   "execution_count": 11,
   "metadata": {},
   "outputs": [],
   "source": [
    "#Function for Fitting our data to Linear model\n",
    "def linear_model_main(X_parameters,Y_parameters,predict_value):\n",
    " \n",
    " # Create linear regression object\n",
    " regr = linear_model.LinearRegression()\n",
    " regr.fit(X_parameters, Y_parameters)   #train model\n",
    " predict_outcome = regr.predict(predict_value)\n",
    " predictions = {}\n",
    " predictions['intercept'] = regr.intercept_\n",
    " predictions['coefficient'] = regr.coef_\n",
    " predictions['predicted_value'] = predict_outcome\n",
    " return predictions"
   ]
  },
  {
   "cell_type": "code",
   "execution_count": 12,
   "metadata": {
    "scrolled": false
   },
   "outputs": [
    {
     "name": "stdout",
     "output_type": "stream",
     "text": [
      "[[150.0], [200.0], [250.0], [300.0], [350.0], [400.0], [600.0]]\n",
      "[6450.0, 7450.0, 8450.0, 9450.0, 11450.0, 15450.0, 18450.0]\n",
      "Intercept value（截距值）：  1771.80851064\n",
      "coefficient（系数）： [ 28.77659574]\n",
      "Predicted value（预测值）:  [ 21915.42553191]\n"
     ]
    }
   ],
   "source": [
    "X,Y = get_data('input_data.csv')\n",
    "predictvalue = 700\n",
    "result = linear_model_main(X,Y,predictvalue)\n",
    "print (\"Intercept value（截距值）： \" , result['intercept'])\n",
    "print (\"coefficient（系数）：\" , result['coefficient'])\n",
    "print (\"Predicted value（预测值）: \",result['predicted_value'])"
   ]
  },
  {
   "cell_type": "code",
   "execution_count": 15,
   "metadata": {},
   "outputs": [],
   "source": [
    "# Function to show the resutls of linear fit model\n",
    "def show_linear_line(X_parameters,Y_parameters):\n",
    " # Create linear regression object\n",
    " regr = linear_model.LinearRegression()\n",
    " regr.fit(X_parameters, Y_parameters)\n",
    " plt.scatter(X_parameters,Y_parameters,color='blue')\n",
    " plt.plot(X_parameters,regr.predict(X_parameters),color='red',linewidth=4)\n",
    " plt.xticks(())\n",
    " plt.yticks(())\n",
    " plt.show()"
   ]
  },
  {
   "cell_type": "code",
   "execution_count": 16,
   "metadata": {},
   "outputs": [
    {
     "data": {
      "image/png": "[encoded data removed]",
      "text/plain": [
       "<matplotlib.figure.Figure at 0x26f4780bf60>"
      ]
     },
     "metadata": {},
     "output_type": "display_data"
    }
   ],
   "source": [
    "show_linear_line(X,Y)"
   ]
  },
  {
   "cell_type": "code",
   "execution_count": null,
   "metadata": {},
   "outputs": [],
   "source": []
  }
 ],
 "metadata": {
  "kernelspec": {
   "display_name": "Python 3",
   "language": "python",
   "name": "python3"
  },
  "language_info": {
   "codemirror_mode": {
    "name": "ipython",
    "version": 3
   },
   "file_extension": ".py",
   "mimetype": "text/x-python",
   "name": "python",
   "nbconvert_exporter": "python",
   "pygments_lexer": "ipython3",
   "version": "3.6.2"
  }
 },
 "nbformat": 4,
 "nbformat_minor": 2
}
