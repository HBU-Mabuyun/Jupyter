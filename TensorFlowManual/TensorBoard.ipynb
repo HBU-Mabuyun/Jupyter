{
 "cells": [
  {
   "cell_type": "code",
   "execution_count": 1,
   "metadata": {},
   "outputs": [],
   "source": [
    "import tensorflow as tf\n",
    "import numpy as np\n",
    "\n",
    "graph = tf.Graph()\n",
    "\n",
    "with graph.as_default():\n",
    "    with tf.name_scope(\"variables\"):\n",
    "        global_step = tf.Variable(0, dtype=tf.int32, name=\"global_step\")\n",
    "        increment_step = global_step.assign_add(1)\n",
    "        previous_value = tf.Variable(0.0, dtype=tf.float32, name=\"previous_value\")\n",
    "\n",
    "    with tf.name_scope(\"exercise_transformation\"):\n",
    "        with tf.name_scope(\"input\"):\n",
    "            a = tf.placeholder(tf.float32, shape=[None], name=\"input_placeholder_a\")\n",
    "\n",
    "        with tf.name_scope(\"intermediate_layer\"):\n",
    "            b = tf.reduce_prod(a, name=\"product_b\")\n",
    "            c = tf.reduce_sum(a, name=\"sum_c\")\n",
    "\n",
    "        with tf.name_scope(\"output\"):\n",
    "            d = tf.add(b, c, name=\"add_d\")\n",
    "            output = tf.subtract(d, previous_value, name=\"output\")\n",
    "            update_prev = previous_value.assign(output)\n",
    "\n",
    "    with tf.name_scope(\"summaries\"):\n",
    "        tf.summary.scalar(\"output_summary\", output)\n",
    "        tf.summary.scalar(\"prod_summary\", b)\n",
    "        tf.summary.scalar(\"sum_summary\", c)\n",
    "\n",
    "    with tf.name_scope(\"global_ops\"):\n",
    "        init = tf.global_variables_initializer()\n",
    "        merged_summaries = tf.summary.merge_all()\n",
    "\n",
    "sess = tf.Session(graph=graph)\n",
    "\n",
    "writer = tf.summary.FileWriter(r'C:\\GitHub\\Jupyter\\TensorFlowManual', graph)\n",
    "\n",
    "sess.run(init)\n",
    "\n",
    "def run_graph(input_tensor):\n",
    "    \"\"\"\n",
    "    辅助函数；运行给定输入张量的图形并保存摘要\n",
    "    \"\"\"\n",
    "    feed_dict = {a: input_tensor}\n",
    "    output, summary, step = sess.run([update_prev, merged_summaries, increment_step], feed_dict=feed_dict)\n",
    "    writer.add_summary(summary, global_step=step)\n",
    "\n",
    "\n",
    "# 测试不同参数\n",
    "run_graph([2, 8])\n",
    "run_graph([3, 1, 3, 3])\n",
    "run_graph([8])\n",
    "run_graph([1, 2, 3])\n",
    "run_graph([11, 4])\n",
    "run_graph([4, 1])\n",
    "run_graph([7, 3, 1])\n",
    "run_graph([6, 3])\n",
    "run_graph([0, 2])\n",
    "run_graph([4, 5, 6])\n",
    "\n",
    "# 将摘要写入磁盘\n",
    "writer.flush()\n",
    "\n",
    "writer.close()\n",
    "sess.close()\n",
    "\n"
   ]
  },
  {
   "cell_type": "markdown",
   "metadata": {},
   "source": [
    "### tensorboard --logdir=r\"C:\\GitHub\\Jupyter\\TensorFlowManual\""
   ]
  },
  {
   "cell_type": "markdown",
   "metadata": {},
   "source": [
    "### 打开 anaconda prompt 环境，输入以上语句，复制里面提示的网址，放到浏览器即可打开tensorboard"
   ]
  },
  {
   "cell_type": "code",
   "execution_count": null,
   "metadata": {},
   "outputs": [],
   "source": []
  }
 ],
 "metadata": {
  "kernelspec": {
   "display_name": "Python 3",
   "language": "python",
   "name": "python3"
  },
  "language_info": {
   "codemirror_mode": {
    "name": "ipython",
    "version": 3
   },
   "file_extension": ".py",
   "mimetype": "text/x-python",
   "name": "python",
   "nbconvert_exporter": "python",
   "pygments_lexer": "ipython3",
   "version": "3.6.2"
  }
 },
 "nbformat": 4,
 "nbformat_minor": 2
}
