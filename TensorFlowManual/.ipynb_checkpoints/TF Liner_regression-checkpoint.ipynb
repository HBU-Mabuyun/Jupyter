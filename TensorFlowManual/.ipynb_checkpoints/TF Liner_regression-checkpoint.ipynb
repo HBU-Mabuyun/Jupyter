{
 "cells": [
  {
   "cell_type": "markdown",
   "metadata": {},
   "source": [
    "https://github.com/littleeleventhwolf/machine-learning-demo/blob/master/tensorflow-tutorials/02_logistic_regression.py"
   ]
  },
  {
   "cell_type": "code",
   "execution_count": 6,
   "metadata": {},
   "outputs": [],
   "source": [
    "from __future__ import print_function\n",
    "import tensorflow as tf\n",
    "import numpy as np"
   ]
  },
  {
   "cell_type": "code",
   "execution_count": 7,
   "metadata": {},
   "outputs": [],
   "source": [
    "trX = np.linspace(-1, 1, 101)"
   ]
  },
  {
   "cell_type": "code",
   "execution_count": 8,
   "metadata": {},
   "outputs": [
    {
     "data": {
      "text/plain": [
       "array([-1.  , -0.98, -0.96, -0.94, -0.92, -0.9 , -0.88, -0.86, -0.84,\n",
       "       -0.82, -0.8 , -0.78, -0.76, -0.74, -0.72, -0.7 , -0.68, -0.66,\n",
       "       -0.64, -0.62, -0.6 , -0.58, -0.56, -0.54, -0.52, -0.5 , -0.48,\n",
       "       -0.46, -0.44, -0.42, -0.4 , -0.38, -0.36, -0.34, -0.32, -0.3 ,\n",
       "       -0.28, -0.26, -0.24, -0.22, -0.2 , -0.18, -0.16, -0.14, -0.12,\n",
       "       -0.1 , -0.08, -0.06, -0.04, -0.02,  0.  ,  0.02,  0.04,  0.06,\n",
       "        0.08,  0.1 ,  0.12,  0.14,  0.16,  0.18,  0.2 ,  0.22,  0.24,\n",
       "        0.26,  0.28,  0.3 ,  0.32,  0.34,  0.36,  0.38,  0.4 ,  0.42,\n",
       "        0.44,  0.46,  0.48,  0.5 ,  0.52,  0.54,  0.56,  0.58,  0.6 ,\n",
       "        0.62,  0.64,  0.66,  0.68,  0.7 ,  0.72,  0.74,  0.76,  0.78,\n",
       "        0.8 ,  0.82,  0.84,  0.86,  0.88,  0.9 ,  0.92,  0.94,  0.96,\n",
       "        0.98,  1.  ])"
      ]
     },
     "execution_count": 8,
     "metadata": {},
     "output_type": "execute_result"
    }
   ],
   "source": [
    "trX"
   ]
  },
  {
   "cell_type": "code",
   "execution_count": 10,
   "metadata": {},
   "outputs": [
    {
     "data": {
      "text/plain": [
       "[(-1.0,),\n",
       " (-0.98,),\n",
       " (-0.96,),\n",
       " (-0.94,),\n",
       " (-0.92,),\n",
       " (-0.9,),\n",
       " (-0.88,),\n",
       " (-0.86,),\n",
       " (-0.84,),\n",
       " (-0.8200000000000001,),\n",
       " (-0.8,),\n",
       " (-0.78,),\n",
       " (-0.76,),\n",
       " (-0.74,),\n",
       " (-0.72,),\n",
       " (-0.7,),\n",
       " (-0.6799999999999999,),\n",
       " (-0.6599999999999999,),\n",
       " (-0.64,),\n",
       " (-0.62,),\n",
       " (-0.6,),\n",
       " (-0.5800000000000001,),\n",
       " (-0.56,),\n",
       " (-0.54,),\n",
       " (-0.52,),\n",
       " (-0.5,),\n",
       " (-0.48,),\n",
       " (-0.45999999999999996,),\n",
       " (-0.43999999999999995,),\n",
       " (-0.42000000000000004,),\n",
       " (-0.4,),\n",
       " (-0.38,),\n",
       " (-0.36,),\n",
       " (-0.33999999999999997,),\n",
       " (-0.31999999999999995,),\n",
       " (-0.29999999999999993,),\n",
       " (-0.28,),\n",
       " (-0.26,),\n",
       " (-0.24,),\n",
       " (-0.21999999999999997,),\n",
       " (-0.19999999999999996,),\n",
       " (-0.17999999999999994,),\n",
       " (-0.16000000000000003,),\n",
       " (-0.14,),\n",
       " (-0.12,),\n",
       " (-0.09999999999999998,),\n",
       " (-0.07999999999999996,),\n",
       " (-0.05999999999999994,),\n",
       " (-0.040000000000000036,),\n",
       " (-0.020000000000000018,),\n",
       " (0.0,),\n",
       " (0.020000000000000018,),\n",
       " (0.040000000000000036,),\n",
       " (0.06000000000000005,),\n",
       " (0.08000000000000007,),\n",
       " (0.10000000000000009,),\n",
       " (0.1200000000000001,),\n",
       " (0.14000000000000012,),\n",
       " (0.15999999999999992,),\n",
       " (0.17999999999999994,),\n",
       " (0.19999999999999996,),\n",
       " (0.21999999999999997,),\n",
       " (0.24,),\n",
       " (0.26,),\n",
       " (0.28,),\n",
       " (0.30000000000000004,),\n",
       " (0.32000000000000006,),\n",
       " (0.3400000000000001,),\n",
       " (0.3600000000000001,),\n",
       " (0.3800000000000001,),\n",
       " (0.40000000000000013,),\n",
       " (0.41999999999999993,),\n",
       " (0.43999999999999995,),\n",
       " (0.45999999999999996,),\n",
       " (0.48,),\n",
       " (0.5,),\n",
       " (0.52,),\n",
       " (0.54,),\n",
       " (0.56,),\n",
       " (0.5800000000000001,),\n",
       " (0.6000000000000001,),\n",
       " (0.6200000000000001,),\n",
       " (0.6400000000000001,),\n",
       " (0.6600000000000001,),\n",
       " (0.6799999999999999,),\n",
       " (0.7,),\n",
       " (0.72,),\n",
       " (0.74,),\n",
       " (0.76,),\n",
       " (0.78,),\n",
       " (0.8,),\n",
       " (0.8200000000000001,),\n",
       " (0.8400000000000001,),\n",
       " (0.8600000000000001,),\n",
       " (0.8800000000000001,),\n",
       " (0.9000000000000001,),\n",
       " (0.9199999999999999,),\n",
       " (0.94,),\n",
       " (0.96,),\n",
       " (0.98,),\n",
       " (1.0,)]"
      ]
     },
     "execution_count": 10,
     "metadata": {},
     "output_type": "execute_result"
    }
   ],
   "source": [
    "list(zip(trX))"
   ]
  },
  {
   "cell_type": "code",
   "execution_count": 5,
   "metadata": {},
   "outputs": [
    {
     "name": "stdout",
     "output_type": "stream",
     "text": [
      "1.9924524\n",
      "4.000449\n"
     ]
    }
   ],
   "source": [
    "# create a y value which is approximately linear but with some random noise\n",
    "trY = 2 * trX + np.ones(*trX.shape) * 4 + np.random.randn(*trX.shape) * 0.03\n",
    "\n",
    "X = tf.placeholder(tf.float32) # create symbolic variables\n",
    "Y = tf.placeholder(tf.float32)\n",
    "\n",
    "def model(X, w, b):\n",
    "\t# linear regression is just X*w + b, so this model line is pretty simple\n",
    "\treturn tf.multiply(X, w) + b \n",
    "\n",
    "# create a variable for weights\n",
    "w = tf.Variable(0.0, name=\"weights\")\n",
    "# create a variable for biases\n",
    "b = tf.Variable(0.0, name=\"biases\")\n",
    "y_model = model(X, w, b)\n",
    "\n",
    "cost = tf.square(Y - y_model) # use square error for cost function\n",
    "\n",
    "# construct an optimizer to minimize cost and fit line to mydata\n",
    "train_op = tf.train.GradientDescentOptimizer(0.01).minimize(cost)\n",
    "\n",
    "# launch the graph in a session\n",
    "with tf.Session() as sess:\n",
    "\t# you need to initialize variables (in this case just variable w)\n",
    "\tinit = tf.initialize_all_variables()\n",
    "\tsess.run(init)\n",
    "\n",
    "\t# train\n",
    "\tfor i in range(100):\n",
    "\t\tfor (x, y) in zip(trX, trY):\n",
    "\t\t\tsess.run(train_op, feed_dict={X: x, Y: y})\n",
    "\n",
    "\t# print weight\n",
    "\tprint(sess.run(w)) # it should be something around 2\n",
    "\t# print bias\n",
    "\tprint(sess.run(b)) # it should be something atound 4"
   ]
  },
  {
   "cell_type": "code",
   "execution_count": null,
   "metadata": {},
   "outputs": [],
   "source": []
  }
 ],
 "metadata": {
  "kernelspec": {
   "display_name": "Python 3",
   "language": "python",
   "name": "python3"
  },
  "language_info": {
   "codemirror_mode": {
    "name": "ipython",
    "version": 3
   },
   "file_extension": ".py",
   "mimetype": "text/x-python",
   "name": "python",
   "nbconvert_exporter": "python",
   "pygments_lexer": "ipython3",
   "version": "3.6.4"
  }
 },
 "nbformat": 4,
 "nbformat_minor": 2
}
