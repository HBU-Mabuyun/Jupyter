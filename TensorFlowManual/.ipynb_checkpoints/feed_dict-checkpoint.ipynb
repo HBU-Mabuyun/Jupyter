{
 "cells": [
  {
   "cell_type": "markdown",
   "metadata": {},
   "source": [
    "# feed_dict \n",
    "个人理解：就是TF的一种输入语法。\n",
    "\n",
    "跟C语言的scanf（），C++的 cin>> 意思差不多，只是长相奇怪了点而已。\n",
    "\n",
    "做完下面几个例子，基本也就适应了。\n",
    "\n",
    "首先占位符申请空间；使用的时候，通过占位符“喂（feed）”给程序。然后程序就可以run了。。。\n",
    "\n",
    "理解的不一定对，也不够深入，仅供参考。"
   ]
  },
  {
   "cell_type": "code",
   "execution_count": 1,
   "metadata": {},
   "outputs": [],
   "source": [
    "import tensorflow as tf"
   ]
  },
  {
   "cell_type": "markdown",
   "metadata": {},
   "source": [
    "- tf.placeholder 占位符\n",
    "- tf.Session 会话"
   ]
  },
  {
   "cell_type": "markdown",
   "metadata": {},
   "source": [
    "### 1. 输出 Hello World"
   ]
  },
  {
   "cell_type": "code",
   "execution_count": 2,
   "metadata": {},
   "outputs": [
    {
     "name": "stdout",
     "output_type": "stream",
     "text": [
      "Hello World !\n"
     ]
    }
   ],
   "source": [
    "Str = tf.placeholder(tf.string)\n",
    "\n",
    "with tf.Session() as sess:\n",
    "    output = sess.run(Str, feed_dict={Str: 'Hello World !'})\n",
    "    print(output)"
   ]
  },
  {
   "cell_type": "markdown",
   "metadata": {},
   "source": [
    "### 2.字符串拼接"
   ]
  },
  {
   "cell_type": "code",
   "execution_count": 3,
   "metadata": {},
   "outputs": [
    {
     "name": "stdout",
     "output_type": "stream",
     "text": [
      "I like TensorFlow !\n"
     ]
    }
   ],
   "source": [
    "Str1 = tf.placeholder(tf.string)\n",
    "Str2 = tf.placeholder(tf.string)\n",
    "Str3 = tf.placeholder(tf.string)\n",
    "\n",
    "Str = tf.string_join([Str1, Str2, Str3], separator=\" \") \n",
    "\n",
    "with tf.Session() as sess:\n",
    "    output = sess.run(Str, feed_dict={Str1: 'I', Str2: 'like', Str3: 'TensorFlow !'})\n",
    "    print(output.decode())"
   ]
  },
  {
   "cell_type": "markdown",
   "metadata": {},
   "source": [
    "### 3.浮点数乘积"
   ]
  },
  {
   "cell_type": "code",
   "execution_count": 4,
   "metadata": {},
   "outputs": [
    {
     "name": "stdout",
     "output_type": "stream",
     "text": [
      "[ 30.]\n"
     ]
    }
   ],
   "source": [
    "Num1 = tf.placeholder(tf.float32)\n",
    "Num2 = tf.placeholder(tf.float32)\n",
    "\n",
    "Result = tf.multiply(Num1, Num2)\n",
    "\n",
    "with tf.Session() as sess:\n",
    "    print(sess.run(Result, feed_dict={Num1:[5.],Num2:[6.]}))"
   ]
  },
  {
   "cell_type": "markdown",
   "metadata": {},
   "source": [
    "### 4.不用占位符，而用常量，也可完成。\n",
    "只是验证一下，不推荐使用。初始化时的常量值将会被覆盖。"
   ]
  },
  {
   "cell_type": "code",
   "execution_count": 5,
   "metadata": {},
   "outputs": [
    {
     "name": "stdout",
     "output_type": "stream",
     "text": [
      "30.0\n"
     ]
    }
   ],
   "source": [
    "Num1 = tf.constant(1.0)\n",
    "Num2 = tf.constant(2.0)\n",
    "\n",
    "Result = tf.multiply(Num1, Num2)\n",
    "\n",
    "with tf.Session() as sess:\n",
    "    print (sess.run(Result, feed_dict = {Num1: 5., Num2: 6.}))"
   ]
  },
  {
   "cell_type": "markdown",
   "metadata": {},
   "source": [
    "### 5.矩阵乘法\n",
    "顺道学点新东西\n",
    "- [tf.random_normal](https://tensorflow.google.cn/api_docs/python/tf/random_normal?hl=zh-CN) 从正态分布中输出随机值\n",
    "- [tf.truncated_normal](https://tensorflow.google.cn/api_docs/python/tf/truncated_normal?hl=zh-CN) 从截断的正态分布中输出随机值"
   ]
  },
  {
   "cell_type": "markdown",
   "metadata": {},
   "source": [
    "#### 定义两个矩阵，分别为 2\\*3 和 3\\*2矩阵，完成乘法运算"
   ]
  },
  {
   "cell_type": "code",
   "execution_count": 6,
   "metadata": {},
   "outputs": [
    {
     "name": "stdout",
     "output_type": "stream",
     "text": [
      "Matrix1:\n",
      "[[-1.00879586  0.61892986 -0.39552122]\n",
      " [-0.83463311 -0.54309726 -0.31309164]]\n",
      "Matrix2:\n",
      "[[ 1.35596943  0.67712855]\n",
      " [-0.09836598 -0.41533285]\n",
      " [ 0.20601694 -0.14825489]]\n",
      "Result:\n",
      "[[-1.51026201 -0.88150841]\n",
      " [-1.14281678 -0.29317039]]\n"
     ]
    }
   ],
   "source": [
    "Matrix1 = tf.Variable(tf.random_normal([2,3]))  \n",
    "Matrix2 = tf.Variable(tf.truncated_normal([3,2]))  \n",
    "  \n",
    "Result = tf.matmul(Matrix1,Matrix2)  \n",
    "\n",
    "with tf.Session() as sess:  \n",
    "    sess.run(tf.global_variables_initializer()) \n",
    "    print ('Matrix1:')\n",
    "    print (sess.run(Matrix1)) \n",
    "    print ('Matrix2:')\n",
    "    print (sess.run(Matrix2)) \n",
    "    print ('Result:')\n",
    "    print (sess.run(Result)) "
   ]
  },
  {
   "cell_type": "markdown",
   "metadata": {},
   "source": [
    "#### 使用 feed_dict完成矩阵乘法\n",
    "表达看上去更繁琐。。。对比一下是为了更好地理解feed_dict。。。"
   ]
  },
  {
   "cell_type": "code",
   "execution_count": 7,
   "metadata": {},
   "outputs": [
    {
     "name": "stdout",
     "output_type": "stream",
     "text": [
      "Matrix1:\n",
      "[[-0.6228959   0.04135797 -0.76592982]\n",
      " [ 0.04814498 -0.98519218 -0.88335162]]\n",
      "Matrix2:\n",
      "[[-0.73028505  0.62314421]\n",
      " [-0.64763296 -0.18691106]\n",
      " [ 0.0198773   0.68467569]]\n",
      "Result:\n",
      "[[-1.66321826 -2.89716744]\n",
      " [ 1.28906226  2.08242035]]\n"
     ]
    }
   ],
   "source": [
    "Matrix1_Value = tf.random_normal([2,3])\n",
    "Matrix2_Value = tf.truncated_normal([3,2])\n",
    "\n",
    "Matrix1 = tf.placeholder(dtype=tf.float32,shape=[2,3]) \n",
    "Matrix2 = tf.placeholder(dtype=tf.float32,shape=[3,2])   \n",
    "\n",
    "Result = tf.matmul(Matrix1,Matrix2)  \n",
    "\n",
    "with tf.Session() as sess:  \n",
    "    sess.run(tf.global_variables_initializer()) \n",
    "    print ('Matrix1:')\n",
    "    print (sess.run(Matrix1_Value)) \n",
    "    print ('Matrix2:')\n",
    "    print (sess.run(Matrix2_Value)) \n",
    "    print ('Result:')\n",
    "    print (sess.run(Result,feed_dict={Matrix1:sess.run(Matrix1_Value),Matrix2:sess.run(Matrix2_Value)}))  \n"
   ]
  },
  {
   "cell_type": "code",
   "execution_count": null,
   "metadata": {},
   "outputs": [],
   "source": []
  }
 ],
 "metadata": {
  "kernelspec": {
   "display_name": "Python 3",
   "language": "python",
   "name": "python3"
  },
  "language_info": {
   "codemirror_mode": {
    "name": "ipython",
    "version": 3
   },
   "file_extension": ".py",
   "mimetype": "text/x-python",
   "name": "python",
   "nbconvert_exporter": "python",
   "pygments_lexer": "ipython3",
   "version": "3.6.2"
  }
 },
 "nbformat": 4,
 "nbformat_minor": 2
}
