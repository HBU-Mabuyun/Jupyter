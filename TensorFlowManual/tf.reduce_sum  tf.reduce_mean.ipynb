{
 "cells": [
  {
   "cell_type": "code",
   "execution_count": 6,
   "metadata": {},
   "outputs": [],
   "source": [
    "import tensorflow as tf\n",
    "x = tf.constant([[1, 1, 1], [1, 1, 1]])"
   ]
  },
  {
   "cell_type": "markdown",
   "metadata": {},
   "source": [
    "### 计算一个张量的各个维度的元素之和。"
   ]
  },
  {
   "cell_type": "code",
   "execution_count": 7,
   "metadata": {},
   "outputs": [
    {
     "name": "stdout",
     "output_type": "stream",
     "text": [
      "Tensor(\"Sum_11:0\", shape=(), dtype=int32)\n",
      "Tensor(\"Sum_12:0\", shape=(3,), dtype=int32)\n",
      "Tensor(\"Sum_13:0\", shape=(2,), dtype=int32)\n",
      "Tensor(\"Sum_14:0\", shape=(2, 1), dtype=int32)\n",
      "Tensor(\"Sum_15:0\", shape=(), dtype=int32)\n"
     ]
    }
   ],
   "source": [
    "print(tf.reduce_sum(x))  # 6\n",
    "print(tf.reduce_sum(x, 0))  # [2, 2, 2]\n",
    "print(tf.reduce_sum(x, 1))  # [3, 3]\n",
    "print(tf.reduce_sum(x, 1, keepdims=True))  # [[3], [3]]\n",
    "print(tf.reduce_sum(x, [0, 1]))  # 6"
   ]
  },
  {
   "cell_type": "code",
   "execution_count": 15,
   "metadata": {},
   "outputs": [
    {
     "name": "stdout",
     "output_type": "stream",
     "text": [
      "6\n",
      "[2 2 2]\n",
      "[3 3]\n",
      "[[3]\n",
      " [3]]\n",
      "6\n"
     ]
    }
   ],
   "source": [
    "with tf.Session() as sess:\n",
    "    print(sess.run(tf.reduce_sum(x)))  # 6\n",
    "    print(sess.run(tf.reduce_sum(x, 0)))  # [2, 2, 2]\n",
    "    print(sess.run(tf.reduce_sum(x, 1)))  # [3, 3]\n",
    "    print(sess.run(tf.reduce_sum(x, 1, keepdims=True)))  # [[3], [3]]\n",
    "    print(sess.run(tf.reduce_sum(x, [0, 1])))  # 6"
   ]
  },
  {
   "cell_type": "markdown",
   "metadata": {},
   "source": [
    "### 计算一个张量的维数的平均值。"
   ]
  },
  {
   "cell_type": "code",
   "execution_count": 19,
   "metadata": {},
   "outputs": [
    {
     "data": {
      "text/plain": [
       "<tf.Tensor 'Mean_5:0' shape=(2,) dtype=float32>"
      ]
     },
     "execution_count": 19,
     "metadata": {},
     "output_type": "execute_result"
    }
   ],
   "source": [
    "x = tf.constant([[1., 1.], [2., 2.]])\n",
    "tf.reduce_mean(x)  # 1.5\n",
    "tf.reduce_mean(x, 0)  # [1.5, 1.5]\n",
    "tf.reduce_mean(x, 1)  # [1.,  2.]"
   ]
  },
  {
   "cell_type": "code",
   "execution_count": 22,
   "metadata": {},
   "outputs": [
    {
     "name": "stdout",
     "output_type": "stream",
     "text": [
      "1.5\n",
      "[ 1.5  1.5]\n",
      "[ 1.  2.]\n"
     ]
    }
   ],
   "source": [
    "with tf.Session() as sess:\n",
    "    print(sess.run(tf.reduce_mean(x)))  # 1.5\n",
    "    print(sess.run(tf.reduce_mean(x, 0)))  # [1.5, 1.5]\n",
    "    print(sess.run(tf.reduce_mean(x, 1))) # [1.,  2.]"
   ]
  },
  {
   "cell_type": "markdown",
   "metadata": {},
   "source": [
    "tf.reduce_mean(x)表示计算全局平均值；\n",
    "\n",
    "tf.reduce_mean(x, axis=0)表示计算y轴平均值；\n",
    "\n",
    "tf.reduce_mean(x, axis=1)表示计算x轴平均值；"
   ]
  },
  {
   "cell_type": "code",
   "execution_count": 25,
   "metadata": {},
   "outputs": [
    {
     "name": "stdout",
     "output_type": "stream",
     "text": [
      "x = \n",
      " [[ 1.  2.  3.]\n",
      " [ 4.  5.  6.]\n",
      " [ 7.  8.  9.]]\n",
      "tf.reduce_mean(x) =  5.0\n",
      "tf.reduce_mean(x, axis=0, keepdims =False) =  [ 4.  5.  6.]\n",
      "tf.reduce_mean(x, axis=0, keepdims =True) =  [[ 4.  5.  6.]]\n",
      "tf.reduce_mean(x, axis=1) =  [ 2.  5.  8.]\n"
     ]
    }
   ],
   "source": [
    "import tensorflow as tf\n",
    "#创建张量  \n",
    "x = tf.Variable([[1., 2., 3.], [4., 5., 6.], [7., 8., 9.]]);\n",
    "#显示\n",
    "init = tf.global_variables_initializer();\n",
    "with tf.Session() as sess:\n",
    "    sess.run(init);\n",
    "    #tf.reduce_mean(input_tensor,  axis=None,  keep_dims=False,  name=None,  reduction_indices=None)\n",
    "    y = tf.reduce_mean(x);\n",
    "    y01 = tf.reduce_mean(x, axis=0, keep_dims=False);\n",
    "    y02 = tf.reduce_mean(x, axis=0, keep_dims=True);\n",
    "    y1 = tf.reduce_mean(x, axis=1);\n",
    "    \n",
    "    print(\"x = \\n\", x.eval());\n",
    "    print(\"tf.reduce_mean(x) = \", y.eval());\n",
    "    print(\"tf.reduce_mean(x, axis=0, keepdims =False) = \", y01.eval());\n",
    "    print(\"tf.reduce_mean(x, axis=0, keepdims =True) = \", y02.eval())\n",
    "    print(\"tf.reduce_mean(x, axis=1) = \", y1.eval());"
   ]
  },
  {
   "cell_type": "code",
   "execution_count": null,
   "metadata": {},
   "outputs": [],
   "source": []
  }
 ],
 "metadata": {
  "kernelspec": {
   "display_name": "Python 3",
   "language": "python",
   "name": "python3"
  },
  "language_info": {
   "codemirror_mode": {
    "name": "ipython",
    "version": 3
   },
   "file_extension": ".py",
   "mimetype": "text/x-python",
   "name": "python",
   "nbconvert_exporter": "python",
   "pygments_lexer": "ipython3",
   "version": "3.6.2"
  }
 },
 "nbformat": 4,
 "nbformat_minor": 2
}
