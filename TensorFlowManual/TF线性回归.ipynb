{
 "cells": [
  {
   "cell_type": "markdown",
   "metadata": {},
   "source": [
    "https://www.cnblogs.com/hunttown/p/6807435.html"
   ]
  },
  {
   "cell_type": "markdown",
   "metadata": {},
   "source": [
    "### 准备数据："
   ]
  },
  {
   "cell_type": "code",
   "execution_count": 11,
   "metadata": {},
   "outputs": [
    {
     "data": {
      "image/png": "[encoded data removed]",
      "text/plain": [
       "<matplotlib.figure.Figure at 0x180dca02be0>"
      ]
     },
     "metadata": {},
     "output_type": "display_data"
    }
   ],
   "source": [
    "import numpy as np\n",
    "import tensorflow as tf\n",
    "import matplotlib.pyplot as plt\n",
    "%matplotlib inline\n",
    "\n",
    "# 随机生成100个点，围绕在y=0.1x+0.3的直线周围\n",
    "num_points = 100\n",
    "vectors_set = []\n",
    "for i in range(num_points):\n",
    "    x1 = np.random.normal(0.0, 0.55)\n",
    "    y1 = x1 * 0.1 + 0.3 + np.random.normal(0.0, 0.03)\n",
    "    vectors_set.append([x1, y1])\n",
    "\n",
    "# 生成一些样本\n",
    "x_data = [v[0] for v in vectors_set]\n",
    "y_data = [v[1] for v in vectors_set]\n",
    "\n",
    "plt.scatter(x_data, y_data, c='b')\n",
    "plt.show()"
   ]
  },
  {
   "cell_type": "markdown",
   "metadata": {},
   "source": [
    "实现线性回归："
   ]
  },
  {
   "cell_type": "code",
   "execution_count": 14,
   "metadata": {},
   "outputs": [
    {
     "name": "stdout",
     "output_type": "stream",
     "text": [
      "W= [-0.7105906] b= [ 0.] loss= 0.300223\n",
      "W= [ 0.10269625] b= [ 0.2951256] loss= 0.000889849\n"
     ]
    }
   ],
   "source": [
    "# 生成1维W矩阵，取值是[-1, 1]之间的随机数\n",
    "W = tf.Variable(tf.random_uniform([1], -1.0, 1.0), name='W')\n",
    "# 生成1维b矩阵，初始值是0\n",
    "b = tf.Variable(tf.zeros([1]), name='b')\n",
    "# 经过计算取得预估值y\n",
    "y = W * x_data + b\n",
    "\n",
    "# 以预估值y和实际值y_data之间的均方误差作为损失\n",
    "loss = tf.reduce_mean(tf.square(y - y_data), name='loss')\n",
    "# 采用梯度下降法来优化参数\n",
    "optimizer = tf.train.GradientDescentOptimizer(0.5)\n",
    "# 训练的过程就是最小化这个误差值\n",
    "train = optimizer.minimize(loss, name='train')\n",
    "\n",
    "with tf.Session() as sess:\n",
    "    init = tf.global_variables_initializer()\n",
    "    sess.run(init)\n",
    "    # 训练前的w和b\n",
    "    print(\"W=\", sess.run(W), \"b=\", sess.run(b), \"loss=\", sess.run(loss))\n",
    "    # 执行30次训练\n",
    "    for step in range(30):\n",
    "        sess.run(train)\n",
    "    # 训练好的W和b\n",
    "    print(\"W=\", sess.run(W), \"b=\", sess.run(b), \"loss=\", sess.run(loss))"
   ]
  },
  {
   "cell_type": "markdown",
   "metadata": {},
   "source": [
    "## y=0.1x+0.3"
   ]
  },
  {
   "cell_type": "code",
   "execution_count": 20,
   "metadata": {},
   "outputs": [
    {
     "data": {
      "image/png": "[encoded data removed]",
      "text/plain": [
       "<matplotlib.figure.Figure at 0x180dc427160>"
      ]
     },
     "metadata": {},
     "output_type": "display_data"
    }
   ],
   "source": [
    "import numpy as np\n",
    "x = np.linspace(-1.5,1.5) \n",
    "y = 0.1*x + 0.3\n",
    "plt.plot(x, y, c='b')\n",
    "plt.show()"
   ]
  },
  {
   "cell_type": "code",
   "execution_count": null,
   "metadata": {},
   "outputs": [],
   "source": []
  }
 ],
 "metadata": {
  "kernelspec": {
   "display_name": "Python 3",
   "language": "python",
   "name": "python3"
  },
  "language_info": {
   "codemirror_mode": {
    "name": "ipython",
    "version": 3
   },
   "file_extension": ".py",
   "mimetype": "text/x-python",
   "name": "python",
   "nbconvert_exporter": "python",
   "pygments_lexer": "ipython3",
   "version": "3.6.4"
  }
 },
 "nbformat": 4,
 "nbformat_minor": 2
}
