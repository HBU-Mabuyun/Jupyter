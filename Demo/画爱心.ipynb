{
 "cells": [
  {
   "cell_type": "markdown",
   "metadata": {},
   "source": [
    "##### https://zhuanlan.zhihu.com/p/33816013"
   ]
  },
  {
   "cell_type": "code",
   "execution_count": 1,
   "metadata": {},
   "outputs": [
    {
     "name": "stdout",
     "output_type": "stream",
     "text": [
      "Please input the words you want to say!:hello\n",
      "                ohellohel           ohellohel               \n",
      "            ellohellohellohel   ellohellohellohel           \n",
      "          hellohellohellohellohellohellohellohelloh         \n",
      "         hellohellohellohellohellohellohellohellohel        \n",
      "        hellohellohellohellohellohellohellohellohello       \n",
      "        ellohellohellohellohellohellohellohellohelloh       \n",
      "        llohellohellohellohellohellohellohellohellohe       \n",
      "        lohellohellohellohellohellohellohellohellohel       \n",
      "        ohellohellohellohellohellohellohellohellohell       \n",
      "        hellohellohellohellohellohellohellohellohello       \n",
      "         llohellohellohellohellohellohellohellohello        \n",
      "          ohellohellohellohellohellohellohellohello         \n",
      "          hellohellohellohellohellohellohellohelloh         \n",
      "            lohellohellohellohellohellohellohello           \n",
      "             hellohellohellohellohellohellohello            \n",
      "              llohellohellohellohellohellohello             \n",
      "                hellohellohellohellohellohell               \n",
      "                  lohellohellohellohellohel                 \n",
      "                    ellohellohellohellohe                   \n",
      "                       hellohellohello                      \n",
      "                          ohellohel                         \n",
      "                             loh                            \n",
      "                              h                             \n",
      "                                                            \n"
     ]
    }
   ],
   "source": [
    "import time\n",
    "words = input('Please input the words you want to say!:')\n",
    "for item in words.split():\n",
    "    print('\\n'.join([''.join([(item[(x-y) % len(item)] if ((x*0.05)**2+(y*0.1)**2-1)**3-(x*0.05)**2*(y*0.1)**3 <= 0 else ' ') for x in range(-30, 30)]) for y in range(12, -12, -1)]))\n",
    "    time.sleep(1.5);"
   ]
  },
  {
   "cell_type": "code",
   "execution_count": null,
   "metadata": {},
   "outputs": [],
   "source": []
  }
 ],
 "metadata": {
  "kernelspec": {
   "display_name": "Python 3",
   "language": "python",
   "name": "python3"
  },
  "language_info": {
   "codemirror_mode": {
    "name": "ipython",
    "version": 3
   },
   "file_extension": ".py",
   "mimetype": "text/x-python",
   "name": "python",
   "nbconvert_exporter": "python",
   "pygments_lexer": "ipython3",
   "version": "3.6.2"
  }
 },
 "nbformat": 4,
 "nbformat_minor": 2
}
