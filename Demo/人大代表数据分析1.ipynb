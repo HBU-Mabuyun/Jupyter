{
 "cells": [
  {
   "cell_type": "code",
   "execution_count": 1,
   "metadata": {},
   "outputs": [],
   "source": [
    "import requests\n",
    "import re\n",
    "import time\n",
    "from lxml import html\n",
    "from selenium import webdriver\n",
    "from pyecharts import Map\n",
    "\n",
    "r = requests.get(url='http://www.sohu.com/a/223885358_118392')    # 最基本的GET请求\n",
    "time.sleep(60)\n",
    "html = r.text\n",
    "content = re.findall(u'<p>([\\u2E80-\\u9FFF]{2,3})[u\"市\"u\"省\"u\"特\"u\"壮\"u\"回\"u\"维\"u\"自\"u\"人\"].{0,6}\\uff08(\\d*)\\u540d\\uff09 </p>.*?<p>(.*?)</p>', html, re.S)\n",
    "\n",
    "data = [_[0:2] for _ in content]"
   ]
  },
  {
   "cell_type": "code",
   "execution_count": 5,
   "metadata": {},
   "outputs": [
    {
     "data": {
      "text/plain": [
       "<map at 0x266900a3198>"
      ]
     },
     "execution_count": 5,
     "metadata": {},
     "output_type": "execute_result"
    }
   ],
   "source": [
    "import pandas as pd\n",
    "import re\n",
    "# 取地区，姓名，性别，族\n",
    "data = [(_[0],_[2]) for _ in content]\n",
    "def get_locality_name_sex_race(param):\n",
    "    locality = param[0]\n",
    "    # '、'分割姓名\n",
    "    for el in param[1].split(u'、'):\n",
    "        temp = re.split(u'\\uff08|\\uff0c|\\uff09', el)\n",
    "        length = len(temp)\n",
    "        if length == 1:\n",
    "            temp += [u'男', u'汉族']\n",
    "        elif length == 3:\n",
    "            if len(temp[1]) == 1:\n",
    "                temp[2] = u'汉族'\n",
    "            else:\n",
    "                temp[2] = temp[1]\n",
    "                temp[1] = u'男'\n",
    "        elif length == 4:\n",
    "            temp.pop()\n",
    "            if u'族' not in temp[2]:\n",
    "                temp[2] = u'汉族'\n",
    "\n",
    "        df.loc[df.shape[0]] = [locality]+temp\n",
    "\n",
    "df = pd.DataFrame(columns=('locality', 'name', 'sex', 'race'))#生成空的pandas表              \n",
    "map(get_locality_name_sex_race, data)"
   ]
  },
  {
   "cell_type": "code",
   "execution_count": 6,
   "metadata": {},
   "outputs": [
    {
     "data": {
      "text/html": [
       "<div>\n",
       "<style scoped>\n",
       "    .dataframe tbody tr th:only-of-type {\n",
       "        vertical-align: middle;\n",
       "    }\n",
       "\n",
       "    .dataframe tbody tr th {\n",
       "        vertical-align: top;\n",
       "    }\n",
       "\n",
       "    .dataframe thead th {\n",
       "        text-align: right;\n",
       "    }\n",
       "</style>\n",
       "<table border=\"1\" class=\"dataframe\">\n",
       "  <thead>\n",
       "    <tr style=\"text-align: right;\">\n",
       "      <th></th>\n",
       "      <th>locality</th>\n",
       "      <th>name</th>\n",
       "      <th>sex</th>\n",
       "      <th>race</th>\n",
       "    </tr>\n",
       "  </thead>\n",
       "  <tbody>\n",
       "  </tbody>\n",
       "</table>\n",
       "</div>"
      ],
      "text/plain": [
       "Empty DataFrame\n",
       "Columns: [locality, name, sex, race]\n",
       "Index: []"
      ]
     },
     "execution_count": 6,
     "metadata": {},
     "output_type": "execute_result"
    }
   ],
   "source": [
    "df"
   ]
  },
  {
   "cell_type": "code",
   "execution_count": 8,
   "metadata": {},
   "outputs": [],
   "source": [
    "get_locality_name_sex_race(str(data))"
   ]
  },
  {
   "cell_type": "code",
   "execution_count": 9,
   "metadata": {},
   "outputs": [
    {
     "data": {
      "text/html": [
       "<div>\n",
       "<style scoped>\n",
       "    .dataframe tbody tr th:only-of-type {\n",
       "        vertical-align: middle;\n",
       "    }\n",
       "\n",
       "    .dataframe tbody tr th {\n",
       "        vertical-align: top;\n",
       "    }\n",
       "\n",
       "    .dataframe thead th {\n",
       "        text-align: right;\n",
       "    }\n",
       "</style>\n",
       "<table border=\"1\" class=\"dataframe\">\n",
       "  <thead>\n",
       "    <tr style=\"text-align: right;\">\n",
       "      <th></th>\n",
       "      <th>locality</th>\n",
       "      <th>name</th>\n",
       "      <th>sex</th>\n",
       "      <th>race</th>\n",
       "    </tr>\n",
       "  </thead>\n",
       "  <tbody>\n",
       "    <tr>\n",
       "      <th>0</th>\n",
       "      <td>[</td>\n",
       "      <td>(</td>\n",
       "      <td>男</td>\n",
       "      <td>汉族</td>\n",
       "    </tr>\n",
       "  </tbody>\n",
       "</table>\n",
       "</div>"
      ],
      "text/plain": [
       "  locality name sex race\n",
       "0        [    (   男   汉族"
      ]
     },
     "execution_count": 9,
     "metadata": {},
     "output_type": "execute_result"
    }
   ],
   "source": [
    "df"
   ]
  },
  {
   "cell_type": "code",
   "execution_count": null,
   "metadata": {},
   "outputs": [],
   "source": []
  }
 ],
 "metadata": {
  "kernelspec": {
   "display_name": "Python 3",
   "language": "python",
   "name": "python3"
  },
  "language_info": {
   "codemirror_mode": {
    "name": "ipython",
    "version": 3
   },
   "file_extension": ".py",
   "mimetype": "text/x-python",
   "name": "python",
   "nbconvert_exporter": "python",
   "pygments_lexer": "ipython3",
   "version": "3.6.4"
  }
 },
 "nbformat": 4,
 "nbformat_minor": 2
}
