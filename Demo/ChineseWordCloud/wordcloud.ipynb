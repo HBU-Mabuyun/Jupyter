{
 "cells": [
  {
   "cell_type": "code",
   "execution_count": 10,
   "metadata": {},
   "outputs": [
    {
     "ename": "FileNotFoundError",
     "evalue": "[Errno 2] No such file or directory: '此间的少年.txt'",
     "output_type": "error",
     "traceback": [
      "\u001b[1;31m---------------------------------------------------------------------------\u001b[0m",
      "\u001b[1;31mFileNotFoundError\u001b[0m                         Traceback (most recent call last)",
      "\u001b[1;32m<ipython-input-10-eec9bbfe25f2>\u001b[0m in \u001b[0;36m<module>\u001b[1;34m()\u001b[0m\n\u001b[0;32m     56\u001b[0m     \u001b[0mcodecs\u001b[0m\u001b[1;33m.\u001b[0m\u001b[0mclose\u001b[0m\u001b[1;33m(\u001b[0m\u001b[1;33m)\u001b[0m\u001b[1;33m\u001b[0m\u001b[0m\n\u001b[0;32m     57\u001b[0m \u001b[1;32mif\u001b[0m \u001b[0m__name__\u001b[0m \u001b[1;33m==\u001b[0m \u001b[1;34m'__main__'\u001b[0m\u001b[1;33m:\u001b[0m\u001b[1;33m\u001b[0m\u001b[0m\n\u001b[1;32m---> 58\u001b[1;33m         \u001b[0mmain\u001b[0m\u001b[1;33m(\u001b[0m\u001b[1;34m'此间的少年.txt'\u001b[0m\u001b[1;33m)\u001b[0m\u001b[1;33m\u001b[0m\u001b[0m\n\u001b[0m\u001b[0;32m     59\u001b[0m \u001b[1;33m\u001b[0m\u001b[0m\n\u001b[0;32m     60\u001b[0m \u001b[1;33m\u001b[0m\u001b[0m\n",
      "\u001b[1;32m<ipython-input-10-eec9bbfe25f2>\u001b[0m in \u001b[0;36mmain\u001b[1;34m(input_filename)\u001b[0m\n\u001b[0;32m     14\u001b[0m \u001b[1;32mdef\u001b[0m \u001b[0mmain\u001b[0m\u001b[1;33m(\u001b[0m\u001b[0minput_filename\u001b[0m\u001b[1;33m)\u001b[0m\u001b[1;33m:\u001b[0m\u001b[1;33m\u001b[0m\u001b[0m\n\u001b[0;32m     15\u001b[0m     content = '\\n'.join([line.strip()\n\u001b[1;32m---> 16\u001b[1;33m                         \u001b[1;32mfor\u001b[0m \u001b[0mline\u001b[0m \u001b[1;32min\u001b[0m \u001b[0mcodecs\u001b[0m\u001b[1;33m.\u001b[0m\u001b[0mopen\u001b[0m\u001b[1;33m(\u001b[0m\u001b[0minput_filename\u001b[0m\u001b[1;33m,\u001b[0m \u001b[1;34m'r'\u001b[0m\u001b[1;33m,\u001b[0m \u001b[1;34m'utf-8'\u001b[0m\u001b[1;33m)\u001b[0m\u001b[1;33m\u001b[0m\u001b[0m\n\u001b[0m\u001b[0;32m     17\u001b[0m                         if len(line.strip()) > 0])\n\u001b[0;32m     18\u001b[0m     stopwords = set([line.strip()\n",
      "\u001b[1;32m~\\Anaconda3\\envs\\tensorflow\\lib\\codecs.py\u001b[0m in \u001b[0;36mopen\u001b[1;34m(filename, mode, encoding, errors, buffering)\u001b[0m\n\u001b[0;32m    893\u001b[0m         \u001b[1;31m# Force opening of the file in binary mode\u001b[0m\u001b[1;33m\u001b[0m\u001b[1;33m\u001b[0m\u001b[0m\n\u001b[0;32m    894\u001b[0m         \u001b[0mmode\u001b[0m \u001b[1;33m=\u001b[0m \u001b[0mmode\u001b[0m \u001b[1;33m+\u001b[0m \u001b[1;34m'b'\u001b[0m\u001b[1;33m\u001b[0m\u001b[0m\n\u001b[1;32m--> 895\u001b[1;33m     \u001b[0mfile\u001b[0m \u001b[1;33m=\u001b[0m \u001b[0mbuiltins\u001b[0m\u001b[1;33m.\u001b[0m\u001b[0mopen\u001b[0m\u001b[1;33m(\u001b[0m\u001b[0mfilename\u001b[0m\u001b[1;33m,\u001b[0m \u001b[0mmode\u001b[0m\u001b[1;33m,\u001b[0m \u001b[0mbuffering\u001b[0m\u001b[1;33m)\u001b[0m\u001b[1;33m\u001b[0m\u001b[0m\n\u001b[0m\u001b[0;32m    896\u001b[0m     \u001b[1;32mif\u001b[0m \u001b[0mencoding\u001b[0m \u001b[1;32mis\u001b[0m \u001b[1;32mNone\u001b[0m\u001b[1;33m:\u001b[0m\u001b[1;33m\u001b[0m\u001b[0m\n\u001b[0;32m    897\u001b[0m         \u001b[1;32mreturn\u001b[0m \u001b[0mfile\u001b[0m\u001b[1;33m\u001b[0m\u001b[0m\n",
      "\u001b[1;31mFileNotFoundError\u001b[0m: [Errno 2] No such file or directory: '此间的少年.txt'"
     ]
    }
   ],
   "source": [
    "# https://github.com/shangjingbo1226/ChineseWordCloud\n",
    "import jieba, codecs, sys, pandas\n",
    "import numpy as np\n",
    "from wordcloud import WordCloud\n",
    "from scipy.misc import imread\n",
    "from wordcloud import WordCloud, ImageColorGenerator\n",
    "from os import listdir\n",
    "from os.path import isfile, join\n",
    "\n",
    "stopwords_filename = 'data/stopwords.txt'\n",
    "font_filename = 'fonts/STFangSong.ttf'\n",
    "template_dir = 'data/templates/'\n",
    "\n",
    "def main(input_filename):\n",
    "    content = '\\n'.join([line.strip()\n",
    "                        for line in codecs.open(input_filename, 'r', 'utf-8')\n",
    "                        if len(line.strip()) > 0])\n",
    "    stopwords = set([line.strip()\n",
    "                    for line in codecs.open(stopwords_filename, 'r', 'utf-8')])\n",
    "\n",
    "    segs = jieba.cut(content)\n",
    "    words = []\n",
    "    for seg in segs:\n",
    "        word = seg.strip().lower()\n",
    "        if len(word) > 1 and word not in stopwords:\n",
    "            words.append(word)\n",
    "\n",
    "    words_df = pandas.DataFrame({'word':words})\n",
    "    words_stat = words_df.groupby(by=['word'])['word'].agg({'number' : np.size})\n",
    "    words_stat = words_stat.reset_index().sort_values(by=\"number\",ascending=False)\n",
    "\n",
    "    print ('# of different words =', len(words_stat))\n",
    "\n",
    "    input_prefix = input_filename\n",
    "    if input_filename.find('.') != -1:\n",
    "        input_prefix = '.'.join(input_filename.split('.')[:-1])\n",
    "\n",
    "    for file in listdir(template_dir):\n",
    "        if file[-4:] != '.png' and file[-4:] != '.jpg':\n",
    "            continue\n",
    "        background_picture_filename = join(template_dir, file)\n",
    "        if isfile(background_picture_filename):\n",
    "            prefix = file.split('.')[0]\n",
    "            \n",
    "            bimg=imread(background_picture_filename)\n",
    "            wordcloud=WordCloud(font_path=font_filename,background_color='white',mask = bimg,max_font_size=600,random_state=100)\n",
    "            wordcloud=wordcloud.fit_words(dict(words_stat.head(4000).itertuples(index=False)))\n",
    "\n",
    "            bimgColors=ImageColorGenerator(bimg)\n",
    "            wordcloud.recolor(color_func=bimgColors)\n",
    "\n",
    "            output_filename = prefix + '_' + input_prefix + '.png'\n",
    "\n",
    "            print ('Saving', output_filename)\n",
    "            wordcloud.to_file(output_filename)\n",
    "    codecs.close()\n",
    "if __name__ == '__main__':   \n",
    "        main('此间的少年.txt')\n",
    "   \n",
    "\n",
    "\n"
   ]
  },
  {
   "cell_type": "code",
   "execution_count": null,
   "metadata": {},
   "outputs": [],
   "source": []
  }
 ],
 "metadata": {
  "kernelspec": {
   "display_name": "Python 3",
   "language": "python",
   "name": "python3"
  },
  "language_info": {
   "codemirror_mode": {
    "name": "ipython",
    "version": 3
   },
   "file_extension": ".py",
   "mimetype": "text/x-python",
   "name": "python",
   "nbconvert_exporter": "python",
   "pygments_lexer": "ipython3",
   "version": "3.6.2"
  }
 },
 "nbformat": 4,
 "nbformat_minor": 2
}
