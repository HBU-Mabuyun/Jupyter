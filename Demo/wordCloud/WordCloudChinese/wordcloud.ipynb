{
 "cells": [
  {
   "cell_type": "code",
   "execution_count": 1,
   "metadata": {
    "scrolled": true
   },
   "outputs": [
    {
     "name": "stderr",
     "output_type": "stream",
     "text": [
      "Building prefix dict from the default dictionary ...\n",
      "Loading model from cache C:\\Users\\David\\AppData\\Local\\Temp\\jieba.cache\n",
      "Loading model cost 0.841 seconds.\n",
      "Prefix dict has been built succesfully.\n",
      "C:\\Users\\David\\Anaconda3\\lib\\site-packages\\ipykernel_launcher.py:29: FutureWarning: using a dict on a Series for aggregation\n",
      "is deprecated and will be removed in a future version\n"
     ]
    },
    {
     "name": "stdout",
     "output_type": "stream",
     "text": [
      "# of different words = 2171\n",
      "Saving bk_xiongan.png\n",
      "Saving color_love_xiongan.png\n",
      "Saving love_xiongan.png\n"
     ]
    }
   ],
   "source": [
    "# https://github.com/shangjingbo1226/ChineseWordCloud\n",
    "import jieba, codecs, sys, pandas\n",
    "import numpy as np\n",
    "from wordcloud import WordCloud\n",
    "from scipy.misc import imread\n",
    "from wordcloud import WordCloud, ImageColorGenerator\n",
    "from os import listdir\n",
    "from os.path import isfile, join\n",
    "\n",
    "stopwords_filename = 'data/stopwords.txt'\n",
    "font_filename = 'fonts/STFangSong.ttf'\n",
    "template_dir = 'data/templates/'\n",
    "\n",
    "def main(input_filename):\n",
    "    content = '\\n'.join([line.strip()\n",
    "                        for line in codecs.open(input_filename, 'r', 'utf-8')\n",
    "                        if len(line.strip()) > 0])\n",
    "    stopwords = set([line.strip()\n",
    "                    for line in codecs.open(stopwords_filename, 'r', 'utf-8')])\n",
    "\n",
    "    segs = jieba.cut(content)\n",
    "    words = []\n",
    "    for seg in segs:\n",
    "        word = seg.strip().lower()\n",
    "        if len(word) > 1 and word not in stopwords:\n",
    "            words.append(word)\n",
    "\n",
    "    words_df = pandas.DataFrame({'word':words})\n",
    "    words_stat = words_df.groupby(by=['word'])['word'].agg({'number' : np.size})\n",
    "    words_stat = words_stat.reset_index().sort_values(by=\"number\",ascending=False)\n",
    "\n",
    "    print ('# of different words =', len(words_stat))\n",
    "\n",
    "    input_prefix = input_filename\n",
    "    if input_filename.find('.') != -1:\n",
    "        input_prefix = '.'.join(input_filename.split('.')[:-1])\n",
    "\n",
    "    for file in listdir(template_dir):\n",
    "        if file[-4:] != '.png' and file[-4:] != '.jpg':\n",
    "            continue\n",
    "        background_picture_filename = join(template_dir, file)\n",
    "        if isfile(background_picture_filename):\n",
    "            prefix = file.split('.')[0]\n",
    "            \n",
    "            bimg=imread(background_picture_filename)\n",
    "            wordcloud=WordCloud(font_path=font_filename,background_color='white',mask = bimg,max_font_size=600,random_state=100)\n",
    "            wordcloud=wordcloud.fit_words(dict(words_stat.head(4000).itertuples(index=False)))\n",
    "\n",
    "            bimgColors=ImageColorGenerator(bimg)\n",
    "            wordcloud.recolor(color_func=bimgColors)\n",
    "\n",
    "            output_filename = prefix + '_' + input_prefix + '.png'\n",
    "\n",
    "            print ('Saving', output_filename)\n",
    "            wordcloud.to_file(output_filename)\n",
    "   \n",
    "if __name__ == '__main__':   \n",
    "        main('xiongan.txt')\n",
    "   \n",
    "\n",
    "\n"
   ]
  },
  {
   "cell_type": "code",
   "execution_count": null,
   "metadata": {},
   "outputs": [],
   "source": []
  }
 ],
 "metadata": {
  "kernelspec": {
   "display_name": "Python 3",
   "language": "python",
   "name": "python3"
  },
  "language_info": {
   "codemirror_mode": {
    "name": "ipython",
    "version": 3
   },
   "file_extension": ".py",
   "mimetype": "text/x-python",
   "name": "python",
   "nbconvert_exporter": "python",
   "pygments_lexer": "ipython3",
   "version": "3.6.2"
  }
 },
 "nbformat": 4,
 "nbformat_minor": 2
}
