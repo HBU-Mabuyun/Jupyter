{
 "cells": [
  {
   "cell_type": "code",
   "execution_count": null,
   "metadata": {},
   "outputs": [],
   "source": [
    "# http://pyecharts.org/#/zh-cn/prepare\n",
    "import requests\n",
    "import re\n",
    "import time\n",
    "from lxml import html\n",
    "from selenium import webdriver\n",
    "from pyecharts import Map\n",
    "\n",
    "r = requests.get(url='http://www.sohu.com/a/223885358_118392')    # 最基本的GET请求\n",
    "time.sleep(60)\n",
    "html = r.text\n",
    "content = re.findall(u'<p>([\\u2E80-\\u9FFF]{2,3})[u\"市\"u\"省\"u\"特\"u\"壮\"u\"回\"u\"维\"u\"自\"u\"人\"].{0,6}\\uff08(\\d*)\\u540d\\uff09 </p>.*?<p>(.*?)</p>', html, re.S)\n",
    "\n",
    "data = [_[0:2] for _ in content]"
   ]
  },
  {
   "cell_type": "code",
   "execution_count": null,
   "metadata": {},
   "outputs": [],
   "source": [
    "import pandas as pd\n",
    "import re\n",
    "# 取地区，姓名，性别，族\n",
    "data = [(_[0],_[2]) for _ in content]\n",
    "def get_locality_name_sex_race(param):\n",
    "    locality = param[0]\n",
    "    # '、'分割姓名\n",
    "    for el in param[1].split(u'、'):\n",
    "        temp = re.split(u'\\uff08|\\uff0c|\\uff09', el)\n",
    "        length = len(temp)\n",
    "        if length == 1:\n",
    "            temp += [u'男', u'汉族']\n",
    "        elif length == 3:\n",
    "            if len(temp[1]) == 1:\n",
    "                temp[2] = u'汉族'\n",
    "            else:\n",
    "                temp[2] = temp[1]\n",
    "                temp[1] = u'男'\n",
    "        elif length == 4:\n",
    "            temp.pop()\n",
    "            if u'族' not in temp[2]:\n",
    "                temp[2] = u'汉族'\n",
    "\n",
    "        df.loc[df.shape[0]] = [locality]+temp\n",
    "\n",
    "df = pd.DataFrame(columns=('locality', 'name', 'sex', 'race'))#生成空的pandas表              \n",
    "map(get_locality_name_sex_race, data)"
   ]
  },
  {
   "cell_type": "code",
   "execution_count": null,
   "metadata": {},
   "outputs": [],
   "source": [
    "df"
   ]
  },
  {
   "cell_type": "code",
   "execution_count": null,
   "metadata": {},
   "outputs": [],
   "source": [
    "get_locality_name_sex_race(str(data))"
   ]
  },
  {
   "cell_type": "code",
   "execution_count": null,
   "metadata": {},
   "outputs": [],
   "source": [
    "df"
   ]
  },
  {
   "cell_type": "code",
   "execution_count": null,
   "metadata": {},
   "outputs": [],
   "source": [
    "map.render()"
   ]
  },
  {
   "cell_type": "code",
   "execution_count": null,
   "metadata": {},
   "outputs": [],
   "source": [
    "map"
   ]
  },
  {
   "cell_type": "code",
   "execution_count": null,
   "metadata": {},
   "outputs": [],
   "source": []
  }
 ],
 "metadata": {
  "kernelspec": {
   "display_name": "Python 3",
   "language": "python",
   "name": "python3"
  },
  "language_info": {
   "codemirror_mode": {
    "name": "ipython",
    "version": 3
   },
   "file_extension": ".py",
   "mimetype": "text/x-python",
   "name": "python",
   "nbconvert_exporter": "python",
   "pygments_lexer": "ipython3",
   "version": "3.6.2"
  }
 },
 "nbformat": 4,
 "nbformat_minor": 2
}
