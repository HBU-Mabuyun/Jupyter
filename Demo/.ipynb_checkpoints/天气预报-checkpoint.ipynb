{
 "cells": [
  {
   "cell_type": "code",
   "execution_count": 18,
   "metadata": {},
   "outputs": [
    {
     "name": "stdout",
     "output_type": "stream",
     "text": [
      "<Response [200]>\n",
      "保定 20 南风\n",
      "2级 17% 2\n",
      "暂无实况 1010 0\n"
     ]
    }
   ],
   "source": [
    "import requests\n",
    "r = requests.get('http://www.weather.com.cn/data/sk/101090201.html')\n",
    "r.encoding = 'utf-8'\n",
    "print (r.json()['weatherinfo']['city'], r.json()['weatherinfo']['temp'], r.json()['weatherinfo']['WD'])\n",
    "print (r.json()['weatherinfo']['WS'], r.json()['weatherinfo']['SD'], r.json()['weatherinfo']['WSE'])\n",
    "print (r.json()['weatherinfo']['njd'], r.json()['weatherinfo']['qy'], r.json()['weatherinfo']['rain'])"
   ]
  },
  {
   "cell_type": "code",
   "execution_count": 19,
   "metadata": {},
   "outputs": [
    {
     "name": "stdout",
     "output_type": "stream",
     "text": [
      "今天是：18日（今天）\n",
      "风级：<3级\n",
      "最低温度：1℃\n",
      "最高温度：10\n",
      "天气：多云转晴\n"
     ]
    }
   ],
   "source": [
    "from urllib.request import urlopen\n",
    "from bs4 import BeautifulSoup #http://beautifulsoup.readthedocs.io/zh_CN/v4.4.0/\n",
    "import re\n",
    "\n",
    "resp = urlopen('http://www.weather.com.cn/weather/101090201.shtml')\n",
    "soup = BeautifulSoup(resp,'html.parser')\n",
    "tagDate = soup.find('ul', class_=\"t clearfix\")\n",
    "dates = tagDate.h1.string\n",
    "\n",
    "tagToday = soup.find('p', class_=\"tem\")\n",
    "try:\n",
    "    temperatureHigh = tagToday.span.string\n",
    "except AttributeError as e:\n",
    "    temperatureHigh = tagToday.find_next('p', class_=\"tem\").span.string\n",
    "\n",
    "temperatureLow = tagToday.i.string\n",
    "weather = soup.find('p', class_=\"wea\").string\n",
    "\n",
    "tagWind = soup.find('p',class_=\"win\")\n",
    "winL = tagWind.i.string\n",
    "\n",
    "print('今天是：'+dates)\n",
    "print('风级：'+winL)\n",
    "print('最低温度：'+temperatureLow)\n",
    "print('最高温度：'+temperatureHigh)\n",
    "print('天气：'+weather)\n"
   ]
  },
  {
   "cell_type": "code",
   "execution_count": null,
   "metadata": {},
   "outputs": [],
   "source": []
  }
 ],
 "metadata": {
  "kernelspec": {
   "display_name": "Python 3",
   "language": "python",
   "name": "python3"
  },
  "language_info": {
   "codemirror_mode": {
    "name": "ipython",
    "version": 3
   },
   "file_extension": ".py",
   "mimetype": "text/x-python",
   "name": "python",
   "nbconvert_exporter": "python",
   "pygments_lexer": "ipython3",
   "version": "3.6.2"
  }
 },
 "nbformat": 4,
 "nbformat_minor": 2
}
