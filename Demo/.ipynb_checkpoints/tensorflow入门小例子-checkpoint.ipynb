{
 "cells": [
  {
   "cell_type": "code",
   "execution_count": 16,
   "metadata": {},
   "outputs": [
    {
     "data": {
      "image/png": "[encoded data removed]",
      "text/plain": [
       "<matplotlib.figure.Figure at 0x1ef717e06a0>"
      ]
     },
     "metadata": {},
     "output_type": "display_data"
    },
    {
     "name": "stdout",
     "output_type": "stream",
     "text": [
      "0 [ 0.445333] [ 0.02456476]\n",
      "50 [ 0.32329962] [ 0.17603312]\n",
      "100 [ 0.230921] [ 0.227318]\n",
      "150 [ 0.17675923] [ 0.25738642]\n",
      "200 [ 0.14500402] [ 0.27501562]\n",
      "250 [ 0.12638596] [ 0.2853516]\n",
      "300 [ 0.11547013] [ 0.29141164]\n",
      "350 [ 0.10907014] [ 0.29496464]\n",
      "400 [ 0.10531782] [ 0.29704776]\n",
      "450 [ 0.10311782] [ 0.29826912]\n"
     ]
    }
   ],
   "source": [
    "# -*- coding: utf-8 -*-\n",
    "# author: arvik\n",
    "# blog: http://blog.csdn.net/u012819339\n",
    "# email: 1216601195@qq.com\n",
    "\n",
    "#本例子取一个一次函数(y = Wx + B)上的一些离散的点，给tensorflow训练，让tensorflow得出一次函数中的权重W和偏移量B\n",
    "%matplotlib inline\n",
    "import tensorflow as tf\n",
    "import numpy as np\n",
    "import matplotlib.pyplot as plt\n",
    "\n",
    "#构造一些离散的点\n",
    "x_data = np.random.rand(100).astype(np.float32)\n",
    "y_data = x_data * 0.1 + 0.3\n",
    "\n",
    "plt.scatter(x_data, y_data)\n",
    "plt.show()\n",
    "\n",
    "#tensorflow建模\n",
    "Weights = tf.Variable(tf.random_uniform([1], -1.0, 1.0))  #设置权重的初始值1以及变化范围（-1， 1）\n",
    "biases = tf.Variable(tf.zeros([1])) #设置偏移量的初始值为0\n",
    "y = Weights * x_data + biases #对以上离散的点建立一个一次函数的数学模型\n",
    "\n",
    "\n",
    "#实际值和预测值的差值平方再求平均值，训练的目的就是要让这个loss越来越小\n",
    "loss = tf.reduce_mean(tf.square(y-y_data))\n",
    "\n",
    "#优化器，，目前选择梯度下降法来优化，步长（学习效率）选择0.5\n",
    "optimizer = tf.train.GradientDescentOptimizer(0.1)\n",
    "\n",
    "#训练目的，减少loss\n",
    "train = optimizer.minimize(loss)\n",
    "\n",
    "#初始化所有的变量\n",
    "#init = tf.initialize_all_variables()  #该函数已经被弃用\n",
    "init = tf.global_variables_initializer()\n",
    "sess = tf.Session()\n",
    "sess.run(init)\n",
    "\n",
    "#训练\n",
    "for step in range(500):\n",
    "    sess.run(train)\n",
    "    if step % 50 == 0:\n",
    "        print(step, sess.run(Weights), sess.run(biases))\n",
    "\n",
    "sess.close()"
   ]
  },
  {
   "cell_type": "code",
   "execution_count": 8,
   "metadata": {},
   "outputs": [
    {
     "name": "stdout",
     "output_type": "stream",
     "text": [
      "WARNING:tensorflow:From C:\\Users\\David\\Anaconda3\\envs\\tensorflow\\lib\\site-packages\\tensorflow\\python\\util\\tf_should_use.py:118: initialize_all_variables (from tensorflow.python.ops.variables) is deprecated and will be removed after 2017-03-02.\n",
      "Instructions for updating:\n",
      "Use `tf.global_variables_initializer` instead.\n",
      "0 [-0.34482282] [ 0.79024899]\n",
      "20 [-0.05995185] [ 0.38944373]\n",
      "40 [ 0.0532874] [ 0.3261213]\n",
      "60 [ 0.08635799] [ 0.30762851]\n",
      "80 [ 0.09601597] [ 0.30222785]\n",
      "100 [ 0.0988365] [ 0.30065063]\n",
      "120 [ 0.09966019] [ 0.30019003]\n",
      "140 [ 0.09990076] [ 0.3000555]\n",
      "160 [ 0.09997103] [ 0.30001622]\n",
      "180 [ 0.09999154] [ 0.30000475]\n",
      "200 [ 0.09999754] [ 0.30000138]\n",
      "220 [ 0.09999929] [ 0.3000004]\n",
      "240 [ 0.09999979] [ 0.30000013]\n",
      "260 [ 0.0999999] [ 0.30000007]\n",
      "280 [ 0.0999999] [ 0.30000007]\n",
      "300 [ 0.0999999] [ 0.30000007]\n",
      "320 [ 0.0999999] [ 0.30000007]\n",
      "340 [ 0.0999999] [ 0.30000007]\n",
      "360 [ 0.0999999] [ 0.30000007]\n",
      "380 [ 0.0999999] [ 0.30000007]\n"
     ]
    }
   ],
   "source": [
    "#导入依赖库\n",
    "import numpy as np #这是Python的一种开源的数值计算扩展，非常强大\n",
    "import tensorflow as tf  #导入tensorflow \n",
    "\n",
    "##构造数据##\n",
    "x_data=np.random.rand(100).astype(np.float32) #随机生成100个类型为float32的值\n",
    "y_data=x_data*0.1+0.3  #定义方程式y=x_data*A+B\n",
    "##-------##\n",
    "\n",
    "##建立TensorFlow神经计算结构##\n",
    "weight=tf.Variable(tf.random_uniform([1],-1.0,1.0)) \n",
    "biases=tf.Variable(tf.zeros([1]))     \n",
    "y=weight*x_data+biases\n",
    "##-------##\n",
    "\n",
    "\n",
    "loss=tf.reduce_mean(tf.square(y-y_data))  #判断与正确值的差距\n",
    "optimizer=tf.train.GradientDescentOptimizer(0.5) #根据差距进行反向传播修正参数\n",
    "train=optimizer.minimize(loss) #建立训练器\n",
    "\n",
    "init=tf.initialize_all_variables() #初始化TensorFlow训练结构\n",
    "sess=tf.Session()  #建立TensorFlow训练会话\n",
    "sess.run(init)     #将训练结构装载到会话中\n",
    "\n",
    "for  step in range(400): #循环训练400次\n",
    "     sess.run(train)  #使用训练器根据训练结构进行训练\n",
    "     if  step%20==0:  #每20次打印一次训练结果\n",
    "        print(step,sess.run(weight),sess.run(biases)) #训练次数，A值，B值"
   ]
  }
 ],
 "metadata": {
  "kernelspec": {
   "display_name": "Python 3",
   "language": "python",
   "name": "python3"
  },
  "language_info": {
   "codemirror_mode": {
    "name": "ipython",
    "version": 3
   },
   "file_extension": ".py",
   "mimetype": "text/x-python",
   "name": "python",
   "nbconvert_exporter": "python",
   "pygments_lexer": "ipython3",
   "version": "3.6.2"
  }
 },
 "nbformat": 4,
 "nbformat_minor": 2
}
