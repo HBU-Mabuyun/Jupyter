{
 "cells": [
  {
   "cell_type": "code",
   "execution_count": 4,
   "metadata": {},
   "outputs": [],
   "source": [
    "import turtle\n",
    "turtle.seth(0)\n",
    "turtle.fd(100)\n",
    "turtle.seth(120)\n",
    "turtle.fd(100)\n",
    "turtle.seth(240)\n",
    "turtle.fd(100) \n",
    "turtle.done()"
   ]
  },
  {
   "cell_type": "code",
   "execution_count": 3,
   "metadata": {},
   "outputs": [],
   "source": [
    "import turtle\n",
    "#draw first circle\n",
    "turtle.penup()\n",
    "turtle.goto(0,-200)\n",
    "turtle.pendown()\n",
    "turtle.circle(200)\n",
    "#draw second circle\n",
    "turtle.penup()\n",
    "turtle.goto(0,-150)\n",
    "turtle.pendown()\n",
    "turtle.circle(150)\n",
    "#draw third circle\n",
    "turtle.penup()\n",
    "turtle.goto(0,-100)\n",
    "turtle.pendown()\n",
    "turtle.circle(100)\n",
    "#draw fourth circle\n",
    "turtle.penup()\n",
    "turtle.goto(0,-50)\n",
    "turtle.pendown()\n",
    "turtle.circle(50)"
   ]
  },
  {
   "cell_type": "code",
   "execution_count": null,
   "metadata": {},
   "outputs": [],
   "source": [
    "import turtle  \n",
    "p = turtle  \n",
    "p.pensize(3)  \n",
    "p.color(\"blue\")  \n",
    "p.circle(30,360)  \n",
    "p.pu()  \n",
    "p.goto(60,0)  \n",
    "p.pd()  \n",
    "p.color(\"black\")  \n",
    "p.circle(30,360)  \n",
    "p.pu()  \n",
    "p.goto(120,0)  \n",
    "p.pd()  \n",
    "p.color(\"red\")  \n",
    "p.circle(30,360)  \n",
    "p.pu()  \n",
    "p.goto(90,-30)  \n",
    "p.pd()  \n",
    "p.color(\"green\")  \n",
    "p.circle(30,360)  \n",
    "p.pu()  \n",
    "p.goto(30,-30)  \n",
    "p.pd()  \n",
    "p.color(\"yellow\")  \n",
    "p.circle(30,360)  \n",
    "p.done()  "
   ]
  },
  {
   "cell_type": "code",
   "execution_count": null,
   "metadata": {},
   "outputs": [],
   "source": []
  }
 ],
 "metadata": {
  "kernelspec": {
   "display_name": "Python 3",
   "language": "python",
   "name": "python3"
  },
  "language_info": {
   "codemirror_mode": {
    "name": "ipython",
    "version": 3
   },
   "file_extension": ".py",
   "mimetype": "text/x-python",
   "name": "python",
   "nbconvert_exporter": "python",
   "pygments_lexer": "ipython3",
   "version": "3.6.2"
  }
 },
 "nbformat": 4,
 "nbformat_minor": 2
}
