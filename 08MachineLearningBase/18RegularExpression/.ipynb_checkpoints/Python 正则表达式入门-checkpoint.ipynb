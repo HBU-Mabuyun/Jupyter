{
 "cells": [
  {
   "cell_type": "markdown",
   "metadata": {},
   "source": [
    "##### https://www.cnblogs.com/chuxiuhong/p/5885073.html"
   ]
  },
  {
   "cell_type": "code",
   "execution_count": 12,
   "metadata": {},
   "outputs": [
    {
     "name": "stdout",
     "output_type": "stream",
     "text": [
      "hello world\n"
     ]
    }
   ],
   "source": [
    "import re\n",
    "key = r\"<html><body><h1>hello world<h1></body></html>\"#这段是你要匹配的文本\n",
    "p1 = r\"(?<=<h1>).+?(?=<h1>)\"#这是我们写的正则表达式规则，你现在可以不理解啥意思\n",
    "pattern1 = re.compile(p1)#我们在编译这段正则表达式\n",
    "matcher1 = re.search(pattern1,key)#在源文本中搜索符合正则表达式的部分\n",
    "print (matcher1.group(0))#打印出来"
   ]
  },
  {
   "cell_type": "code",
   "execution_count": 13,
   "metadata": {},
   "outputs": [
    {
     "name": "stdout",
     "output_type": "stream",
     "text": [
      "python\n"
     ]
    }
   ],
   "source": [
    "key = r\"javapythonhtmlvhdl\"#这是源文本\n",
    "p1 = r\"python\"#这是我们写的正则表达式\n",
    "pattern1 = re.compile(p1)#同样是编译\n",
    "matcher1 = re.search(pattern1,key)#同样是查询\n",
    "print (matcher1.group(0))"
   ]
  },
  {
   "cell_type": "markdown",
   "metadata": {},
   "source": [
    "# 初级"
   ]
  },
  {
   "cell_type": "code",
   "execution_count": 14,
   "metadata": {},
   "outputs": [
    {
     "name": "stdout",
     "output_type": "stream",
     "text": [
      "['<h1>hello world<h1>']\n"
     ]
    }
   ],
   "source": [
    "key = r\"<h1>hello world<h1>\"#源文本\n",
    "p1 = r\"<h1>.+<h1>\"#我们写的正则表达式，下面会将为什么\n",
    "pattern1 = re.compile(p1)\n",
    "print (pattern1.findall(key))#发没发现，我怎么写成findall了？咋变了呢？"
   ]
  },
  {
   "cell_type": "code",
   "execution_count": 16,
   "metadata": {},
   "outputs": [
    {
     "data": {
      "text/plain": [
       "['chuxiuhong@hit.edu.cn']"
      ]
     },
     "execution_count": 16,
     "metadata": {},
     "output_type": "execute_result"
    }
   ],
   "source": [
    "key = r\"afiouwehrfuichuxiuhong@hit.edu.cnaskdjhfiosueh\"\n",
    "p1 = r\"chuxiuhong@hit.edu.cn\"\n",
    "pattern1 = re.compile(p1)\n",
    "pattern1.findall(key)"
   ]
  },
  {
   "cell_type": "code",
   "execution_count": 18,
   "metadata": {},
   "outputs": [
    {
     "data": {
      "text/plain": [
       "['http://', 'https://']"
      ]
     },
     "execution_count": 18,
     "metadata": {},
     "output_type": "execute_result"
    }
   ],
   "source": [
    "key = r\"http://www.nsfbuhwe.com and https://www.auhfisna.com\"#胡编乱造的网址，别在意\n",
    "p1 = r\"https?://\"#看那个星号！\n",
    "pattern1 = re.compile(p1)\n",
    "pattern1.findall(key)"
   ]
  },
  {
   "cell_type": "code",
   "execution_count": 20,
   "metadata": {},
   "outputs": [
    {
     "data": {
      "text/plain": [
       "['<hTml>hello</Html>']"
      ]
     },
     "execution_count": 20,
     "metadata": {},
     "output_type": "execute_result"
    }
   ],
   "source": [
    "key = r\"lalala<hTml>hello</Html>heiheihei\"\n",
    "p1 = r\"<[Hh][Tt][Mm][Ll]>.+</[Hh][Tt][Mm][Ll]>\"\n",
    "pattern1 = re.compile(p1)\n",
    "pattern1.findall(key)"
   ]
  },
  {
   "cell_type": "code",
   "execution_count": 21,
   "metadata": {},
   "outputs": [
    {
     "data": {
      "text/plain": [
       "['mat', 'cat', 'hat']"
      ]
     },
     "execution_count": 21,
     "metadata": {},
     "output_type": "execute_result"
    }
   ],
   "source": [
    "key = r\"mat cat hat pat\"\n",
    "p1 = r\"[^p]at\"#这代表除了p以外都匹配\n",
    "pattern1 = re.compile(p1)\n",
    "pattern1.findall(key)"
   ]
  },
  {
   "cell_type": "code",
   "execution_count": 22,
   "metadata": {},
   "outputs": [
    {
     "data": {
      "text/plain": [
       "['@hit.edu.']"
      ]
     },
     "execution_count": 22,
     "metadata": {},
     "output_type": "execute_result"
    }
   ],
   "source": [
    "key = r\"chuxiuhong@hit.edu.cn\"\n",
    "p1 = r\"@.+\\.\"#我想匹配到@后面一直到“.”之间的，在这里是hit\n",
    "pattern1 = re.compile(p1)\n",
    "pattern1.findall(key)"
   ]
  },
  {
   "cell_type": "code",
   "execution_count": 24,
   "metadata": {},
   "outputs": [
    {
     "data": {
      "text/plain": [
       "['@hit.']"
      ]
     },
     "execution_count": 24,
     "metadata": {},
     "output_type": "execute_result"
    }
   ],
   "source": [
    "key = r\"chuxiuhong@hit.edu.cn\"\n",
    "p1 = r\"@.+?\\.\"#我想匹配到@后面一直到“.”之间的，在这里是hit\n",
    "pattern1 = re.compile(p1)\n",
    "pattern1.findall(key)"
   ]
  },
  {
   "cell_type": "code",
   "execution_count": 27,
   "metadata": {},
   "outputs": [
    {
     "data": {
      "text/plain": [
       "['@hit.edu.']"
      ]
     },
     "execution_count": 27,
     "metadata": {},
     "output_type": "execute_result"
    }
   ],
   "source": [
    "key = r\"chuxiuhong@hit.edu.cn\"\n",
    "p1 = r\"@.+\\.\"#我想匹配到@后面一直到“.”之间的，在这里是hit\n",
    "pattern1 = re.compile(p1)\n",
    "pattern1.findall(key)"
   ]
  },
  {
   "cell_type": "code",
   "execution_count": 28,
   "metadata": {},
   "outputs": [
    {
     "data": {
      "text/plain": [
       "['saas', 'sas']"
      ]
     },
     "execution_count": 28,
     "metadata": {},
     "output_type": "execute_result"
    }
   ],
   "source": [
    "key = r\"saas and sas and saaas\"\n",
    "p1 = r\"sa{1,2}s\"\n",
    "pattern1 = re.compile(p1)\n",
    "pattern1.findall(key)"
   ]
  },
  {
   "cell_type": "markdown",
   "metadata": {},
   "source": [
    "# 中级"
   ]
  },
  {
   "cell_type": "code",
   "execution_count": 29,
   "metadata": {},
   "outputs": [
    {
     "data": {
      "text/plain": [
       "'hello world'"
      ]
     },
     "execution_count": 29,
     "metadata": {},
     "output_type": "execute_result"
    }
   ],
   "source": [
    "key = r\"<html><body><h1>hello world</h1></body></html>\"#这段是你要匹配的文本\n",
    "p1 = r\"(?<=<h1>).+?(?=</h1>)\"#这是我们写的正则表达式规则，你现在可以不理解啥意思\n",
    "pattern1 = re.compile(p1)#我们在编译这段正则表达式\n",
    "matcher1 = re.search(pattern1,key)#在源文本中搜索符合正则表达式的部分\n",
    "matcher1.group(0)#打印出来"
   ]
  },
  {
   "cell_type": "code",
   "execution_count": 32,
   "metadata": {},
   "outputs": [
    {
     "data": {
      "text/plain": [
       "'<h1>hello world</h1>'"
      ]
     },
     "execution_count": 32,
     "metadata": {},
     "output_type": "execute_result"
    }
   ],
   "source": [
    "key = r\"<h1>hello world</h1>\"\n",
    "p1 = r\"<h([1-6])>.*?</h\\1>\"\n",
    "pattern1 = re.compile(p1)\n",
    "m1 = re.search(pattern1,key)\n",
    "m1.group(0)"
   ]
  },
  {
   "cell_type": "code",
   "execution_count": null,
   "metadata": {},
   "outputs": [],
   "source": []
  }
 ],
 "metadata": {
  "kernelspec": {
   "display_name": "Python 3",
   "language": "python",
   "name": "python3"
  },
  "language_info": {
   "codemirror_mode": {
    "name": "ipython",
    "version": 3
   },
   "file_extension": ".py",
   "mimetype": "text/x-python",
   "name": "python",
   "nbconvert_exporter": "python",
   "pygments_lexer": "ipython3",
   "version": "3.6.2"
  }
 },
 "nbformat": 4,
 "nbformat_minor": 2
}
