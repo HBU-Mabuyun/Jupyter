{
 "cells": [
  {
   "cell_type": "markdown",
   "metadata": {},
   "source": [
    "## https://www.jianshu.com/p/6ddf6f40f03c"
   ]
  },
  {
   "cell_type": "markdown",
   "metadata": {},
   "source": [
    "# 一. 关于简单的字符串的例子"
   ]
  },
  {
   "cell_type": "markdown",
   "metadata": {},
   "source": [
    "## 1.设计一个正则来过滤一个字符串序列中的10到59"
   ]
  },
  {
   "cell_type": "code",
   "execution_count": 31,
   "metadata": {},
   "outputs": [
    {
     "name": "stdout",
     "output_type": "stream",
     "text": [
      "['10', '20', '30', '40', '59', '59']\n"
     ]
    }
   ],
   "source": [
    "import re\n",
    "\n",
    "patt = r'[1-5][0-9]'\n",
    "match = re.findall(patt,'5,10,20,30,40,2,3,59,60,99,591')\n",
    "if match:\n",
    "    print(match)"
   ]
  },
  {
   "cell_type": "code",
   "execution_count": 32,
   "metadata": {},
   "outputs": [
    {
     "name": "stdout",
     "output_type": "stream",
     "text": [
      "['10', '20', '30', '40', '59']\n"
     ]
    }
   ],
   "source": [
    "str1 = '10,20,30,40,2,3,59,60'\n",
    "\n",
    "print ([x for x in str1.split(',')if int(x)>=10 and int(x)<=59]) #推导列表"
   ]
  },
  {
   "cell_type": "code",
   "execution_count": 33,
   "metadata": {},
   "outputs": [
    {
     "name": "stdout",
     "output_type": "stream",
     "text": [
      "['10', '20', '30', '40', '59']\n"
     ]
    }
   ],
   "source": [
    "import re\n",
    "\n",
    "str1 = 'xy,10,20,30,40,62,3,59,1w,xyz'\n",
    "patt = r'[1-5][0-9]'\n",
    "match = re.findall(patt,str1)\n",
    "if match:\n",
    "    print (match)"
   ]
  },
  {
   "cell_type": "markdown",
   "metadata": {},
   "source": [
    "## 2.过滤字符串中的只含2个字符的字母，并且第一个字母是大写A或B或C"
   ]
  },
  {
   "cell_type": "code",
   "execution_count": 34,
   "metadata": {},
   "outputs": [
    {
     "name": "stdout",
     "output_type": "stream",
     "text": [
      "['Ab', 'Cz', 'Bd', 'BB', 'BB', 'BB', 'BB']\n"
     ]
    }
   ],
   "source": [
    "import re\n",
    "\n",
    "patt=r'[A-C][a-zA-Z]'\n",
    "match=re.findall(patt,'xy,1,2,3,4,Ab,w1,Cz,B1,Bd,Da,BB,DB,Eff,BBB,BBC,BB1,bb1')\n",
    "if match:\n",
    "    print(match)"
   ]
  },
  {
   "cell_type": "code",
   "execution_count": 35,
   "metadata": {},
   "outputs": [
    {
     "name": "stdout",
     "output_type": "stream",
     "text": [
      "['Ab', 'Cz', 'Bd', 'BB']\n"
     ]
    }
   ],
   "source": [
    "patt=r'\\b[A-C][a-zA-Z]\\b'\n",
    "match=re.findall(patt,'xy,1,2,3,4,Ab,w1,Cz,B1,Bd,Da,BB,DB,Eff,BBB,BBC,BB1,bb1')\n",
    "if match:\n",
    "    print(match)"
   ]
  },
  {
   "cell_type": "markdown",
   "metadata": {},
   "source": [
    "## 3.过滤一个字符串中的含3个字母的独立字符"
   ]
  },
  {
   "cell_type": "code",
   "execution_count": 36,
   "metadata": {},
   "outputs": [
    {
     "name": "stdout",
     "output_type": "stream",
     "text": [
      "['xyh', 'soh', 'xyh', 'abc']\n"
     ]
    }
   ],
   "source": [
    "import re\n",
    "\n",
    "patt=r'[a-zA-Z]{3}'\n",
    "match=re.findall(patt,'xyhh,a,1,2,?,123@sohu,Ab,w1,Cz,xyh,abc')\n",
    "if match:\n",
    "    print(match)"
   ]
  },
  {
   "cell_type": "code",
   "execution_count": 37,
   "metadata": {},
   "outputs": [
    {
     "name": "stdout",
     "output_type": "stream",
     "text": [
      "['xyh', 'abc']\n"
     ]
    }
   ],
   "source": [
    "patt=r'\\b[a-zA-Z]{3}\\b'\n",
    "match=re.findall(patt,'xyhh,a,1,2,?,123@sohu,Ab,w1,Cz,xyh,abc')\n",
    "if match:\n",
    "    print(match)"
   ]
  },
  {
   "cell_type": "markdown",
   "metadata": {},
   "source": [
    "## 4.过滤一个字符串中的含3个字母的字符,并且最后一个字母是z"
   ]
  },
  {
   "cell_type": "code",
   "execution_count": 38,
   "metadata": {},
   "outputs": [
    {
     "name": "stdout",
     "output_type": "stream",
     "text": [
      "['xyz', 'xyzz']\n"
     ]
    }
   ],
   "source": [
    "patt=r'[a-zA-Z][a-zA-Z][z]+'\n",
    "match=re.findall(patt,'xy,1,2,3,4,Ab,w1,Cz,xyh,xyz,xyzz')\n",
    "if match:\n",
    "    print(match)"
   ]
  },
  {
   "cell_type": "code",
   "execution_count": 39,
   "metadata": {},
   "outputs": [
    {
     "name": "stdout",
     "output_type": "stream",
     "text": [
      "['xyz']\n"
     ]
    }
   ],
   "source": [
    "patt=r'\\b[a-zA-Z][a-zA-Z][z]\\b'\n",
    "match=re.findall(patt,'xy,1,2,3,4,Ab,w1,Cz,xyh,xyz,xyzz')\n",
    "if match:\n",
    "    print(match)"
   ]
  },
  {
   "cell_type": "markdown",
   "metadata": {},
   "source": [
    "# 二. 匹配12小时制时间"
   ]
  },
  {
   "cell_type": "code",
   "execution_count": 41,
   "metadata": {},
   "outputs": [
    {
     "name": "stdout",
     "output_type": "stream",
     "text": [
      "['10:00am', '99:90am', '12:49pm', '15:00pm']\n"
     ]
    }
   ],
   "source": [
    "patt=r'[0-9][0-9]:[0-9][0-9]am|[0-9][0-9]:[0-9][0-9]pm'\n",
    "match=re.findall(patt,'10:00am,99:90am,8:00am,12:49pm,3:51pm,15:00pm')\n",
    "if match:\n",
    "    print(match)"
   ]
  },
  {
   "cell_type": "code",
   "execution_count": 44,
   "metadata": {},
   "outputs": [
    {
     "name": "stdout",
     "output_type": "stream",
     "text": [
      "['10:00am', '8:00am', '12:49pm', '3:51pm']\n"
     ]
    }
   ],
   "source": [
    "patt=r'\\b(1[0-2]|[1-9])(:)([0-5][0-9][ap]m)'\n",
    "match=re.findall(patt,'10:00am,99:90am,8:00am,12:49pm,3:51pm,15:00pm')\n",
    "if match:\n",
    "    print([''.join(x) for x in match]) # Python join() 方法用于将序列中的元素以指定的字符连接生成一个新的字符串。"
   ]
  },
  {
   "cell_type": "markdown",
   "metadata": {},
   "source": [
    "# 思考题"
   ]
  },
  {
   "cell_type": "code",
   "execution_count": 45,
   "metadata": {},
   "outputs": [
    {
     "name": "stdout",
     "output_type": "stream",
     "text": [
      "['10:00am', '8:00am', '19:19pm', '14:00pm', '23:23pm']\n"
     ]
    }
   ],
   "source": [
    "patt = r'\\b(1[0-9]|2[0-3]|[0-9])(:)([0-5][0-9][ap]m)'\n",
    "match=re.findall(patt,'10:00am,99:90am,8:00am,19:19pm:14:00pm,5:xm,23:23pm,29:19pm')\n",
    "if match:\n",
    "    print([''.join(x) for x in match])"
   ]
  },
  {
   "cell_type": "code",
   "execution_count": null,
   "metadata": {},
   "outputs": [],
   "source": []
  }
 ],
 "metadata": {
  "kernelspec": {
   "display_name": "Python 3",
   "language": "python",
   "name": "python3"
  },
  "language_info": {
   "codemirror_mode": {
    "name": "ipython",
    "version": 3
   },
   "file_extension": ".py",
   "mimetype": "text/x-python",
   "name": "python",
   "nbconvert_exporter": "python",
   "pygments_lexer": "ipython3",
   "version": "3.6.2"
  }
 },
 "nbformat": 4,
 "nbformat_minor": 2
}
