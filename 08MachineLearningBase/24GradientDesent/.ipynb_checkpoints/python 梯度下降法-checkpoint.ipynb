{
 "cells": [
  {
   "cell_type": "markdown",
   "metadata": {},
   "source": [
    "##### http://blog.lisp4fun.com/2017/11/02/gradient-desent"
   ]
  },
  {
   "cell_type": "code",
   "execution_count": 1,
   "metadata": {},
   "outputs": [
    {
     "data": {
      "image/png": "[encoded data removed]",
      "text/plain": [
       "<matplotlib.figure.Figure at 0x23795bf8d68>"
      ]
     },
     "metadata": {},
     "output_type": "display_data"
    }
   ],
   "source": [
    "%matplotlib inline\n",
    "import numpy as np\n",
    "import matplotlib.pyplot as plt\n",
    "\n",
    "spaces = [45, 73, 89, 120, 140, 163]\n",
    "prices = [80, 150, 198, 230, 280, 360]\n",
    "spaces, prices = np.array(spaces), np.array(prices)\n",
    "plt.scatter(spaces, prices, c='g')\n",
    "plt.xlabel('house space')\n",
    "plt.ylabel('house price')\n",
    "plt.show()\n",
    "\n",
    "## 显示房屋面积和房屋价格的散点图"
   ]
  },
  {
   "cell_type": "code",
   "execution_count": 2,
   "metadata": {},
   "outputs": [
    {
     "name": "stdout",
     "output_type": "stream",
     "text": [
      " h(x) = 0.016206 + 2.078464 * x\n"
     ]
    },
    {
     "data": {
      "image/png": "[encoded data removed]",
      "text/plain": [
       "<matplotlib.figure.Figure at 0x237963661d0>"
      ]
     },
     "metadata": {},
     "output_type": "display_data"
    }
   ],
   "source": [
    "%matplotlib inline\n",
    "import numpy as np\n",
    "import matplotlib.pyplot as plt\n",
    "\n",
    "## theta 初始值\n",
    "theta0 = 0\n",
    "theta1 = 0\n",
    "\n",
    "## 如果步长选择不对，则 theta 参数更新结果会不对\n",
    "step = 0.00005\n",
    "\n",
    "x_i0 = np.ones((len(spaces)))\n",
    "\n",
    "# 假设函数\n",
    "def h(x) :\n",
    "  return theta0 + theta1 * x\n",
    "\n",
    "# 损失函数\n",
    "def calc_error() :\n",
    "  return np.sum(np.power((h(spaces) - prices),2)) / 6\n",
    "\n",
    "# 损失函数偏导数( theta 0)\n",
    "def calc_delta0() :\n",
    "  return step * np.sum((h(spaces) - prices) * x_i0) / 6\n",
    "\n",
    "# 损失函数偏导数( theta 1)\n",
    "def calc_delta1() :\n",
    "  return step * np.sum((h(spaces) - prices) * spaces) / 6\n",
    "\n",
    "# 循环更新 theta 值并计算误差，停止条件为\n",
    "#  1. 误差小于某个值\n",
    "#  2. 循环次数控制\n",
    "k = 0\n",
    "while True :\n",
    "  delta0 = calc_delta0()\n",
    "  delta1 = calc_delta1()\n",
    "  theta0 = theta0 - delta0\n",
    "  theta1 = theta1 - delta1\n",
    "  error = calc_error()\n",
    "  # print(\"delta [%f, %f], theta [%f, %f], error %f\" % (delta0, delta1, theta0, theta1, error))\n",
    "  k = k + 1\n",
    "  if (k > 10 or error < 200) : \n",
    "    break\n",
    "\n",
    "\n",
    "print(\" h(x) = %f + %f * x\" % (theta0, theta1))\n",
    "    \n",
    "# 使用假设函数计算出来的价格，用于画拟合曲线\n",
    "y_out = h(spaces)\n",
    "\n",
    "plt.scatter(spaces, prices, c='g')\n",
    "plt.plot(spaces, y_out, c='b')\n",
    "plt.xlabel('house space')\n",
    "plt.ylabel('house price')\n",
    "plt.show()\n",
    "\n",
    "# 绿色的点是房屋面积和价格数据\n",
    "# 蓝色的线是我们使用梯度下降法拟合出来的曲线"
   ]
  },
  {
   "cell_type": "code",
   "execution_count": 3,
   "metadata": {},
   "outputs": [
    {
     "name": "stdout",
     "output_type": "stream",
     "text": [
      "theta array :  [ 0.01620597  2.07846445]\n"
     ]
    }
   ],
   "source": [
    "%matplotlib inline\n",
    "import numpy as np\n",
    "import matplotlib.pyplot as plt\n",
    "\n",
    "## 输入数据格式:\n",
    "##  1. 一个特征的是一维数组，表示样本\n",
    "##  2. 多个特征的是二维数组，列表示特征数，行表示样本数\n",
    "spaces = np.array([45, 73, 89, 120, 140, 163])\n",
    "prices = np.array([80, 150, 198, 230, 280, 360])\n",
    "\n",
    "# 步长\n",
    "step = 0.00005\n",
    "\n",
    "## 先计算输入的特征个数, 然后根据特征数生成 theta，并在样本数据前面插入一列全1数据\n",
    "def genrate_model(inputs) :\n",
    "  _features = 2\n",
    "  _samples = inputs.shape[0]\n",
    "  if len(inputs.shape) == 2 :\n",
    "    _features = inputs.shape[2] + 1\n",
    "  _x0 = np.ones(_samples)\n",
    "  _theta = np.zeros(_features)\n",
    "  return np.c_[_x0, inputs], _theta, _samples\n",
    "\n",
    "## 假设函数：输入数据矩阵与theta向量向乘, 返回多项式结果的一维矩阵\n",
    "def h_a(x) :\n",
    "    return (theta * x).sum(axis=1)\n",
    "\n",
    "## 损失函数\n",
    "def e_a(x,y) :\n",
    "  return np.sum(np.power((h_a(x) - y),2)) / m\n",
    "\n",
    "## delta函数：计算偏导乘以补偿\n",
    "def delta_a(x, y) :\n",
    "  return step * ((h_a(x) - y) * np.transpose(x)).sum(axis=1) / m\n",
    "\n",
    "\n",
    "## 系统的特征数 + 1\n",
    "x_data, theta, m = genrate_model(spaces)\n",
    "y_data = prices\n",
    "\n",
    "\n",
    "## 重新计算 delta 并更新 theta\n",
    "k = 0\n",
    "while True:\n",
    "    _d = delta_a(x_data, y_data)\n",
    "    theta = theta - _d\n",
    "    error = e_a(x_data, y_data)\n",
    "    # print(\"delta\", _d, \"theta \", theta , \", error \", error, \"k \", k)\n",
    "    k = k + 1\n",
    "    if (k > 10 or error < 200) :\n",
    "      break;\n",
    "\n",
    "# 打印 theta 结果，可以看出与上面 python 代码计算的结果是一致的。\n",
    "print(\"theta array : \" , theta)"
   ]
  },
  {
   "cell_type": "code",
   "execution_count": null,
   "metadata": {},
   "outputs": [],
   "source": []
  }
 ],
 "metadata": {
  "kernelspec": {
   "display_name": "Python 3",
   "language": "python",
   "name": "python3"
  },
  "language_info": {
   "codemirror_mode": {
    "name": "ipython",
    "version": 3
   },
   "file_extension": ".py",
   "mimetype": "text/x-python",
   "name": "python",
   "nbconvert_exporter": "python",
   "pygments_lexer": "ipython3",
   "version": "3.6.2"
  }
 },
 "nbformat": 4,
 "nbformat_minor": 2
}
