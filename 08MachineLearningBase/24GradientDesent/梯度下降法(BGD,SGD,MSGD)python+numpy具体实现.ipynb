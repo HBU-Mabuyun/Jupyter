{
 "cells": [
  {
   "cell_type": "markdown",
   "metadata": {},
   "source": [
    "##### https://blog.csdn.net/pengjian444/article/details/71075544"
   ]
  },
  {
   "cell_type": "markdown",
   "metadata": {},
   "source": [
    "它在线性回归中的意义在于通过寻找梯度最大的方向下降（或上升）来找到损失函数最小时候对应的参数值。"
   ]
  },
  {
   "cell_type": "markdown",
   "metadata": {},
   "source": [
    "梯度下降是一阶迭代优化算法。梯度下降也被称为最陡峭的下降，或最快下降的方法。"
   ]
  },
  {
   "cell_type": "code",
   "execution_count": 3,
   "metadata": {},
   "outputs": [
    {
     "name": "stdout",
     "output_type": "stream",
     "text": [
      "[ 0.96840495  0.93767929]\n"
     ]
    }
   ],
   "source": [
    "import numpy as np\n",
    "\n",
    "\n",
    "def cal_rosenbrock(x1, x2):\n",
    "    \"\"\"\n",
    "    计算rosenbrock函数的值\n",
    "    :param x1:\n",
    "    :param x2:\n",
    "    :return:\n",
    "    \"\"\"\n",
    "    return (1 - x1) ** 2 + 100 * (x2 - x1 ** 2) ** 2\n",
    "\n",
    "\n",
    "def cal_rosenbrock_prax(x1, x2):\n",
    "    \"\"\"\n",
    "    对x1求偏导\n",
    "    \"\"\"\n",
    "    return -2 + 2 * x1 - 400 * (x2 - x1 ** 2) * x1\n",
    "\n",
    "def cal_rosenbrock_pray(x1, x2):\n",
    "    \"\"\"\n",
    "    对x2求偏导\n",
    "    \"\"\"\n",
    "    return 200 * (x2 - x1 ** 2)\n",
    "\n",
    "def for_rosenbrock_func(max_iter_count=100000, step_size=0.001):\n",
    "    pre_x = np.zeros((2,), dtype=np.float32)\n",
    "    loss = 10\n",
    "    iter_count = 0\n",
    "    while loss > 0.001 and iter_count < max_iter_count:\n",
    "        error = np.zeros((2,), dtype=np.float32)\n",
    "        error[0] = cal_rosenbrock_prax(pre_x[0], pre_x[1])\n",
    "        error[1] = cal_rosenbrock_pray(pre_x[0], pre_x[1])\n",
    "\n",
    "        for j in range(2):\n",
    "            pre_x[j] -= step_size * error[j]\n",
    "\n",
    "        loss = cal_rosenbrock(pre_x[0], pre_x[1])  # 最小值为0\n",
    "\n",
    "        #print(\"iter_count: \", iter_count, \"the loss:\", loss)\n",
    "        iter_count += 1\n",
    "    return pre_x\n",
    "\n",
    "if __name__ == '__main__':\n",
    "    w = for_rosenbrock_func()  \n",
    "    print(w)"
   ]
  },
  {
   "cell_type": "markdown",
   "metadata": {},
   "source": [
    "# BGM（批量梯度下降法）"
   ]
  },
  {
   "cell_type": "markdown",
   "metadata": {},
   "source": [
    "# SGB（随机梯度下降法）"
   ]
  },
  {
   "cell_type": "markdown",
   "metadata": {},
   "source": [
    "# MBGB(小批量梯度下降法)"
   ]
  },
  {
   "cell_type": "code",
   "execution_count": null,
   "metadata": {},
   "outputs": [],
   "source": []
  }
 ],
 "metadata": {
  "kernelspec": {
   "display_name": "Python 3",
   "language": "python",
   "name": "python3"
  },
  "language_info": {
   "codemirror_mode": {
    "name": "ipython",
    "version": 3
   },
   "file_extension": ".py",
   "mimetype": "text/x-python",
   "name": "python",
   "nbconvert_exporter": "python",
   "pygments_lexer": "ipython3",
   "version": "3.6.2"
  }
 },
 "nbformat": 4,
 "nbformat_minor": 2
}
