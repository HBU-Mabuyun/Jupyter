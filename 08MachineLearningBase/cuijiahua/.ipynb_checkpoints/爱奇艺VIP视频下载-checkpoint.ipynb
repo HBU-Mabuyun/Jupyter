{
 "cells": [
  {
   "cell_type": "markdown",
   "metadata": {},
   "source": [
    "http://cuijiahua.com/blog/2017/10/spider_tutorial_1.html"
   ]
  },
  {
   "cell_type": "markdown",
   "metadata": {},
   "source": [
    "此程序已废！"
   ]
  },
  {
   "cell_type": "code",
   "execution_count": 26,
   "metadata": {},
   "outputs": [],
   "source": [
    "#-*- coding:UTF-8 -*-\n",
    "import requests,re, json\n",
    "from bs4 import BeautifulSoup\n",
    "\n",
    "class video_downloader():\n",
    "    def __init__(self, url):\n",
    "        print('URL:'+str(url))\n",
    "        self.server = 'http://api.xfsub.com'\n",
    "        self.api = 'http://api.xfsub.com/xfsub_api/?url='\n",
    "        self.get_url_api = 'http://api.xfsub.com/xfsub_api/url.php'\n",
    "        self.url = url.split('#')[0]\n",
    "        self.target = self.api + self.url\n",
    "        print(str(self.target))\n",
    "        self.s = requests.session()\n",
    "        \n",
    "\n",
    "    \"\"\"\n",
    "    函数说明:获取key、time、url等参数\n",
    "     \"?url=http://www.iqiyi.com/v_19rreglczg.html&rand=4fa2e9be39c27444f42794fc57923ff4\"\n",
    "    \"\"\"\n",
    "    def get_key(self):\n",
    "        req = self.s.get(url=self.target)\n",
    "        req.encoding = 'utf-8'\n",
    "        #print(req.text)\n",
    "        #self.info = json.loads(re.findall('\"url=\",\\ (.+),', req.text)[0])    #使用正则表达式匹配结果，将匹配的结果存入info变量中\n",
    "        self.info = r'http://www.iqiyi.com/v_19rreglczg.html&rand=4fa2e9be39c27444f42794fc57923ff4'\n",
    "        print(str(self.info))\n",
    "    \"\"\"\n",
    "    函数说明:获取视频地址\n",
    "    Parameters:\n",
    "        无\n",
    "    Returns:\n",
    "        video_url - 视频存放地址\n",
    "    Modify:\n",
    "        2017-09-18\n",
    "    \"\"\"\n",
    "    def get_url(self):\n",
    "        data = {'time':self.info['time'],\n",
    "            'key':self.info['key'],\n",
    "            'url':self.info['url'],\n",
    "            'type':''}\n",
    "        req = self.s.post(url=self.get_url_api,data=data)\n",
    "        url = self.server + json.loads(req.text)['url']\n",
    "        req = self.s.get(url)\n",
    "        bf = BeautifulSoup(req.text,'xml')                                        #因为文件是xml格式的，所以要进行xml解析。\n",
    "        video_url = bf.find('file').string                                        #匹配到视频地址\n",
    "        print('video_url:'+str(video_url))\n",
    "        return video_url\n",
    "\n"
   ]
  },
  {
   "cell_type": "code",
   "execution_count": 28,
   "metadata": {},
   "outputs": [
    {
     "name": "stdout",
     "output_type": "stream",
     "text": [
      "URL:http://www.iqiyi.com/v_19rreglczg.html#vfrm=19-9-0-1\n",
      "http://api.xfsub.com/xfsub_api/?url=http://www.iqiyi.com/v_19rreglczg.html\n",
      "http://www.iqiyi.com/v_19rreglczg.html&rand=4fa2e9be39c27444f42794fc57923ff4\n"
     ]
    },
    {
     "ename": "TypeError",
     "evalue": "string indices must be integers",
     "output_type": "error",
     "traceback": [
      "\u001b[1;31m---------------------------------------------------------------------------\u001b[0m",
      "\u001b[1;31mTypeError\u001b[0m                                 Traceback (most recent call last)",
      "\u001b[1;32m<ipython-input-28-7f008e476c59>\u001b[0m in \u001b[0;36m<module>\u001b[1;34m()\u001b[0m\n\u001b[0;32m      2\u001b[0m \u001b[0mvd\u001b[0m \u001b[1;33m=\u001b[0m \u001b[0mvideo_downloader\u001b[0m\u001b[1;33m(\u001b[0m\u001b[0murl\u001b[0m\u001b[1;33m)\u001b[0m\u001b[1;33m\u001b[0m\u001b[0m\n\u001b[0;32m      3\u001b[0m \u001b[0mvd\u001b[0m\u001b[1;33m.\u001b[0m\u001b[0mget_key\u001b[0m\u001b[1;33m(\u001b[0m\u001b[1;33m)\u001b[0m\u001b[1;33m\u001b[0m\u001b[0m\n\u001b[1;32m----> 4\u001b[1;33m \u001b[0mprint\u001b[0m\u001b[1;33m(\u001b[0m\u001b[0mvd\u001b[0m\u001b[1;33m.\u001b[0m\u001b[0mget_url\u001b[0m\u001b[1;33m(\u001b[0m\u001b[1;33m)\u001b[0m\u001b[1;33m)\u001b[0m\u001b[1;33m\u001b[0m\u001b[0m\n\u001b[0m",
      "\u001b[1;32m<ipython-input-26-d56b9f9fa654>\u001b[0m in \u001b[0;36mget_url\u001b[1;34m(self)\u001b[0m\n\u001b[0;32m     36\u001b[0m     \"\"\"\n\u001b[0;32m     37\u001b[0m     \u001b[1;32mdef\u001b[0m \u001b[0mget_url\u001b[0m\u001b[1;33m(\u001b[0m\u001b[0mself\u001b[0m\u001b[1;33m)\u001b[0m\u001b[1;33m:\u001b[0m\u001b[1;33m\u001b[0m\u001b[0m\n\u001b[1;32m---> 38\u001b[1;33m         data = {'time':self.info['time'],\n\u001b[0m\u001b[0;32m     39\u001b[0m             \u001b[1;34m'key'\u001b[0m\u001b[1;33m:\u001b[0m\u001b[0mself\u001b[0m\u001b[1;33m.\u001b[0m\u001b[0minfo\u001b[0m\u001b[1;33m[\u001b[0m\u001b[1;34m'key'\u001b[0m\u001b[1;33m]\u001b[0m\u001b[1;33m,\u001b[0m\u001b[1;33m\u001b[0m\u001b[0m\n\u001b[0;32m     40\u001b[0m             \u001b[1;34m'url'\u001b[0m\u001b[1;33m:\u001b[0m\u001b[0mself\u001b[0m\u001b[1;33m.\u001b[0m\u001b[0minfo\u001b[0m\u001b[1;33m[\u001b[0m\u001b[1;34m'url'\u001b[0m\u001b[1;33m]\u001b[0m\u001b[1;33m,\u001b[0m\u001b[1;33m\u001b[0m\u001b[0m\n",
      "\u001b[1;31mTypeError\u001b[0m: string indices must be integers"
     ]
    }
   ],
   "source": [
    "url = u'http://www.iqiyi.com/v_19rreglczg.html#vfrm=19-9-0-1'\n",
    "vd = video_downloader(url)\n",
    "vd.get_key()\n",
    "print(vd.get_url())"
   ]
  },
  {
   "cell_type": "code",
   "execution_count": null,
   "metadata": {},
   "outputs": [],
   "source": []
  }
 ],
 "metadata": {
  "kernelspec": {
   "display_name": "Python 3",
   "language": "python",
   "name": "python3"
  },
  "language_info": {
   "codemirror_mode": {
    "name": "ipython",
    "version": 3
   },
   "file_extension": ".py",
   "mimetype": "text/x-python",
   "name": "python",
   "nbconvert_exporter": "python",
   "pygments_lexer": "ipython3",
   "version": "3.6.2"
  }
 },
 "nbformat": 4,
 "nbformat_minor": 2
}
