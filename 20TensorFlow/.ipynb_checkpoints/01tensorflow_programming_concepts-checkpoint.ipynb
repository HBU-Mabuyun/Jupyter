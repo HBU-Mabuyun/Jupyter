{
 "cells": [
  {
   "cell_type": "markdown",
   "metadata": {},
   "source": [
    "# 张量：任意维度的数组\n",
    "# 低维张量：\n",
    "- 标量是零维数组（零阶张量）。例如，\\'Howdy\\' 或 5\n",
    "- 矢量是一维数组（一阶张量）。例如，[2, 3, 5, 7, 11] 或 [5]\n",
    "- 矩阵是二维数组（二阶张量）。例如，[[3.1, 8.2, 5.9][4.3, -2.7, 6.5]]\n",
    "\n",
    "# TensorFlow 指令:会创建、销毁和操控张量。\n",
    "# TensorFlow 图（也称为计算图或数据流图）:\n",
    "是一种图数据结构。\n",
    "# 图必须在 TensorFlow 会话中运行，会话存储了它所运行的图的状态."
   ]
  },
  {
   "cell_type": "code",
   "execution_count": 1,
   "metadata": {},
   "outputs": [
    {
     "name": "stdout",
     "output_type": "stream",
     "text": [
      "13\n",
      "17\n"
     ]
    }
   ],
   "source": [
    "import matplotlib.pyplot as plt # 数据集可视化。\n",
    "import numpy as np              # 低级数字 Python 库。\n",
    "import pandas as pd             # 较高级别的数字 Python 库。\n",
    "\n",
    "import tensorflow as tf\n",
    "\n",
    "# Create a graph.\n",
    "g = tf.Graph()\n",
    "\n",
    "# Establish the graph as the \"default\" graph.\n",
    "with g.as_default():\n",
    "  # Assemble a graph consisting of the following three operations:\n",
    "  #   * Two tf.constant operations to create the operands.\n",
    "  #   * One tf.add operation to add the two operands.\n",
    "  x = tf.constant(8, name=\"x_const\")\n",
    "  y = tf.constant(5, name=\"y_const\")\n",
    "  sum = tf.add(x, y, name=\"x_y_sum\")\n",
    "\n",
    "\n",
    "  # Now create a session.\n",
    "  # The session will run the default graph.\n",
    "  with tf.Session() as sess:\n",
    "      print(sum.eval())\n",
    "\n",
    "# Establish our graph as the \"default\" graph.\n",
    "with g.as_default():\n",
    "    # Assemble a graph consisting of three operations.\n",
    "    # (Creating a tensor is an operation.)\n",
    "    x = tf.constant(8, name=\"x_const\")\n",
    "    y = tf.constant(5, name=\"y_const\")\n",
    "    sum = tf.add(x, y, name=\"x_y_sum\")\n",
    "\n",
    "    # Task 1: Define a third scalar integer constant z.\n",
    "    z = tf.constant(4, name=\"z_const\")\n",
    "    # Task 2: Add z to `sum` to yield a new sum.\n",
    "    new_sum = tf.add(sum, z, name=\"x_y_z_sum\")\n",
    "\n",
    "    # Now create a session.\n",
    "    # The session will run the default graph.\n",
    "    with tf.Session() as sess:\n",
    "        # Task 3: Ensure the program yields the correct grand total.\n",
    "        print(new_sum.eval())"
   ]
  },
  {
   "cell_type": "code",
   "execution_count": null,
   "metadata": {},
   "outputs": [],
   "source": []
  }
 ],
 "metadata": {
  "kernelspec": {
   "display_name": "Python 3",
   "language": "python",
   "name": "python3"
  },
  "language_info": {
   "codemirror_mode": {
    "name": "ipython",
    "version": 3
   },
   "file_extension": ".py",
   "mimetype": "text/x-python",
   "name": "python",
   "nbconvert_exporter": "python",
   "pygments_lexer": "ipython3",
   "version": "3.6.4"
  }
 },
 "nbformat": 4,
 "nbformat_minor": 2
}
