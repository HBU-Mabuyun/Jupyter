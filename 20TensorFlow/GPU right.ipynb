{
 "cells": [
  {
   "cell_type": "code",
   "execution_count": 1,
   "metadata": {},
   "outputs": [],
   "source": [
    "import tensorflow as tf"
   ]
  },
  {
   "cell_type": "code",
   "execution_count": 2,
   "metadata": {},
   "outputs": [
    {
     "data": {
      "text/plain": [
       "<tf.Tensor 'Const:0' shape=() dtype=string>"
      ]
     },
     "execution_count": 2,
     "metadata": {},
     "output_type": "execute_result"
    }
   ],
   "source": [
    "tf.constant('Hello, TensorFlow!')  "
   ]
  },
  {
   "cell_type": "code",
   "execution_count": 3,
   "metadata": {},
   "outputs": [
    {
     "name": "stdout",
     "output_type": "stream",
     "text": [
      "[ 2.  4.  6.]\n"
     ]
    }
   ],
   "source": [
    "# python 3.5.3\n",
    "import tensorflow as tf\n",
    "a = tf.constant([1.0, 2.0, 3.0], shape=[3], name='a')\n",
    "b = tf.constant([1.0, 2.0, 3.0], shape=[3], name='b')\n",
    "c = a + b\n",
    "sess = tf.Session(config = tf.ConfigProto(log_device_placement=True))\n",
    "print(sess.run(c))"
   ]
  },
  {
   "cell_type": "code",
   "execution_count": 6,
   "metadata": {},
   "outputs": [
    {
     "name": "stdout",
     "output_type": "stream",
     "text": [
      "[[ 0.  0.  3.]\n",
      " [ 0.  0.  3.]\n",
      " [ 0.  0.  3.]]\n",
      "2\n",
      "[[ 2.  4.  6.]\n",
      " [ 2.  4.  6.]\n",
      " [ 2.  4.  6.]]\n"
     ]
    }
   ],
   "source": [
    "import tensorflow as tf  \n",
    "\n",
    "#两个矩阵相乘\n",
    "x=tf.constant([[1.0,2.0,3.0],[1.0,2.0,3.0],[1.0,2.0,3.0]])  \n",
    "y=tf.constant([[0,0,1.0],[0,0,1.0],[0,0,1.0]])\n",
    "#注意这里这里x,y要有相同的数据类型，不然就会因为数据类型不匹配而出错\n",
    "z=tf.multiply(x,y)\n",
    "\n",
    "#两个数相乘\n",
    "x1=tf.constant(1)\n",
    "y1=tf.constant(2)\n",
    "#注意这里这里x1,y1要有相同的数据类型，不然就会因为数据类型不匹配而出错\n",
    "z1=tf.multiply(x1,y1)\n",
    "\n",
    "#数和矩阵相乘\n",
    "x2=tf.constant([[1.0,2.0,3.0],[1.0,2.0,3.0],[1.0,2.0,3.0]])\n",
    "y2=tf.constant(2.0)\n",
    "#注意这里这里x1,y1要有相同的数据类型，不然就会因为数据类型不匹配而出错\n",
    "z2=tf.multiply(x2,y2)\n",
    "\n",
    "with tf.Session() as sess:  \n",
    "    print(sess.run(z))\n",
    "    print(sess.run(z1))\n",
    "    print(sess.run(z2))\n",
    "    \n",
    "z2=tf.multiply(x2,y2)  "
   ]
  },
  {
   "cell_type": "code",
   "execution_count": 5,
   "metadata": {},
   "outputs": [
    {
     "name": "stdout",
     "output_type": "stream",
     "text": [
      "b'hhh'\n"
     ]
    }
   ],
   "source": [
    "import numpy as np\n",
    "hello=tf.constant('hhh')\n",
    "sess=tf.Session()\n",
    "print (sess.run(hello))"
   ]
  },
  {
   "cell_type": "code",
   "execution_count": 13,
   "metadata": {},
   "outputs": [],
   "source": [
    "import tensorflow as tf\n",
    "hello = tf.constant('hi,tensorflow')\n",
    "sess = tf.Session()"
   ]
  },
  {
   "cell_type": "code",
   "execution_count": null,
   "metadata": {},
   "outputs": [],
   "source": []
  }
 ],
 "metadata": {
  "kernelspec": {
   "display_name": "Python 3",
   "language": "python",
   "name": "python3"
  },
  "language_info": {
   "codemirror_mode": {
    "name": "ipython",
    "version": 3
   },
   "file_extension": ".py",
   "mimetype": "text/x-python",
   "name": "python",
   "nbconvert_exporter": "python",
   "pygments_lexer": "ipython3",
   "version": "3.6.2"
  }
 },
 "nbformat": 4,
 "nbformat_minor": 2
}
