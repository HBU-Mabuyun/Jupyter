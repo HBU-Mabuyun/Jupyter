{
 "cells": [
  {
   "cell_type": "markdown",
   "metadata": {},
   "source": [
    "# 1. Read, Write and Display an Image 图片的读、写、显示"
   ]
  },
  {
   "cell_type": "markdown",
   "metadata": {},
   "source": [
    "https://courses.learnopencv.com/courses/227056/lectures/3575746"
   ]
  },
  {
   "cell_type": "code",
   "execution_count": 3,
   "metadata": {},
   "outputs": [
    {
     "data": {
      "text/plain": [
       "-1"
      ]
     },
     "execution_count": 3,
     "metadata": {},
     "output_type": "execute_result"
    }
   ],
   "source": [
    "import cv2\n",
    "  \n",
    "# This program reads an image using imread() from the images directory, \n",
    "# converts it to gray scale using cvtColor() and displays it using \n",
    "# imshow(). It also saves the image to the disk using the \n",
    "# imwrite() function\n",
    "image = cv2.imread(\"boy.jpg\")\n",
    "  \n",
    "# Check for invalid input\n",
    "if image is None:  # Check for invalid input\n",
    "    print(\"Could not open or find the image\")\n",
    "\n",
    "# convert color image to gray\n",
    "grayImage = cv2.cvtColor(image, cv2.COLOR_BGR2GRAY)\n",
    " \n",
    " # Save result\n",
    "cv2.imwrite(\"imageGray.jpg\", grayImage)\n",
    " \n",
    "# Create a window for display.\n",
    "cv2.namedWindow(\"image\", cv2.WINDOW_AUTOSIZE)\n",
    "cv2.namedWindow(\"gray image\", cv2.WINDOW_NORMAL)\n",
    " \n",
    "# Display image\n",
    "cv2.imshow(\"image\", image)\n",
    "cv2.imshow(\"gray image\", grayImage)\n",
    " \n",
    "# Wait for a keystroke in the window\n",
    "cv2.waitKey(0)"
   ]
  },
  {
   "cell_type": "markdown",
   "metadata": {},
   "source": [
    "# 2. Crop and Resize 切割和改变尺寸"
   ]
  },
  {
   "cell_type": "code",
   "execution_count": 4,
   "metadata": {},
   "outputs": [],
   "source": [
    "# Copyright 2017 BIG VISION LLC ALL RIGHTS RESERVED\n",
    "# \n",
    "# This code is made available to the students of \n",
    "# the online course titled \"OpenCV for Beginners\" \n",
    "# by Satya Mallick for personal non-commercial use. \n",
    "#\n",
    "# Sharing this code is strictly prohibited without written\n",
    "# permission from Big Vision LLC. \n",
    "#\n",
    "# For licensing and other inquiries, please email \n",
    "# spmallick@bigvisionllc.com \n",
    "#\n",
    "\n",
    "import cv2\n",
    "\n",
    "# Reading the image\n",
    "source = cv2.imread(\"sample.jpg\",1)\n",
    "\n",
    "scaleX = 0.6\n",
    "scaleY = 0.6\n",
    "\n",
    "# Scaling Down the image 0.6 times\n",
    "scaleDown = cv2.resize(source, None, fx= scaleX,\n",
    "\tfy= scaleY, interpolation= cv2.INTER_LINEAR)\n",
    "\n",
    "# Scaling up the image 1.8 times\n",
    "scaleUp = cv2.resize(source, None, fx= scaleX*3,\n",
    "    fy= scaleY*3, interpolation= cv2.INTER_LINEAR)\n",
    "\n",
    "#Cropping Image\n",
    "crop = source[50:150,20:200]\n",
    "\n",
    "# Displaying all the images\n",
    "cv2.imshow(\"Original\", source)\n",
    "cv2.imshow(\"Scaled Down\", scaleDown)\n",
    "cv2.imshow(\"Scaled Up\", scaleUp)\n",
    "cv2.imshow(\"Cropped Image\",crop)\n",
    "\n",
    "cv2.waitKey(0)\n",
    "cv2.destroyAllWindows()\n"
   ]
  },
  {
   "cell_type": "markdown",
   "metadata": {},
   "source": [
    "# 3. Rotation 旋转"
   ]
  },
  {
   "cell_type": "code",
   "execution_count": 7,
   "metadata": {},
   "outputs": [
    {
     "name": "stdout",
     "output_type": "stream",
     "text": [
      "[[   0.8660254    -0.5         162.29749663]\n",
      " [   0.5           0.8660254   -93.70250337]]\n"
     ]
    }
   ],
   "source": [
    "# Copyright 2017 BIG VISION LLC ALL RIGHTS RESERVED\n",
    "# \n",
    "# This code is made available to the students of \n",
    "# the online course titled \"OpenCV for Beginners\" \n",
    "# by Satya Mallick for personal non-commercial use. \n",
    "#\n",
    "# Sharing this code is strictly prohibited without written\n",
    "# permission from Big Vision LLC. \n",
    "#\n",
    "# For licensing and other inquiries, please email \n",
    "# spmallick@bigvisionllc.com \n",
    "#\n",
    "\n",
    "import cv2\n",
    "\n",
    "source = cv2.imread(\"sample.jpg\",1)\n",
    "\n",
    "# Getting the dimesnions of the image\n",
    "dim = source.shape\n",
    "\n",
    "rotationAngle = -30\n",
    "scaleFactor = 1\n",
    "\n",
    "# Rotating the image by 90 degrees about the center\n",
    "# dim[0] stores the no of rows and dim[1] no of columns\n",
    "rotationMatrix = cv2.getRotationMatrix2D((dim[1]/2,dim[0]/2),rotationAngle, scaleFactor)\n",
    "print(rotationMatrix)\n",
    "\n",
    "result = cv2.warpAffine(source, rotationMatrix, (dim[1],dim[0]))\n",
    "\n",
    "cv2.imshow(\"Original\", source)\n",
    "cv2.imshow(\"Rotated Image\", result)\n",
    "\n",
    "cv2.waitKey(0)\n",
    "cv2.destroyAllWindows()\n"
   ]
  },
  {
   "cell_type": "markdown",
   "metadata": {},
   "source": [
    "# 转换数据类型"
   ]
  },
  {
   "cell_type": "code",
   "execution_count": 8,
   "metadata": {},
   "outputs": [
    {
     "name": "stdout",
     "output_type": "stream",
     "text": [
      "Nothing to Display\n"
     ]
    }
   ],
   "source": [
    "# Copyright 2017 BIG VISION LLC ALL RIGHTS RESERVED\n",
    "# \n",
    "# This code is made available to the students of \n",
    "# the online course titled \"OpenCV for Beginners\" \n",
    "# by Satya Mallick for personal non-commercial use. \n",
    "#\n",
    "# Sharing this code is strictly prohibited without written\n",
    "# permission from Big Vision LLC. \n",
    "#\n",
    "# For licensing and other inquiries, please email \n",
    "# spmallick@bigvisionllc.com \n",
    "#\n",
    "\n",
    "import cv2\n",
    "import numpy as np\n",
    "\n",
    "# Read image\n",
    "source = cv2.imread(\"sample.jpg\",1)\n",
    "\n",
    "scalingFactor = 1/255.0\n",
    "\n",
    "# Convert unsigned int to float\n",
    "source = np.float32(source)\n",
    "source = source * scalingFactor\n",
    "\n",
    "#Convert back to unsigned int\n",
    "source = source * (1.0/scalingFactor)\n",
    "source = np.uint8(source)\n",
    "\n",
    "print (\"Nothing to Display\")\n"
   ]
  },
  {
   "cell_type": "code",
   "execution_count": null,
   "metadata": {},
   "outputs": [],
   "source": []
  }
 ],
 "metadata": {
  "kernelspec": {
   "display_name": "Python 3",
   "language": "python",
   "name": "python3"
  },
  "language_info": {
   "codemirror_mode": {
    "name": "ipython",
    "version": 3
   },
   "file_extension": ".py",
   "mimetype": "text/x-python",
   "name": "python",
   "nbconvert_exporter": "python",
   "pygments_lexer": "ipython3",
   "version": "3.6.2"
  }
 },
 "nbformat": 4,
 "nbformat_minor": 2
}
