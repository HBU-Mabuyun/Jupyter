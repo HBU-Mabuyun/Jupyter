{
 "cells": [
  {
   "cell_type": "markdown",
   "metadata": {},
   "source": [
    "# Object Detection using Haar Cascades"
   ]
  },
  {
   "cell_type": "markdown",
   "metadata": {},
   "source": [
    "detectFaceDemo"
   ]
  },
  {
   "cell_type": "code",
   "execution_count": 1,
   "metadata": {},
   "outputs": [],
   "source": [
    "import cv2\n",
    "import sys\n",
    "import numpy as np\n",
    "\n",
    "if __name__ == '__main__':\n",
    "\n",
    "  faceCascade = cv2.CascadeClassifier('models/haarcascade_frontalface_default.xml')\n",
    "  faceNeighborsMax = 10\n",
    "  neighborStep = 1\n",
    "\n",
    "  frame = cv2.imread(\"hillary_clinton.jpg\")\n",
    "  frameGray = cv2.cvtColor(frame, cv2.COLOR_BGR2GRAY)\n",
    "\n",
    "  for neigh in range(1, faceNeighborsMax, neighborStep):\n",
    "    faces = faceCascade.detectMultiScale(frameGray, 1.2, neigh)\n",
    "    frameClone = np.copy(frame)\n",
    "\n",
    "    for (x, y, w, h) in faces:\n",
    "      cv2.rectangle(frameClone, (x, y), (x + w, y + h), (255, 0, 0), 2)\n",
    "\n",
    "    cv2.putText(frameClone, \"# Neighbors = {}\".format(neigh), (10, 50), cv2.FONT_HERSHEY_SIMPLEX, 1, (0, 0, 255), 4)\n",
    "    cv2.imshow('Face Detection Demo', frameClone)\n",
    "    if cv2.waitKey(500) & 0xFF == 27:\n",
    "      cv2.destroyAllWindows()\n",
    "      sys.exit()"
   ]
  },
  {
   "cell_type": "markdown",
   "metadata": {},
   "source": [
    "detectFaceSmileDemo"
   ]
  },
  {
   "cell_type": "code",
   "execution_count": 2,
   "metadata": {},
   "outputs": [],
   "source": [
    "import cv2\n",
    "import sys\n",
    "import numpy as np\n",
    "\n",
    "\n",
    "if __name__ == '__main__':\n",
    "\n",
    "  faceCascade = cv2.CascadeClassifier('models/haarcascade_frontalface_default.xml')\n",
    "  smileCascade = cv2.CascadeClassifier('models/haarcascade_smile.xml')\n",
    "  smileNeighborsMax = 100\n",
    "  neighborStep = 2\n",
    "\n",
    "  frame = cv2.imread(\"hillary_clinton.jpg\")\n",
    "\n",
    "  frameGray = cv2.cvtColor(frame, cv2.COLOR_BGR2GRAY)\n",
    "  faces = faceCascade.detectMultiScale(frameGray, 1.4, 5)\n",
    "  for (x, y, w, h) in faces:\n",
    "\n",
    "    cv2.rectangle(frame, (x, y), (x + w, y + h), (255, 0, 0), 2)\n",
    "    faceRoiGray = frameGray[y: y + h, x: x + w]\n",
    "    faceRoiOriginal = frame[y: y + h, x: x + w]\n",
    "\n",
    "    for neigh in range(1, smileNeighborsMax, neighborStep):\n",
    "      smile = smileCascade.detectMultiScale(faceRoiGray, 1.5, neigh)\n",
    "\n",
    "      frameClone = np.copy(frame)\n",
    "      faceRoiClone = frameClone[y: y + h, x: x + w]\n",
    "      for (xx, yy, ww, hh) in smile:\n",
    "        cv2.rectangle(faceRoiClone, (xx, yy), (xx + ww, yy + hh), (0, 255, 0), 2)\n",
    "\n",
    "      cv2.putText(frameClone, \"# Neighbors = {}\".format(neigh), (10, 50), cv2.FONT_HERSHEY_SIMPLEX, 1, (0, 0, 255), 4)\n",
    "      cv2.imshow('Face and Smile Demo', frameClone)\n",
    "      if cv2.waitKey(500) & 0xFF == 27:\n",
    "        cv2.destroyAllWindows()\n",
    "        sys.exit()\n"
   ]
  },
  {
   "cell_type": "code",
   "execution_count": null,
   "metadata": {},
   "outputs": [],
   "source": []
  }
 ],
 "metadata": {
  "kernelspec": {
   "display_name": "Python 3",
   "language": "python",
   "name": "python3"
  },
  "language_info": {
   "codemirror_mode": {
    "name": "ipython",
    "version": 3
   },
   "file_extension": ".py",
   "mimetype": "text/x-python",
   "name": "python",
   "nbconvert_exporter": "python",
   "pygments_lexer": "ipython3",
   "version": "3.6.2"
  }
 },
 "nbformat": 4,
 "nbformat_minor": 2
}
