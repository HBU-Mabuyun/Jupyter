{
 "cells": [
  {
   "cell_type": "markdown",
   "metadata": {},
   "source": [
    "# 行人探测"
   ]
  },
  {
   "cell_type": "code",
   "execution_count": 2,
   "metadata": {},
   "outputs": [
    {
     "name": "stdout",
     "output_type": "stream",
     "text": [
      "Default Detector :: pedestrians detected: 6\n"
     ]
    },
    {
     "data": {
      "text/plain": [
       "-1"
      ]
     },
     "execution_count": 2,
     "metadata": {},
     "output_type": "execute_result"
    }
   ],
   "source": [
    "# Copyright 2017 BIG VISION LLC ALL RIGHTS RESERVED\n",
    "# \n",
    "# This code is made available to the students of \n",
    "# the online course titled \"OpenCV for Beginners\" \n",
    "# by Satya Mallick for personal non-commercial use. \n",
    "#\n",
    "# Sharing this code is strictly prohibited without written\n",
    "# permission from Big Vision LLC. \n",
    "#\n",
    "# For licensing and other inquiries, please email \n",
    "# spmallick@bigvisionllc.com \n",
    "#\n",
    "import os\n",
    "import cv2\n",
    "import numpy as np\n",
    "\n",
    "# Initialize HOG parameters\n",
    "winSize = (64, 128)\n",
    "blockSize = (16, 16)\n",
    "blockStride = (8, 8)\n",
    "cellSize = (8, 8)\n",
    "nbins = 9\n",
    "derivAperture = 1\n",
    "winSigma = -1\n",
    "histogramNormType = 0\n",
    "L2HysThreshold = 0.2\n",
    "gammaCorrection = True\n",
    "nlevels = 64\n",
    "signedGradient = False\n",
    "\n",
    "# OpenCV's HOG based Pedestrian Detector\n",
    "hogDefault = cv2.HOGDescriptor(winSize, blockSize, blockStride,\n",
    "                               cellSize, nbins, derivAperture,\n",
    "                               winSigma, histogramNormType, L2HysThreshold,\n",
    "                               gammaCorrection, nlevels, signedGradient)\n",
    "svmDetectorDefault = cv2.HOGDescriptor_getDefaultPeopleDetector()\n",
    "hogDefault.setSVMDetector(svmDetectorDefault)\n",
    "\n",
    "\n",
    "# read images from pedestrians directory\n",
    "imagePath = 'pedestrians/race.jpg'\n",
    "\n",
    "# We will run pedestrian detector at an fixed height image\n",
    "finalHeight = 400.0\n",
    "\n",
    "# read image\n",
    "im = cv2.imread(imagePath, cv2.IMREAD_COLOR)\n",
    "\n",
    "# resize image to height finalHeight\n",
    "scale = finalHeight / im.shape[0]\n",
    "im = cv2.resize(im, None, fx=scale, fy=scale)\n",
    "\n",
    "# detectMultiScale using default detector\n",
    "bboxes, weights = hogDefault.detectMultiScale(im, winStride=(4, 4), padding=(16, 16),\n",
    "                                                scale=1.05, finalThreshold=2,\n",
    "                                                hitThreshold=0)\n",
    "\n",
    "# print pedestrians detected\n",
    "if len(bboxes) > 0:\n",
    "  print('Default Detector :: pedestrians detected: {}'.format(bboxes.shape[0]))\n",
    "\n",
    "\n",
    "for bbox in bboxes:\n",
    "  x1, y1, w, h = bbox\n",
    "  x2, y2 = x1 + w, y1 + h\n",
    "  cv2.rectangle(im, (x1, y1), (x2, y2), (0, 255, 0), thickness=3, lineType=cv2.LINE_AA)\n",
    "\n",
    "# Show final result\n",
    "cv2.imshow(\"pedestrians\", im)\n",
    "# Write image to disk\n",
    "cv2.imwrite(\"result_pedestrian.jpg\", im);\n",
    "\n",
    "cv2.waitKey(0)"
   ]
  },
  {
   "cell_type": "code",
   "execution_count": null,
   "metadata": {},
   "outputs": [],
   "source": []
  }
 ],
 "metadata": {
  "kernelspec": {
   "display_name": "Python 3",
   "language": "python",
   "name": "python3"
  },
  "language_info": {
   "codemirror_mode": {
    "name": "ipython",
    "version": 3
   },
   "file_extension": ".py",
   "mimetype": "text/x-python",
   "name": "python",
   "nbconvert_exporter": "python",
   "pygments_lexer": "ipython3",
   "version": "3.6.2"
  }
 },
 "nbformat": 4,
 "nbformat_minor": 2
}
