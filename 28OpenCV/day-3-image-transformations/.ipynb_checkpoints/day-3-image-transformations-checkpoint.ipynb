{
 "cells": [
  {
   "cell_type": "markdown",
   "metadata": {},
   "source": [
    "# Affine Transformation 仿射变换"
   ]
  },
  {
   "cell_type": "markdown",
   "metadata": {},
   "source": [
    "## Affine Transform in OpenCV"
   ]
  },
  {
   "cell_type": "code",
   "execution_count": 2,
   "metadata": {},
   "outputs": [],
   "source": [
    "import cv2\n",
    "import numpy as np \n",
    "# Read image\n",
    "source = cv2.imread(\"sample.jpg\",1);\n",
    "# Createmask/ warp matrix\n",
    "warpMat = np.float32([[1.2, 0.2, 2],[-0.3, 1.3, 1]])\n",
    "# Another mask/warp matrix\n",
    "warpMat2 = np.float32([[1.2, 0.3, 2],[0.2, 1.3, 1]])\n",
    "# Use warp affine\n",
    "result = cv2.warpAffine(source, warpMat, (int(1.5*source.shape[0]),int(1.4*source.shape[1])), None, flags=cv2.INTER_LINEAR, borderMode=cv2.BORDER_REFLECT_101 )\n",
    "result2 = cv2.warpAffine(source, warpMat2, (int(1.5*source.shape[0]), int(1.4*source.shape[1])), None, flags=cv2.INTER_LINEAR, borderMode=cv2.BORDER_REFLECT_101)\n",
    "# Display images\n",
    "cv2.imshow(\"Original\",source)\n",
    "cv2.imshow(\"Result\", result)\n",
    "cv2.imshow(\"Result2\", result2)\n",
    "cv2.waitKey(0)\n",
    "cv2.destroyAllWindows()"
   ]
  },
  {
   "cell_type": "markdown",
   "metadata": {},
   "source": [
    "## The inverse problem 逆问题"
   ]
  },
  {
   "cell_type": "code",
   "execution_count": 3,
   "metadata": {},
   "outputs": [
    {
     "name": "stdout",
     "output_type": "stream",
     "text": [
      "Warp Matrix 1 : \n",
      " [[ 1.2  0.2  2. ]\n",
      " [-0.3  1.3  1. ]] \n",
      "\n",
      "Warp Matrix 2 : \n",
      " [[ 1.2  0.3  2. ]\n",
      " [ 0.2  1.3  1. ]] \n",
      "\n"
     ]
    }
   ],
   "source": [
    "import cv2\n",
    "import numpy as np \n",
    "\n",
    "# Input triangle\n",
    "inp = np.float32([[50, 50], [100, 100], [200, 150]])\n",
    "# Output triangle\n",
    "output = np.float32([[72, 51], [142, 101], [272, 136]])\n",
    "# Another output triangle\n",
    "output2 = np.float32([[77, 76], [152, 151], [287, 236]])\n",
    "\n",
    "# Get the tranformation matrices\n",
    "warpMat = cv2.getAffineTransform(inp, output)\n",
    "warpMat2 = cv2.getAffineTransform(inp, output2)\n",
    "\n",
    "# Display the matrices\n",
    "print (\"Warp Matrix 1 : \\n {} \\n\".format(warpMat))\n",
    "print (\"Warp Matrix 2 : \\n {} \\n\".format(warpMat2))"
   ]
  },
  {
   "cell_type": "markdown",
   "metadata": {},
   "source": [
    "# Homography & Perspective Transform 单应矩阵 透视变换"
   ]
  },
  {
   "cell_type": "markdown",
   "metadata": {},
   "source": [
    "如果场景是平面，或者近似平面，或者低视差时，我们能应用单应性矩阵(homography)"
   ]
  },
  {
   "cell_type": "markdown",
   "metadata": {},
   "source": [
    "## OpenCV Homography Example "
   ]
  },
  {
   "cell_type": "code",
   "execution_count": 4,
   "metadata": {},
   "outputs": [],
   "source": [
    "import cv2\n",
    "import numpy as np\n",
    "\n",
    "if __name__ == '__main__' :\n",
    "\n",
    "    # Read source image.\n",
    "    im_src = cv2.imread('book2.jpg')\n",
    "    # Four corners of the book in source image\n",
    "    pts_src = np.array([[141, 131], [480, 159], [493, 630],[64, 601]], dtype=float)\n",
    "\n",
    "\n",
    "    # Read destination image.\n",
    "    im_dst = cv2.imread('book1.jpg')\n",
    "    # Four corners of the book in destination image.\n",
    "    pts_dst = np.array([[318, 256],[534, 372],[316, 670],[73, 473]], dtype=float)\n",
    "\n",
    "    # Calculate Homography\n",
    "    h, status = cv2.findHomography(pts_src, pts_dst)\n",
    "    \n",
    "    # Warp source image to destination based on homography\n",
    "    im_out = cv2.warpPerspective(im_src, h, (im_dst.shape[1],im_dst.shape[0]))\n",
    "    \n",
    "    # Display images\n",
    "    cv2.imshow(\"Source Image\", im_src)\n",
    "    cv2.imshow(\"Destination Image\", im_dst)\n",
    "    cv2.imshow(\"Warped Source Image\", im_out)\n",
    "\n",
    "    cv2.waitKey(0)"
   ]
  },
  {
   "cell_type": "markdown",
   "metadata": {},
   "source": [
    "## Virtual Billboard"
   ]
  },
  {
   "cell_type": "code",
   "execution_count": 6,
   "metadata": {},
   "outputs": [
    {
     "name": "stdout",
     "output_type": "stream",
     "text": [
      "Click on four corners of a billboard and then press ENTER\n"
     ]
    }
   ],
   "source": [
    "import cv2\n",
    "import numpy as np\n",
    "from utils import mouse_handler\n",
    "from utils import get_four_points\n",
    "import sys\n",
    "\n",
    "\n",
    "if __name__ == '__main__' :\n",
    "\n",
    "    # Read source image.\n",
    "    im_src = cv2.imread('first-image.jpg');\n",
    "    size = im_src.shape\n",
    "   \n",
    "    # Create a vector of source points.\n",
    "    pts_src = np.array(\n",
    "                       [\n",
    "                        [0,0],\n",
    "                        [size[1] - 1, 0],\n",
    "                        [size[1] - 1, size[0] -1],\n",
    "                        [0, size[0] - 1 ]\n",
    "                        ],dtype=float\n",
    "                       );\n",
    "\n",
    "    \n",
    "    # Read destination image\n",
    "    im_dst = cv2.imread('times-square.jpg');\n",
    "\n",
    "    # Get four corners of the billboard\n",
    "    print ('Click on four corners of a billboard and then press ENTER')\n",
    "    pts_dst = get_four_points(im_dst)\n",
    "    \n",
    "    # Calculate Homography between source and destination points\n",
    "    h, status = cv2.findHomography(pts_src, pts_dst);\n",
    "    \n",
    "    # Warp source image\n",
    "    im_temp = cv2.warpPerspective(im_src, h, (im_dst.shape[1],im_dst.shape[0]))\n",
    "\n",
    "    # Black out polygonal area in destination image.\n",
    "    cv2.fillConvexPoly(im_dst, pts_dst.astype(int), 0, 16);\n",
    "    \n",
    "    # Add warped source image to destination image.\n",
    "    im_dst = im_dst + im_temp;\n",
    "    \n",
    "    # Display image.\n",
    "    cv2.imshow(\"Image\", im_dst);\n",
    "    cv2.waitKey(0);"
   ]
  },
  {
   "cell_type": "code",
   "execution_count": 2,
   "metadata": {},
   "outputs": [
    {
     "name": "stdout",
     "output_type": "stream",
     "text": [
      "\n",
      "        Click on the four corners of the book -- top left first and\n",
      "        bottom left last -- and then hit ENTER\n",
      "        \n"
     ]
    }
   ],
   "source": [
    "\n",
    "import cv2\n",
    "import numpy as np\n",
    "from utils import get_four_points\n",
    "\n",
    "\n",
    "if __name__ == '__main__' :\n",
    "\n",
    "    # Read in the image.\n",
    "    im_src = cv2.imread(\"book1.jpg\")\n",
    "\n",
    "    # Destination image\n",
    "    size = (300,400,3)\n",
    "\n",
    "    im_dst = np.zeros(size, np.uint8)\n",
    "\n",
    "    \n",
    "    pts_dst = np.array(\n",
    "                       [\n",
    "                        [0,0],\n",
    "                        [size[0] - 1, 0],\n",
    "                        [size[0] - 1, size[1] -1],\n",
    "                        [0, size[1] - 1 ]\n",
    "                        ], dtype=float\n",
    "                       )\n",
    "    \n",
    "    \n",
    "    print( '''\n",
    "        Click on the four corners of the book -- top left first and\n",
    "        bottom left last -- and then hit ENTER\n",
    "        ''')\n",
    "    \n",
    "    # Show image and wait for 4 clicks.\n",
    "    cv2.imshow(\"Image\", im_src)\n",
    "    pts_src = get_four_points(im_src);\n",
    "    \n",
    "    # Calculate the homography\n",
    "    h, status = cv2.findHomography(pts_src, pts_dst)\n",
    "\n",
    "    # Warp source image to destination\n",
    "    im_dst = cv2.warpPerspective(im_src, h, size[0:2])\n",
    "\n",
    "    # Show output\n",
    "    cv2.imshow(\"Image\", im_dst)\n",
    "    cv2.waitKey(0)\n"
   ]
  },
  {
   "cell_type": "code",
   "execution_count": null,
   "metadata": {},
   "outputs": [],
   "source": []
  }
 ],
 "metadata": {
  "kernelspec": {
   "display_name": "Python 3",
   "language": "python",
   "name": "python3"
  },
  "language_info": {
   "codemirror_mode": {
    "name": "ipython",
    "version": 3
   },
   "file_extension": ".py",
   "mimetype": "text/x-python",
   "name": "python",
   "nbconvert_exporter": "python",
   "pygments_lexer": "ipython3",
   "version": "3.6.2"
  }
 },
 "nbformat": 4,
 "nbformat_minor": 2
}
