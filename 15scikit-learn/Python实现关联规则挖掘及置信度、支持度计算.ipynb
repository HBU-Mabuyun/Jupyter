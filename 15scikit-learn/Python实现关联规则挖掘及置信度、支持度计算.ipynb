{
 "cells": [
  {
   "cell_type": "markdown",
   "metadata": {},
   "source": [
    "https://blog.csdn.net/eastmount/article/details/53368440\n",
    "\n",
    "https://blog.csdn.net/u010454729/article/details/49078505"
   ]
  },
  {
   "cell_type": "markdown",
   "metadata": {},
   "source": [
    "# 支持度和置信度"
   ]
  },
  {
   "cell_type": "markdown",
   "metadata": {},
   "source": [
    "支持度（suppport）：是交易集中同时包含A和B的交易数与所有交易数之比。\n",
    "\n",
    "Support(A=>B)=P(A∪B)=count(A∪B)/|D|\n",
    "\n",
    "置信度（confidence）：是包含A和B交易数与包含A的交易数之比。\n",
    "\n",
    "Confidence(A=>B)=P(B|A)=support(A∪B)/support(A)"
   ]
  },
  {
   "cell_type": "code",
   "execution_count": 12,
   "metadata": {},
   "outputs": [
    {
     "name": "stdout",
     "output_type": "stream",
     "text": [
      "所有候选1项集C1:\n",
      " <map object at 0x000001D418EAA2B0>\n",
      "数据集D:\n",
      " <map object at 0x000001D418E91160>\n"
     ]
    },
    {
     "ename": "TypeError",
     "evalue": "object of type 'map' has no len()",
     "output_type": "error",
     "traceback": [
      "\u001b[1;31m---------------------------------------------------------------------------\u001b[0m",
      "\u001b[1;31mTypeError\u001b[0m                                 Traceback (most recent call last)",
      "\u001b[1;32m<ipython-input-12-4161bcb8bf86>\u001b[0m in \u001b[0;36m<module>\u001b[1;34m()\u001b[0m\n\u001b[0;32m     67\u001b[0m \u001b[0mprint\u001b[0m \u001b[1;33m(\u001b[0m\u001b[1;34m\"数据集D:\\n\"\u001b[0m\u001b[1;33m,\u001b[0m\u001b[0mD\u001b[0m\u001b[1;33m)\u001b[0m\u001b[1;33m\u001b[0m\u001b[0m\n\u001b[0;32m     68\u001b[0m \u001b[1;33m\u001b[0m\u001b[0m\n\u001b[1;32m---> 69\u001b[1;33m \u001b[0mL1\u001b[0m\u001b[1;33m,\u001b[0m \u001b[0msupportData0\u001b[0m \u001b[1;33m=\u001b[0m \u001b[0mscanD\u001b[0m\u001b[1;33m(\u001b[0m\u001b[0mD\u001b[0m\u001b[1;33m,\u001b[0m\u001b[0mC1\u001b[0m\u001b[1;33m,\u001b[0m \u001b[1;36m0.5\u001b[0m\u001b[1;33m)\u001b[0m\u001b[1;33m\u001b[0m\u001b[0m\n\u001b[0m\u001b[0;32m     70\u001b[0m \u001b[0mprint\u001b[0m \u001b[1;33m(\u001b[0m\u001b[1;34m\"符合最小支持度的频繁1项集L1:\\n\"\u001b[0m\u001b[1;33m,\u001b[0m\u001b[0mL1\u001b[0m\u001b[1;33m)\u001b[0m\u001b[1;33m\u001b[0m\u001b[0m\n\u001b[0;32m     71\u001b[0m \u001b[1;33m\u001b[0m\u001b[0m\n",
      "\u001b[1;32m<ipython-input-12-4161bcb8bf86>\u001b[0m in \u001b[0;36mscanD\u001b[1;34m(D, Ck, minSupport)\u001b[0m\n\u001b[0;32m     21\u001b[0m                 \u001b[1;32melse\u001b[0m\u001b[1;33m:\u001b[0m\u001b[1;33m\u001b[0m\u001b[0m\n\u001b[0;32m     22\u001b[0m                     \u001b[0mssCnt\u001b[0m\u001b[1;33m[\u001b[0m\u001b[0mcan\u001b[0m\u001b[1;33m]\u001b[0m \u001b[1;33m+=\u001b[0m\u001b[1;36m1\u001b[0m\u001b[1;33m\u001b[0m\u001b[0m\n\u001b[1;32m---> 23\u001b[1;33m     \u001b[0mnumItems\u001b[0m \u001b[1;33m=\u001b[0m \u001b[0mfloat\u001b[0m\u001b[1;33m(\u001b[0m\u001b[0mlen\u001b[0m\u001b[1;33m(\u001b[0m\u001b[0mD\u001b[0m\u001b[1;33m)\u001b[0m\u001b[1;33m)\u001b[0m\u001b[1;33m\u001b[0m\u001b[0m\n\u001b[0m\u001b[0;32m     24\u001b[0m     \u001b[0mprint\u001b[0m\u001b[1;33m(\u001b[0m\u001b[1;34m'numItems:'\u001b[0m\u001b[1;33m+\u001b[0m \u001b[0mstr\u001b[0m\u001b[1;33m(\u001b[0m\u001b[0mnumItems\u001b[0m\u001b[1;33m)\u001b[0m\u001b[1;33m)\u001b[0m\u001b[1;33m\u001b[0m\u001b[0m\n\u001b[0;32m     25\u001b[0m     \u001b[0mretList\u001b[0m  \u001b[1;33m=\u001b[0m \u001b[1;33m[\u001b[0m\u001b[1;33m]\u001b[0m\u001b[1;33m\u001b[0m\u001b[0m\n",
      "\u001b[1;31mTypeError\u001b[0m: object of type 'map' has no len()"
     ]
    }
   ],
   "source": [
    "# coding=utf-8  \n",
    "def  loadDataSet():  \n",
    "    return [[1,3,4],[2,3,5],[1,2,3,5],[2,5]]  \n",
    "  \n",
    "def createC1(dataSet):                  #构建所有候选项集的集合  \n",
    "    C1 = []  \n",
    "    for transaction in dataSet:  \n",
    "        for item in transaction:  \n",
    "            if not [item] in C1:  \n",
    "                C1.append([item])       #C1添加的是列表，对于每一项进行添加，{1},{3},{4},{2},{5}  \n",
    "    C1.sort()  \n",
    "    return map(frozenset, C1)           #使用frozenset，被“冰冻”的集合，为后续建立字典key-value使用。  \n",
    "  \n",
    "def scanD(D,Ck,minSupport):             #由候选项集生成符合最小支持度的项集L。参数分别为数据集、候选项集列表，最小支持度  \n",
    "    ssCnt = {}  \n",
    "    for tid in D:                       #对于数据集里的每一条记录  \n",
    "        for can in Ck:                  #每个候选项集can  \n",
    "            if can.issubset(tid):       #若是候选集can是作为记录的子集，那么其值+1,对其计数  \n",
    "                if not can in ssCnt:#ssCnt[can] = ssCnt.get(can,0)+1一句可破，没有的时候为0,加上1,有的时候用get取出，加1  \n",
    "                    ssCnt[can] = 1  \n",
    "                else:  \n",
    "                    ssCnt[can] +=1  \n",
    "    numItems = float(len(D)) # python3 have not len() func for map()\n",
    "    print('numItems:'+ str(numItems))\n",
    "    retList  = []  \n",
    "    supportData = {}  \n",
    "    for key in ssCnt:  \n",
    "        if numItems != 0:\n",
    "            support = ssCnt[key]/numItems   #除以总的记录条数，即为其支持度  \n",
    "            if support >= minSupport:  \n",
    "                retList.insert(0,key)       #超过最小支持度的项集，将其记录下来。  \n",
    "            supportData[key] = support  \n",
    "    return retList, supportData  \n",
    "  \n",
    "def aprioriGen(Lk, k):                  #创建符合置信度的项集Ck,  \n",
    "    retList = []  \n",
    "    lenLk   = len(Lk)  \n",
    "    for i in range(lenLk):  \n",
    "        for j in range(i+1, lenLk):     #k=3时，[:k-2]即取[0],对{0,1},{0,2},{1,2}这三个项集来说，L1=0，L2=0，将其合并得{0,1,2}，当L1=0,L2=1不添加，  \n",
    "            L1 = list(Lk[i])[:k-2]  \n",
    "            L2 = list(Lk[j])[:k-2]  \n",
    "            L1.sort()  \n",
    "            L2.sort()  \n",
    "            if L1==L2:  \n",
    "                retList.append(Lk[i]|Lk[j])  \n",
    "    return retList  \n",
    "  \n",
    "def apriori(dataSet, minSupport = 0.5):  \n",
    "    C1 = createC1(dataSet)  \n",
    "    D  = map(set,dataSet)  \n",
    "    L1, supportData = scanD(D,C1,minSupport)  \n",
    "    L  = [L1]                           #L将包含满足最小支持度，即经过筛选的所有频繁n项集，这里添加频繁1项集  \n",
    "    k  = 2  \n",
    "    while (len(L[k-2])>0):              #k=2开始，由频繁1项集生成频繁2项集，直到下一个打的项集为空  \n",
    "        Ck = aprioriGen(L[k-2], k)  \n",
    "        Lk, supK = scanD(D, Ck, minSupport)  \n",
    "        supportData.update(supK)        #supportData为字典，存放每个项集的支持度，并以更新的方式加入新的supK  \n",
    "        L.append(Lk)  \n",
    "        k +=1  \n",
    "    return L,supportData  \n",
    "  \n",
    "dataSet = loadDataSet()  \n",
    "C1 = createC1(dataSet)  \n",
    "print (\"所有候选1项集C1:\\n\",C1)  \n",
    "  \n",
    "D = map(set, dataSet)  \n",
    "print (\"数据集D:\\n\",D)  \n",
    "  \n",
    "L1, supportData0 = scanD(D,C1, 0.5)  \n",
    "print (\"符合最小支持度的频繁1项集L1:\\n\",L1)  \n",
    "  \n",
    "L, suppData = apriori(dataSet)  \n",
    "print (\"所有符合最小支持度的项集L：\\n\",L)  \n",
    "print (\"频繁2项集：\\n\",aprioriGen(L[0],2))  \n",
    "L, suppData = apriori(dataSet, minSupport=0.7)  \n",
    "print (\"所有符合最小支持度为0.7的项集L：\\n\",L)  "
   ]
  },
  {
   "cell_type": "code",
   "execution_count": null,
   "metadata": {},
   "outputs": [],
   "source": []
  }
 ],
 "metadata": {
  "kernelspec": {
   "display_name": "Python 3",
   "language": "python",
   "name": "python3"
  },
  "language_info": {
   "codemirror_mode": {
    "name": "ipython",
    "version": 3
   },
   "file_extension": ".py",
   "mimetype": "text/x-python",
   "name": "python",
   "nbconvert_exporter": "python",
   "pygments_lexer": "ipython3",
   "version": "3.6.4"
  }
 },
 "nbformat": 4,
 "nbformat_minor": 2
}
