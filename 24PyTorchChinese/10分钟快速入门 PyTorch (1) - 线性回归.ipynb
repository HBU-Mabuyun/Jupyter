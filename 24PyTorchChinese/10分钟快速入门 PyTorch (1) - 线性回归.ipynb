{
 "cells": [
  {
   "cell_type": "markdown",
   "metadata": {},
   "source": [
    "http://www.pytorchtutorial.com/10-minute-pytorch-1/"
   ]
  },
  {
   "cell_type": "markdown",
   "metadata": {},
   "source": [
    "# 一元线性回归。\n",
    "即给出一系列的点，找一条直线，使得这条直线与这些点的距离之和最小 。"
   ]
  },
  {
   "cell_type": "code",
   "execution_count": 18,
   "metadata": {},
   "outputs": [],
   "source": [
    "import torch\n",
    "from torch import nn, optim\n",
    "from torch.autograd import Variable\n",
    "import numpy as np\n",
    "import matplotlib.pyplot as plt\n",
    "%matplotlib inline"
   ]
  },
  {
   "cell_type": "markdown",
   "metadata": {},
   "source": [
    "# 给出一系列的点作为线性回归的数据，使用numpy来存储这些点"
   ]
  },
  {
   "cell_type": "code",
   "execution_count": 19,
   "metadata": {},
   "outputs": [],
   "source": [
    "x_train = np.array([[3.3], [4.4], [5.5], [6.71], [6.93], [4.168],\n",
    "                    [9.779], [6.182], [7.59], [2.167], [7.042],\n",
    "                    [10.791], [5.313], [7.997], [3.1]], dtype=np.float32)\n",
    " \n",
    "y_train = np.array([[1.7], [2.76], [2.09], [3.19], [1.694], [1.573],\n",
    "                    [3.366], [2.596], [2.53], [1.221], [2.827],\n",
    "                    [3.465], [1.65], [2.904], [1.3]], dtype=np.float32)"
   ]
  },
  {
   "cell_type": "code",
   "execution_count": 20,
   "metadata": {},
   "outputs": [
    {
     "data": {
      "text/plain": [
       "[<matplotlib.lines.Line2D at 0x215b2736dd8>]"
      ]
     },
     "execution_count": 20,
     "metadata": {},
     "output_type": "execute_result"
    },
    {
     "data": {
      "image/png": "[encoded data removed]",
      "text/plain": [
       "<matplotlib.figure.Figure at 0x215b268e198>"
      ]
     },
     "metadata": {},
     "output_type": "display_data"
    }
   ],
   "source": [
    "plt.plot(x_train, y_train, 'ro', label='Original data') #Plot默认是蓝色实线，plot里增加参数'ro'，显示变成红色圆点"
   ]
  },
  {
   "cell_type": "code",
   "execution_count": 21,
   "metadata": {},
   "outputs": [],
   "source": [
    "x_train = torch.from_numpy(x_train)\n",
    "y_train = torch.from_numpy(y_train)"
   ]
  },
  {
   "cell_type": "markdown",
   "metadata": {},
   "source": [
    "# Linear Regression Model"
   ]
  },
  {
   "cell_type": "markdown",
   "metadata": {},
   "source": [
    "### nn.Linear表示的是 y=w*x + b，里面的两个参数都是1，表示的是x是1维，y也是1维。"
   ]
  },
  {
   "cell_type": "code",
   "execution_count": 22,
   "metadata": {},
   "outputs": [],
   "source": [
    "\n",
    "class LinearRegression(nn.Module):\n",
    "    def __init__(self):\n",
    "        super(LinearRegression, self).__init__()\n",
    "        self.linear = nn.Linear(1, 1)  # input and output is 1 dimension\n",
    "\n",
    "    def forward(self, x):\n",
    "        out = self.linear(x)\n",
    "        return out\n",
    "\n",
    "\n",
    "model = LinearRegression()"
   ]
  },
  {
   "cell_type": "markdown",
   "metadata": {},
   "source": [
    "# 定义loss和优化函数"
   ]
  },
  {
   "cell_type": "code",
   "execution_count": 23,
   "metadata": {},
   "outputs": [],
   "source": [
    "criterion = nn.MSELoss()# 损失函数：最小二乘loss（均方误差（MSE）是一种加权最小二乘，它的权值是概率）\n",
    "optimizer = optim.SGD(model.parameters(), lr=1e-4)# 优化函数：随机梯度下降"
   ]
  },
  {
   "cell_type": "markdown",
   "metadata": {},
   "source": [
    "# 开始训练\n",
    "第一个循环表示每个epoch，接着开始前向传播，然后计算loss，然后反向传播，接着优化参数"
   ]
  },
  {
   "cell_type": "code",
   "execution_count": 36,
   "metadata": {},
   "outputs": [
    {
     "name": "stdout",
     "output_type": "stream",
     "text": [
      "Epoch[1000/10000], loss: 0.1751575917005539\n",
      "Epoch[2000/10000], loss: 0.17484495043754578\n",
      "Epoch[3000/10000], loss: 0.1745481640100479\n",
      "Epoch[4000/10000], loss: 0.1742662489414215\n",
      "Epoch[5000/10000], loss: 0.17399831116199493\n",
      "Epoch[6000/10000], loss: 0.17374391853809357\n",
      "Epoch[7000/10000], loss: 0.1735021024942398\n",
      "Epoch[8000/10000], loss: 0.17327247560024261\n",
      "Epoch[9000/10000], loss: 0.17305435240268707\n",
      "Epoch[10000/10000], loss: 0.1728471964597702\n"
     ]
    }
   ],
   "source": [
    "num_epochs = 10000\n",
    "for epoch in range(num_epochs):\n",
    "    inputs = Variable(x_train)\n",
    "    target = Variable(y_train)\n",
    "\n",
    "    # forward\n",
    "    out = model(inputs)# 前向传播\n",
    "    loss = criterion(out, target)# 计算loss\n",
    "    # backward\n",
    "    optimizer.zero_grad()# 梯度归零\n",
    "    loss.backward()# 反向传播\n",
    "    optimizer.step()# 更新参数\n",
    "    \n",
    "    if (epoch+1) % 1000 == 0:\n",
    "        print('Epoch[{}/{}], loss: '.format(epoch+1, num_epochs), end=\"\")\n",
    "        print(loss.item())"
   ]
  },
  {
   "cell_type": "markdown",
   "metadata": {},
   "source": [
    "# 测试模型"
   ]
  },
  {
   "cell_type": "code",
   "execution_count": 37,
   "metadata": {},
   "outputs": [],
   "source": [
    "model.eval()# 模型验证, model.eval()，让model变成测试模式\n",
    "predict = model(x_train)\n",
    "predict = predict.data.numpy()"
   ]
  },
  {
   "cell_type": "code",
   "execution_count": 38,
   "metadata": {},
   "outputs": [
    {
     "data": {
      "text/plain": [
       "array([[ 1.514575  ],\n",
       "       [ 1.82794535],\n",
       "       [ 2.1413157 ],\n",
       "       [ 2.48602319],\n",
       "       [ 2.54869699],\n",
       "       [ 1.76185274],\n",
       "       [ 3.36032653],\n",
       "       [ 2.33560538],\n",
       "       [ 2.73671937],\n",
       "       [ 1.19180346],\n",
       "       [ 2.58060384],\n",
       "       [ 3.64862728],\n",
       "       [ 2.08804274],\n",
       "       [ 2.85266662],\n",
       "       [ 1.45759845]], dtype=float32)"
      ]
     },
     "execution_count": 38,
     "metadata": {},
     "output_type": "execute_result"
    }
   ],
   "source": [
    "predict"
   ]
  },
  {
   "cell_type": "code",
   "execution_count": 43,
   "metadata": {},
   "outputs": [
    {
     "data": {
      "text/plain": [
       "[<matplotlib.lines.Line2D at 0x215b284af28>]"
      ]
     },
     "execution_count": 43,
     "metadata": {},
     "output_type": "execute_result"
    },
    {
     "data": {
      "image/png": "[encoded data removed]",
      "text/plain": [
       "<matplotlib.figure.Figure at 0x215b284acc0>"
      ]
     },
     "metadata": {},
     "output_type": "display_data"
    }
   ],
   "source": [
    "plt.plot(x_train.numpy(), y_train.numpy(), 'ro', label='Original data') #Plot默认是蓝色实线，plot里增加参数'ro'，显示变成红色圆点\n",
    "plt.plot(x_train.numpy(), predict,'bo', label='Fitting Line')"
   ]
  },
  {
   "cell_type": "code",
   "execution_count": 44,
   "metadata": {},
   "outputs": [
    {
     "data": {
      "text/plain": [
       "[<matplotlib.lines.Line2D at 0x215b28e35f8>]"
      ]
     },
     "execution_count": 44,
     "metadata": {},
     "output_type": "execute_result"
    },
    {
     "data": {
      "image/png": "[encoded data removed]",
      "text/plain": [
       "<matplotlib.figure.Figure at 0x215b28e3160>"
      ]
     },
     "metadata": {},
     "output_type": "display_data"
    }
   ],
   "source": [
    "plt.plot(x_train.numpy(), y_train.numpy(), 'ro', label='Original data') #Plot默认是蓝色实线，plot里增加参数'ro'，显示变成红色圆点\n",
    "plt.plot(x_train.numpy(), predict,'g', label='Fitting Line')"
   ]
  }
 ],
 "metadata": {
  "kernelspec": {
   "display_name": "Python 3",
   "language": "python",
   "name": "python3"
  },
  "language_info": {
   "codemirror_mode": {
    "name": "ipython",
    "version": 3
   },
   "file_extension": ".py",
   "mimetype": "text/x-python",
   "name": "python",
   "nbconvert_exporter": "python",
   "pygments_lexer": "ipython3",
   "version": "3.6.2"
  }
 },
 "nbformat": 4,
 "nbformat_minor": 2
}
