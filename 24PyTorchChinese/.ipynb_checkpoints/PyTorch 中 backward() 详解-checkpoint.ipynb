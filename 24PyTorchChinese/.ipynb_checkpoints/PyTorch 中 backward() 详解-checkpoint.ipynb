{
 "cells": [
  {
   "cell_type": "markdown",
   "metadata": {},
   "source": [
    "http://www.pytorchtutorial.com/pytorch-backward/\n",
    "\n",
    "https://github.com/L1aoXingyu/pytorch-beginner/tree/master/11-backward"
   ]
  },
  {
   "cell_type": "code",
   "execution_count": 1,
   "metadata": {},
   "outputs": [],
   "source": [
    "import torch "
   ]
  },
  {
   "cell_type": "code",
   "execution_count": 2,
   "metadata": {},
   "outputs": [
    {
     "data": {
      "text/plain": [
       "tensor(4.)"
      ]
     },
     "execution_count": 2,
     "metadata": {},
     "output_type": "execute_result"
    }
   ],
   "source": [
    "a = torch.FloatTensor([2, 4, 6])\n",
    "a.requires_grad = True\n",
    "a.mean()"
   ]
  },
  {
   "cell_type": "code",
   "execution_count": 3,
   "metadata": {},
   "outputs": [
    {
     "data": {
      "text/plain": [
       "tensor(4.)"
      ]
     },
     "execution_count": 3,
     "metadata": {},
     "output_type": "execute_result"
    }
   ],
   "source": [
    "out = a.mean()\n",
    "out.backward()\n",
    "out"
   ]
  },
  {
   "cell_type": "code",
   "execution_count": 4,
   "metadata": {},
   "outputs": [
    {
     "data": {
      "text/plain": [
       "4.0"
      ]
     },
     "execution_count": 4,
     "metadata": {},
     "output_type": "execute_result"
    }
   ],
   "source": [
    "out.item()"
   ]
  },
  {
   "cell_type": "code",
   "execution_count": 5,
   "metadata": {},
   "outputs": [
    {
     "data": {
      "text/plain": [
       "tensor([ 0.3333,  0.3333,  0.3333])"
      ]
     },
     "execution_count": 5,
     "metadata": {},
     "output_type": "execute_result"
    }
   ],
   "source": [
    "a.grad.data"
   ]
  },
  {
   "cell_type": "code",
   "execution_count": 6,
   "metadata": {},
   "outputs": [
    {
     "name": "stdout",
     "output_type": "stream",
     "text": [
      "=====simple gradient======\n",
      "a : tensor([ 2.,  3.])\n",
      "b : tensor([ 5.,  6.])\n",
      "c : tensor([  75.,  108.])\n",
      "out: tensor(91.5000)\n",
      "计算结果 :\n",
      "91.5\n",
      "梯度 :\n",
      "tensor([ 15.,  18.])\n"
     ]
    }
   ],
   "source": [
    "# simple gradient\n",
    "print('=====simple gradient======')\n",
    "a = torch.FloatTensor([2, 3])\n",
    "a.requires_grad = True\n",
    "b = a + 3\n",
    "c = b * b * 3\n",
    "print('a :',a.data)\n",
    "print('b :',b.data)\n",
    "print('c :',c.data)\n",
    "out = c.mean()\n",
    "print('out:',out)\n",
    "out.backward()\n",
    "print('计算结果 :')\n",
    "print(out.item())\n",
    "print('梯度 :')\n",
    "print(a.grad.data)"
   ]
  },
  {
   "cell_type": "code",
   "execution_count": null,
   "metadata": {},
   "outputs": [],
   "source": []
  },
  {
   "cell_type": "code",
   "execution_count": 13,
   "metadata": {},
   "outputs": [
    {
     "name": "stdout",
     "output_type": "stream",
     "text": [
      "tensor([[ 2.,  3.]])\n",
      "tensor([[ 0.,  0.]])\n",
      "**********\n",
      "tensor([[ 2.,  3.]])\n",
      "tensor([[  4.,  27.]])\n",
      "**********\n",
      "=====non scalar output======\n",
      "input\n",
      "tensor([[ 2.,  3.]])\n",
      "input gradients are\n",
      "tensor([[  4.,  27.]])\n"
     ]
    }
   ],
   "source": [
    "# backward on non-scalar output\n",
    "m = torch.FloatTensor([[2, 3]])\n",
    "m.requires_grad = True\n",
    "print(m)\n",
    "n = torch.zeros(1, 2)\n",
    "print(n)\n",
    "print('*'*10)\n",
    "n[0, 0] = m[0, 0] ** 2\n",
    "n[0, 1] = m[0, 1] ** 3\n",
    "print(m)\n",
    "print(n)\n",
    "n.backward(torch.FloatTensor([[1, 1]]))\n",
    "print('*'*10)\n",
    "print('=====non scalar output======')\n",
    "print('input')\n",
    "print(m.data)\n",
    "print('input gradients are')\n",
    "print(m.grad.data)"
   ]
  },
  {
   "cell_type": "code",
   "execution_count": 15,
   "metadata": {},
   "outputs": [
    {
     "name": "stdout",
     "output_type": "stream",
     "text": [
      "jacobian matrix is\n",
      "tensor([[ 4.,  2.],\n",
      "        [ 3.,  6.]])\n"
     ]
    }
   ],
   "source": [
    "# jacobian\n",
    "j = torch.zeros(2 ,2)\n",
    "k = torch.zeros(1, 2)\n",
    "m.grad.data.zero_()\n",
    "k[0, 0] = m[0, 0] ** 2 + 3 * m[0 ,1]\n",
    "k[0, 1] = m[0, 1] ** 2 + 2 * m[0, 0]\n",
    "k.backward(torch.FloatTensor([[1, 0]]), retain_graph=True)\n",
    "j[:, 0] = m.grad.data\n",
    "m.grad.data.zero_()\n",
    "k.backward(torch.FloatTensor([[0, 1]]))\n",
    "j[:, 1] = m.grad.data\n",
    "print('jacobian matrix is')\n",
    "print(j)"
   ]
  },
  {
   "cell_type": "code",
   "execution_count": 21,
   "metadata": {},
   "outputs": [
    {
     "name": "stdout",
     "output_type": "stream",
     "text": [
      "=========jacobian========\n",
      "x:\n",
      "tensor([[ 2.,  1.]])\n",
      "y:\n",
      "tensor([[ 1.,  2.],\n",
      "        [ 3.,  4.]])\n",
      "compute result:\n",
      "tensor([[ 5.,  8.]])\n",
      "jacobian matrix is:\n",
      "tensor([[ 1.,  2.],\n",
      "        [ 3.,  4.]])\n"
     ]
    }
   ],
   "source": [
    "# compute jacobian matrix\n",
    "x = torch.FloatTensor([2, 1]).view(1, 2)\n",
    "x.requires_grad=True\n",
    "y = torch.FloatTensor([[1, 2], [3, 4]])\n",
    "\n",
    "z = torch.mm(x, y)\n",
    "jacobian = torch.zeros((2, 2))\n",
    "z.backward(torch.FloatTensor([[1, 0]]), retain_graph=True)  # dz1/dx1, dz1/dx2\n",
    "jacobian[:, 0] = x.grad.data\n",
    "x.grad.data.zero_()\n",
    "z.backward(torch.FloatTensor([[0, 1]]))  # dz2/dx1, dz2/dx2\n",
    "jacobian[:, 1] = x.grad.data\n",
    "print('=========jacobian========')\n",
    "print('x:')\n",
    "print(x.data)\n",
    "print('y:')\n",
    "print(y.data)\n",
    "print('compute result:')\n",
    "print(z.data)\n",
    "print('jacobian matrix is:')\n",
    "print(jacobian)"
   ]
  }
 ],
 "metadata": {
  "kernelspec": {
   "display_name": "Python 3",
   "language": "python",
   "name": "python3"
  },
  "language_info": {
   "codemirror_mode": {
    "name": "ipython",
    "version": 3
   },
   "file_extension": ".py",
   "mimetype": "text/x-python",
   "name": "python",
   "nbconvert_exporter": "python",
   "pygments_lexer": "ipython3",
   "version": "3.6.4"
  }
 },
 "nbformat": 4,
 "nbformat_minor": 2
}
