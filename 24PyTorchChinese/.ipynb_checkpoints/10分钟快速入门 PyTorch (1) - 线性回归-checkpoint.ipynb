{
 "cells": [
  {
   "cell_type": "markdown",
   "metadata": {},
   "source": [
    "http://www.pytorchtutorial.com/10-minute-pytorch-1/"
   ]
  },
  {
   "cell_type": "markdown",
   "metadata": {},
   "source": [
    "# 一元线性回归。\n",
    "即给出一系列的点，找一条直线，使得这条直线与这些点的距离之和最小 。"
   ]
  },
  {
   "cell_type": "code",
   "execution_count": 18,
   "metadata": {},
   "outputs": [],
   "source": [
    "import torch\n",
    "from torch import nn, optim\n",
    "from torch.autograd import Variable\n",
    "import numpy as np\n",
    "import matplotlib.pyplot as plt\n",
    "%matplotlib inline"
   ]
  },
  {
   "cell_type": "markdown",
   "metadata": {},
   "source": [
    "# 给出一系列的点作为线性回归的数据，使用numpy来存储这些点"
   ]
  },
  {
   "cell_type": "code",
   "execution_count": 19,
   "metadata": {},
   "outputs": [],
   "source": [
    "x_train = np.array([[3.3], [4.4], [5.5], [6.71], [6.93], [4.168],\n",
    "                    [9.779], [6.182], [7.59], [2.167], [7.042],\n",
    "                    [10.791], [5.313], [7.997], [3.1]], dtype=np.float32)\n",
    " \n",
    "y_train = np.array([[1.7], [2.76], [2.09], [3.19], [1.694], [1.573],\n",
    "                    [3.366], [2.596], [2.53], [1.221], [2.827],\n",
    "                    [3.465], [1.65], [2.904], [1.3]], dtype=np.float32)"
   ]
  },
  {
   "cell_type": "code",
   "execution_count": 20,
   "metadata": {},
   "outputs": [
    {
     "data": {
      "text/plain": [
       "[<matplotlib.lines.Line2D at 0x215b2736dd8>]"
      ]
     },
     "execution_count": 20,
     "metadata": {},
     "output_type": "execute_result"
    },
    {
     "data": {
      "image/png": "[encoded data removed]",
      "text/plain": [
       "<matplotlib.figure.Figure at 0x215b268e198>"
      ]
     },
     "metadata": {},
     "output_type": "display_data"
    }
   ],
   "source": [
    "plt.plot(x_train, y_train, 'ro', label='Original data') #Plot默认是蓝色实线，plot里增加参数'ro'，显示变成红色圆点"
   ]
  },
  {
   "cell_type": "code",
   "execution_count": 21,
   "metadata": {},
   "outputs": [],
   "source": [
    "x_train = torch.from_numpy(x_train)\n",
    "y_train = torch.from_numpy(y_train)"
   ]
  },
  {
   "cell_type": "markdown",
   "metadata": {},
   "source": [
    "# Linear Regression Model"
   ]
  },
  {
   "cell_type": "markdown",
   "metadata": {},
   "source": [
    "### nn.Linear表示的是 y=w*x + b，里面的两个参数都是1，表示的是x是1维，y也是1维。"
   ]
  },
  {
   "cell_type": "code",
   "execution_count": 22,
   "metadata": {},
   "outputs": [],
   "source": [
    "\n",
    "class LinearRegression(nn.Module):\n",
    "    def __init__(self):\n",
    "        super(LinearRegression, self).__init__()\n",
    "        self.linear = nn.Linear(1, 1)  # input and output is 1 dimension\n",
    "\n",
    "    def forward(self, x):\n",
    "        out = self.linear(x)\n",
    "        return out\n",
    "\n",
    "\n",
    "model = LinearRegression()"
   ]
  },
  {
   "cell_type": "markdown",
   "metadata": {},
   "source": [
    "# 定义loss和优化函数"
   ]
  },
  {
   "cell_type": "code",
   "execution_count": 23,
   "metadata": {},
   "outputs": [],
   "source": [
    "criterion = nn.MSELoss()# 损失函数：最小二乘loss（均方误差（MSE）是一种加权最小二乘，它的权值是概率）\n",
    "optimizer = optim.SGD(model.parameters(), lr=1e-4)# 优化函数：随机梯度下降"
   ]
  },
  {
   "cell_type": "markdown",
   "metadata": {},
   "source": [
    "# 开始训练\n",
    "第一个循环表示每个epoch，接着开始前向传播，然后计算loss，然后反向传播，接着优化参数"
   ]
  },
  {
   "cell_type": "code",
   "execution_count": 36,
   "metadata": {},
   "outputs": [
    {
     "name": "stdout",
     "output_type": "stream",
     "text": [
      "Epoch[1000/10000], loss: 0.1751575917005539\n",
      "Epoch[2000/10000], loss: 0.17484495043754578\n",
      "Epoch[3000/10000], loss: 0.1745481640100479\n",
      "Epoch[4000/10000], loss: 0.1742662489414215\n",
      "Epoch[5000/10000], loss: 0.17399831116199493\n",
      "Epoch[6000/10000], loss: 0.17374391853809357\n",
      "Epoch[7000/10000], loss: 0.1735021024942398\n",
      "Epoch[8000/10000], loss: 0.17327247560024261\n",
      "Epoch[9000/10000], loss: 0.17305435240268707\n",
      "Epoch[10000/10000], loss: 0.1728471964597702\n"
     ]
    }
   ],
   "source": [
    "num_epochs = 10000\n",
    "for epoch in range(num_epochs):\n",
    "    inputs = Variable(x_train)\n",
    "    target = Variable(y_train)\n",
    "\n",
    "    # forward\n",
    "    out = model(inputs)# 前向传播\n",
    "    loss = criterion(out, target)# 计算loss\n",
    "    # backward\n",
    "    optimizer.zero_grad()# 梯度归零\n",
    "    loss.backward()# 反向传播\n",
    "    optimizer.step()# 更新参数\n",
    "    \n",
    "    if (epoch+1) % 1000 == 0:\n",
    "        print('Epoch[{}/{}], loss: '.format(epoch+1, num_epochs), end=\"\")\n",
    "        print(loss.item())"
   ]
  },
  {
   "cell_type": "markdown",
   "metadata": {},
   "source": [
    "# 测试模型"
   ]
  },
  {
   "cell_type": "code",
   "execution_count": 37,
   "metadata": {},
   "outputs": [],
   "source": [
    "model.eval()# 模型验证, model.eval()，让model变成测试模式\n",
    "predict = model(x_train)\n",
    "predict = predict.data.numpy()"
   ]
  },
  {
   "cell_type": "code",
   "execution_count": 38,
   "metadata": {},
   "outputs": [
    {
     "data": {
      "text/plain": [
       "array([[ 1.514575  ],\n",
       "       [ 1.82794535],\n",
       "       [ 2.1413157 ],\n",
       "       [ 2.48602319],\n",
       "       [ 2.54869699],\n",
       "       [ 1.76185274],\n",
       "       [ 3.36032653],\n",
       "       [ 2.33560538],\n",
       "       [ 2.73671937],\n",
       "       [ 1.19180346],\n",
       "       [ 2.58060384],\n",
       "       [ 3.64862728],\n",
       "       [ 2.08804274],\n",
       "       [ 2.85266662],\n",
       "       [ 1.45759845]], dtype=float32)"
      ]
     },
     "execution_count": 38,
     "metadata": {},
     "output_type": "execute_result"
    }
   ],
   "source": [
    "predict"
   ]
  },
  {
   "cell_type": "code",
   "execution_count": 43,
   "metadata": {},
   "outputs": [
    {
     "data": {
      "text/plain": [
       "[<matplotlib.lines.Line2D at 0x215b284af28>]"
      ]
     },
     "execution_count": 43,
     "metadata": {},
     "output_type": "execute_result"
    },
    {
     "data": {
      "image/png": "[encoded data removed]",
      "text/plain": [
       "<matplotlib.figure.Figure at 0x215b284acc0>"
      ]
     },
     "metadata": {},
     "output_type": "display_data"
    }
   ],
   "source": [
    "plt.plot(x_train.numpy(), y_train.numpy(), 'ro', label='Original data') #Plot默认是蓝色实线，plot里增加参数'ro'，显示变成红色圆点\n",
    "plt.plot(x_train.numpy(), predict,'bo', label='Fitting Line')"
   ]
  },
  {
   "cell_type": "code",
   "execution_count": 44,
   "metadata": {
    "scrolled": true
   },
   "outputs": [
    {
     "data": {
      "text/plain": [
       "[<matplotlib.lines.Line2D at 0x215b28e35f8>]"
      ]
     },
     "execution_count": 44,
     "metadata": {},
     "output_type": "execute_result"
    },
    {
     "data": {
      "image/png": "[encoded data removed]",
      "text/plain": [
       "<matplotlib.figure.Figure at 0x215b28e3160>"
      ]
     },
     "metadata": {},
     "output_type": "display_data"
    }
   ],
   "source": [
    "plt.plot(x_train.numpy(), y_train.numpy(), 'ro', label='Original data') #Plot默认是蓝色实线，plot里增加参数'ro'，显示变成红色圆点\n",
    "plt.plot(x_train.numpy(), predict,'g', label='Fitting Line')"
   ]
  },
  {
   "cell_type": "markdown",
   "metadata": {},
   "source": [
    "https://www.jianshu.com/p/8f5b53245575"
   ]
  },
  {
   "cell_type": "code",
   "execution_count": 65,
   "metadata": {},
   "outputs": [],
   "source": [
    "from __future__ import print_function\n",
    "import torch\n",
    "import torch.nn as nn\n",
    "import torch.optim as optim\n",
    "import numpy as np \n",
    "from torch.autograd import Variable\n",
    "from torch.utils.data import TensorDataset, DataLoader\n",
    "\n",
    "num_inputs = 2\n",
    "num_examples = 1000\n",
    "\n",
    "true_w = 2\n",
    "true_b = 5\n",
    "\n",
    "x = torch.randn(num_examples)\n",
    "y = true_w * x  + true_b\n",
    "\n",
    "y = y + torch.randn(y.size()) * 0.01"
   ]
  },
  {
   "cell_type": "code",
   "execution_count": 66,
   "metadata": {},
   "outputs": [
    {
     "name": "stdout",
     "output_type": "stream",
     "text": [
      "tensor([-0.0545, -0.3863,  0.6945, -0.8854, -1.1223,  2.1182,  2.6360,\n",
      "        -1.6779,  0.0465, -0.6952, -0.7619, -1.0664, -0.5248,  0.1736,\n",
      "        -1.8000, -0.2625, -0.7833,  0.7221, -0.9758,  0.4994, -0.0746,\n",
      "        -0.0623, -0.2017, -1.5219, -0.2922,  0.4857,  0.9153,  0.7341,\n",
      "         1.0369,  0.9528,  0.8275,  0.6596,  0.5353, -1.0257,  2.0347,\n",
      "         1.1916, -0.0952, -0.6418, -0.3450, -0.2734,  0.4753, -2.2997,\n",
      "        -0.0422, -1.3970, -1.3226, -0.0626,  0.8533, -1.1453, -0.6618,\n",
      "        -2.0065, -0.1530, -0.5299,  0.6053, -0.0479, -1.5534, -1.4304,\n",
      "        -0.9437, -0.9198,  0.9214, -0.5285, -0.8999,  0.4625, -0.5041,\n",
      "         1.7890,  0.3686,  0.4265,  1.2272, -1.9368, -0.8365,  0.8622,\n",
      "        -0.0314, -0.5166, -0.8274, -0.1710, -0.3028, -0.8493, -1.2091,\n",
      "         0.8966, -0.6172,  1.0265,  0.2060,  0.3261,  0.9790,  0.2790,\n",
      "         0.1850,  0.0621,  0.1653,  0.8611, -0.5185,  1.5376, -0.5562,\n",
      "        -0.2976,  0.6970,  0.7738,  0.2464, -1.0012, -1.8153,  1.7850,\n",
      "         0.1178, -0.4438,  0.6380, -0.0092, -1.5992,  1.6770, -0.0572,\n",
      "        -1.0653, -1.5130,  0.5058, -0.3127, -0.1670,  0.3773, -0.2167,\n",
      "        -0.1446, -0.0332, -1.1387,  0.0297, -0.9338,  1.1056, -0.4112,\n",
      "         1.5169,  0.3968,  0.2922, -0.5946,  1.1014, -0.8641, -1.6312,\n",
      "        -1.2107, -0.7762, -0.2333,  1.0765,  1.8460, -0.0176, -3.2367,\n",
      "        -1.2701,  1.5622,  1.0026, -1.8799,  0.4777,  1.1251,  1.7447,\n",
      "        -0.5083,  0.3038,  0.3555,  0.9504,  0.2748, -0.8674,  0.0607,\n",
      "        -0.5386,  1.2386, -0.9579,  0.0727, -0.0269,  0.1161,  0.2745,\n",
      "        -0.2482, -0.6344, -1.6822, -0.3406,  0.0832, -0.6668, -0.1792,\n",
      "        -0.3223,  1.3780, -0.0340,  0.2874,  1.7813,  1.7126, -0.0182,\n",
      "        -1.4274,  2.2600, -1.8243,  0.7642,  0.2942,  0.8315, -0.2870,\n",
      "         0.5724,  0.1177,  0.6873,  1.3646, -0.6533, -1.2153,  0.2957,\n",
      "        -0.4365, -0.0322, -0.8149,  0.4384,  1.4445,  0.6952,  0.8210,\n",
      "        -0.7131, -0.0267,  0.2479, -0.6154,  1.9189,  1.4928,  1.6499,\n",
      "        -1.0465, -0.1320, -1.4423, -0.2554, -1.6672, -0.0614,  0.7670,\n",
      "        -0.8058,  0.8607, -2.2324, -0.9277, -0.5809,  0.7122,  0.6715,\n",
      "        -0.2672,  0.3020, -0.9499,  0.5923, -1.0099,  1.2979,  0.3946,\n",
      "        -0.0908,  0.9592,  0.0698, -0.9727, -0.6198,  0.6192, -0.2289,\n",
      "        -2.4362, -0.3093, -0.4223,  1.3087,  0.0329, -0.4740, -0.5985,\n",
      "         1.2226, -1.1796,  1.8767,  0.9992, -1.3040,  0.5186, -0.7795,\n",
      "        -0.2698,  0.3550, -0.7341,  0.4541, -1.1538,  0.9654,  0.1340,\n",
      "        -0.6230,  0.0855,  0.3449, -0.6711,  0.3858,  0.0075, -0.9731,\n",
      "        -0.4127,  0.0494, -0.6092, -0.1950]) tensor([  4.8721,   4.2035,   6.3926,   3.2280,   2.7606,   9.2250,\n",
      "         10.2671,   1.6618,   5.0864,   3.6174,   3.4868,   2.8638,\n",
      "          3.9428,   5.3217,   1.4011,   4.4850,   3.4249,   6.4576,\n",
      "          3.0521,   5.9981,   4.8452,   4.8663,   4.5964,   1.9538,\n",
      "          4.4185,   5.9792,   6.8265,   6.4754,   7.0677,   6.9190,\n",
      "          6.6625,   6.3224,   6.0681,   2.9473,   9.0812,   7.3803,\n",
      "          4.8144,   3.7111,   4.3278,   4.4547,   5.9597,   0.4131,\n",
      "          4.9162,   2.2026,   2.3441,   4.8711,   6.7245,   2.7031,\n",
      "          3.6773,   0.9963,   4.7116,   3.9326,   6.1977,   4.9216,\n",
      "          1.9109,   2.1598,   3.1221,   3.1513,   6.8390,   3.9526,\n",
      "          3.1972,   5.9215,   4.0015,   8.5716,   5.7234,   5.8556,\n",
      "          7.4656,   1.1248,   3.3363,   6.7390,   4.9440,   3.9684,\n",
      "          3.3659,   4.6562,   4.4039,   3.2842,   2.5826,   6.7857,\n",
      "          3.7533,   7.0580,   5.4208,   5.6569,   6.9550,   5.5707,\n",
      "          5.3732,   5.1309,   5.3182,   6.7261,   3.9420,   8.0729,\n",
      "          3.8943,   4.3979,   6.3888,   6.5440,   5.4937,   3.0113,\n",
      "          1.3728,   8.5521,   5.2327,   4.1040,   6.2895,   4.9919,\n",
      "          1.7992,   8.3489,   4.9056,   2.8723,   1.9704,   6.0208,\n",
      "          4.3827,   4.6717,   5.7588,   4.5531,   4.7097,   4.9342,\n",
      "          2.7364,   5.0440,   3.1248,   7.2175,   4.1791,   8.0359,\n",
      "          5.7890,   5.5818,   3.8025,   7.1967,   3.2706,   1.7436,\n",
      "          2.5777,   3.4425,   4.5174,   7.1392,   8.6989,   4.9601,\n",
      "         -1.4813,   2.4798,   8.1160,   6.9927,   1.2353,   5.9490,\n",
      "          7.2595,   8.4918,   3.9787,   5.6111,   5.7226,   6.9049,\n",
      "          5.5489,   3.2505,   5.1302,   3.9099,   7.4788,   3.0919,\n",
      "          5.1470,   4.9507,   5.2444,   5.5588,   4.5005,   3.7181,\n",
      "          1.6264,   4.2969,   5.1675,   3.6831,   4.6434,   4.3590,\n",
      "          7.7503,   4.9387,   5.5670,   8.5537,   8.4262,   4.9419,\n",
      "          2.1369,   9.5029,   1.3553,   6.5236,   5.5726,   6.6820,\n",
      "          4.4227,   6.1543,   5.2335,   6.3675,   7.7233,   3.6855,\n",
      "          2.5561,   5.5705,   4.1197,   4.9495,   3.3542,   5.8955,\n",
      "          7.8851,   6.3850,   6.6382,   3.5700,   4.9532,   5.5021,\n",
      "          3.7625,   8.8356,   7.9901,   8.3103,   2.9066,   4.7366,\n",
      "          2.1348,   4.4832,   1.6521,   4.8878,   6.5375,   3.4018,\n",
      "          6.7258,   0.5338,   3.1515,   3.8639,   6.4272,   6.3373,\n",
      "          4.4819,   5.6083,   3.0917,   6.1845,   2.9919,   7.5804,\n",
      "          5.7884,   4.8082,   6.9261,   5.1506,   3.0563,   3.7604,\n",
      "          6.2262,   4.5469,   0.1418,   4.3795,   4.1629,   7.6017,\n",
      "          5.0614,   4.0493,   3.8013,   7.4552,   2.6584,   8.7502,\n",
      "          7.0009,   2.3777,   6.0335,   3.4432,   4.4578,   5.7076,\n",
      "          3.5165,   5.8996,   2.7128,   6.9234,   5.2487,   3.7706,\n",
      "          5.1798,   5.6843,   3.6545,   5.7869,   5.0051,   3.0265,\n",
      "          4.1778,   5.1185,   3.7784,   4.6230])\n"
     ]
    }
   ],
   "source": [
    "dataset = TensorDataset(x, y)\n",
    "trainloader = DataLoader(dataset, batch_size=256, shuffle=True)\n",
    "\n",
    "for data, label in trainloader:\n",
    "    print(data, label)\n",
    "    break"
   ]
  },
  {
   "cell_type": "code",
   "execution_count": 67,
   "metadata": {},
   "outputs": [],
   "source": [
    "class LinearRegression(nn.Module):\n",
    "    def __init__(self):\n",
    "        super(LinearRegression, self).__init__()\n",
    "        self.linear = nn.Linear(1, 1)  # input and output is 1 dimension\n",
    "\n",
    "    def forward(self, x):\n",
    "        out = self.linear(x)\n",
    "        return out\n",
    "\n",
    "\n",
    "model = LinearRegression()"
   ]
  },
  {
   "cell_type": "code",
   "execution_count": 68,
   "metadata": {},
   "outputs": [],
   "source": [
    "criterion = nn.MSELoss()\n",
    "optimizer = optim.SGD(net.parameters(), lr=0.1)"
   ]
  },
  {
   "cell_type": "code",
   "execution_count": 69,
   "metadata": {},
   "outputs": [
    {
     "ename": "TypeError",
     "evalue": "__init__() takes 1 positional argument but 2 were given",
     "output_type": "error",
     "traceback": [
      "\u001b[1;31m---------------------------------------------------------------------------\u001b[0m",
      "\u001b[1;31mTypeError\u001b[0m                                 Traceback (most recent call last)",
      "\u001b[1;32m<ipython-input-69-c66747201c8b>\u001b[0m in \u001b[0;36m<module>\u001b[1;34m()\u001b[0m\n\u001b[0;32m      9\u001b[0m         \u001b[0moptimizer\u001b[0m\u001b[1;33m.\u001b[0m\u001b[0mzero_grad\u001b[0m\u001b[1;33m(\u001b[0m\u001b[1;33m)\u001b[0m\u001b[1;33m\u001b[0m\u001b[0m\n\u001b[0;32m     10\u001b[0m \u001b[1;33m\u001b[0m\u001b[0m\n\u001b[1;32m---> 11\u001b[1;33m         \u001b[0mout\u001b[0m \u001b[1;33m=\u001b[0m \u001b[0mLinearRegression\u001b[0m\u001b[1;33m(\u001b[0m\u001b[0mdata\u001b[0m\u001b[1;33m)\u001b[0m\u001b[1;33m\u001b[0m\u001b[0m\n\u001b[0m\u001b[0;32m     12\u001b[0m \u001b[1;33m\u001b[0m\u001b[0m\n\u001b[0;32m     13\u001b[0m         \u001b[0mloss\u001b[0m \u001b[1;33m=\u001b[0m \u001b[0mcriterion\u001b[0m\u001b[1;33m(\u001b[0m\u001b[0mout\u001b[0m\u001b[1;33m,\u001b[0m \u001b[0mlabel\u001b[0m\u001b[1;33m)\u001b[0m\u001b[1;33m\u001b[0m\u001b[0m\n",
      "\u001b[1;31mTypeError\u001b[0m: __init__() takes 1 positional argument but 2 were given"
     ]
    }
   ],
   "source": [
    "epochs = 100\n",
    "for epoch in range(epochs):\n",
    "    total_loss = 0\n",
    "    for i, data in enumerate(trainloader, 0):\n",
    "        inputs, labels = data\n",
    "        data = Variable(inputs)\n",
    "        label = Variable(labels).float()\n",
    "\n",
    "        optimizer.zero_grad()\n",
    "\n",
    "        out = LinearRegression(data)\n",
    "\n",
    "        loss = criterion(out, label)\n",
    "\n",
    "        \n",
    "        loss.backward()\n",
    "        optimizer.step()\n",
    "\n",
    "        total_loss = total_loss + loss.data[0]\n",
    "    print(\"Epoch %d, average loss: %f\" % (epoch, total_loss/num_examples))\n",
    "\n",
    "\n",
    "params = list(net.parameters())\n",
    "\n"
   ]
  },
  {
   "cell_type": "code",
   "execution_count": null,
   "metadata": {},
   "outputs": [],
   "source": []
  }
 ],
 "metadata": {
  "kernelspec": {
   "display_name": "Python 3",
   "language": "python",
   "name": "python3"
  },
  "language_info": {
   "codemirror_mode": {
    "name": "ipython",
    "version": 3
   },
   "file_extension": ".py",
   "mimetype": "text/x-python",
   "name": "python",
   "nbconvert_exporter": "python",
   "pygments_lexer": "ipython3",
   "version": "3.6.4"
  }
 },
 "nbformat": 4,
 "nbformat_minor": 2
}
