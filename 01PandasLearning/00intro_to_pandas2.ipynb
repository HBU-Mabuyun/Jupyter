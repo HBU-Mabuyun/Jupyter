{
 "cells": [
  {
   "cell_type": "code",
   "execution_count": 1,
   "metadata": {},
   "outputs": [
    {
     "name": "stdout",
     "output_type": "stream",
     "text": [
      "----------column-----------------\n",
      "<class 'pandas.core.series.Series'>\n",
      "----------column City name-----------------\n",
      "0    San Francisco\n",
      "1         San Jose\n",
      "2       Sacramento\n",
      "Name: City name, dtype: object\n",
      "----------column Population-----------------\n",
      "0     852469\n",
      "1    1015785\n",
      "2     485199\n",
      "Name: Population, dtype: int64\n",
      "----------value: Line and Column-----------------\n",
      "<class 'str'>\n",
      "San Jose\n",
      "----------DataFrame:Table-----------------\n",
      "<class 'pandas.core.frame.DataFrame'>\n",
      "       City name  Population\n",
      "0  San Francisco      852469\n",
      "1       San Jose     1015785\n",
      "---------cities[0:1]------------------\n",
      "       City name  Population\n",
      "0  San Francisco      852469\n",
      "---------cities------------------\n",
      "       City name  Population\n",
      "0  San Francisco      852469\n",
      "1       San Jose     1015785\n",
      "2     Sacramento      485199\n",
      "---------cities.head------------------\n",
      "       City name  Population\n",
      "0  San Francisco      852469\n",
      "1       San Jose     1015785\n",
      "----------population / 1000-----------------\n",
      "0     852.469\n",
      "1    1015.785\n",
      "2     485.199\n",
      "dtype: float64\n"
     ]
    }
   ],
   "source": [
    "import pandas as pd\n",
    "city_names = pd.Series(['San Francisco', 'San Jose', 'Sacramento'])\n",
    "population = pd.Series([852469, 1015785, 485199])\n",
    "cities = pd.DataFrame({ 'City name': city_names, 'Population': population })\n",
    "print('----------column-----------------')\n",
    "print (type(cities['City name']))\n",
    "print('----------column City name-----------------')\n",
    "print(cities['City name'])\n",
    "print('----------column Population-----------------')\n",
    "print(cities['Population'])\n",
    "print('----------value: Line and Column-----------------')\n",
    "print (type(cities['City name'][1]))\n",
    "print(cities['City name'][1])\n",
    "print('----------DataFrame:Table-----------------')\n",
    "print (type(cities[0:2]))\n",
    "print(cities[0:2])\n",
    "print('---------cities[0:1]------------------')\n",
    "print(cities[0:1])\n",
    "print('---------cities------------------')\n",
    "print(cities)\n",
    "print('---------cities.head------------------')\n",
    "print(cities.head(2))\n",
    "print('----------population / 1000-----------------')\n",
    "print(population / 1000)"
   ]
  },
  {
   "cell_type": "code",
   "execution_count": null,
   "metadata": {},
   "outputs": [],
   "source": []
  }
 ],
 "metadata": {
  "kernelspec": {
   "display_name": "Python 3",
   "language": "python",
   "name": "python3"
  },
  "language_info": {
   "codemirror_mode": {
    "name": "ipython",
    "version": 3
   },
   "file_extension": ".py",
   "mimetype": "text/x-python",
   "name": "python",
   "nbconvert_exporter": "python",
   "pygments_lexer": "ipython3",
   "version": "3.6.2"
  }
 },
 "nbformat": 4,
 "nbformat_minor": 2
}
