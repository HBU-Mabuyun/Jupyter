{
 "cells": [
  {
   "cell_type": "code",
   "execution_count": 4,
   "metadata": {},
   "outputs": [
    {
     "data": {
      "text/plain": [
       "2011-01-02   -0.191919\n",
       "2011-01-05   -1.532274\n",
       "2011-01-07    1.211122\n",
       "2011-01-08    0.209808\n",
       "2011-01-10    0.921376\n",
       "2011-01-12   -0.980913\n",
       "dtype: float64"
      ]
     },
     "execution_count": 4,
     "metadata": {},
     "output_type": "execute_result"
    }
   ],
   "source": [
    "from datetime import datetime\n",
    "import pandas as pd\n",
    "import numpy as np\n",
    "\n",
    "dates = [datetime(2011, 1, 2), datetime(2011, 1, 5),\n",
    "         datetime(2011, 1, 7), datetime(2011, 1, 8),\n",
    "         datetime(2011, 1, 10), datetime(2011, 1, 12)]\n",
    "\n",
    "ts = pd.Series(np.random.randn(6), index=dates)\n",
    "\n",
    "ts"
   ]
  },
  {
   "cell_type": "code",
   "execution_count": 5,
   "metadata": {},
   "outputs": [
    {
     "data": {
      "text/plain": [
       "DatetimeIndex(['2011-01-02', '2011-01-05', '2011-01-07', '2011-01-08',\n",
       "               '2011-01-10', '2011-01-12'],\n",
       "              dtype='datetime64[ns]', freq=None)"
      ]
     },
     "execution_count": 5,
     "metadata": {},
     "output_type": "execute_result"
    }
   ],
   "source": [
    "ts.index"
   ]
  },
  {
   "cell_type": "code",
   "execution_count": 7,
   "metadata": {},
   "outputs": [
    {
     "data": {
      "text/plain": [
       "2011-01-02   -0.383839\n",
       "2011-01-05         NaN\n",
       "2011-01-07    2.422243\n",
       "2011-01-08         NaN\n",
       "2011-01-10    1.842752\n",
       "2011-01-12         NaN\n",
       "dtype: float64"
      ]
     },
     "execution_count": 7,
     "metadata": {},
     "output_type": "execute_result"
    }
   ],
   "source": [
    "ts + ts[::2] #ts[::2] 是每隔两个取一个。"
   ]
  },
  {
   "cell_type": "code",
   "execution_count": 8,
   "metadata": {},
   "outputs": [
    {
     "data": {
      "text/plain": [
       "dtype('<M8[ns]')"
      ]
     },
     "execution_count": 8,
     "metadata": {},
     "output_type": "execute_result"
    }
   ],
   "source": [
    "ts.index.dtype"
   ]
  },
  {
   "cell_type": "code",
   "execution_count": 9,
   "metadata": {},
   "outputs": [
    {
     "data": {
      "text/plain": [
       "Timestamp('2011-01-02 00:00:00')"
      ]
     },
     "execution_count": 9,
     "metadata": {},
     "output_type": "execute_result"
    }
   ],
   "source": [
    "stamp = ts.index[0]\n",
    "stamp"
   ]
  },
  {
   "cell_type": "markdown",
   "metadata": {},
   "source": [
    "# 索引、选取、子集构造"
   ]
  },
  {
   "cell_type": "code",
   "execution_count": 10,
   "metadata": {},
   "outputs": [],
   "source": [
    "stamp = ts.index[2]"
   ]
  },
  {
   "cell_type": "code",
   "execution_count": 11,
   "metadata": {},
   "outputs": [
    {
     "data": {
      "text/plain": [
       "Timestamp('2011-01-07 00:00:00')"
      ]
     },
     "execution_count": 11,
     "metadata": {},
     "output_type": "execute_result"
    }
   ],
   "source": [
    "stamp"
   ]
  },
  {
   "cell_type": "code",
   "execution_count": 12,
   "metadata": {},
   "outputs": [
    {
     "data": {
      "text/plain": [
       "1.211121743249616"
      ]
     },
     "execution_count": 12,
     "metadata": {},
     "output_type": "execute_result"
    }
   ],
   "source": [
    "ts[stamp]"
   ]
  },
  {
   "cell_type": "code",
   "execution_count": 13,
   "metadata": {},
   "outputs": [
    {
     "data": {
      "text/plain": [
       "0.92137614880242047"
      ]
     },
     "execution_count": 13,
     "metadata": {},
     "output_type": "execute_result"
    }
   ],
   "source": [
    " ts['1/10/2011']"
   ]
  },
  {
   "cell_type": "code",
   "execution_count": 14,
   "metadata": {},
   "outputs": [
    {
     "data": {
      "text/plain": [
       "0.92137614880242047"
      ]
     },
     "execution_count": 14,
     "metadata": {},
     "output_type": "execute_result"
    }
   ],
   "source": [
    "ts['20110110']"
   ]
  },
  {
   "cell_type": "code",
   "execution_count": 15,
   "metadata": {},
   "outputs": [
    {
     "data": {
      "text/plain": [
       "2000-01-01    0.146257\n",
       "2000-01-02   -0.746507\n",
       "2000-01-03   -0.936632\n",
       "2000-01-04   -1.261095\n",
       "2000-01-05   -0.158545\n",
       "2000-01-06   -0.432506\n",
       "2000-01-07    0.656878\n",
       "2000-01-08   -0.176964\n",
       "2000-01-09    0.058015\n",
       "2000-01-10   -1.034301\n",
       "2000-01-11   -1.813172\n",
       "2000-01-12    0.510091\n",
       "2000-01-13   -0.697087\n",
       "2000-01-14    1.719008\n",
       "2000-01-15   -0.636038\n",
       "2000-01-16   -1.306403\n",
       "2000-01-17    0.498114\n",
       "2000-01-18    0.041419\n",
       "2000-01-19   -0.024225\n",
       "2000-01-20   -0.379889\n",
       "2000-01-21   -0.967863\n",
       "2000-01-22    0.951319\n",
       "2000-01-23    3.056467\n",
       "2000-01-24   -0.396022\n",
       "2000-01-25   -0.694427\n",
       "2000-01-26    0.280055\n",
       "2000-01-27    0.832859\n",
       "2000-01-28    0.833868\n",
       "2000-01-29    0.159106\n",
       "2000-01-30   -0.061889\n",
       "                ...   \n",
       "2002-08-28    2.045290\n",
       "2002-08-29    0.878125\n",
       "2002-08-30   -0.383989\n",
       "2002-08-31   -0.551787\n",
       "2002-09-01   -1.023107\n",
       "2002-09-02   -1.340817\n",
       "2002-09-03    0.758069\n",
       "2002-09-04    0.595440\n",
       "2002-09-05    0.311928\n",
       "2002-09-06   -1.497454\n",
       "2002-09-07    0.847406\n",
       "2002-09-08   -0.538604\n",
       "2002-09-09   -2.899351\n",
       "2002-09-10    1.086459\n",
       "2002-09-11    0.407175\n",
       "2002-09-12    0.995823\n",
       "2002-09-13   -0.350752\n",
       "2002-09-14   -0.428537\n",
       "2002-09-15   -1.710907\n",
       "2002-09-16    0.130304\n",
       "2002-09-17   -1.615399\n",
       "2002-09-18   -0.231752\n",
       "2002-09-19   -0.236341\n",
       "2002-09-20   -0.110980\n",
       "2002-09-21   -0.021918\n",
       "2002-09-22    0.309622\n",
       "2002-09-23   -3.400408\n",
       "2002-09-24    1.512928\n",
       "2002-09-25    0.094656\n",
       "2002-09-26    1.210086\n",
       "Freq: D, Length: 1000, dtype: float64"
      ]
     },
     "execution_count": 15,
     "metadata": {},
     "output_type": "execute_result"
    }
   ],
   "source": [
    "longer_ts = pd.Series(np.random.randn(1000),\n",
    "                       index=pd.date_range('1/1/2000', periods=1000))\n",
    "\n",
    "longer_ts\n"
   ]
  },
  {
   "cell_type": "code",
   "execution_count": 16,
   "metadata": {},
   "outputs": [
    {
     "data": {
      "text/plain": [
       "2001-05-01   -1.766065\n",
       "2001-05-02   -0.263063\n",
       "2001-05-03   -0.666934\n",
       "2001-05-04   -1.231676\n",
       "2001-05-05   -0.475472\n",
       "2001-05-06    0.465111\n",
       "2001-05-07    1.193463\n",
       "2001-05-08    0.017362\n",
       "2001-05-09    0.171993\n",
       "2001-05-10    1.532049\n",
       "2001-05-11    0.415367\n",
       "2001-05-12   -1.349429\n",
       "2001-05-13   -0.209501\n",
       "2001-05-14   -0.675421\n",
       "2001-05-15   -0.715755\n",
       "2001-05-16    1.159932\n",
       "2001-05-17   -1.772986\n",
       "2001-05-18   -0.091468\n",
       "2001-05-19   -0.521642\n",
       "2001-05-20    1.143532\n",
       "2001-05-21   -0.599984\n",
       "2001-05-22    0.764009\n",
       "2001-05-23    0.916960\n",
       "2001-05-24   -0.421523\n",
       "2001-05-25    0.058358\n",
       "2001-05-26    0.124625\n",
       "2001-05-27    1.058124\n",
       "2001-05-28    1.298122\n",
       "2001-05-29    0.733945\n",
       "2001-05-30    0.589512\n",
       "2001-05-31    0.218271\n",
       "Freq: D, dtype: float64"
      ]
     },
     "execution_count": 16,
     "metadata": {},
     "output_type": "execute_result"
    }
   ],
   "source": [
    "longer_ts['2001-05']"
   ]
  },
  {
   "cell_type": "code",
   "execution_count": 17,
   "metadata": {},
   "outputs": [
    {
     "data": {
      "text/plain": [
       "2001-01-01    0.724777\n",
       "2001-01-02   -1.121745\n",
       "2001-01-03   -1.205103\n",
       "2001-01-04    0.384350\n",
       "2001-01-05    0.676552\n",
       "2001-01-06    1.451911\n",
       "2001-01-07    1.530257\n",
       "2001-01-08   -1.054096\n",
       "2001-01-09   -0.271614\n",
       "2001-01-10   -1.463364\n",
       "2001-01-11   -1.140776\n",
       "2001-01-12   -0.350502\n",
       "2001-01-13   -0.386560\n",
       "2001-01-14    0.356542\n",
       "2001-01-15   -1.425273\n",
       "2001-01-16    1.048568\n",
       "2001-01-17   -1.733616\n",
       "2001-01-18    0.619197\n",
       "2001-01-19   -0.840468\n",
       "2001-01-20   -1.482493\n",
       "2001-01-21    0.487566\n",
       "2001-01-22   -0.435726\n",
       "2001-01-23    1.150275\n",
       "2001-01-24   -0.011008\n",
       "2001-01-25    0.039883\n",
       "2001-01-26    0.710060\n",
       "2001-01-27    0.123721\n",
       "2001-01-28   -0.799226\n",
       "2001-01-29   -0.014557\n",
       "2001-01-30   -0.671087\n",
       "                ...   \n",
       "2001-12-02    0.215858\n",
       "2001-12-03    0.336042\n",
       "2001-12-04   -1.056905\n",
       "2001-12-05    0.504478\n",
       "2001-12-06   -1.980842\n",
       "2001-12-07    0.414335\n",
       "2001-12-08   -0.643939\n",
       "2001-12-09   -0.586696\n",
       "2001-12-10   -1.017420\n",
       "2001-12-11   -0.140262\n",
       "2001-12-12    1.195975\n",
       "2001-12-13   -0.177117\n",
       "2001-12-14    0.390763\n",
       "2001-12-15    1.392500\n",
       "2001-12-16   -0.547385\n",
       "2001-12-17    0.935908\n",
       "2001-12-18   -1.176016\n",
       "2001-12-19    0.974167\n",
       "2001-12-20    1.601087\n",
       "2001-12-21   -0.680676\n",
       "2001-12-22    0.484139\n",
       "2001-12-23    1.276879\n",
       "2001-12-24   -0.363897\n",
       "2001-12-25   -1.374039\n",
       "2001-12-26   -0.264871\n",
       "2001-12-27   -0.660484\n",
       "2001-12-28   -1.635175\n",
       "2001-12-29   -0.819379\n",
       "2001-12-30    1.539175\n",
       "2001-12-31    0.041898\n",
       "Freq: D, Length: 365, dtype: float64"
      ]
     },
     "execution_count": 17,
     "metadata": {},
     "output_type": "execute_result"
    }
   ],
   "source": [
    "longer_ts['2001']"
   ]
  },
  {
   "cell_type": "code",
   "execution_count": 18,
   "metadata": {},
   "outputs": [
    {
     "data": {
      "text/plain": [
       "2011-01-07    1.211122\n",
       "2011-01-08    0.209808\n",
       "2011-01-10    0.921376\n",
       "2011-01-12   -0.980913\n",
       "dtype: float64"
      ]
     },
     "execution_count": 18,
     "metadata": {},
     "output_type": "execute_result"
    }
   ],
   "source": [
    "ts[datetime(2011, 1, 7):]"
   ]
  },
  {
   "cell_type": "code",
   "execution_count": 19,
   "metadata": {},
   "outputs": [
    {
     "data": {
      "text/plain": [
       "2011-01-02   -0.191919\n",
       "2011-01-05   -1.532274\n",
       "2011-01-07    1.211122\n",
       "2011-01-08    0.209808\n",
       "2011-01-10    0.921376\n",
       "2011-01-12   -0.980913\n",
       "dtype: float64"
      ]
     },
     "execution_count": 19,
     "metadata": {},
     "output_type": "execute_result"
    }
   ],
   "source": [
    "ts"
   ]
  },
  {
   "cell_type": "code",
   "execution_count": 20,
   "metadata": {},
   "outputs": [
    {
     "data": {
      "text/plain": [
       "2011-01-07    1.211122\n",
       "2011-01-08    0.209808\n",
       "2011-01-10    0.921376\n",
       "dtype: float64"
      ]
     },
     "execution_count": 20,
     "metadata": {},
     "output_type": "execute_result"
    }
   ],
   "source": [
    "ts['1/6/2011':'1/11/2011']"
   ]
  },
  {
   "cell_type": "code",
   "execution_count": 21,
   "metadata": {},
   "outputs": [
    {
     "data": {
      "text/plain": [
       "2011-01-02   -0.191919\n",
       "2011-01-05   -1.532274\n",
       "2011-01-07    1.211122\n",
       "2011-01-08    0.209808\n",
       "dtype: float64"
      ]
     },
     "execution_count": 21,
     "metadata": {},
     "output_type": "execute_result"
    }
   ],
   "source": [
    " ts.truncate(after='1/9/2011')"
   ]
  },
  {
   "cell_type": "code",
   "execution_count": 22,
   "metadata": {},
   "outputs": [
    {
     "data": {
      "text/html": [
       "<div>\n",
       "<style>\n",
       "    .dataframe thead tr:only-child th {\n",
       "        text-align: right;\n",
       "    }\n",
       "\n",
       "    .dataframe thead th {\n",
       "        text-align: left;\n",
       "    }\n",
       "\n",
       "    .dataframe tbody tr th {\n",
       "        vertical-align: top;\n",
       "    }\n",
       "</style>\n",
       "<table border=\"1\" class=\"dataframe\">\n",
       "  <thead>\n",
       "    <tr style=\"text-align: right;\">\n",
       "      <th></th>\n",
       "      <th>Colorado</th>\n",
       "      <th>Texas</th>\n",
       "      <th>New York</th>\n",
       "      <th>Ohio</th>\n",
       "    </tr>\n",
       "  </thead>\n",
       "  <tbody>\n",
       "    <tr>\n",
       "      <th>2001-05-02</th>\n",
       "      <td>0.639002</td>\n",
       "      <td>0.827230</td>\n",
       "      <td>-0.838075</td>\n",
       "      <td>-0.542302</td>\n",
       "    </tr>\n",
       "    <tr>\n",
       "      <th>2001-05-09</th>\n",
       "      <td>0.250158</td>\n",
       "      <td>1.534791</td>\n",
       "      <td>1.216634</td>\n",
       "      <td>-2.082446</td>\n",
       "    </tr>\n",
       "    <tr>\n",
       "      <th>2001-05-16</th>\n",
       "      <td>0.075799</td>\n",
       "      <td>-0.303102</td>\n",
       "      <td>0.036309</td>\n",
       "      <td>-0.015722</td>\n",
       "    </tr>\n",
       "    <tr>\n",
       "      <th>2001-05-23</th>\n",
       "      <td>-0.901805</td>\n",
       "      <td>-0.477886</td>\n",
       "      <td>2.125948</td>\n",
       "      <td>0.849853</td>\n",
       "    </tr>\n",
       "    <tr>\n",
       "      <th>2001-05-30</th>\n",
       "      <td>-0.424995</td>\n",
       "      <td>-0.845450</td>\n",
       "      <td>-0.353667</td>\n",
       "      <td>-0.867298</td>\n",
       "    </tr>\n",
       "  </tbody>\n",
       "</table>\n",
       "</div>"
      ],
      "text/plain": [
       "            Colorado     Texas  New York      Ohio\n",
       "2001-05-02  0.639002  0.827230 -0.838075 -0.542302\n",
       "2001-05-09  0.250158  1.534791  1.216634 -2.082446\n",
       "2001-05-16  0.075799 -0.303102  0.036309 -0.015722\n",
       "2001-05-23 -0.901805 -0.477886  2.125948  0.849853\n",
       "2001-05-30 -0.424995 -0.845450 -0.353667 -0.867298"
      ]
     },
     "execution_count": 22,
     "metadata": {},
     "output_type": "execute_result"
    }
   ],
   "source": [
    "dates = pd.date_range('1/1/2000', periods=100, freq='W-WED')\n",
    "\n",
    "long_df = pd.DataFrame(np.random.randn(100, 4),\n",
    "                       index=dates,\n",
    "                       columns=['Colorado', 'Texas',\n",
    "                                'New York', 'Ohio'])\n",
    "\n",
    "long_df.loc['5-2001']"
   ]
  },
  {
   "cell_type": "markdown",
   "metadata": {},
   "source": [
    "# 带有重复索引的时间序列"
   ]
  },
  {
   "cell_type": "code",
   "execution_count": 23,
   "metadata": {},
   "outputs": [
    {
     "data": {
      "text/plain": [
       "2000-01-01    0\n",
       "2000-01-02    1\n",
       "2000-01-02    2\n",
       "2000-01-02    3\n",
       "2000-01-03    4\n",
       "dtype: int32"
      ]
     },
     "execution_count": 23,
     "metadata": {},
     "output_type": "execute_result"
    }
   ],
   "source": [
    "dates = pd.DatetimeIndex(['1/1/2000', '1/2/2000', '1/2/2000',\n",
    "                          '1/2/2000', '1/3/2000'])\n",
    "dup_ts = pd.Series(np.arange(5), index=dates)\n",
    "\n",
    "dup_ts\n"
   ]
  },
  {
   "cell_type": "code",
   "execution_count": 24,
   "metadata": {},
   "outputs": [
    {
     "data": {
      "text/plain": [
       "False"
      ]
     },
     "execution_count": 24,
     "metadata": {},
     "output_type": "execute_result"
    }
   ],
   "source": [
    "dup_ts.index.is_unique"
   ]
  },
  {
   "cell_type": "code",
   "execution_count": 25,
   "metadata": {},
   "outputs": [
    {
     "data": {
      "text/plain": [
       "2000-01-01    0\n",
       "2000-01-02    2\n",
       "2000-01-03    4\n",
       "dtype: int32"
      ]
     },
     "execution_count": 25,
     "metadata": {},
     "output_type": "execute_result"
    }
   ],
   "source": [
    "grouped = dup_ts.groupby(level=0)\n",
    "grouped.mean()"
   ]
  },
  {
   "cell_type": "code",
   "execution_count": 26,
   "metadata": {},
   "outputs": [
    {
     "data": {
      "text/plain": [
       "2000-01-01    1\n",
       "2000-01-02    3\n",
       "2000-01-03    1\n",
       "dtype: int64"
      ]
     },
     "execution_count": 26,
     "metadata": {},
     "output_type": "execute_result"
    }
   ],
   "source": [
    "grouped.count()"
   ]
  },
  {
   "cell_type": "code",
   "execution_count": 27,
   "metadata": {},
   "outputs": [
    {
     "data": {
      "text/plain": [
       "2000-01-01    0\n",
       "2000-01-02    3\n",
       "2000-01-03    4\n",
       "dtype: int32"
      ]
     },
     "execution_count": 27,
     "metadata": {},
     "output_type": "execute_result"
    }
   ],
   "source": [
    "grouped.max()"
   ]
  },
  {
   "cell_type": "code",
   "execution_count": null,
   "metadata": {},
   "outputs": [],
   "source": []
  }
 ],
 "metadata": {
  "kernelspec": {
   "display_name": "Python 3",
   "language": "python",
   "name": "python3"
  },
  "language_info": {
   "codemirror_mode": {
    "name": "ipython",
    "version": 3
   },
   "file_extension": ".py",
   "mimetype": "text/x-python",
   "name": "python",
   "nbconvert_exporter": "python",
   "pygments_lexer": "ipython3",
   "version": "3.6.2"
  }
 },
 "nbformat": 4,
 "nbformat_minor": 2
}
