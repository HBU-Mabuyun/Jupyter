{
 "cells": [
  {
   "cell_type": "markdown",
   "metadata": {},
   "source": [
    "##  json.dump() 和 json.load() "
   ]
  },
  {
   "cell_type": "code",
   "execution_count": 1,
   "metadata": {},
   "outputs": [
    {
     "name": "stdout",
     "output_type": "stream",
     "text": [
      "Python 原始数据： {'no': 1, 'name': 'Runoob', 'url': 'http://www.runoob.com'}\n",
      "JSON 对象： {\"no\": 1, \"name\": \"Runoob\", \"url\": \"http://www.runoob.com\"}\n"
     ]
    }
   ],
   "source": [
    "import json\n",
    "\n",
    "# Python 字典类型转换为 JSON 对象\n",
    "data = {\n",
    "    'no' : 1,\n",
    "    'name' : 'Runoob',\n",
    "    'url' : 'http://www.runoob.com'\n",
    "}\n",
    "\n",
    "json_str = json.dumps(data)\n",
    "print (\"Python 原始数据：\", repr(data))\n",
    "print (\"JSON 对象：\", json_str)"
   ]
  },
  {
   "cell_type": "code",
   "execution_count": 2,
   "metadata": {},
   "outputs": [
    {
     "data": {
      "text/plain": [
       "{'name': 'Runoob', 'no': 1, 'url': 'http://www.runoob.com'}"
      ]
     },
     "execution_count": 2,
     "metadata": {},
     "output_type": "execute_result"
    }
   ],
   "source": [
    "data"
   ]
  },
  {
   "cell_type": "code",
   "execution_count": 3,
   "metadata": {},
   "outputs": [
    {
     "name": "stdout",
     "output_type": "stream",
     "text": [
      "Python 原始数据： {'no': 1, 'name': 'Runoob', 'url': 'http://www.runoob.com'}\n",
      "JSON 对象： {\"no\": 1, \"name\": \"Runoob\", \"url\": \"http://www.runoob.com\"}\n",
      "data2['name']:  Runoob\n",
      "data2['url']:  http://www.runoob.com\n"
     ]
    }
   ],
   "source": [
    "# Python 字典类型转换为 JSON 对象\n",
    "data1 = {\n",
    "    'no' : 1,\n",
    "    'name' : 'Runoob',\n",
    "    'url' : 'http://www.runoob.com'\n",
    "}\n",
    "\n",
    "json_str = json.dumps(data1)\n",
    "print (\"Python 原始数据：\", repr(data1))\n",
    "print (\"JSON 对象：\", json_str)\n",
    "\n",
    "# 将 JSON 对象转换为 Python 字典\n",
    "data2 = json.loads(json_str)\n",
    "print (\"data2['name']: \", data2['name'])\n",
    "print (\"data2['url']: \", data2['url'])"
   ]
  },
  {
   "cell_type": "code",
   "execution_count": 4,
   "metadata": {},
   "outputs": [],
   "source": [
    "# 读取数据\n",
    "with open('data.json', 'r') as f:\n",
    "    data = json.load(f)"
   ]
  },
  {
   "cell_type": "code",
   "execution_count": 5,
   "metadata": {},
   "outputs": [
    {
     "data": {
      "text/plain": [
       "{'employees': [{'firstName': 'Bill', 'lastName': 'Gates'},\n",
       "  {'firstName': 'George', 'lastName': 'Bush'},\n",
       "  {'firstName': 'Thomas', 'lastName': 'Carter'}]}"
      ]
     },
     "execution_count": 5,
     "metadata": {},
     "output_type": "execute_result"
    }
   ],
   "source": [
    "data"
   ]
  },
  {
   "cell_type": "code",
   "execution_count": 6,
   "metadata": {},
   "outputs": [],
   "source": [
    "# 写入 JSON 数据\n",
    "with open('data.json', 'w') as f:\n",
    "    json.dump(data, f)"
   ]
  },
  {
   "cell_type": "markdown",
   "metadata": {},
   "source": [
    "end"
   ]
  },
  {
   "cell_type": "code",
   "execution_count": null,
   "metadata": {},
   "outputs": [],
   "source": []
  }
 ],
 "metadata": {
  "kernelspec": {
   "display_name": "Python 3",
   "language": "python",
   "name": "python3"
  },
  "language_info": {
   "codemirror_mode": {
    "name": "ipython",
    "version": 3
   },
   "file_extension": ".py",
   "mimetype": "text/x-python",
   "name": "python",
   "nbconvert_exporter": "python",
   "pygments_lexer": "ipython3",
   "version": "3.6.2"
  }
 },
 "nbformat": 4,
 "nbformat_minor": 2
}
