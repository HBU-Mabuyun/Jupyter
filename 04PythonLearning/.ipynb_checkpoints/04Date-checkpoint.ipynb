{
 "cells": [
  {
   "cell_type": "code",
   "execution_count": 2,
   "metadata": {},
   "outputs": [
    {
     "name": "stdout",
     "output_type": "stream",
     "text": [
      "(3, 31)\n",
      "28\n"
     ]
    }
   ],
   "source": [
    "import calendar\n",
    "monthRange = calendar.monthrange(2018,3)\n",
    "print(monthRange)\n",
    "print(calendar.mdays[2])\n"
   ]
  },
  {
   "cell_type": "code",
   "execution_count": null,
   "metadata": {},
   "outputs": [
    {
     "name": "stdout",
     "output_type": "stream",
     "text": [
      "输入年份: 1\n",
      "输入月份: 1\n",
      "     January 1\n",
      "Mo Tu We Th Fr Sa Su\n",
      " 1  2  3  4  5  6  7\n",
      " 8  9 10 11 12 13 14\n",
      "15 16 17 18 19 20 21\n",
      "22 23 24 25 26 27 28\n",
      "29 30 31\n",
      "\n"
     ]
    }
   ],
   "source": [
    "# 引入日历模块\n",
    "import calendar\n",
    "\n",
    "# 输入指定年月\n",
    "yy = int(input(\"输入年份: \"))\n",
    "mm = int(input(\"输入月份: \"))\n",
    "\n",
    "# 显示日历\n",
    "print(calendar.month(yy, mm))"
   ]
  }
 ],
 "metadata": {
  "kernelspec": {
   "display_name": "Python 3",
   "language": "python",
   "name": "python3"
  },
  "language_info": {
   "codemirror_mode": {
    "name": "ipython",
    "version": 3
   },
   "file_extension": ".py",
   "mimetype": "text/x-python",
   "name": "python",
   "nbconvert_exporter": "python",
   "pygments_lexer": "ipython3",
   "version": "3.6.2"
  }
 },
 "nbformat": 4,
 "nbformat_minor": 2
}
