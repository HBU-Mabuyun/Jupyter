{
 "cells": [
  {
   "cell_type": "code",
   "execution_count": 1,
   "metadata": {},
   "outputs": [
    {
     "name": "stdout",
     "output_type": "stream",
     "text": [
      "命令行参数如下:\n",
      "C:\\Users\\David\\Anaconda3\\envs\\tensorflow\\lib\\site-packages\\ipykernel_launcher.py\n",
      "-f\n",
      "C:\\Users\\David\\AppData\\Roaming\\jupyter\\runtime\\kernel-ed0dd6d0-8a5e-4340-801e-625712b6985a.json\n",
      "\n",
      "\n",
      "Python 路径为： ['', 'C:\\\\Users\\\\David\\\\Anaconda3\\\\envs\\\\tensorflow\\\\python36.zip', 'C:\\\\Users\\\\David\\\\Anaconda3\\\\envs\\\\tensorflow\\\\DLLs', 'C:\\\\Users\\\\David\\\\Anaconda3\\\\envs\\\\tensorflow\\\\lib', 'C:\\\\Users\\\\David\\\\Anaconda3\\\\envs\\\\tensorflow', 'C:\\\\Users\\\\David\\\\Anaconda3\\\\envs\\\\tensorflow\\\\lib\\\\site-packages', 'C:\\\\Users\\\\David\\\\Anaconda3\\\\envs\\\\tensorflow\\\\lib\\\\site-packages\\\\Sphinx-1.6.3-py3.6.egg', 'C:\\\\Users\\\\David\\\\Anaconda3\\\\envs\\\\tensorflow\\\\lib\\\\site-packages\\\\IPython\\\\extensions', 'C:\\\\Users\\\\David\\\\.ipython'] \n",
      "\n"
     ]
    }
   ],
   "source": [
    "#!/usr/bin/python3\n",
    "# 文件名: using_sys.py\n",
    "\n",
    "import sys\n",
    "\n",
    "print('命令行参数如下:')\n",
    "for i in sys.argv:\n",
    "   print(i)\n",
    "\n",
    "print('\\n\\nPython 路径为：', sys.path, '\\n')"
   ]
  },
  {
   "cell_type": "markdown",
   "metadata": {},
   "source": [
    "# import 语句"
   ]
  },
  {
   "cell_type": "markdown",
   "metadata": {},
   "source": [
    "# from…import 语句"
   ]
  },
  {
   "cell_type": "markdown",
   "metadata": {},
   "source": [
    "# \\__name\\__属性"
   ]
  },
  {
   "cell_type": "markdown",
   "metadata": {},
   "source": [
    "# dir() 函数"
   ]
  },
  {
   "cell_type": "markdown",
   "metadata": {},
   "source": [
    "# 标准模块"
   ]
  },
  {
   "cell_type": "markdown",
   "metadata": {},
   "source": [
    "# 包"
   ]
  },
  {
   "cell_type": "markdown",
   "metadata": {},
   "source": [
    "# 从一个包中导入*"
   ]
  },
  {
   "cell_type": "markdown",
   "metadata": {},
   "source": [
    "end"
   ]
  },
  {
   "cell_type": "code",
   "execution_count": null,
   "metadata": {},
   "outputs": [],
   "source": []
  }
 ],
 "metadata": {
  "kernelspec": {
   "display_name": "Python 3",
   "language": "python",
   "name": "python3"
  },
  "language_info": {
   "codemirror_mode": {
    "name": "ipython",
    "version": 3
   },
   "file_extension": ".py",
   "mimetype": "text/x-python",
   "name": "python",
   "nbconvert_exporter": "python",
   "pygments_lexer": "ipython3",
   "version": "3.6.2"
  }
 },
 "nbformat": 4,
 "nbformat_minor": 2
}
