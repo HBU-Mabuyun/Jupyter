{
 "cells": [
  {
   "cell_type": "code",
   "execution_count": 1,
   "metadata": {},
   "outputs": [
    {
     "name": "stdout",
     "output_type": "stream",
     "text": [
      "dict['Name']:  Runoob\n",
      "dict['Age']:  7\n"
     ]
    }
   ],
   "source": [
    "dict = {'Name': 'Runoob', 'Age': 7, 'Class': 'First'}\n",
    "\n",
    "print (\"dict['Name']: \", dict['Name'])\n",
    "print (\"dict['Age']: \", dict['Age'])"
   ]
  },
  {
   "cell_type": "code",
   "execution_count": 2,
   "metadata": {},
   "outputs": [],
   "source": [
    "cities={\n",
    "    '北京':{\n",
    "        '朝阳':['国贸','CBD','天阶','我爱我家','链接地产'],\n",
    "        '海淀':['圆明园','苏州街','中关村','北京大学'],\n",
    "        '昌平':['沙河','南口','小汤山',],\n",
    "        '怀柔':['桃花','梅花','大山'],\n",
    "        '密云':['密云A','密云B','密云C']\n",
    "    },\n",
    "    '河北':{\n",
    "        '石家庄':['石家庄A','石家庄B','石家庄C','石家庄D','石家庄E'],\n",
    "        '张家口':['张家口A','张家口B','张家口C'],\n",
    "        '承德':['承德A','承德B','承德C','承德D']\n",
    "    }\n",
    "}"
   ]
  },
  {
   "cell_type": "code",
   "execution_count": 3,
   "metadata": {},
   "outputs": [
    {
     "name": "stdout",
     "output_type": "stream",
     "text": [
      "朝阳\n",
      "海淀\n",
      "昌平\n",
      "怀柔\n",
      "密云\n"
     ]
    }
   ],
   "source": [
    "for i in cities['北京']:\n",
    "    print(i)"
   ]
  },
  {
   "cell_type": "code",
   "execution_count": 4,
   "metadata": {},
   "outputs": [
    {
     "name": "stdout",
     "output_type": "stream",
     "text": [
      "圆明园\n",
      "苏州街\n",
      "中关村\n",
      "北京大学\n"
     ]
    }
   ],
   "source": [
    "for i in cities['北京']['海淀']:\n",
    "    print(i)"
   ]
  },
  {
   "cell_type": "code",
   "execution_count": 5,
   "metadata": {},
   "outputs": [
    {
     "name": "stdout",
     "output_type": "stream",
     "text": [
      "石家庄\n",
      "张家口\n",
      "承德\n"
     ]
    }
   ],
   "source": [
    "for i in cities['河北']:\n",
    "    print(i)"
   ]
  },
  {
   "cell_type": "markdown",
   "metadata": {},
   "source": [
    "# End"
   ]
  },
  {
   "cell_type": "code",
   "execution_count": null,
   "metadata": {},
   "outputs": [],
   "source": []
  }
 ],
 "metadata": {
  "kernelspec": {
   "display_name": "Python 3",
   "language": "python",
   "name": "python3"
  },
  "language_info": {
   "codemirror_mode": {
    "name": "ipython",
    "version": 3
   },
   "file_extension": ".py",
   "mimetype": "text/x-python",
   "name": "python",
   "nbconvert_exporter": "python",
   "pygments_lexer": "ipython3",
   "version": "3.6.2"
  }
 },
 "nbformat": 4,
 "nbformat_minor": 2
}
