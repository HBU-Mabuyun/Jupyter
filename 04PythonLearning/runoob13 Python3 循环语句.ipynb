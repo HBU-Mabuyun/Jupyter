{
 "cells": [
  {
   "cell_type": "markdown",
   "metadata": {},
   "source": [
    "# Python中的循环语句有 for 和 while。"
   ]
  },
  {
   "cell_type": "markdown",
   "metadata": {},
   "source": [
    "## while 循环"
   ]
  },
  {
   "cell_type": "code",
   "execution_count": 1,
   "metadata": {},
   "outputs": [
    {
     "name": "stdout",
     "output_type": "stream",
     "text": [
      "1 到 100 之和为: 5050\n"
     ]
    }
   ],
   "source": [
    "n = 100\n",
    " \n",
    "sum = 0\n",
    "counter = 1\n",
    "while counter <= n:\n",
    "    sum = sum + counter\n",
    "    counter += 1\n",
    " \n",
    "print(\"1 到 %d 之和为: %d\" % (n,sum))"
   ]
  },
  {
   "cell_type": "code",
   "execution_count": null,
   "metadata": {},
   "outputs": [
    {
     "name": "stdout",
     "output_type": "stream",
     "text": [
      "输入一个数字  :1\n",
      "你输入的数字是:  1\n",
      "输入一个数字  :0\n",
      "你输入的数字是:  0\n"
     ]
    }
   ],
   "source": [
    "var = 1\n",
    "while var == 1 :  # 表达式永远为 true\n",
    "   num = int(input(\"输入一个数字  :\"))\n",
    "   print (\"你输入的数字是: \", num)\n",
    "    if\n",
    " \n",
    "print (\"Good bye!\")"
   ]
  },
  {
   "cell_type": "code",
   "execution_count": 1,
   "metadata": {},
   "outputs": [
    {
     "name": "stdout",
     "output_type": "stream",
     "text": [
      "0  小于 5\n",
      "1  小于 5\n",
      "2  小于 5\n",
      "3  小于 5\n",
      "4  小于 5\n",
      "5  大于或等于 5\n"
     ]
    }
   ],
   "source": [
    "count = 0\n",
    "while count < 5:\n",
    "   print (count, \" 小于 5\")\n",
    "   count = count + 1\n",
    "else:\n",
    "   print (count, \" 大于或等于 5\")"
   ]
  },
  {
   "cell_type": "markdown",
   "metadata": {},
   "source": [
    "## for 语句"
   ]
  },
  {
   "cell_type": "code",
   "execution_count": 2,
   "metadata": {},
   "outputs": [
    {
     "name": "stdout",
     "output_type": "stream",
     "text": [
      "循环数据 Baidu\n",
      "循环数据 Google\n",
      "菜鸟教程!\n",
      "完成循环!\n"
     ]
    }
   ],
   "source": [
    "sites = [\"Baidu\", \"Google\",\"Runoob\",\"Taobao\"]\n",
    "for site in sites:\n",
    "    if site == \"Runoob\":\n",
    "        print(\"菜鸟教程!\")\n",
    "        break\n",
    "    print(\"循环数据 \" + site)\n",
    "else:\n",
    "    print(\"没有循环数据!\")\n",
    "print(\"完成循环!\")"
   ]
  },
  {
   "cell_type": "markdown",
   "metadata": {},
   "source": [
    "## range()函数"
   ]
  },
  {
   "cell_type": "code",
   "execution_count": 2,
   "metadata": {},
   "outputs": [
    {
     "name": "stdout",
     "output_type": "stream",
     "text": [
      "0\n",
      "1\n",
      "2\n",
      "3\n",
      "4\n"
     ]
    }
   ],
   "source": [
    "for i in range(5):\n",
    "    print(i)"
   ]
  },
  {
   "cell_type": "code",
   "execution_count": 3,
   "metadata": {},
   "outputs": [
    {
     "name": "stdout",
     "output_type": "stream",
     "text": [
      "5\n",
      "6\n",
      "7\n",
      "8\n"
     ]
    }
   ],
   "source": [
    "for i in range(5,9) :\n",
    "    print(i)"
   ]
  },
  {
   "cell_type": "code",
   "execution_count": 4,
   "metadata": {},
   "outputs": [
    {
     "name": "stdout",
     "output_type": "stream",
     "text": [
      "0\n",
      "3\n",
      "6\n",
      "9\n"
     ]
    }
   ],
   "source": [
    "for i in range(0, 10, 3) :\n",
    "    print(i)"
   ]
  },
  {
   "cell_type": "code",
   "execution_count": 5,
   "metadata": {},
   "outputs": [
    {
     "name": "stdout",
     "output_type": "stream",
     "text": [
      "-10\n",
      "-40\n",
      "-70\n"
     ]
    }
   ],
   "source": [
    "for i in range(-10, -100, -30) :\n",
    "    print(i)"
   ]
  },
  {
   "cell_type": "code",
   "execution_count": 6,
   "metadata": {},
   "outputs": [
    {
     "name": "stdout",
     "output_type": "stream",
     "text": [
      "0 Google\n",
      "1 Baidu\n",
      "2 Runoob\n",
      "3 Taobao\n",
      "4 QQ\n"
     ]
    }
   ],
   "source": [
    "a = ['Google', 'Baidu', 'Runoob', 'Taobao', 'QQ']\n",
    "for i in range(len(a)):\n",
    "    print(i, a[i])"
   ]
  },
  {
   "cell_type": "code",
   "execution_count": 7,
   "metadata": {},
   "outputs": [
    {
     "data": {
      "text/plain": [
       "[0, 1, 2, 3, 4]"
      ]
     },
     "execution_count": 7,
     "metadata": {},
     "output_type": "execute_result"
    }
   ],
   "source": [
    "list(range(5))"
   ]
  },
  {
   "cell_type": "markdown",
   "metadata": {},
   "source": [
    "## break和continue语句及循环中的else子句"
   ]
  },
  {
   "cell_type": "code",
   "execution_count": 8,
   "metadata": {},
   "outputs": [
    {
     "name": "stdout",
     "output_type": "stream",
     "text": [
      "当前字母为 : R\n",
      "当前字母为 : u\n",
      "当前字母为 : n\n",
      "当前字母为 : o\n",
      "当前字母为 : o\n",
      "当期变量值为 : 10\n",
      "当期变量值为 : 9\n",
      "当期变量值为 : 8\n",
      "当期变量值为 : 7\n",
      "当期变量值为 : 6\n",
      "Good bye!\n"
     ]
    }
   ],
   "source": [
    "for letter in 'Runoob':     # 第一个实例\n",
    "   if letter == 'b':\n",
    "      break\n",
    "   print ('当前字母为 :', letter)\n",
    "  \n",
    "var = 10                    # 第二个实例\n",
    "while var > 0:              \n",
    "   print ('当期变量值为 :', var)\n",
    "   var = var -1\n",
    "   if var == 5:\n",
    "      break\n",
    " \n",
    "print (\"Good bye!\")"
   ]
  },
  {
   "cell_type": "code",
   "execution_count": 9,
   "metadata": {},
   "outputs": [
    {
     "name": "stdout",
     "output_type": "stream",
     "text": [
      "当前字母 : R\n",
      "当前字母 : u\n",
      "当前字母 : n\n",
      "当前字母 : b\n",
      "当前变量值 : 9\n",
      "当前变量值 : 8\n",
      "当前变量值 : 7\n",
      "当前变量值 : 6\n",
      "当前变量值 : 4\n",
      "当前变量值 : 3\n",
      "当前变量值 : 2\n",
      "当前变量值 : 1\n",
      "当前变量值 : 0\n",
      "Good bye!\n"
     ]
    }
   ],
   "source": [
    "for letter in 'Runoob':     # 第一个实例\n",
    "   if letter == 'o':        # 字母为 o 时跳过输出\n",
    "      continue\n",
    "   print ('当前字母 :', letter)\n",
    " \n",
    "var = 10                    # 第二个实例\n",
    "while var > 0:              \n",
    "   var = var -1\n",
    "   if var == 5:             # 变量为 5 时跳过输出\n",
    "      continue\n",
    "   print ('当前变量值 :', var)\n",
    "print (\"Good bye!\")"
   ]
  },
  {
   "cell_type": "code",
   "execution_count": 10,
   "metadata": {},
   "outputs": [
    {
     "name": "stdout",
     "output_type": "stream",
     "text": [
      "2  是质数\n",
      "3  是质数\n",
      "4 等于 2 * 2\n",
      "5  是质数\n",
      "6 等于 2 * 3\n",
      "7  是质数\n",
      "8 等于 2 * 4\n",
      "9 等于 3 * 3\n"
     ]
    }
   ],
   "source": [
    "for n in range(2, 10):\n",
    "    for x in range(2, n):\n",
    "        if n % x == 0:\n",
    "            print(n, '等于', x, '*', n//x)\n",
    "            break\n",
    "    else:\n",
    "        # 循环中没有找到元素\n",
    "        print(n, ' 是质数')"
   ]
  },
  {
   "cell_type": "markdown",
   "metadata": {},
   "source": [
    "## pass 语句"
   ]
  },
  {
   "cell_type": "code",
   "execution_count": 11,
   "metadata": {},
   "outputs": [
    {
     "name": "stdout",
     "output_type": "stream",
     "text": [
      "当前字母 : R\n",
      "当前字母 : u\n",
      "当前字母 : n\n",
      "执行 pass 块\n",
      "当前字母 : o\n",
      "执行 pass 块\n",
      "当前字母 : o\n",
      "当前字母 : b\n",
      "Good bye!\n"
     ]
    }
   ],
   "source": [
    "for letter in 'Runoob': \n",
    "   if letter == 'o':\n",
    "      pass\n",
    "      print ('执行 pass 块')\n",
    "   print ('当前字母 :', letter)\n",
    " \n",
    "print (\"Good bye!\")"
   ]
  },
  {
   "cell_type": "markdown",
   "metadata": {},
   "source": [
    "## 使用内置 enumerate 函数进行遍历"
   ]
  },
  {
   "cell_type": "code",
   "execution_count": 12,
   "metadata": {},
   "outputs": [
    {
     "name": "stdout",
     "output_type": "stream",
     "text": [
      "0 12\n",
      "1 34\n",
      "2 34\n",
      "3 23\n",
      "4 45\n",
      "5 76\n",
      "6 89\n"
     ]
    }
   ],
   "source": [
    "sequence = [12, 34, 34, 23, 45, 76, 89]\n",
    "for i, j in enumerate(sequence):\n",
    "    print(i, j)"
   ]
  },
  {
   "cell_type": "markdown",
   "metadata": {},
   "source": [
    "## for 循环的嵌套使用实例："
   ]
  },
  {
   "cell_type": "code",
   "execution_count": 13,
   "metadata": {},
   "outputs": [
    {
     "name": "stdout",
     "output_type": "stream",
     "text": [
      "*\r\n",
      "**\r\n",
      "***\r\n",
      "****\r\n",
      "*****\r\n"
     ]
    }
   ],
   "source": [
    "for i in range(1,6):\n",
    "   for j in range(1, i+1):\n",
    "      print(\"*\",end='')\n",
    "   print('\\r')"
   ]
  },
  {
   "cell_type": "markdown",
   "metadata": {},
   "source": [
    "## 冒泡排序，python 版本"
   ]
  },
  {
   "cell_type": "code",
   "execution_count": 14,
   "metadata": {},
   "outputs": [
    {
     "name": "stdout",
     "output_type": "stream",
     "text": [
      "[41, 44, 500, 2000, 5554, 6434, 7557, 9353, 23344]\n"
     ]
    }
   ],
   "source": [
    "def paixu(li) :\n",
    "    max = 0\n",
    "    for ad in range(len(li) - 1):\n",
    "        for x in range(len(li) - 1 - ad):\n",
    "            if li[x] > li[x + 1]:\n",
    "                max = li[x]\n",
    "                li[x] = li[x + 1]\n",
    "                li[x + 1] = max\n",
    "            else:\n",
    "                max = li[x + 1]\n",
    "    print(li)\n",
    "paixu([41,23344,9353,5554,44,7557,6434,500,2000])"
   ]
  },
  {
   "cell_type": "markdown",
   "metadata": {},
   "source": [
    "# END"
   ]
  },
  {
   "cell_type": "code",
   "execution_count": null,
   "metadata": {},
   "outputs": [],
   "source": []
  }
 ],
 "metadata": {
  "kernelspec": {
   "display_name": "Python 3",
   "language": "python",
   "name": "python3"
  },
  "language_info": {
   "codemirror_mode": {
    "name": "ipython",
    "version": 3
   },
   "file_extension": ".py",
   "mimetype": "text/x-python",
   "name": "python",
   "nbconvert_exporter": "python",
   "pygments_lexer": "ipython3",
   "version": "3.6.2"
  }
 },
 "nbformat": 4,
 "nbformat_minor": 2
}
