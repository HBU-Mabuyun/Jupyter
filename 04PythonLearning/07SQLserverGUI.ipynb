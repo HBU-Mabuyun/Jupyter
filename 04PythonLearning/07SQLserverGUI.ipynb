{
 "cells": [
  {
   "cell_type": "code",
   "execution_count": 1,
   "metadata": {},
   "outputs": [
    {
     "name": "stdout",
     "output_type": "stream",
     "text": [
      "start:\n",
      "connected!\n",
      "[('201215121', '李勇                ', 20, '男'), ('201215122', '刘晨                ', 19, '女'), ('201215123', '王敏                ', 18, '女'), ('201215125', '张立                ', 19, '男')]\n"
     ]
    }
   ],
   "source": [
    "import tkinter as tk\n",
    "import pymssql\n",
    "print (\"start:\")\n",
    "conn = pymssql.connect(host='.',user='sa',password='sql',database='Test', charset=\"GBK\")\n",
    "# conn = pymssql.connect('127.0.0.1','sa','sql','Test')\n",
    "print (\"connected!\")\n",
    "\n",
    "cur=conn.cursor()\n",
    "cur.execute('select top 5 * from [dbo].[S]')\n",
    "#如果update/delete/insert记得要conn.commit()#否则数据库事务无法提交\n",
    "\n",
    "list = cur.fetchall()\n",
    "print (list)\n",
    "cur.close()\n",
    "conn.close()\n",
    "\n",
    "window = tk.Tk()\n",
    "window.title('my window')\n",
    "window.geometry('800x400')\n",
    "\n",
    "var = tk.StringVar() #设置var为tk中的StringVar变量\n",
    "l = tk.Label(window,textvariable=var,bg='green',font=('Arial',12),width=500,height=2) #设置标签文字为var，注意要把text改为textvariable\n",
    "l.pack()\n",
    "\n",
    "on_hit = False #设置变量on_hit用来表示标签文字状态，False表示空，True表示非空\n",
    "def hit():\n",
    "    global on_hit\n",
    "    if on_hit == False: #如果标签文字为空\n",
    "        var.set(list[0]+list[1]+list[2]) #将其设为'my label'\n",
    "        on_hit = True #更新标签文字状态\n",
    "    else: #否则\n",
    "        var.set('') #将其设为空\n",
    "        on_hit = False #更新标签文字状态\n",
    "\n",
    "b = tk.Button(window,text='my button',width=15,height=15,command=hit) #点击时执行hit函数\n",
    "b.pack()\n",
    "\n",
    "window.mainloop()"
   ]
  }
 ],
 "metadata": {
  "kernelspec": {
   "display_name": "Python 3",
   "language": "python",
   "name": "python3"
  },
  "language_info": {
   "codemirror_mode": {
    "name": "ipython",
    "version": 3
   },
   "file_extension": ".py",
   "mimetype": "text/x-python",
   "name": "python",
   "nbconvert_exporter": "python",
   "pygments_lexer": "ipython3",
   "version": "3.6.2"
  }
 },
 "nbformat": 4,
 "nbformat_minor": 2
}
