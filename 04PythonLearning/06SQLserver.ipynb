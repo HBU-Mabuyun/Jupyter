{
 "cells": [
  {
   "cell_type": "code",
   "execution_count": 1,
   "metadata": {},
   "outputs": [
    {
     "name": "stdout",
     "output_type": "stream",
     "text": [
      "start:\n",
      "connected!\n",
      "[('201215121', '李勇                ', 20, '男'), ('201215122', '刘晨                ', 19, '女'), ('201215123', '王敏                ', 18, '女'), ('201215125', '张立                ', 19, '男')]\n"
     ]
    }
   ],
   "source": [
    "import pymssql\n",
    "# pip install pymssql-2.1.3-cp36-cp36m-win_amd64.whl\n",
    "print (\"start:\")\n",
    "conn = pymssql.connect(host='.',user='sa',password='sql',database='Test', charset=\"GBK\")\n",
    "# conn = pymssql.connect('127.0.0.1','sa','sql','Test')\n",
    "print (\"connected!\")\n",
    "\n",
    "cur=conn.cursor()\n",
    "cur.execute('select top 5 * from [dbo].[S]')\n",
    "#如果update/delete/insert记得要conn.commit()#否则数据库事务无法提交\n",
    "print (cur.fetchall())\n",
    "\n",
    "cur.close()\n",
    "conn.close()"
   ]
  },
  {
   "cell_type": "code",
   "execution_count": null,
   "metadata": {},
   "outputs": [],
   "source": []
  },
  {
   "cell_type": "code",
   "execution_count": null,
   "metadata": {},
   "outputs": [],
   "source": []
  },
  {
   "cell_type": "code",
   "execution_count": null,
   "metadata": {},
   "outputs": [],
   "source": []
  }
 ],
 "metadata": {
  "kernelspec": {
   "display_name": "Python 3",
   "language": "python",
   "name": "python3"
  },
  "language_info": {
   "codemirror_mode": {
    "name": "ipython",
    "version": 3
   },
   "file_extension": ".py",
   "mimetype": "text/x-python",
   "name": "python",
   "nbconvert_exporter": "python",
   "pygments_lexer": "ipython3",
   "version": "3.6.2"
  }
 },
 "nbformat": 4,
 "nbformat_minor": 2
}
