{
 "cells": [
  {
   "cell_type": "markdown",
   "metadata": {},
   "source": [
    "# [教程](http://www.runoob.com/python3/python3-basic-syntax.html)"
   ]
  },
  {
   "cell_type": "markdown",
   "metadata": {},
   "source": [
    "# 编码\n",
    "- 默认情况下，Python 3 源码文件以 UTF-8 编码，所有字符串都是 unicode 字符串。"
   ]
  },
  {
   "cell_type": "markdown",
   "metadata": {},
   "source": [
    "# 关键字"
   ]
  },
  {
   "cell_type": "code",
   "execution_count": 2,
   "metadata": {
    "scrolled": true
   },
   "outputs": [
    {
     "data": {
      "text/plain": [
       "['False',\n",
       " 'None',\n",
       " 'True',\n",
       " 'and',\n",
       " 'as',\n",
       " 'assert',\n",
       " 'break',\n",
       " 'class',\n",
       " 'continue',\n",
       " 'def',\n",
       " 'del',\n",
       " 'elif',\n",
       " 'else',\n",
       " 'except',\n",
       " 'finally',\n",
       " 'for',\n",
       " 'from',\n",
       " 'global',\n",
       " 'if',\n",
       " 'import',\n",
       " 'in',\n",
       " 'is',\n",
       " 'lambda',\n",
       " 'nonlocal',\n",
       " 'not',\n",
       " 'or',\n",
       " 'pass',\n",
       " 'raise',\n",
       " 'return',\n",
       " 'try',\n",
       " 'while',\n",
       " 'with',\n",
       " 'yield']"
      ]
     },
     "execution_count": 2,
     "metadata": {},
     "output_type": "execute_result"
    }
   ],
   "source": [
    "import keyword\n",
    "keyword.kwlist"
   ]
  },
  {
   "cell_type": "markdown",
   "metadata": {},
   "source": [
    "# 行与缩进\n",
    "python最具特色的就是使用缩进来表示代码块，不需要使用大括号 {} 。\n",
    "\n",
    "缩进的空格数是可变的，但是同一个代码块的语句必须包含相同的缩进空格数。实例如下："
   ]
  },
  {
   "cell_type": "code",
   "execution_count": 1,
   "metadata": {},
   "outputs": [
    {
     "name": "stdout",
     "output_type": "stream",
     "text": [
      "True\n"
     ]
    }
   ],
   "source": [
    "if True:\n",
    "    print (\"True\")\n",
    "else:\n",
    "    print (\"False\")"
   ]
  },
  {
   "cell_type": "code",
   "execution_count": 4,
   "metadata": {},
   "outputs": [
    {
     "ename": "IndentationError",
     "evalue": "unindent does not match any outer indentation level (<tokenize>, line 6)",
     "output_type": "error",
     "traceback": [
      "\u001b[1;36m  File \u001b[1;32m\"<tokenize>\"\u001b[1;36m, line \u001b[1;32m6\u001b[0m\n\u001b[1;33m    print (\"False\")    # 缩进不一致，会导致运行错误\u001b[0m\n\u001b[1;37m    ^\u001b[0m\n\u001b[1;31mIndentationError\u001b[0m\u001b[1;31m:\u001b[0m unindent does not match any outer indentation level\n"
     ]
    }
   ],
   "source": [
    "if True:\n",
    "    print (\"Answer\")\n",
    "    print (\"True\")\n",
    "else:\n",
    "    print (\"Answer\")\n",
    "  print (\"False\")    # 缩进不一致，会导致运行错误"
   ]
  },
  {
   "cell_type": "code",
   "execution_count": 3,
   "metadata": {},
   "outputs": [
    {
     "name": "stdout",
     "output_type": "stream",
     "text": [
      "Answer\n",
      "True\n"
     ]
    }
   ],
   "source": [
    "if True:\n",
    "    print (\"Answer\")\n",
    "    print (\"True\")\n",
    "else:\n",
    "    print (\"Answer\")\n",
    "    print (\"False\")    "
   ]
  },
  {
   "cell_type": "markdown",
   "metadata": {},
   "source": [
    "# 数据类型\n",
    "python中数有四种类型：整数、长整数、浮点数和复数。\n",
    "\n",
    "int (整数), 如 1\n",
    "\n",
    "long (长整数) , 比较大的整数\n",
    "\n",
    "float (浮点数), 如 1.23、3E-2\n",
    "\n",
    "complex (复数), 如 1 + 2j、 1.1 + 2.2j"
   ]
  },
  {
   "cell_type": "markdown",
   "metadata": {},
   "source": [
    "等待用户输入"
   ]
  },
  {
   "cell_type": "code",
   "execution_count": 1,
   "metadata": {},
   "outputs": [
    {
     "name": "stdout",
     "output_type": "stream",
     "text": [
      "\n",
      "\n",
      "按下 enter 键后退出。123\n"
     ]
    },
    {
     "data": {
      "text/plain": [
       "'123'"
      ]
     },
     "execution_count": 1,
     "metadata": {},
     "output_type": "execute_result"
    }
   ],
   "source": [
    "input(\"\\n\\n按下 enter 键后退出。\")"
   ]
  },
  {
   "cell_type": "markdown",
   "metadata": {},
   "source": [
    "Python可以在同一行中使用多条语句，语句之间使用分号(;)分割，以下是一个简单的实例："
   ]
  },
  {
   "cell_type": "code",
   "execution_count": 7,
   "metadata": {},
   "outputs": [
    {
     "name": "stdout",
     "output_type": "stream",
     "text": [
      "runoob\n"
     ]
    }
   ],
   "source": [
    "import sys; x = 'runoob'; sys.stdout.write(x + '\\n')"
   ]
  },
  {
   "cell_type": "markdown",
   "metadata": {},
   "source": [
    "# 多个语句构成代码组\n",
    "缩进相同的一组语句构成一个代码块，我们称之代码组。\n",
    "\n",
    "像if、while、def和class这样的复合语句，首行以关键字开始，以冒号( : )结束，该行之后的一行或多行代码构成代码组。\n",
    "\n",
    "我们将首行及后面的代码组称为一个子句(clause)。\n",
    "\n",
    "如下实例："
   ]
  },
  {
   "cell_type": "markdown",
   "metadata": {},
   "source": [
    "if expression : \n",
    "   suite\n",
    "elif expression : \n",
    "   suite \n",
    "else : \n",
    "   suite"
   ]
  },
  {
   "cell_type": "markdown",
   "metadata": {},
   "source": [
    "# Print 输出\n",
    "print 默认输出是换行的，如果要实现不换行需要在变量末尾加上 end=\"\"："
   ]
  },
  {
   "cell_type": "code",
   "execution_count": 9,
   "metadata": {},
   "outputs": [
    {
     "name": "stdout",
     "output_type": "stream",
     "text": [
      "a\n",
      "b\n",
      "---------\n",
      "a b \n"
     ]
    }
   ],
   "source": [
    "x=\"a\"\n",
    "y=\"b\"\n",
    "# 换行输出\n",
    "print( x )\n",
    "print( y )\n",
    "\n",
    "print('---------')\n",
    "# 不换行输出\n",
    "print( x, end=\" \" )\n",
    "print( y, end=\" \" )\n",
    "print()"
   ]
  },
  {
   "cell_type": "markdown",
   "metadata": {},
   "source": [
    "# import 与 from...import\n",
    "在 python 用 import 或者 from...import 来导入相应的模块。\n",
    "\n",
    "将整个模块(somemodule)导入，格式为： import somemodule\n",
    "\n",
    "从某个模块中导入某个函数,格式为： from somemodule import somefunction\n",
    "\n",
    "从某个模块中导入多个函数,格式为： from somemodule import firstfunc, secondfunc, thirdfunc\n",
    "\n",
    "将某个模块中的全部函数导入，格式为： from somemodule import *"
   ]
  },
  {
   "cell_type": "code",
   "execution_count": 10,
   "metadata": {},
   "outputs": [
    {
     "name": "stdout",
     "output_type": "stream",
     "text": [
      "================Python import mode==========================\n",
      "命令行参数为:\n",
      "C:\\Users\\David\\Anaconda3\\envs\\tensorflow\\lib\\site-packages\\ipykernel_launcher.py\n",
      "-f\n",
      "C:\\Users\\David\\AppData\\Roaming\\jupyter\\runtime\\kernel-511d9484-dd1c-4756-8dd0-761ee65992a5.json\n",
      "\n",
      " python 路径为 ['', 'C:\\\\Users\\\\David\\\\Anaconda3\\\\envs\\\\tensorflow\\\\python36.zip', 'C:\\\\Users\\\\David\\\\Anaconda3\\\\envs\\\\tensorflow\\\\DLLs', 'C:\\\\Users\\\\David\\\\Anaconda3\\\\envs\\\\tensorflow\\\\lib', 'C:\\\\Users\\\\David\\\\Anaconda3\\\\envs\\\\tensorflow', 'C:\\\\Users\\\\David\\\\Anaconda3\\\\envs\\\\tensorflow\\\\lib\\\\site-packages', 'C:\\\\Users\\\\David\\\\Anaconda3\\\\envs\\\\tensorflow\\\\lib\\\\site-packages\\\\Sphinx-1.6.3-py3.6.egg', 'C:\\\\Users\\\\David\\\\Anaconda3\\\\envs\\\\tensorflow\\\\lib\\\\site-packages\\\\IPython\\\\extensions', 'C:\\\\Users\\\\David\\\\.ipython']\n"
     ]
    }
   ],
   "source": [
    "import sys\n",
    "print('================Python import mode==========================');\n",
    "print ('命令行参数为:')\n",
    "for i in sys.argv:\n",
    "    print (i)\n",
    "print ('\\n python 路径为',sys.path)"
   ]
  },
  {
   "cell_type": "code",
   "execution_count": 11,
   "metadata": {},
   "outputs": [
    {
     "name": "stdout",
     "output_type": "stream",
     "text": [
      "================python from import===================================\n",
      "path: ['', 'C:\\\\Users\\\\David\\\\Anaconda3\\\\envs\\\\tensorflow\\\\python36.zip', 'C:\\\\Users\\\\David\\\\Anaconda3\\\\envs\\\\tensorflow\\\\DLLs', 'C:\\\\Users\\\\David\\\\Anaconda3\\\\envs\\\\tensorflow\\\\lib', 'C:\\\\Users\\\\David\\\\Anaconda3\\\\envs\\\\tensorflow', 'C:\\\\Users\\\\David\\\\Anaconda3\\\\envs\\\\tensorflow\\\\lib\\\\site-packages', 'C:\\\\Users\\\\David\\\\Anaconda3\\\\envs\\\\tensorflow\\\\lib\\\\site-packages\\\\Sphinx-1.6.3-py3.6.egg', 'C:\\\\Users\\\\David\\\\Anaconda3\\\\envs\\\\tensorflow\\\\lib\\\\site-packages\\\\IPython\\\\extensions', 'C:\\\\Users\\\\David\\\\.ipython']\n"
     ]
    }
   ],
   "source": [
    "from sys import argv,path  #  导入特定的成员\n",
    " \n",
    "print('================python from import===================================')\n",
    "print('path:',path) # 因为已经导入path成员，所以此处引用时不需要加sys.path"
   ]
  },
  {
   "cell_type": "markdown",
   "metadata": {},
   "source": [
    "#  help() 函数\n",
    "调用 python 的 help() 函数可以打印输出一个函数的文档字符串："
   ]
  },
  {
   "cell_type": "code",
   "execution_count": 14,
   "metadata": {},
   "outputs": [
    {
     "name": "stdout",
     "output_type": "stream",
     "text": [
      "Help on built-in function max in module builtins:\n",
      "\n",
      "max(...)\n",
      "    max(iterable, *[, default=obj, key=func]) -> value\n",
      "    max(arg1, arg2, *args, *[, key=func]) -> value\n",
      "    \n",
      "    With a single iterable argument, return its biggest item. The\n",
      "    default keyword-only argument specifies an object to return if\n",
      "    the provided iterable is empty.\n",
      "    With two or more arguments, return the largest argument.\n",
      "\n"
     ]
    }
   ],
   "source": [
    "help(max)"
   ]
  },
  {
   "cell_type": "code",
   "execution_count": 15,
   "metadata": {},
   "outputs": [
    {
     "name": "stdout",
     "output_type": "stream",
     "text": [
      "max(iterable, *[, default=obj, key=func]) -> value\n",
      "max(arg1, arg2, *args, *[, key=func]) -> value\n",
      "\n",
      "With a single iterable argument, return its biggest item. The\n",
      "default keyword-only argument specifies an object to return if\n",
      "the provided iterable is empty.\n",
      "With two or more arguments, return the largest argument.\n"
     ]
    }
   ],
   "source": [
    "print(max.__doc__)    # 注意，doc的前后分别是两个下划线"
   ]
  }
 ],
 "metadata": {
  "kernelspec": {
   "display_name": "Python 3",
   "language": "python",
   "name": "python3"
  },
  "language_info": {
   "codemirror_mode": {
    "name": "ipython",
    "version": 3
   },
   "file_extension": ".py",
   "mimetype": "text/x-python",
   "name": "python",
   "nbconvert_exporter": "python",
   "pygments_lexer": "ipython3",
   "version": "3.6.2"
  }
 },
 "nbformat": 4,
 "nbformat_minor": 2
}
