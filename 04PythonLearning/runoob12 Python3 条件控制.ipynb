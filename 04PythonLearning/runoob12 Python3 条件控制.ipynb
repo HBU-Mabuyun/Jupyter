{
 "cells": [
  {
   "cell_type": "code",
   "execution_count": 1,
   "metadata": {},
   "outputs": [
    {
     "name": "stdout",
     "output_type": "stream",
     "text": [
      "请输入你家狗狗的年龄: 9\n",
      "\n",
      "对应人类年龄:  57\n",
      "点击 enter 键退出\n"
     ]
    },
    {
     "data": {
      "text/plain": [
       "''"
      ]
     },
     "execution_count": 1,
     "metadata": {},
     "output_type": "execute_result"
    }
   ],
   "source": [
    "age = int(input(\"请输入你家狗狗的年龄: \"))\n",
    "print(\"\")\n",
    "if age <= 0:\n",
    "    print(\"你是在逗我吧!\")\n",
    "elif age == 1:\n",
    "    print(\"相当于 14 岁的人。\")\n",
    "elif age == 2:\n",
    "    print(\"相当于 22 岁的人。\")\n",
    "elif age > 2:\n",
    "    human = 22 + (age -2)*5\n",
    "    print(\"对应人类年龄: \", human)\n",
    " \n",
    "### 退出提示\n",
    "input(\"点击 enter 键退出\")"
   ]
  },
  {
   "cell_type": "code",
   "execution_count": 2,
   "metadata": {},
   "outputs": [
    {
     "name": "stdout",
     "output_type": "stream",
     "text": [
      "False\n",
      "False\n"
     ]
    }
   ],
   "source": [
    "# 程序演示了 == 操作符\n",
    "# 使用数字\n",
    "print(5 == 6)\n",
    "# 使用变量\n",
    "x = 5\n",
    "y = 8\n",
    "print(x == y)"
   ]
  },
  {
   "cell_type": "code",
   "execution_count": 3,
   "metadata": {},
   "outputs": [
    {
     "name": "stdout",
     "output_type": "stream",
     "text": [
      "数字猜谜游戏!\n",
      "请输入你猜的数字：9\n",
      "猜的数字大了...\n",
      "请输入你猜的数字：6\n",
      "猜的数字小了...\n",
      "请输入你猜的数字：3\n",
      "猜的数字小了...\n",
      "请输入你猜的数字：7\n",
      "恭喜，你猜对了！\n"
     ]
    }
   ],
   "source": [
    "# 该实例演示了数字猜谜游戏\n",
    "number = 7\n",
    "guess = -1\n",
    "print(\"数字猜谜游戏!\")\n",
    "while guess != number:\n",
    "    guess = int(input(\"请输入你猜的数字：\"))\n",
    " \n",
    "    if guess == number:\n",
    "        print(\"恭喜，你猜对了！\")\n",
    "    elif guess < number:\n",
    "        print(\"猜的数字小了...\")\n",
    "    elif guess > number:\n",
    "        print(\"猜的数字大了...\")"
   ]
  },
  {
   "cell_type": "code",
   "execution_count": 4,
   "metadata": {},
   "outputs": [
    {
     "name": "stdout",
     "output_type": "stream",
     "text": [
      "输入一个数字：9\n",
      "你输入的数字可以整除 3，但不能整除 2\n"
     ]
    }
   ],
   "source": [
    "num=int(input(\"输入一个数字：\"))\n",
    "if num%2==0:\n",
    "    if num%3==0:\n",
    "        print (\"你输入的数字可以整除 2 和 3\")\n",
    "    else:\n",
    "        print (\"你输入的数字可以整除 2，但不能整除 3\")\n",
    "else:\n",
    "    if num%3==0:\n",
    "        print (\"你输入的数字可以整除 3，但不能整除 2\")\n",
    "    else:\n",
    "        print  (\"你输入的数字不能整除 2 和 3\")"
   ]
  },
  {
   "cell_type": "code",
   "execution_count": 5,
   "metadata": {},
   "outputs": [
    {
     "name": "stdout",
     "output_type": "stream",
     "text": [
      "y: 109\n"
     ]
    }
   ],
   "source": [
    "import random\n",
    "\n",
    "x = random.choice(range(100))\n",
    "y = random.choice(range(200))\n",
    "if x > y:\n",
    "    print('x:',x)\n",
    "elif x == y:\n",
    "    print('x+y', x + y)\n",
    "else:\n",
    "    print('y:',y)"
   ]
  },
  {
   "cell_type": "code",
   "execution_count": 1,
   "metadata": {},
   "outputs": [
    {
     "name": "stdout",
     "output_type": "stream",
     "text": [
      "=======欢迎进入狗狗年龄对比系统========\n",
      "请输入您家狗的年龄:0\n",
      " \n",
      "您在逗我？\n",
      "请输入您家狗的年龄:a\n",
      "输入不合法，请输入有效年龄\n",
      "请输入您家狗的年龄:1\n",
      " \n",
      "相当于人类14岁\n",
      "点击 enter 键退出\n"
     ]
    },
    {
     "data": {
      "text/plain": [
       "''"
      ]
     },
     "execution_count": 1,
     "metadata": {},
     "output_type": "execute_result"
    }
   ],
   "source": [
    "\"\"\"对上面例子的一个扩展\"\"\"\n",
    "\n",
    "print(\"=======欢迎进入狗狗年龄对比系统========\")\n",
    "while True:\n",
    "    try:\n",
    "        age = int(input(\"请输入您家狗的年龄:\"))\n",
    "        print(\" \")\n",
    "        age = float(age)\n",
    "        if age <= 0:\n",
    "            print(\"您在逗我？\")\n",
    "        elif age == 1:\n",
    "            print(\"相当于人类14岁\")\n",
    "            break\n",
    "        elif age == 2:\n",
    "            print(\"相当于人类22岁\")\n",
    "            break\n",
    "        else:\n",
    "            human = 22 + (age - 2)*5\n",
    "            print(\"相当于人类：\",human)\n",
    "            break\n",
    "    except ValueError:\n",
    "        print(\"输入不合法，请输入有效年龄\")\n",
    "###退出提示\n",
    "input(\"点击 enter 键退出\")"
   ]
  },
  {
   "cell_type": "markdown",
   "metadata": {},
   "source": [
    "End of if"
   ]
  }
 ],
 "metadata": {
  "kernelspec": {
   "display_name": "Python 3",
   "language": "python",
   "name": "python3"
  },
  "language_info": {
   "codemirror_mode": {
    "name": "ipython",
    "version": 3
   },
   "file_extension": ".py",
   "mimetype": "text/x-python",
   "name": "python",
   "nbconvert_exporter": "python",
   "pygments_lexer": "ipython3",
   "version": "3.6.2"
  }
 },
 "nbformat": 4,
 "nbformat_minor": 2
}
