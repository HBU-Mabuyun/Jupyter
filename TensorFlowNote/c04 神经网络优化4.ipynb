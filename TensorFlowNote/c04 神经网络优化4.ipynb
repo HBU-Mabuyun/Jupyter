{
 "cells": [
  {
   "cell_type": "markdown",
   "metadata": {},
   "source": [
    "# 设损失函数 loss=(w+1)^2, 令w初值是常数5。反向传播就是求最优w，即求最小loss对应的w值"
   ]
  },
  {
   "cell_type": "code",
   "execution_count": 1,
   "metadata": {},
   "outputs": [
    {
     "name": "stdout",
     "output_type": "stream",
     "text": [
      "After 0 steps: w is 2.600000,   loss is 12.959999.\n",
      "After 1 steps: w is 1.160000,   loss is 4.665599.\n",
      "After 2 steps: w is 0.296000,   loss is 1.679616.\n",
      "After 3 steps: w is -0.222400,   loss is 0.604662.\n",
      "After 4 steps: w is -0.533440,   loss is 0.217678.\n",
      "After 5 steps: w is -0.720064,   loss is 0.078364.\n",
      "After 6 steps: w is -0.832038,   loss is 0.028211.\n",
      "After 7 steps: w is -0.899223,   loss is 0.010156.\n",
      "After 8 steps: w is -0.939534,   loss is 0.003656.\n",
      "After 9 steps: w is -0.963720,   loss is 0.001316.\n",
      "After 10 steps: w is -0.978232,   loss is 0.000474.\n",
      "After 11 steps: w is -0.986939,   loss is 0.000171.\n",
      "After 12 steps: w is -0.992164,   loss is 0.000061.\n",
      "After 13 steps: w is -0.995298,   loss is 0.000022.\n",
      "After 14 steps: w is -0.997179,   loss is 0.000008.\n",
      "After 15 steps: w is -0.998307,   loss is 0.000003.\n",
      "After 16 steps: w is -0.998984,   loss is 0.000001.\n",
      "After 17 steps: w is -0.999391,   loss is 0.000000.\n",
      "After 18 steps: w is -0.999634,   loss is 0.000000.\n",
      "After 19 steps: w is -0.999781,   loss is 0.000000.\n",
      "After 20 steps: w is -0.999868,   loss is 0.000000.\n",
      "After 21 steps: w is -0.999921,   loss is 0.000000.\n",
      "After 22 steps: w is -0.999953,   loss is 0.000000.\n",
      "After 23 steps: w is -0.999972,   loss is 0.000000.\n",
      "After 24 steps: w is -0.999983,   loss is 0.000000.\n",
      "After 25 steps: w is -0.999990,   loss is 0.000000.\n",
      "After 26 steps: w is -0.999994,   loss is 0.000000.\n",
      "After 27 steps: w is -0.999996,   loss is 0.000000.\n",
      "After 28 steps: w is -0.999998,   loss is 0.000000.\n",
      "After 29 steps: w is -0.999999,   loss is 0.000000.\n",
      "After 30 steps: w is -0.999999,   loss is 0.000000.\n",
      "After 31 steps: w is -1.000000,   loss is 0.000000.\n",
      "After 32 steps: w is -1.000000,   loss is 0.000000.\n",
      "After 33 steps: w is -1.000000,   loss is 0.000000.\n",
      "After 34 steps: w is -1.000000,   loss is 0.000000.\n",
      "After 35 steps: w is -1.000000,   loss is 0.000000.\n",
      "After 36 steps: w is -1.000000,   loss is 0.000000.\n",
      "After 37 steps: w is -1.000000,   loss is 0.000000.\n",
      "After 38 steps: w is -1.000000,   loss is 0.000000.\n",
      "After 39 steps: w is -1.000000,   loss is 0.000000.\n"
     ]
    }
   ],
   "source": [
    "\n",
    "import tensorflow as tf\n",
    "#定义待优化参数w初值赋5\n",
    "w = tf.Variable(tf.constant(5, dtype=tf.float32))\n",
    "#定义损失函数loss\n",
    "loss = tf.square(w+1)\n",
    "#定义反向传播方法\n",
    "train_step = tf.train.GradientDescentOptimizer(0.2).minimize(loss)\n",
    "#生成会话，训练40轮\n",
    "with tf.Session() as sess:\n",
    "    init_op=tf.global_variables_initializer()\n",
    "    sess.run(init_op)\n",
    "    for i in range(40):\n",
    "        sess.run(train_step)\n",
    "        w_val = sess.run(w)\n",
    "        loss_val = sess.run(loss)\n",
    "        print (\"After %s steps: w is %f,   loss is %f.\" % (i, w_val,loss_val))"
   ]
  },
  {
   "cell_type": "code",
   "execution_count": null,
   "metadata": {},
   "outputs": [],
   "source": []
  }
 ],
 "metadata": {
  "kernelspec": {
   "display_name": "Python 3",
   "language": "python",
   "name": "python3"
  },
  "language_info": {
   "codemirror_mode": {
    "name": "ipython",
    "version": 3
   },
   "file_extension": ".py",
   "mimetype": "text/x-python",
   "name": "python",
   "nbconvert_exporter": "python",
   "pygments_lexer": "ipython3",
   "version": "3.6.2"
  }
 },
 "nbformat": 4,
 "nbformat_minor": 2
}
