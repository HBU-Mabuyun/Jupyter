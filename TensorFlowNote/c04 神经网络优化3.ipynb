{
 "cells": [
  {
   "cell_type": "markdown",
   "metadata": {},
   "source": [
    "# 酸奶成本9元， 酸奶利润1元\n",
    "# 预测多了损失大，故不要预测多，故生成的模型会少预测一些"
   ]
  },
  {
   "cell_type": "code",
   "execution_count": 1,
   "metadata": {},
   "outputs": [
    {
     "name": "stdout",
     "output_type": "stream",
     "text": [
      "After 0 training steps, w1 is: \n",
      "[[-0.80594873]\n",
      " [ 1.48737288]] \n",
      "\n",
      "After 500 training steps, w1 is: \n",
      "[[ 0.8732146 ]\n",
      " [ 1.00620401]] \n",
      "\n",
      "After 1000 training steps, w1 is: \n",
      "[[ 0.96580642]\n",
      " [ 0.9698208 ]] \n",
      "\n",
      "After 1500 training steps, w1 is: \n",
      "[[ 0.96454471]\n",
      " [ 0.96829462]] \n",
      "\n",
      "After 2000 training steps, w1 is: \n",
      "[[ 0.96024752]\n",
      " [ 0.97420841]] \n",
      "\n",
      "After 2500 training steps, w1 is: \n",
      "[[ 0.96100295]\n",
      " [ 0.96993417]] \n",
      "\n",
      "Final w1 is: \n",
      " [[ 0.96004069]\n",
      " [ 0.97334176]]\n"
     ]
    }
   ],
   "source": [
    "\n",
    "#0导入模块，生成数据集\n",
    "import tensorflow as tf\n",
    "import numpy as np\n",
    "BATCH_SIZE = 8\n",
    "SEED = 23455\n",
    "COST = 9\n",
    "PROFIT = 1\n",
    "\n",
    "rdm = np.random.RandomState(SEED)\n",
    "X = rdm.rand(32,2)\n",
    "Y = [[x1+x2+(rdm.rand()/10.0-0.05)] for (x1, x2) in X]\n",
    "\n",
    "#1定义神经网络的输入、参数和输出，定义前向传播过程。\n",
    "x = tf.placeholder(tf.float32, shape=(None, 2))\n",
    "y_ = tf.placeholder(tf.float32, shape=(None, 1))\n",
    "w1= tf.Variable(tf.random_normal([2, 1], stddev=1, seed=1))\n",
    "y = tf.matmul(x, w1)\n",
    "\n",
    "#2定义损失函数及反向传播方法。\n",
    "#重新定义损失函数，使得预测多了的损失大，于是模型应该偏向少的方向预测。\n",
    "loss = tf.reduce_sum(tf.where(tf.greater(y, y_), (y - y_)*COST, (y_ - y)*PROFIT))\n",
    "train_step = tf.train.GradientDescentOptimizer(0.001).minimize(loss)\n",
    "\n",
    "#3生成会话，训练STEPS轮。\n",
    "with tf.Session() as sess:\n",
    "    init_op = tf.global_variables_initializer()\n",
    "    sess.run(init_op)\n",
    "    STEPS = 3000\n",
    "    for i in range(STEPS):\n",
    "        start = (i*BATCH_SIZE) % 32\n",
    "        end = (i*BATCH_SIZE) % 32 + BATCH_SIZE\n",
    "        sess.run(train_step, feed_dict={x: X[start:end], y_: Y[start:end]})\n",
    "        if i % 500 == 0:\n",
    "            print (\"After %d training steps, w1 is: \" % (i))\n",
    "            print (sess.run(w1), \"\\n\")\n",
    "    print (\"Final w1 is: \\n\", sess.run(w1))\n"
   ]
  }
 ],
 "metadata": {
  "kernelspec": {
   "display_name": "Python 3",
   "language": "python",
   "name": "python3"
  },
  "language_info": {
   "codemirror_mode": {
    "name": "ipython",
    "version": 3
   },
   "file_extension": ".py",
   "mimetype": "text/x-python",
   "name": "python",
   "nbconvert_exporter": "python",
   "pygments_lexer": "ipython3",
   "version": "3.6.2"
  }
 },
 "nbformat": 4,
 "nbformat_minor": 2
}
