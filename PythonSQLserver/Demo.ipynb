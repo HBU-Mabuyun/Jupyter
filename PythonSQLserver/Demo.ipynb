{
 "cells": [
  {
   "cell_type": "markdown",
   "metadata": {},
   "source": [
    "##### https://www.cnblogs.com/malcolmfeng/p/6909293.html"
   ]
  },
  {
   "cell_type": "code",
   "execution_count": 15,
   "metadata": {},
   "outputs": [
    {
     "name": "stdout",
     "output_type": "stream",
     "text": [
      "-----------------------------------\n",
      "ID=1, Name=John Smith\n",
      "ID=2, Name=Jane Doe\n",
      "ID=3, Name=Mike T.\n",
      "-----------------------------------\n",
      "row = (1, 'John Smith', 'John Doe')\n",
      "row = (2, 'Jane Doe', 'Joe Dog')\n",
      "row = (3, 'Mike T.', 'Sarah H.')\n"
     ]
    }
   ],
   "source": [
    "import pymssql \n",
    "\n",
    "server = \".\"                # 连接服务器地址\n",
    "user = \"sa\" # 连接帐号\n",
    "password = \"sql\" # 连接密码\n",
    "\n",
    "conn = pymssql.connect(server, user, password, \"Python\", charset=\"GBK\")  #获取连接\n",
    "\n",
    "cursor = conn.cursor() # 获取光标\n",
    "\n",
    "# 创建表\n",
    "cursor.execute(\"\"\"\n",
    "IF OBJECT_ID('persons', 'U') IS NOT NULL\n",
    "    DROP TABLE persons\n",
    "CREATE TABLE persons (\n",
    "    id INT NOT NULL,\n",
    "    name VARCHAR(100),\n",
    "    salesrep VARCHAR(100),\n",
    "    PRIMARY KEY(id)\n",
    ")\n",
    "\"\"\")\n",
    "\n",
    "# 插入多行数据\n",
    "cursor.executemany(\n",
    "    \"INSERT INTO persons VALUES (%d, %s, %s)\",\n",
    "    [(1, 'John Smith', 'John Doe'),\n",
    "     (2, 'Jane Doe', 'Joe Dog'),\n",
    "     (3, 'Mike T.', 'Sarah H.')])\n",
    "# 你必须调用 commit() 来保持你数据的提交如果你没有将自动提交设置为true\n",
    "conn.commit()\n",
    "\n",
    "# 查询数据\n",
    "# cursor.execute('SELECT * FROM persons WHERE salesrep=%s', 'John Doe')\n",
    "cursor.execute('SELECT * FROM persons')\n",
    "\n",
    "# 遍历数据（存放到元组中） 方式1\n",
    "print ('-----------------------------------')\n",
    "row = cursor.fetchone()\n",
    "while row:\n",
    "    print(\"ID=%d, Name=%s\" % (row[0], row[1]))\n",
    "    row = cursor.fetchone()\n",
    "\n",
    "# 遍历数据（存放到元组中） 方式2\n",
    "cursor.execute('SELECT * FROM persons')\n",
    "print ('-----------------------------------')\n",
    "for row in cursor:\n",
    "    print('row = %r' % (row,))\n",
    "\n",
    "\n",
    "# 遍历数据（存放到字典中）\n",
    "# cursor = conn.cursor(as_dict=True)\n",
    "#\n",
    "# cursor.execute('SELECT * FROM persons WHERE salesrep=%s', 'John Doe')\n",
    "# for row in cursor:\n",
    "#     print(\"ID=%d, Name=%s\" % (row['id'], row['name']))\n",
    "#\n",
    "# conn.close()\n",
    "# 关闭连接\n",
    "conn.close()\n",
    "\n",
    "# 注：在任何时候，在一个连接下，一次正在执行的数据库操作只会出现一个cursor对象"
   ]
  },
  {
   "cell_type": "code",
   "execution_count": null,
   "metadata": {},
   "outputs": [],
   "source": []
  },
  {
   "cell_type": "code",
   "execution_count": null,
   "metadata": {},
   "outputs": [],
   "source": []
  }
 ],
 "metadata": {
  "kernelspec": {
   "display_name": "Python 3",
   "language": "python",
   "name": "python3"
  },
  "language_info": {
   "codemirror_mode": {
    "name": "ipython",
    "version": 3
   },
   "file_extension": ".py",
   "mimetype": "text/x-python",
   "name": "python",
   "nbconvert_exporter": "python",
   "pygments_lexer": "ipython3",
   "version": "3.6.2"
  }
 },
 "nbformat": 4,
 "nbformat_minor": 2
}
