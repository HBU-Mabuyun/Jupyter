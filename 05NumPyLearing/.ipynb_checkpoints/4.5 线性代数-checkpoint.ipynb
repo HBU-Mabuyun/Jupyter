{
 "cells": [
  {
   "cell_type": "code",
   "execution_count": 2,
   "metadata": {},
   "outputs": [
    {
     "data": {
      "text/plain": [
       "array([[  28.,   64.],\n",
       "       [  67.,  181.]])"
      ]
     },
     "execution_count": 2,
     "metadata": {},
     "output_type": "execute_result"
    }
   ],
   "source": [
    "import numpy as np\n",
    "x = np.array([[1., 2., 3.], [4., 5., 6.]])\n",
    "y = np.array([[6., 23.], [-1, 7], [8, 9]])\n",
    "x.dot(y)"
   ]
  },
  {
   "cell_type": "code",
   "execution_count": 3,
   "metadata": {},
   "outputs": [
    {
     "data": {
      "text/plain": [
       "array([[  28.,   64.],\n",
       "       [  67.,  181.]])"
      ]
     },
     "execution_count": 3,
     "metadata": {},
     "output_type": "execute_result"
    }
   ],
   "source": [
    "np.dot(x, y)"
   ]
  },
  {
   "cell_type": "code",
   "execution_count": 4,
   "metadata": {},
   "outputs": [
    {
     "data": {
      "text/plain": [
       "array([  6.,  15.])"
      ]
     },
     "execution_count": 4,
     "metadata": {},
     "output_type": "execute_result"
    }
   ],
   "source": [
    " np.dot(x, np.ones(3))"
   ]
  },
  {
   "cell_type": "code",
   "execution_count": 5,
   "metadata": {},
   "outputs": [
    {
     "data": {
      "text/plain": [
       "array([  6.,  15.])"
      ]
     },
     "execution_count": 5,
     "metadata": {},
     "output_type": "execute_result"
    }
   ],
   "source": [
    "x @ np.ones(3)"
   ]
  },
  {
   "cell_type": "code",
   "execution_count": 6,
   "metadata": {},
   "outputs": [],
   "source": [
    "from numpy.linalg import inv, qr\n",
    "X = np.random.randn(5, 5)"
   ]
  },
  {
   "cell_type": "code",
   "execution_count": 7,
   "metadata": {},
   "outputs": [
    {
     "data": {
      "text/plain": [
       "array([[ -1.28356240e+00,   1.73412731e+00,   1.02605641e+00,\n",
       "         -2.14069347e-01,   1.33620104e+00],\n",
       "       [  1.81536263e+00,  -9.67578499e-01,   3.53080960e-01,\n",
       "         -9.84610371e-01,   4.18034413e-01],\n",
       "       [  9.65875833e-04,   6.51358748e-01,  -1.11078187e+00,\n",
       "          3.85205418e-01,  -1.54622514e-01],\n",
       "       [ -1.39691927e+00,  -1.21463635e+00,   7.34348417e-01,\n",
       "          1.10358381e+00,  -1.33300366e+00],\n",
       "       [ -2.92365487e-01,   1.60196141e+00,   1.98745434e-01,\n",
       "          5.86566237e-01,  -6.06406636e-01]])"
      ]
     },
     "execution_count": 7,
     "metadata": {},
     "output_type": "execute_result"
    }
   ],
   "source": [
    "X"
   ]
  },
  {
   "cell_type": "code",
   "execution_count": 8,
   "metadata": {},
   "outputs": [],
   "source": [
    "mat = X.T.dot(X)"
   ]
  },
  {
   "cell_type": "code",
   "execution_count": 9,
   "metadata": {},
   "outputs": [
    {
     "data": {
      "text/plain": [
       "array([[ 6.97993588, -2.75334663, -1.76104208, -3.22539066,  1.08302817],\n",
       "       [-2.75334663,  8.40929572,  0.14057765,  0.43157472,  2.45962153],\n",
       "       [-1.76104208,  0.14057765,  2.99006162, -0.06818121,  0.59095984],\n",
       "       [-3.22539066,  0.43157472, -0.06818121,  2.72562365, -2.58398104],\n",
       "       [ 1.08302817,  2.45962153,  0.59095984, -2.58398104,  4.12872186]])"
      ]
     },
     "execution_count": 9,
     "metadata": {},
     "output_type": "execute_result"
    }
   ],
   "source": [
    "mat"
   ]
  },
  {
   "cell_type": "code",
   "execution_count": 10,
   "metadata": {},
   "outputs": [
    {
     "data": {
      "text/plain": [
       "array([[  9.09991061,  -2.26710588,   3.34030528,  24.03707608,\n",
       "         13.52915681],\n",
       "       [ -2.26710588,   0.87333501,  -0.75046148,  -6.559311  ,  -3.9233393 ],\n",
       "       [  3.34030528,  -0.75046148,   1.60196151,   8.5756841 ,\n",
       "          4.70870099],\n",
       "       [ 24.03707608,  -6.559311  ,   8.5756841 ,  65.47764075,\n",
       "         37.35434224],\n",
       "       [ 13.52915681,  -3.9233393 ,   4.70870099,  37.35434224,\n",
       "         21.73499059]])"
      ]
     },
     "execution_count": 10,
     "metadata": {},
     "output_type": "execute_result"
    }
   ],
   "source": [
    "inv(mat)"
   ]
  },
  {
   "cell_type": "markdown",
   "metadata": {},
   "source": [
    "![](https://upload-images.jianshu.io/upload_images/7178691-dcdb66e49e5f70ea.png?imageMogr2/auto-orient/strip%7CimageView2/2/w/700)"
   ]
  },
  {
   "cell_type": "markdown",
   "metadata": {},
   "source": [
    "# END\n"
   ]
  },
  {
   "cell_type": "code",
   "execution_count": null,
   "metadata": {},
   "outputs": [],
   "source": []
  }
 ],
 "metadata": {
  "kernelspec": {
   "display_name": "Python 3",
   "language": "python",
   "name": "python3"
  },
  "language_info": {
   "codemirror_mode": {
    "name": "ipython",
    "version": 3
   },
   "file_extension": ".py",
   "mimetype": "text/x-python",
   "name": "python",
   "nbconvert_exporter": "python",
   "pygments_lexer": "ipython3",
   "version": "3.6.2"
  }
 },
 "nbformat": 4,
 "nbformat_minor": 2
}
