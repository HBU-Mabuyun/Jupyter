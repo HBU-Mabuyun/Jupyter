{
 "cells": [
  {
   "cell_type": "markdown",
   "metadata": {},
   "source": [
    "# 6.1 Matplotlib"
   ]
  },
  {
   "cell_type": "code",
   "execution_count": 34,
   "metadata": {},
   "outputs": [],
   "source": [
    "import matplotlib.pyplot as plt\n",
    "%matplotlib inline"
   ]
  },
  {
   "cell_type": "code",
   "execution_count": 35,
   "metadata": {},
   "outputs": [
    {
     "data": {
      "text/html": [
       "<div>\n",
       "<style scoped>\n",
       "    .dataframe tbody tr th:only-of-type {\n",
       "        vertical-align: middle;\n",
       "    }\n",
       "\n",
       "    .dataframe tbody tr th {\n",
       "        vertical-align: top;\n",
       "    }\n",
       "\n",
       "    .dataframe thead th {\n",
       "        text-align: right;\n",
       "    }\n",
       "</style>\n",
       "<table border=\"1\" class=\"dataframe\">\n",
       "  <thead>\n",
       "    <tr style=\"text-align: right;\">\n",
       "      <th></th>\n",
       "      <th>Unnamed: 0</th>\n",
       "      <th>height</th>\n",
       "      <th>weight</th>\n",
       "    </tr>\n",
       "  </thead>\n",
       "  <tbody>\n",
       "    <tr>\n",
       "      <th>0</th>\n",
       "      <td>1</td>\n",
       "      <td>58</td>\n",
       "      <td>115</td>\n",
       "    </tr>\n",
       "    <tr>\n",
       "      <th>1</th>\n",
       "      <td>2</td>\n",
       "      <td>59</td>\n",
       "      <td>117</td>\n",
       "    </tr>\n",
       "    <tr>\n",
       "      <th>2</th>\n",
       "      <td>3</td>\n",
       "      <td>60</td>\n",
       "      <td>120</td>\n",
       "    </tr>\n",
       "    <tr>\n",
       "      <th>3</th>\n",
       "      <td>4</td>\n",
       "      <td>61</td>\n",
       "      <td>123</td>\n",
       "    </tr>\n",
       "    <tr>\n",
       "      <th>4</th>\n",
       "      <td>5</td>\n",
       "      <td>62</td>\n",
       "      <td>126</td>\n",
       "    </tr>\n",
       "  </tbody>\n",
       "</table>\n",
       "</div>"
      ],
      "text/plain": [
       "   Unnamed: 0  height  weight\n",
       "0           1      58     115\n",
       "1           2      59     117\n",
       "2           3      60     120\n",
       "3           4      61     123\n",
       "4           5      62     126"
      ]
     },
     "execution_count": 35,
     "metadata": {},
     "output_type": "execute_result"
    }
   ],
   "source": [
    "import pandas as pd\n",
    "women = pd.read_csv('women.csv')\n",
    "women.head()"
   ]
  },
  {
   "cell_type": "code",
   "execution_count": 36,
   "metadata": {},
   "outputs": [
    {
     "data": {
      "text/html": [
       "<div>\n",
       "<style scoped>\n",
       "    .dataframe tbody tr th:only-of-type {\n",
       "        vertical-align: middle;\n",
       "    }\n",
       "\n",
       "    .dataframe tbody tr th {\n",
       "        vertical-align: top;\n",
       "    }\n",
       "\n",
       "    .dataframe thead th {\n",
       "        text-align: right;\n",
       "    }\n",
       "</style>\n",
       "<table border=\"1\" class=\"dataframe\">\n",
       "  <thead>\n",
       "    <tr style=\"text-align: right;\">\n",
       "      <th></th>\n",
       "      <th>height</th>\n",
       "      <th>weight</th>\n",
       "    </tr>\n",
       "  </thead>\n",
       "  <tbody>\n",
       "    <tr>\n",
       "      <th>1</th>\n",
       "      <td>58</td>\n",
       "      <td>115</td>\n",
       "    </tr>\n",
       "    <tr>\n",
       "      <th>2</th>\n",
       "      <td>59</td>\n",
       "      <td>117</td>\n",
       "    </tr>\n",
       "    <tr>\n",
       "      <th>3</th>\n",
       "      <td>60</td>\n",
       "      <td>120</td>\n",
       "    </tr>\n",
       "    <tr>\n",
       "      <th>4</th>\n",
       "      <td>61</td>\n",
       "      <td>123</td>\n",
       "    </tr>\n",
       "    <tr>\n",
       "      <th>5</th>\n",
       "      <td>62</td>\n",
       "      <td>126</td>\n",
       "    </tr>\n",
       "  </tbody>\n",
       "</table>\n",
       "</div>"
      ],
      "text/plain": [
       "   height  weight\n",
       "1      58     115\n",
       "2      59     117\n",
       "3      60     120\n",
       "4      61     123\n",
       "5      62     126"
      ]
     },
     "execution_count": 36,
     "metadata": {},
     "output_type": "execute_result"
    }
   ],
   "source": [
    "women = pd.read_csv('women.csv',index_col=0)\n",
    "women.head()"
   ]
  },
  {
   "cell_type": "code",
   "execution_count": 37,
   "metadata": {},
   "outputs": [
    {
     "data": {
      "image/png": "[encoded data removed]",
      "text/plain": [
       "<Figure size 432x288 with 1 Axes>"
      ]
     },
     "metadata": {
      "needs_background": "light"
     },
     "output_type": "display_data"
    }
   ],
   "source": [
    "plt.plot(women[\"height\"],women[\"weight\"])\n",
    "plt.show()"
   ]
  },
  {
   "cell_type": "code",
   "execution_count": 38,
   "metadata": {},
   "outputs": [
    {
     "data": {
      "text/plain": [
       "array([0. , 0.1, 0.2, 0.3, 0.4, 0.5, 0.6, 0.7, 0.8, 0.9, 1. , 1.1, 1.2,\n",
       "       1.3, 1.4, 1.5, 1.6, 1.7, 1.8, 1.9, 2. , 2.1, 2.2, 2.3, 2.4, 2.5,\n",
       "       2.6, 2.7, 2.8, 2.9, 3. , 3.1, 3.2, 3.3, 3.4, 3.5, 3.6, 3.7, 3.8,\n",
       "       3.9])"
      ]
     },
     "execution_count": 38,
     "metadata": {},
     "output_type": "execute_result"
    }
   ],
   "source": [
    "import numpy as np\n",
    "t=np.arange(0.,4.,0.1)\n",
    "t"
   ]
  },
  {
   "cell_type": "code",
   "execution_count": 39,
   "metadata": {},
   "outputs": [
    {
     "data": {
      "image/png": "[encoded data removed]",
      "text/plain": [
       "<Figure size 432x288 with 1 Axes>"
      ]
     },
     "metadata": {
      "needs_background": "light"
     },
     "output_type": "display_data"
    }
   ],
   "source": [
    "plt.plot(t,t,t,t+2,t,t**2,t,t+8)\n",
    "plt.show()"
   ]
  },
  {
   "cell_type": "markdown",
   "metadata": {},
   "source": [
    "# 6.2 改变图的属性"
   ]
  },
  {
   "cell_type": "code",
   "execution_count": 40,
   "metadata": {},
   "outputs": [
    {
     "data": {
      "image/png": "[encoded data removed]",
      "text/plain": [
       "<Figure size 432x288 with 1 Axes>"
      ]
     },
     "metadata": {
      "needs_background": "light"
     },
     "output_type": "display_data"
    }
   ],
   "source": [
    "plt.plot(women[\"height\"],women[\"weight\"],\"o\")\n",
    "plt.show()"
   ]
  },
  {
   "cell_type": "code",
   "execution_count": 41,
   "metadata": {},
   "outputs": [
    {
     "data": {
      "image/png": "[encoded data removed]",
      "text/plain": [
       "<Figure size 432x288 with 1 Axes>"
      ]
     },
     "metadata": {
      "needs_background": "light"
     },
     "output_type": "display_data"
    }
   ],
   "source": [
    "plt.plot(women[\"height\"],women[\"weight\"],\"g--\")\n",
    "plt.show()"
   ]
  },
  {
   "cell_type": "code",
   "execution_count": 42,
   "metadata": {},
   "outputs": [
    {
     "data": {
      "image/png": "[encoded data removed]",
      "text/plain": [
       "<Figure size 432x288 with 1 Axes>"
      ]
     },
     "metadata": {
      "needs_background": "light"
     },
     "output_type": "display_data"
    }
   ],
   "source": [
    "plt.plot(women[\"height\"],women[\"weight\"],\"rD\")\n",
    "plt.show()"
   ]
  },
  {
   "cell_type": "code",
   "execution_count": 50,
   "metadata": {},
   "outputs": [
    {
     "data": {
      "image/png": "[encoded data removed]",
      "text/plain": [
       "<Figure size 432x288 with 1 Axes>"
      ]
     },
     "metadata": {
      "needs_background": "light"
     },
     "output_type": "display_data"
    }
   ],
   "source": [
    "#plt.rcParams[\"font.family\"]='SimHei'\n",
    "plt.plot(women[\"height\"],women[\"weight\"])\n",
    "plt.title(\"哈哈,我是一个图的名字啊\")\n",
    "plt.xlabel(\"我是x轴\")\n",
    "plt.ylabel(\"我是y轴\")\n",
    "plt.show()"
   ]
  },
  {
   "cell_type": "code",
   "execution_count": 49,
   "metadata": {
    "scrolled": false
   },
   "outputs": [
    {
     "data": {
      "image/png": "[encoded data removed]",
      "text/plain": [
       "<Figure size 432x288 with 1 Axes>"
      ]
     },
     "metadata": {
      "needs_background": "light"
     },
     "output_type": "display_data"
    }
   ],
   "source": [
    "plt.rcParams[\"font.family\"]='SimHei'\n",
    "plt.plot(women[\"height\"],women[\"weight\"])\n",
    "plt.title(\"哈哈,我是一个图的名字啊\")\n",
    "plt.xlabel(\"我是x轴\")\n",
    "plt.ylabel(\"我是y轴\")\n",
    "\n",
    "plt.legend(loc=\"upper left\",labels=\"图例\")\n",
    "plt.show()"
   ]
  },
  {
   "cell_type": "code",
   "execution_count": 45,
   "metadata": {},
   "outputs": [
    {
     "data": {
      "text/plain": [
       "['STIXSizeTwoSym',\n",
       " 'STIXSizeFourSym',\n",
       " 'cmsy10',\n",
       " 'STIXNonUnicode',\n",
       " 'cmmi10',\n",
       " 'DejaVu Sans Mono',\n",
       " 'DejaVu Sans Mono',\n",
       " 'DejaVu Serif Display',\n",
       " 'STIXNonUnicode',\n",
       " 'STIXGeneral',\n",
       " 'cmb10',\n",
       " 'cmr10',\n",
       " 'DejaVu Sans',\n",
       " 'DejaVu Sans Display',\n",
       " 'cmtt10',\n",
       " 'STIXSizeFourSym',\n",
       " 'DejaVu Serif',\n",
       " 'STIXSizeOneSym',\n",
       " 'DejaVu Serif',\n",
       " 'STIXGeneral',\n",
       " 'DejaVu Serif',\n",
       " 'STIXSizeThreeSym',\n",
       " 'DejaVu Serif',\n",
       " 'STIXGeneral',\n",
       " 'DejaVu Sans Mono',\n",
       " 'STIXGeneral',\n",
       " 'STIXSizeOneSym',\n",
       " 'DejaVu Sans',\n",
       " 'DejaVu Sans',\n",
       " 'STIXNonUnicode',\n",
       " 'cmex10',\n",
       " 'STIXSizeFiveSym',\n",
       " 'STIXSizeThreeSym',\n",
       " 'cmss10',\n",
       " 'DejaVu Sans',\n",
       " 'DejaVu Sans Mono',\n",
       " 'STIXNonUnicode',\n",
       " 'STIXSizeTwoSym',\n",
       " 'Arial',\n",
       " 'Malgun Gothic',\n",
       " 'Microsoft YaHei',\n",
       " 'Tahoma',\n",
       " 'Sitka Small',\n",
       " 'Century',\n",
       " 'Microsoft Tai Le',\n",
       " 'Garamond',\n",
       " 'Bookman Old Style',\n",
       " 'FZYaoTi',\n",
       " 'YouYuan',\n",
       " 'Segoe UI',\n",
       " 'Microsoft Uighur',\n",
       " 'Segoe UI Symbol',\n",
       " 'Consolas',\n",
       " 'Candara',\n",
       " 'Segoe UI',\n",
       " 'Microsoft Tai Le',\n",
       " 'Times New Roman',\n",
       " 'Arial',\n",
       " 'Microsoft PhagsPa',\n",
       " 'STXingkai',\n",
       " 'Palatino Linotype',\n",
       " 'Wingdings 3',\n",
       " 'Microsoft Yi Baiti',\n",
       " 'Ebrima',\n",
       " 'Microsoft New Tai Lue',\n",
       " 'Segoe Script',\n",
       " 'Meiryo',\n",
       " 'KaiTi',\n",
       " 'Leelawadee UI',\n",
       " 'DengXian',\n",
       " 'Yu Gothic',\n",
       " 'Verdana',\n",
       " 'Verdana',\n",
       " 'Comic Sans MS',\n",
       " 'HoloLens MDL2 Assets',\n",
       " 'Garamond',\n",
       " 'Segoe UI',\n",
       " 'Book Antiqua',\n",
       " 'Leelawadee',\n",
       " 'STSong',\n",
       " 'Bookman Old Style',\n",
       " 'Impact',\n",
       " 'STKaiti',\n",
       " 'Georgia',\n",
       " 'Candara',\n",
       " 'Franklin Gothic Medium',\n",
       " 'Wingdings 2',\n",
       " 'MV Boli',\n",
       " 'SimSun',\n",
       " 'Segoe UI Emoji',\n",
       " 'Georgia',\n",
       " 'MS Gothic',\n",
       " 'Verdana',\n",
       " 'Georgia',\n",
       " 'Constantia',\n",
       " 'Symbol',\n",
       " 'Lucida Sans Unicode',\n",
       " 'Bahnschrift',\n",
       " 'Marlett',\n",
       " 'Tahoma',\n",
       " 'Gadugi',\n",
       " 'FangSong',\n",
       " 'Segoe UI',\n",
       " 'Yu Gothic',\n",
       " 'Calibri',\n",
       " 'Courier New',\n",
       " 'Dubai',\n",
       " 'STFangsong',\n",
       " 'Arial',\n",
       " 'Trebuchet MS',\n",
       " 'Century Gothic',\n",
       " 'Sitka Small',\n",
       " 'MT Extra',\n",
       " 'Constantia',\n",
       " 'Microsoft Uighur',\n",
       " 'Segoe UI',\n",
       " 'STXihei',\n",
       " 'Meiryo',\n",
       " 'Segoe UI',\n",
       " 'Microsoft JhengHei',\n",
       " 'Courier New',\n",
       " 'Candara',\n",
       " 'Candara',\n",
       " 'Segoe UI',\n",
       " 'Microsoft Sans Serif',\n",
       " 'Segoe UI',\n",
       " 'MS Reference Sans Serif',\n",
       " 'Microsoft Himalaya',\n",
       " 'MingLiU-ExtB',\n",
       " 'Sitka Small',\n",
       " 'Palatino Linotype',\n",
       " 'Trebuchet MS',\n",
       " 'Yu Gothic',\n",
       " 'STCaiyun',\n",
       " 'Bookman Old Style',\n",
       " 'Georgia',\n",
       " 'Corbel',\n",
       " 'Corbel',\n",
       " 'STXinwei',\n",
       " 'Comic Sans MS',\n",
       " 'Malgun Gothic',\n",
       " 'Microsoft JhengHei',\n",
       " 'Ebrima',\n",
       " 'Calibri',\n",
       " 'Cambria',\n",
       " 'Gadugi',\n",
       " 'Segoe UI',\n",
       " 'Book Antiqua',\n",
       " 'Consolas',\n",
       " 'Arial',\n",
       " 'Sitka Small',\n",
       " 'Leelawadee UI',\n",
       " 'Segoe MDL2 Assets',\n",
       " 'Calibri',\n",
       " 'Trebuchet MS',\n",
       " 'Corbel',\n",
       " 'Corbel',\n",
       " 'SimSun-ExtB',\n",
       " 'Leelawadee',\n",
       " 'LiSu',\n",
       " 'Mongolian Baiti',\n",
       " 'Candara',\n",
       " 'Garamond',\n",
       " 'Corbel',\n",
       " 'Segoe Print',\n",
       " 'Monotype Corsiva',\n",
       " 'Dubai',\n",
       " 'Bookman Old Style',\n",
       " 'Trebuchet MS',\n",
       " 'Palatino Linotype',\n",
       " 'Malgun Gothic',\n",
       " 'Arial',\n",
       " 'Century Gothic',\n",
       " 'Segoe UI',\n",
       " 'Constantia',\n",
       " 'Segoe UI',\n",
       " 'Century Gothic',\n",
       " 'Consolas',\n",
       " 'Times New Roman',\n",
       " 'Leelawadee UI',\n",
       " 'Palatino Linotype',\n",
       " 'Microsoft New Tai Lue',\n",
       " 'Calibri',\n",
       " 'Calibri',\n",
       " 'Lucida Console',\n",
       " 'Yu Gothic',\n",
       " 'Microsoft JhengHei',\n",
       " 'Dubai',\n",
       " 'Courier New',\n",
       " 'STLiti',\n",
       " 'Bookshelf Symbol 7',\n",
       " 'Ink Free',\n",
       " 'Cambria',\n",
       " 'Segoe Print',\n",
       " 'Book Antiqua',\n",
       " 'Franklin Gothic Medium',\n",
       " 'DengXian',\n",
       " 'Century Gothic',\n",
       " 'Corbel',\n",
       " 'Constantia',\n",
       " 'Myanmar Text',\n",
       " 'Consolas',\n",
       " 'Arial',\n",
       " 'Dubai',\n",
       " 'STZhongsong',\n",
       " 'Comic Sans MS',\n",
       " 'Times New Roman',\n",
       " 'Segoe Script',\n",
       " 'Segoe UI',\n",
       " 'Gabriola',\n",
       " 'Myanmar Text',\n",
       " 'SimHei',\n",
       " 'Cambria',\n",
       " 'Verdana',\n",
       " 'Courier New',\n",
       " 'STHupo',\n",
       " 'Nirmala UI',\n",
       " 'Calibri',\n",
       " 'Segoe UI Historic',\n",
       " 'Webdings',\n",
       " 'Nirmala UI',\n",
       " 'Comic Sans MS',\n",
       " 'Arial',\n",
       " 'Microsoft YaHei',\n",
       " 'Sylfaen',\n",
       " 'Book Antiqua',\n",
       " 'Candara',\n",
       " 'Microsoft PhagsPa',\n",
       " 'FZShuTi',\n",
       " 'DengXian',\n",
       " 'Arial',\n",
       " 'Arial',\n",
       " 'Javanese Text',\n",
       " 'Cambria',\n",
       " 'Nirmala UI',\n",
       " 'Times New Roman',\n",
       " 'MS Reference Specialty',\n",
       " 'Microsoft YaHei',\n",
       " 'Wingdings']"
      ]
     },
     "execution_count": 45,
     "metadata": {},
     "output_type": "execute_result"
    }
   ],
   "source": [
    "import matplotlib.font_manager\n",
    "[f.name for f in matplotlib.font_manager.fontManager.ttflist]"
   ]
  },
  {
   "cell_type": "markdown",
   "metadata": {},
   "source": [
    "# 6.3 改变图的类型"
   ]
  },
  {
   "cell_type": "code",
   "execution_count": 46,
   "metadata": {},
   "outputs": [
    {
     "data": {
      "image/png": "[encoded data removed]",
      "text/plain": [
       "<Figure size 432x288 with 1 Axes>"
      ]
     },
     "metadata": {
      "needs_background": "light"
     },
     "output_type": "display_data"
    }
   ],
   "source": [
    "plt.scatter(women[\"height\"],women[\"weight\"])\n",
    "plt.show()"
   ]
  },
  {
   "cell_type": "markdown",
   "metadata": {},
   "source": [
    "# 6.4 改变图的坐标轴的取值范围"
   ]
  },
  {
   "cell_type": "code",
   "execution_count": 47,
   "metadata": {},
   "outputs": [
    {
     "data": {
      "text/plain": [
       "(2.2, -1.3)"
      ]
     },
     "execution_count": 47,
     "metadata": {},
     "output_type": "execute_result"
    },
    {
     "data": {
      "image/png": "[encoded data removed]",
      "text/plain": [
       "<Figure size 432x288 with 1 Axes>"
      ]
     },
     "metadata": {
      "needs_background": "light"
     },
     "output_type": "display_data"
    }
   ],
   "source": [
    "# plt.rcParams[\"font.family\"]='SimHei'\n",
    "plt.rcParams[\"font.family\"]='sans-serif'\n",
    "# 负号 出问题：RuntimeWarning: Glyph 8722 missing from current font. font.set_text(s, 0.0, flags=flags)\n",
    "x=np.linspace(0,10,100)\n",
    "plt.plot(x,np.sin(x))\n",
    "plt.xlim(11,-2)\n",
    "plt.ylim(2.2,-1.3)"
   ]
  },
  {
   "cell_type": "code",
   "execution_count": 48,
   "metadata": {},
   "outputs": [
    {
     "data": {
      "text/plain": [
       "[-1, 21, -1.6, 1.6]"
      ]
     },
     "execution_count": 48,
     "metadata": {},
     "output_type": "execute_result"
    },
    {
     "data": {
      "image/png": "[encoded data removed]",
      "text/plain": [
       "<Figure size 432x288 with 1 Axes>"
      ]
     },
     "metadata": {
      "needs_background": "light"
     },
     "output_type": "display_data"
    }
   ],
   "source": [
    "plt.plot(x,np.sin(x))\n",
    "plt.axis([-1,21,-1.6,1.6])"
   ]
  },
  {
   "cell_type": "markdown",
   "metadata": {},
   "source": [
    "# 6.5 去掉边界的空白"
   ]
  },
  {
   "cell_type": "code",
   "execution_count": null,
   "metadata": {},
   "outputs": [],
   "source": []
  },
  {
   "cell_type": "markdown",
   "metadata": {},
   "source": [
    "# 6.6 在同一个坐标上画两个图"
   ]
  },
  {
   "cell_type": "code",
   "execution_count": null,
   "metadata": {},
   "outputs": [],
   "source": []
  },
  {
   "cell_type": "markdown",
   "metadata": {},
   "source": [
    "# 6.7 多图显示"
   ]
  },
  {
   "cell_type": "code",
   "execution_count": null,
   "metadata": {},
   "outputs": [],
   "source": []
  },
  {
   "cell_type": "markdown",
   "metadata": {},
   "source": [
    "# 6.8 图的保存"
   ]
  },
  {
   "cell_type": "code",
   "execution_count": null,
   "metadata": {},
   "outputs": [],
   "source": []
  },
  {
   "cell_type": "markdown",
   "metadata": {},
   "source": [
    "# 6.9 散点图画法"
   ]
  },
  {
   "cell_type": "code",
   "execution_count": null,
   "metadata": {},
   "outputs": [],
   "source": []
  }
 ],
 "metadata": {
  "kernelspec": {
   "display_name": "Python 3",
   "language": "python",
   "name": "python3"
  },
  "language_info": {
   "codemirror_mode": {
    "name": "ipython",
    "version": 3
   },
   "file_extension": ".py",
   "mimetype": "text/x-python",
   "name": "python",
   "nbconvert_exporter": "python",
   "pygments_lexer": "ipython3",
   "version": "3.7.6"
  }
 },
 "nbformat": 4,
 "nbformat_minor": 4
}
