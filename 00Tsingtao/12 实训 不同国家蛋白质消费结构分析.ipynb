{
 "cells": [
  {
   "cell_type": "markdown",
   "metadata": {},
   "source": [
    "# read data"
   ]
  },
  {
   "cell_type": "code",
   "execution_count": 6,
   "metadata": {},
   "outputs": [],
   "source": [
    "import pandas as pd\n",
    "protein = pd.read_table('data/protein.txt',sep='\\t')"
   ]
  },
  {
   "cell_type": "code",
   "execution_count": 7,
   "metadata": {},
   "outputs": [
    {
     "data": {
      "text/html": [
       "<div>\n",
       "<style scoped>\n",
       "    .dataframe tbody tr th:only-of-type {\n",
       "        vertical-align: middle;\n",
       "    }\n",
       "\n",
       "    .dataframe tbody tr th {\n",
       "        vertical-align: top;\n",
       "    }\n",
       "\n",
       "    .dataframe thead th {\n",
       "        text-align: right;\n",
       "    }\n",
       "</style>\n",
       "<table border=\"1\" class=\"dataframe\">\n",
       "  <thead>\n",
       "    <tr style=\"text-align: right;\">\n",
       "      <th></th>\n",
       "      <th>Country</th>\n",
       "      <th>RedMeat</th>\n",
       "      <th>WhiteMeat</th>\n",
       "      <th>Eggs</th>\n",
       "      <th>Milk</th>\n",
       "      <th>Fish</th>\n",
       "      <th>Cereals</th>\n",
       "      <th>Starch</th>\n",
       "      <th>Nuts</th>\n",
       "      <th>Fr&amp;Veg</th>\n",
       "    </tr>\n",
       "  </thead>\n",
       "  <tbody>\n",
       "    <tr>\n",
       "      <th>0</th>\n",
       "      <td>Albania</td>\n",
       "      <td>10.1</td>\n",
       "      <td>1.4</td>\n",
       "      <td>0.5</td>\n",
       "      <td>8.9</td>\n",
       "      <td>0.2</td>\n",
       "      <td>42.3</td>\n",
       "      <td>0.6</td>\n",
       "      <td>5.5</td>\n",
       "      <td>1.7</td>\n",
       "    </tr>\n",
       "    <tr>\n",
       "      <th>1</th>\n",
       "      <td>Austria</td>\n",
       "      <td>8.9</td>\n",
       "      <td>14.0</td>\n",
       "      <td>4.3</td>\n",
       "      <td>19.9</td>\n",
       "      <td>2.1</td>\n",
       "      <td>28.0</td>\n",
       "      <td>3.6</td>\n",
       "      <td>1.3</td>\n",
       "      <td>4.3</td>\n",
       "    </tr>\n",
       "    <tr>\n",
       "      <th>2</th>\n",
       "      <td>Belgium</td>\n",
       "      <td>13.5</td>\n",
       "      <td>9.3</td>\n",
       "      <td>4.1</td>\n",
       "      <td>17.5</td>\n",
       "      <td>4.5</td>\n",
       "      <td>26.6</td>\n",
       "      <td>5.7</td>\n",
       "      <td>2.1</td>\n",
       "      <td>4.0</td>\n",
       "    </tr>\n",
       "    <tr>\n",
       "      <th>3</th>\n",
       "      <td>Bulgaria</td>\n",
       "      <td>7.8</td>\n",
       "      <td>6.0</td>\n",
       "      <td>1.6</td>\n",
       "      <td>8.3</td>\n",
       "      <td>1.2</td>\n",
       "      <td>56.7</td>\n",
       "      <td>1.1</td>\n",
       "      <td>3.7</td>\n",
       "      <td>4.2</td>\n",
       "    </tr>\n",
       "    <tr>\n",
       "      <th>4</th>\n",
       "      <td>Czechoslovakia</td>\n",
       "      <td>9.7</td>\n",
       "      <td>11.4</td>\n",
       "      <td>2.8</td>\n",
       "      <td>12.5</td>\n",
       "      <td>2.0</td>\n",
       "      <td>34.3</td>\n",
       "      <td>5.0</td>\n",
       "      <td>1.1</td>\n",
       "      <td>4.0</td>\n",
       "    </tr>\n",
       "  </tbody>\n",
       "</table>\n",
       "</div>"
      ],
      "text/plain": [
       "          Country  RedMeat  WhiteMeat  Eggs  Milk  Fish  Cereals  Starch  \\\n",
       "0         Albania     10.1        1.4   0.5   8.9   0.2     42.3     0.6   \n",
       "1         Austria      8.9       14.0   4.3  19.9   2.1     28.0     3.6   \n",
       "2         Belgium     13.5        9.3   4.1  17.5   4.5     26.6     5.7   \n",
       "3        Bulgaria      7.8        6.0   1.6   8.3   1.2     56.7     1.1   \n",
       "4  Czechoslovakia      9.7       11.4   2.8  12.5   2.0     34.3     5.0   \n",
       "\n",
       "   Nuts  Fr&Veg  \n",
       "0   5.5     1.7  \n",
       "1   1.3     4.3  \n",
       "2   2.1     4.0  \n",
       "3   3.7     4.2  \n",
       "4   1.1     4.0  "
      ]
     },
     "execution_count": 7,
     "metadata": {},
     "output_type": "execute_result"
    }
   ],
   "source": [
    "protein.head()"
   ]
  },
  {
   "cell_type": "markdown",
   "metadata": {},
   "source": [
    "# data comprehend"
   ]
  },
  {
   "cell_type": "code",
   "execution_count": 9,
   "metadata": {},
   "outputs": [
    {
     "name": "stdout",
     "output_type": "stream",
     "text": [
      "         RedMeat  WhiteMeat       Eggs       Milk       Fish    Cereals  \\\n",
      "count  25.000000  25.000000  25.000000  25.000000  25.000000  25.000000   \n",
      "mean    9.828000   7.896000   2.936000  17.112000   4.284000  32.248000   \n",
      "std     3.347078   3.694081   1.117617   7.105416   3.402533  10.974786   \n",
      "min     4.400000   1.400000   0.500000   4.900000   0.200000  18.600000   \n",
      "25%     7.800000   4.900000   2.700000  11.100000   2.100000  24.300000   \n",
      "50%     9.500000   7.800000   2.900000  17.600000   3.400000  28.000000   \n",
      "75%    10.600000  10.800000   3.700000  23.300000   5.800000  40.100000   \n",
      "max    18.000000  14.000000   4.700000  33.700000  14.200000  56.700000   \n",
      "\n",
      "          Starch       Nuts     Fr&Veg  \n",
      "count  25.000000  25.000000  25.000000  \n",
      "mean    4.276000   3.072000   4.136000  \n",
      "std     1.634085   1.985682   1.803903  \n",
      "min     0.600000   0.700000   1.400000  \n",
      "25%     3.100000   1.500000   2.900000  \n",
      "50%     4.700000   2.400000   3.800000  \n",
      "75%     5.700000   4.700000   4.900000  \n",
      "max     6.500000   7.800000   7.900000  \n"
     ]
    }
   ],
   "source": [
    "print(protein.describe())"
   ]
  },
  {
   "cell_type": "code",
   "execution_count": 10,
   "metadata": {},
   "outputs": [
    {
     "name": "stdout",
     "output_type": "stream",
     "text": [
      "(25, 10)\n"
     ]
    }
   ],
   "source": [
    "print(protein.shape)"
   ]
  },
  {
   "cell_type": "markdown",
   "metadata": {},
   "source": [
    "# data format"
   ]
  },
  {
   "cell_type": "code",
   "execution_count": 11,
   "metadata": {},
   "outputs": [
    {
     "name": "stdout",
     "output_type": "stream",
     "text": [
      "[[ 0.08294065 -1.79475017 -2.22458425 -1.1795703  -1.22503282  0.9348045\n",
      "  -2.29596509  1.24796771 -1.37825141]\n",
      " [-0.28297397  1.68644628  1.24562107  0.40046785 -0.6551106  -0.39505069\n",
      "  -0.42221774 -0.91079027  0.09278868]\n",
      " [ 1.11969872  0.38790475  1.06297868  0.05573225  0.06479116 -0.5252463\n",
      "   0.88940541 -0.49959828 -0.07694671]\n",
      " [-0.6183957  -0.52383718 -1.22005113 -1.2657542  -0.92507375  2.27395937\n",
      "  -1.98367386  0.32278572  0.03621022]\n",
      " [-0.03903089  0.96810416 -0.12419682 -0.6624669  -0.6851065   0.19082957\n",
      "   0.45219769 -1.01358827 -0.07694671]\n",
      " [ 0.23540507  0.8023329   0.69769391  1.13303099  1.68457011 -0.96233157\n",
      "   0.3272812  -1.21918427 -0.98220215]\n",
      " [-0.43543839  1.02336124  0.69769391 -0.86356267  0.33475432 -0.71124003\n",
      "   1.38907137 -1.16778527 -0.30326057]\n",
      " [-0.10001666 -0.82775116 -0.21551801  2.38269753  0.45473794 -0.55314536\n",
      "   0.51465594 -1.06498727 -1.5479868 ]\n",
      " [ 2.49187852  0.55367601  0.33240914  0.34301192  0.42474204 -0.385751\n",
      "   0.3272812  -0.34540128  1.33751491]\n",
      " [ 0.11343353 -1.35269348 -0.12419682  0.07009624  0.48473385  0.87900638\n",
      "  -1.29663317  2.4301447   1.33751491]\n",
      " [-1.38071781  1.24438959 -0.03287563 -1.06465843 -1.19503691  0.73021139\n",
      "  -0.17238476  1.19656871  0.03621022]\n",
      " [ 1.24167025  0.58130455  1.61090584  1.24794286 -0.62511469 -0.76703815\n",
      "   1.20169663 -0.75659327 -0.69930983]\n",
      " [-0.25248108 -0.77249407 -0.03287563 -0.49009911 -0.26516381  0.42332173\n",
      "  -1.35909141  0.63117972  1.45067184]\n",
      " [-0.10001666  1.57593211  0.60637272  0.90320726 -0.53512697 -0.91583314\n",
      "  -0.04746827 -0.65379528 -0.24668211]\n",
      " [-0.13050955 -0.88300824 -0.21551801  0.88884328  1.62457829 -0.86003502\n",
      "   0.20236471 -0.75659327 -0.81246676]\n",
      " [-0.89283166  0.63656164 -0.21551801  0.31428395 -0.38514744  0.35822393\n",
      "   1.0143219  -0.55099728  1.39409338]\n",
      " [-1.10628185 -1.15929368 -1.67665709 -1.75412962  2.97439408 -0.48804755\n",
      "   1.0143219   0.83677571  2.12961342]\n",
      " [-1.10628185 -0.44095155 -1.31137232 -0.86356267 -0.98506557  1.61368162\n",
      "  -0.73450896  1.14516971 -0.75588829]\n",
      " [-0.83184589 -1.24217931  0.14976676 -1.22266225  0.81468882 -0.28345445\n",
      "   0.88940541  1.45356371  1.73356417]\n",
      " [ 0.02195488 -0.0265234   0.51505153  1.08993904  0.96466835 -1.18552405\n",
      "  -0.35975949 -0.85939127 -1.20851601]\n",
      " [ 0.99772718  0.60893309  0.14976676  0.96066319 -0.59511878 -0.61824316\n",
      "  -0.9218837  -0.34540128  0.43225947]\n",
      " [ 2.30892121 -0.60672281  1.61090584  0.50101573  0.00479935 -0.73913909\n",
      "   0.26482296  0.16858872 -0.47299597]\n",
      " [-0.16100243 -0.91063679 -0.76344517 -0.07354359 -0.38514744  1.05570042\n",
      "   1.32661312  0.16858872 -0.69930983]\n",
      " [ 0.47934814  1.27201813  1.06297868  0.24246404 -0.26516381 -1.26922123\n",
      "   0.57711418 -0.80799227 -0.19010364]\n",
      " [-1.65515377 -0.80012261 -1.5853359  -1.0933864  -1.10504919  2.19956187\n",
      "  -0.79696721  1.35076571 -0.52957443]]\n"
     ]
    }
   ],
   "source": [
    "from sklearn import preprocessing\n",
    "sprotein=protein.drop(['Country'],axis=1)\n",
    "sprotein_scaled=preprocessing.scale(sprotein)\n",
    "print(sprotein_scaled)"
   ]
  },
  {
   "cell_type": "markdown",
   "metadata": {},
   "source": [
    "# Data Modeling"
   ]
  },
  {
   "cell_type": "code",
   "execution_count": 45,
   "metadata": {},
   "outputs": [],
   "source": [
    "from sklearn.cluster import KMeans"
   ]
  },
  {
   "cell_type": "code",
   "execution_count": 47,
   "metadata": {},
   "outputs": [
    {
     "data": {
      "text/plain": [
       "[-225.00000000000003,\n",
       " -139.5073704483181,\n",
       " -110.40242709032154,\n",
       " -90.41954159596905,\n",
       " -77.56089421277963]"
      ]
     },
     "execution_count": 47,
     "metadata": {},
     "output_type": "execute_result"
    }
   ],
   "source": [
    "NumberOfClusters = range(1,6)\n",
    "kmeans = [KMeans(n_clusters=i) for i in NumberOfClusters]\n",
    "score = [kmeans[i].fit(sprotein_scaled).score(sprotein_scaled) for i in range(len(kmeans))]\n",
    "score"
   ]
  },
  {
   "cell_type": "code",
   "execution_count": 48,
   "metadata": {},
   "outputs": [
    {
     "data": {
      "image/png": "[encoded data removed]",
      "text/plain": [
       "<Figure size 432x288 with 1 Axes>"
      ]
     },
     "metadata": {
      "needs_background": "light"
     },
     "output_type": "display_data"
    }
   ],
   "source": [
    "import matplotlib.pyplot as plt\n",
    "plt.plot(NumberOfClusters,score)\n",
    "plt.show()"
   ]
  },
  {
   "cell_type": "code",
   "execution_count": 49,
   "metadata": {},
   "outputs": [],
   "source": [
    "myKmeans=KMeans(algorithm=\"auto\",n_clusters=5,n_init=10,max_iter=200)"
   ]
  },
  {
   "cell_type": "code",
   "execution_count": 50,
   "metadata": {
    "scrolled": true
   },
   "outputs": [
    {
     "data": {
      "text/plain": [
       "KMeans(algorithm='auto', copy_x=True, init='k-means++', max_iter=200,\n",
       "       n_clusters=5, n_init=10, n_jobs=None, precompute_distances='auto',\n",
       "       random_state=None, tol=0.0001, verbose=0)"
      ]
     },
     "execution_count": 50,
     "metadata": {},
     "output_type": "execute_result"
    }
   ],
   "source": [
    "myKmeans.fit(sprotein_scaled)"
   ]
  },
  {
   "cell_type": "code",
   "execution_count": 51,
   "metadata": {},
   "outputs": [],
   "source": [
    "KMeans?"
   ]
  },
  {
   "cell_type": "markdown",
   "metadata": {},
   "source": [
    "# check model"
   ]
  },
  {
   "cell_type": "code",
   "execution_count": 52,
   "metadata": {
    "scrolled": true
   },
   "outputs": [
    {
     "name": "stdout",
     "output_type": "stream",
     "text": [
      "KMeans(algorithm='auto', copy_x=True, init='k-means++', max_iter=200,\n",
      "       n_clusters=5, n_init=10, n_jobs=None, precompute_distances='auto',\n",
      "       random_state=None, tol=0.0001, verbose=0)\n"
     ]
    }
   ],
   "source": [
    "print(myKmeans)"
   ]
  },
  {
   "cell_type": "markdown",
   "metadata": {},
   "source": [
    "# model predict"
   ]
  },
  {
   "cell_type": "code",
   "execution_count": 56,
   "metadata": {},
   "outputs": [
    {
     "data": {
      "text/html": [
       "<div>\n",
       "<style scoped>\n",
       "    .dataframe tbody tr th:only-of-type {\n",
       "        vertical-align: middle;\n",
       "    }\n",
       "\n",
       "    .dataframe tbody tr th {\n",
       "        vertical-align: top;\n",
       "    }\n",
       "\n",
       "    .dataframe thead th {\n",
       "        text-align: right;\n",
       "    }\n",
       "</style>\n",
       "<table border=\"1\" class=\"dataframe\">\n",
       "  <thead>\n",
       "    <tr style=\"text-align: right;\">\n",
       "      <th></th>\n",
       "      <th>RedMeat</th>\n",
       "      <th>WhiteMeat</th>\n",
       "      <th>Eggs</th>\n",
       "      <th>Milk</th>\n",
       "      <th>Fish</th>\n",
       "      <th>Cereals</th>\n",
       "      <th>Starch</th>\n",
       "      <th>Nuts</th>\n",
       "      <th>Fr&amp;Veg</th>\n",
       "    </tr>\n",
       "  </thead>\n",
       "  <tbody>\n",
       "    <tr>\n",
       "      <th>0</th>\n",
       "      <td>10.1</td>\n",
       "      <td>1.4</td>\n",
       "      <td>0.5</td>\n",
       "      <td>8.9</td>\n",
       "      <td>0.2</td>\n",
       "      <td>42.3</td>\n",
       "      <td>0.6</td>\n",
       "      <td>5.5</td>\n",
       "      <td>1.7</td>\n",
       "    </tr>\n",
       "    <tr>\n",
       "      <th>1</th>\n",
       "      <td>8.9</td>\n",
       "      <td>14.0</td>\n",
       "      <td>4.3</td>\n",
       "      <td>19.9</td>\n",
       "      <td>2.1</td>\n",
       "      <td>28.0</td>\n",
       "      <td>3.6</td>\n",
       "      <td>1.3</td>\n",
       "      <td>4.3</td>\n",
       "    </tr>\n",
       "    <tr>\n",
       "      <th>2</th>\n",
       "      <td>13.5</td>\n",
       "      <td>9.3</td>\n",
       "      <td>4.1</td>\n",
       "      <td>17.5</td>\n",
       "      <td>4.5</td>\n",
       "      <td>26.6</td>\n",
       "      <td>5.7</td>\n",
       "      <td>2.1</td>\n",
       "      <td>4.0</td>\n",
       "    </tr>\n",
       "    <tr>\n",
       "      <th>3</th>\n",
       "      <td>7.8</td>\n",
       "      <td>6.0</td>\n",
       "      <td>1.6</td>\n",
       "      <td>8.3</td>\n",
       "      <td>1.2</td>\n",
       "      <td>56.7</td>\n",
       "      <td>1.1</td>\n",
       "      <td>3.7</td>\n",
       "      <td>4.2</td>\n",
       "    </tr>\n",
       "    <tr>\n",
       "      <th>4</th>\n",
       "      <td>9.7</td>\n",
       "      <td>11.4</td>\n",
       "      <td>2.8</td>\n",
       "      <td>12.5</td>\n",
       "      <td>2.0</td>\n",
       "      <td>34.3</td>\n",
       "      <td>5.0</td>\n",
       "      <td>1.1</td>\n",
       "      <td>4.0</td>\n",
       "    </tr>\n",
       "  </tbody>\n",
       "</table>\n",
       "</div>"
      ],
      "text/plain": [
       "   RedMeat  WhiteMeat  Eggs  Milk  Fish  Cereals  Starch  Nuts  Fr&Veg\n",
       "0     10.1        1.4   0.5   8.9   0.2     42.3     0.6   5.5     1.7\n",
       "1      8.9       14.0   4.3  19.9   2.1     28.0     3.6   1.3     4.3\n",
       "2     13.5        9.3   4.1  17.5   4.5     26.6     5.7   2.1     4.0\n",
       "3      7.8        6.0   1.6   8.3   1.2     56.7     1.1   3.7     4.2\n",
       "4      9.7       11.4   2.8  12.5   2.0     34.3     5.0   1.1     4.0"
      ]
     },
     "execution_count": 56,
     "metadata": {},
     "output_type": "execute_result"
    }
   ],
   "source": [
    "sprotein.head()"
   ]
  },
  {
   "cell_type": "code",
   "execution_count": 53,
   "metadata": {
    "scrolled": true
   },
   "outputs": [
    {
     "name": "stdout",
     "output_type": "stream",
     "text": [
      "[0 2 2 0 4 1 2 1 2 0 0 2 0 2 1 4 3 0 3 1 2 2 0 2 0]\n"
     ]
    }
   ],
   "source": [
    "y_kmeans=myKmeans.predict(sprotein)\n",
    "print(y_kmeans)"
   ]
  },
  {
   "cell_type": "markdown",
   "metadata": {},
   "source": [
    "# output result"
   ]
  },
  {
   "cell_type": "code",
   "execution_count": 54,
   "metadata": {},
   "outputs": [
    {
     "name": "stdout",
     "output_type": "stream",
     "text": [
      "\n",
      "Cluster  0  :\n",
      "       Country  RedMeat  Fish  Fr&Veg\n",
      "0      Albania     10.1   0.2     1.7\n",
      "3     Bulgaria      7.8   1.2     4.2\n",
      "9       Greece     10.2   5.9     6.5\n",
      "10     Hungary      5.3   0.3     4.2\n",
      "12       Italy      9.0   3.4     6.7\n",
      "17     Romania      6.2   1.0     2.8\n",
      "22        USSR      9.3   3.0     2.9\n",
      "24  Yugoslavia      4.4   0.6     3.2\n",
      "\n",
      "Cluster  1  :\n",
      "    Country  RedMeat  Fish  Fr&Veg\n",
      "5   Denmark     10.6   9.9     2.4\n",
      "7   Finland      9.5   5.8     1.4\n",
      "14   Norway      9.4   9.7     2.7\n",
      "19   Sweden      9.9   7.5     2.0\n",
      "\n",
      "Cluster  2  :\n",
      "        Country  RedMeat  Fish  Fr&Veg\n",
      "1       Austria      8.9   2.1     4.3\n",
      "2       Belgium     13.5   4.5     4.0\n",
      "6     E Germany      8.4   5.4     3.6\n",
      "8        France     18.0   5.7     6.5\n",
      "11      Ireland     13.9   2.2     2.9\n",
      "13  Netherlands      9.5   2.5     3.7\n",
      "20  Switzerland     13.1   2.3     4.9\n",
      "21           UK     17.4   4.3     3.3\n",
      "23    W Germany     11.4   3.4     3.8\n",
      "\n",
      "Cluster  3  :\n",
      "     Country  RedMeat  Fish  Fr&Veg\n",
      "16  Portugal      6.2  14.2     7.9\n",
      "18     Spain      7.1   7.0     7.2\n",
      "\n",
      "Cluster  4  :\n",
      "           Country  RedMeat  Fish  Fr&Veg\n",
      "4   Czechoslovakia      9.7   2.0     4.0\n",
      "15          Poland      6.9   3.0     6.6\n"
     ]
    }
   ],
   "source": [
    "def print_kmcluster(k):\n",
    "    for i in range(k):\n",
    "        print('\\nCluster ',i,' :')\n",
    "        ls=[]\n",
    "        for index,value in enumerate(y_kmeans):\n",
    "            if i==value:\n",
    "                ls.append(index)\n",
    "        print(protein.loc[ls,['Country','RedMeat','Fish','Fr&Veg']])\n",
    "        \n",
    "print_kmcluster(5)"
   ]
  },
  {
   "cell_type": "code",
   "execution_count": null,
   "metadata": {},
   "outputs": [],
   "source": []
  }
 ],
 "metadata": {
  "kernelspec": {
   "display_name": "Python 3",
   "language": "python",
   "name": "python3"
  },
  "language_info": {
   "codemirror_mode": {
    "name": "ipython",
    "version": 3
   },
   "file_extension": ".py",
   "mimetype": "text/x-python",
   "name": "python",
   "nbconvert_exporter": "python",
   "pygments_lexer": "ipython3",
   "version": "3.7.6"
  }
 },
 "nbformat": 4,
 "nbformat_minor": 4
}
