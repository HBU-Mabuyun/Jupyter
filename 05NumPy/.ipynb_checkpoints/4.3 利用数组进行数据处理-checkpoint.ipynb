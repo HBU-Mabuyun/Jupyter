{
 "cells": [
  {
   "cell_type": "markdown",
   "metadata": {},
   "source": [
    "4.3 利用数组进行数据处理 https://www.jianshu.com/p/a380222a3292"
   ]
  },
  {
   "cell_type": "markdown",
   "metadata": {},
   "source": [
    "### NumPy（Numerical Python的简称）是Python数值计算最重要的基础包。大多数提供科学计算的包都是用NumPy的数组作为构建基础。"
   ]
  },
  {
   "cell_type": "code",
   "execution_count": 3,
   "metadata": {},
   "outputs": [],
   "source": [
    "import numpy as np\n",
    "points = np.arange(-5, 5, 0.01) # 1000 equally spaced points"
   ]
  },
  {
   "cell_type": "code",
   "execution_count": 4,
   "metadata": {
    "scrolled": true
   },
   "outputs": [
    {
     "data": {
      "text/plain": [
       "array([ -5.00000000e+00,  -4.99000000e+00,  -4.98000000e+00,\n",
       "        -4.97000000e+00,  -4.96000000e+00,  -4.95000000e+00,\n",
       "        -4.94000000e+00,  -4.93000000e+00,  -4.92000000e+00,\n",
       "        -4.91000000e+00,  -4.90000000e+00,  -4.89000000e+00,\n",
       "        -4.88000000e+00,  -4.87000000e+00,  -4.86000000e+00,\n",
       "        -4.85000000e+00,  -4.84000000e+00,  -4.83000000e+00,\n",
       "        -4.82000000e+00,  -4.81000000e+00,  -4.80000000e+00,\n",
       "        -4.79000000e+00,  -4.78000000e+00,  -4.77000000e+00,\n",
       "        -4.76000000e+00,  -4.75000000e+00,  -4.74000000e+00,\n",
       "        -4.73000000e+00,  -4.72000000e+00,  -4.71000000e+00,\n",
       "        -4.70000000e+00,  -4.69000000e+00,  -4.68000000e+00,\n",
       "        -4.67000000e+00,  -4.66000000e+00,  -4.65000000e+00,\n",
       "        -4.64000000e+00,  -4.63000000e+00,  -4.62000000e+00,\n",
       "        -4.61000000e+00,  -4.60000000e+00,  -4.59000000e+00,\n",
       "        -4.58000000e+00,  -4.57000000e+00,  -4.56000000e+00,\n",
       "        -4.55000000e+00,  -4.54000000e+00,  -4.53000000e+00,\n",
       "        -4.52000000e+00,  -4.51000000e+00,  -4.50000000e+00,\n",
       "        -4.49000000e+00,  -4.48000000e+00,  -4.47000000e+00,\n",
       "        -4.46000000e+00,  -4.45000000e+00,  -4.44000000e+00,\n",
       "        -4.43000000e+00,  -4.42000000e+00,  -4.41000000e+00,\n",
       "        -4.40000000e+00,  -4.39000000e+00,  -4.38000000e+00,\n",
       "        -4.37000000e+00,  -4.36000000e+00,  -4.35000000e+00,\n",
       "        -4.34000000e+00,  -4.33000000e+00,  -4.32000000e+00,\n",
       "        -4.31000000e+00,  -4.30000000e+00,  -4.29000000e+00,\n",
       "        -4.28000000e+00,  -4.27000000e+00,  -4.26000000e+00,\n",
       "        -4.25000000e+00,  -4.24000000e+00,  -4.23000000e+00,\n",
       "        -4.22000000e+00,  -4.21000000e+00,  -4.20000000e+00,\n",
       "        -4.19000000e+00,  -4.18000000e+00,  -4.17000000e+00,\n",
       "        -4.16000000e+00,  -4.15000000e+00,  -4.14000000e+00,\n",
       "        -4.13000000e+00,  -4.12000000e+00,  -4.11000000e+00,\n",
       "        -4.10000000e+00,  -4.09000000e+00,  -4.08000000e+00,\n",
       "        -4.07000000e+00,  -4.06000000e+00,  -4.05000000e+00,\n",
       "        -4.04000000e+00,  -4.03000000e+00,  -4.02000000e+00,\n",
       "        -4.01000000e+00,  -4.00000000e+00,  -3.99000000e+00,\n",
       "        -3.98000000e+00,  -3.97000000e+00,  -3.96000000e+00,\n",
       "        -3.95000000e+00,  -3.94000000e+00,  -3.93000000e+00,\n",
       "        -3.92000000e+00,  -3.91000000e+00,  -3.90000000e+00,\n",
       "        -3.89000000e+00,  -3.88000000e+00,  -3.87000000e+00,\n",
       "        -3.86000000e+00,  -3.85000000e+00,  -3.84000000e+00,\n",
       "        -3.83000000e+00,  -3.82000000e+00,  -3.81000000e+00,\n",
       "        -3.80000000e+00,  -3.79000000e+00,  -3.78000000e+00,\n",
       "        -3.77000000e+00,  -3.76000000e+00,  -3.75000000e+00,\n",
       "        -3.74000000e+00,  -3.73000000e+00,  -3.72000000e+00,\n",
       "        -3.71000000e+00,  -3.70000000e+00,  -3.69000000e+00,\n",
       "        -3.68000000e+00,  -3.67000000e+00,  -3.66000000e+00,\n",
       "        -3.65000000e+00,  -3.64000000e+00,  -3.63000000e+00,\n",
       "        -3.62000000e+00,  -3.61000000e+00,  -3.60000000e+00,\n",
       "        -3.59000000e+00,  -3.58000000e+00,  -3.57000000e+00,\n",
       "        -3.56000000e+00,  -3.55000000e+00,  -3.54000000e+00,\n",
       "        -3.53000000e+00,  -3.52000000e+00,  -3.51000000e+00,\n",
       "        -3.50000000e+00,  -3.49000000e+00,  -3.48000000e+00,\n",
       "        -3.47000000e+00,  -3.46000000e+00,  -3.45000000e+00,\n",
       "        -3.44000000e+00,  -3.43000000e+00,  -3.42000000e+00,\n",
       "        -3.41000000e+00,  -3.40000000e+00,  -3.39000000e+00,\n",
       "        -3.38000000e+00,  -3.37000000e+00,  -3.36000000e+00,\n",
       "        -3.35000000e+00,  -3.34000000e+00,  -3.33000000e+00,\n",
       "        -3.32000000e+00,  -3.31000000e+00,  -3.30000000e+00,\n",
       "        -3.29000000e+00,  -3.28000000e+00,  -3.27000000e+00,\n",
       "        -3.26000000e+00,  -3.25000000e+00,  -3.24000000e+00,\n",
       "        -3.23000000e+00,  -3.22000000e+00,  -3.21000000e+00,\n",
       "        -3.20000000e+00,  -3.19000000e+00,  -3.18000000e+00,\n",
       "        -3.17000000e+00,  -3.16000000e+00,  -3.15000000e+00,\n",
       "        -3.14000000e+00,  -3.13000000e+00,  -3.12000000e+00,\n",
       "        -3.11000000e+00,  -3.10000000e+00,  -3.09000000e+00,\n",
       "        -3.08000000e+00,  -3.07000000e+00,  -3.06000000e+00,\n",
       "        -3.05000000e+00,  -3.04000000e+00,  -3.03000000e+00,\n",
       "        -3.02000000e+00,  -3.01000000e+00,  -3.00000000e+00,\n",
       "        -2.99000000e+00,  -2.98000000e+00,  -2.97000000e+00,\n",
       "        -2.96000000e+00,  -2.95000000e+00,  -2.94000000e+00,\n",
       "        -2.93000000e+00,  -2.92000000e+00,  -2.91000000e+00,\n",
       "        -2.90000000e+00,  -2.89000000e+00,  -2.88000000e+00,\n",
       "        -2.87000000e+00,  -2.86000000e+00,  -2.85000000e+00,\n",
       "        -2.84000000e+00,  -2.83000000e+00,  -2.82000000e+00,\n",
       "        -2.81000000e+00,  -2.80000000e+00,  -2.79000000e+00,\n",
       "        -2.78000000e+00,  -2.77000000e+00,  -2.76000000e+00,\n",
       "        -2.75000000e+00,  -2.74000000e+00,  -2.73000000e+00,\n",
       "        -2.72000000e+00,  -2.71000000e+00,  -2.70000000e+00,\n",
       "        -2.69000000e+00,  -2.68000000e+00,  -2.67000000e+00,\n",
       "        -2.66000000e+00,  -2.65000000e+00,  -2.64000000e+00,\n",
       "        -2.63000000e+00,  -2.62000000e+00,  -2.61000000e+00,\n",
       "        -2.60000000e+00,  -2.59000000e+00,  -2.58000000e+00,\n",
       "        -2.57000000e+00,  -2.56000000e+00,  -2.55000000e+00,\n",
       "        -2.54000000e+00,  -2.53000000e+00,  -2.52000000e+00,\n",
       "        -2.51000000e+00,  -2.50000000e+00,  -2.49000000e+00,\n",
       "        -2.48000000e+00,  -2.47000000e+00,  -2.46000000e+00,\n",
       "        -2.45000000e+00,  -2.44000000e+00,  -2.43000000e+00,\n",
       "        -2.42000000e+00,  -2.41000000e+00,  -2.40000000e+00,\n",
       "        -2.39000000e+00,  -2.38000000e+00,  -2.37000000e+00,\n",
       "        -2.36000000e+00,  -2.35000000e+00,  -2.34000000e+00,\n",
       "        -2.33000000e+00,  -2.32000000e+00,  -2.31000000e+00,\n",
       "        -2.30000000e+00,  -2.29000000e+00,  -2.28000000e+00,\n",
       "        -2.27000000e+00,  -2.26000000e+00,  -2.25000000e+00,\n",
       "        -2.24000000e+00,  -2.23000000e+00,  -2.22000000e+00,\n",
       "        -2.21000000e+00,  -2.20000000e+00,  -2.19000000e+00,\n",
       "        -2.18000000e+00,  -2.17000000e+00,  -2.16000000e+00,\n",
       "        -2.15000000e+00,  -2.14000000e+00,  -2.13000000e+00,\n",
       "        -2.12000000e+00,  -2.11000000e+00,  -2.10000000e+00,\n",
       "        -2.09000000e+00,  -2.08000000e+00,  -2.07000000e+00,\n",
       "        -2.06000000e+00,  -2.05000000e+00,  -2.04000000e+00,\n",
       "        -2.03000000e+00,  -2.02000000e+00,  -2.01000000e+00,\n",
       "        -2.00000000e+00,  -1.99000000e+00,  -1.98000000e+00,\n",
       "        -1.97000000e+00,  -1.96000000e+00,  -1.95000000e+00,\n",
       "        -1.94000000e+00,  -1.93000000e+00,  -1.92000000e+00,\n",
       "        -1.91000000e+00,  -1.90000000e+00,  -1.89000000e+00,\n",
       "        -1.88000000e+00,  -1.87000000e+00,  -1.86000000e+00,\n",
       "        -1.85000000e+00,  -1.84000000e+00,  -1.83000000e+00,\n",
       "        -1.82000000e+00,  -1.81000000e+00,  -1.80000000e+00,\n",
       "        -1.79000000e+00,  -1.78000000e+00,  -1.77000000e+00,\n",
       "        -1.76000000e+00,  -1.75000000e+00,  -1.74000000e+00,\n",
       "        -1.73000000e+00,  -1.72000000e+00,  -1.71000000e+00,\n",
       "        -1.70000000e+00,  -1.69000000e+00,  -1.68000000e+00,\n",
       "        -1.67000000e+00,  -1.66000000e+00,  -1.65000000e+00,\n",
       "        -1.64000000e+00,  -1.63000000e+00,  -1.62000000e+00,\n",
       "        -1.61000000e+00,  -1.60000000e+00,  -1.59000000e+00,\n",
       "        -1.58000000e+00,  -1.57000000e+00,  -1.56000000e+00,\n",
       "        -1.55000000e+00,  -1.54000000e+00,  -1.53000000e+00,\n",
       "        -1.52000000e+00,  -1.51000000e+00,  -1.50000000e+00,\n",
       "        -1.49000000e+00,  -1.48000000e+00,  -1.47000000e+00,\n",
       "        -1.46000000e+00,  -1.45000000e+00,  -1.44000000e+00,\n",
       "        -1.43000000e+00,  -1.42000000e+00,  -1.41000000e+00,\n",
       "        -1.40000000e+00,  -1.39000000e+00,  -1.38000000e+00,\n",
       "        -1.37000000e+00,  -1.36000000e+00,  -1.35000000e+00,\n",
       "        -1.34000000e+00,  -1.33000000e+00,  -1.32000000e+00,\n",
       "        -1.31000000e+00,  -1.30000000e+00,  -1.29000000e+00,\n",
       "        -1.28000000e+00,  -1.27000000e+00,  -1.26000000e+00,\n",
       "        -1.25000000e+00,  -1.24000000e+00,  -1.23000000e+00,\n",
       "        -1.22000000e+00,  -1.21000000e+00,  -1.20000000e+00,\n",
       "        -1.19000000e+00,  -1.18000000e+00,  -1.17000000e+00,\n",
       "        -1.16000000e+00,  -1.15000000e+00,  -1.14000000e+00,\n",
       "        -1.13000000e+00,  -1.12000000e+00,  -1.11000000e+00,\n",
       "        -1.10000000e+00,  -1.09000000e+00,  -1.08000000e+00,\n",
       "        -1.07000000e+00,  -1.06000000e+00,  -1.05000000e+00,\n",
       "        -1.04000000e+00,  -1.03000000e+00,  -1.02000000e+00,\n",
       "        -1.01000000e+00,  -1.00000000e+00,  -9.90000000e-01,\n",
       "        -9.80000000e-01,  -9.70000000e-01,  -9.60000000e-01,\n",
       "        -9.50000000e-01,  -9.40000000e-01,  -9.30000000e-01,\n",
       "        -9.20000000e-01,  -9.10000000e-01,  -9.00000000e-01,\n",
       "        -8.90000000e-01,  -8.80000000e-01,  -8.70000000e-01,\n",
       "        -8.60000000e-01,  -8.50000000e-01,  -8.40000000e-01,\n",
       "        -8.30000000e-01,  -8.20000000e-01,  -8.10000000e-01,\n",
       "        -8.00000000e-01,  -7.90000000e-01,  -7.80000000e-01,\n",
       "        -7.70000000e-01,  -7.60000000e-01,  -7.50000000e-01,\n",
       "        -7.40000000e-01,  -7.30000000e-01,  -7.20000000e-01,\n",
       "        -7.10000000e-01,  -7.00000000e-01,  -6.90000000e-01,\n",
       "        -6.80000000e-01,  -6.70000000e-01,  -6.60000000e-01,\n",
       "        -6.50000000e-01,  -6.40000000e-01,  -6.30000000e-01,\n",
       "        -6.20000000e-01,  -6.10000000e-01,  -6.00000000e-01,\n",
       "        -5.90000000e-01,  -5.80000000e-01,  -5.70000000e-01,\n",
       "        -5.60000000e-01,  -5.50000000e-01,  -5.40000000e-01,\n",
       "        -5.30000000e-01,  -5.20000000e-01,  -5.10000000e-01,\n",
       "        -5.00000000e-01,  -4.90000000e-01,  -4.80000000e-01,\n",
       "        -4.70000000e-01,  -4.60000000e-01,  -4.50000000e-01,\n",
       "        -4.40000000e-01,  -4.30000000e-01,  -4.20000000e-01,\n",
       "        -4.10000000e-01,  -4.00000000e-01,  -3.90000000e-01,\n",
       "        -3.80000000e-01,  -3.70000000e-01,  -3.60000000e-01,\n",
       "        -3.50000000e-01,  -3.40000000e-01,  -3.30000000e-01,\n",
       "        -3.20000000e-01,  -3.10000000e-01,  -3.00000000e-01,\n",
       "        -2.90000000e-01,  -2.80000000e-01,  -2.70000000e-01,\n",
       "        -2.60000000e-01,  -2.50000000e-01,  -2.40000000e-01,\n",
       "        -2.30000000e-01,  -2.20000000e-01,  -2.10000000e-01,\n",
       "        -2.00000000e-01,  -1.90000000e-01,  -1.80000000e-01,\n",
       "        -1.70000000e-01,  -1.60000000e-01,  -1.50000000e-01,\n",
       "        -1.40000000e-01,  -1.30000000e-01,  -1.20000000e-01,\n",
       "        -1.10000000e-01,  -1.00000000e-01,  -9.00000000e-02,\n",
       "        -8.00000000e-02,  -7.00000000e-02,  -6.00000000e-02,\n",
       "        -5.00000000e-02,  -4.00000000e-02,  -3.00000000e-02,\n",
       "        -2.00000000e-02,  -1.00000000e-02,  -1.06581410e-13,\n",
       "         1.00000000e-02,   2.00000000e-02,   3.00000000e-02,\n",
       "         4.00000000e-02,   5.00000000e-02,   6.00000000e-02,\n",
       "         7.00000000e-02,   8.00000000e-02,   9.00000000e-02,\n",
       "         1.00000000e-01,   1.10000000e-01,   1.20000000e-01,\n",
       "         1.30000000e-01,   1.40000000e-01,   1.50000000e-01,\n",
       "         1.60000000e-01,   1.70000000e-01,   1.80000000e-01,\n",
       "         1.90000000e-01,   2.00000000e-01,   2.10000000e-01,\n",
       "         2.20000000e-01,   2.30000000e-01,   2.40000000e-01,\n",
       "         2.50000000e-01,   2.60000000e-01,   2.70000000e-01,\n",
       "         2.80000000e-01,   2.90000000e-01,   3.00000000e-01,\n",
       "         3.10000000e-01,   3.20000000e-01,   3.30000000e-01,\n",
       "         3.40000000e-01,   3.50000000e-01,   3.60000000e-01,\n",
       "         3.70000000e-01,   3.80000000e-01,   3.90000000e-01,\n",
       "         4.00000000e-01,   4.10000000e-01,   4.20000000e-01,\n",
       "         4.30000000e-01,   4.40000000e-01,   4.50000000e-01,\n",
       "         4.60000000e-01,   4.70000000e-01,   4.80000000e-01,\n",
       "         4.90000000e-01,   5.00000000e-01,   5.10000000e-01,\n",
       "         5.20000000e-01,   5.30000000e-01,   5.40000000e-01,\n",
       "         5.50000000e-01,   5.60000000e-01,   5.70000000e-01,\n",
       "         5.80000000e-01,   5.90000000e-01,   6.00000000e-01,\n",
       "         6.10000000e-01,   6.20000000e-01,   6.30000000e-01,\n",
       "         6.40000000e-01,   6.50000000e-01,   6.60000000e-01,\n",
       "         6.70000000e-01,   6.80000000e-01,   6.90000000e-01,\n",
       "         7.00000000e-01,   7.10000000e-01,   7.20000000e-01,\n",
       "         7.30000000e-01,   7.40000000e-01,   7.50000000e-01,\n",
       "         7.60000000e-01,   7.70000000e-01,   7.80000000e-01,\n",
       "         7.90000000e-01,   8.00000000e-01,   8.10000000e-01,\n",
       "         8.20000000e-01,   8.30000000e-01,   8.40000000e-01,\n",
       "         8.50000000e-01,   8.60000000e-01,   8.70000000e-01,\n",
       "         8.80000000e-01,   8.90000000e-01,   9.00000000e-01,\n",
       "         9.10000000e-01,   9.20000000e-01,   9.30000000e-01,\n",
       "         9.40000000e-01,   9.50000000e-01,   9.60000000e-01,\n",
       "         9.70000000e-01,   9.80000000e-01,   9.90000000e-01,\n",
       "         1.00000000e+00,   1.01000000e+00,   1.02000000e+00,\n",
       "         1.03000000e+00,   1.04000000e+00,   1.05000000e+00,\n",
       "         1.06000000e+00,   1.07000000e+00,   1.08000000e+00,\n",
       "         1.09000000e+00,   1.10000000e+00,   1.11000000e+00,\n",
       "         1.12000000e+00,   1.13000000e+00,   1.14000000e+00,\n",
       "         1.15000000e+00,   1.16000000e+00,   1.17000000e+00,\n",
       "         1.18000000e+00,   1.19000000e+00,   1.20000000e+00,\n",
       "         1.21000000e+00,   1.22000000e+00,   1.23000000e+00,\n",
       "         1.24000000e+00,   1.25000000e+00,   1.26000000e+00,\n",
       "         1.27000000e+00,   1.28000000e+00,   1.29000000e+00,\n",
       "         1.30000000e+00,   1.31000000e+00,   1.32000000e+00,\n",
       "         1.33000000e+00,   1.34000000e+00,   1.35000000e+00,\n",
       "         1.36000000e+00,   1.37000000e+00,   1.38000000e+00,\n",
       "         1.39000000e+00,   1.40000000e+00,   1.41000000e+00,\n",
       "         1.42000000e+00,   1.43000000e+00,   1.44000000e+00,\n",
       "         1.45000000e+00,   1.46000000e+00,   1.47000000e+00,\n",
       "         1.48000000e+00,   1.49000000e+00,   1.50000000e+00,\n",
       "         1.51000000e+00,   1.52000000e+00,   1.53000000e+00,\n",
       "         1.54000000e+00,   1.55000000e+00,   1.56000000e+00,\n",
       "         1.57000000e+00,   1.58000000e+00,   1.59000000e+00,\n",
       "         1.60000000e+00,   1.61000000e+00,   1.62000000e+00,\n",
       "         1.63000000e+00,   1.64000000e+00,   1.65000000e+00,\n",
       "         1.66000000e+00,   1.67000000e+00,   1.68000000e+00,\n",
       "         1.69000000e+00,   1.70000000e+00,   1.71000000e+00,\n",
       "         1.72000000e+00,   1.73000000e+00,   1.74000000e+00,\n",
       "         1.75000000e+00,   1.76000000e+00,   1.77000000e+00,\n",
       "         1.78000000e+00,   1.79000000e+00,   1.80000000e+00,\n",
       "         1.81000000e+00,   1.82000000e+00,   1.83000000e+00,\n",
       "         1.84000000e+00,   1.85000000e+00,   1.86000000e+00,\n",
       "         1.87000000e+00,   1.88000000e+00,   1.89000000e+00,\n",
       "         1.90000000e+00,   1.91000000e+00,   1.92000000e+00,\n",
       "         1.93000000e+00,   1.94000000e+00,   1.95000000e+00,\n",
       "         1.96000000e+00,   1.97000000e+00,   1.98000000e+00,\n",
       "         1.99000000e+00,   2.00000000e+00,   2.01000000e+00,\n",
       "         2.02000000e+00,   2.03000000e+00,   2.04000000e+00,\n",
       "         2.05000000e+00,   2.06000000e+00,   2.07000000e+00,\n",
       "         2.08000000e+00,   2.09000000e+00,   2.10000000e+00,\n",
       "         2.11000000e+00,   2.12000000e+00,   2.13000000e+00,\n",
       "         2.14000000e+00,   2.15000000e+00,   2.16000000e+00,\n",
       "         2.17000000e+00,   2.18000000e+00,   2.19000000e+00,\n",
       "         2.20000000e+00,   2.21000000e+00,   2.22000000e+00,\n",
       "         2.23000000e+00,   2.24000000e+00,   2.25000000e+00,\n",
       "         2.26000000e+00,   2.27000000e+00,   2.28000000e+00,\n",
       "         2.29000000e+00,   2.30000000e+00,   2.31000000e+00,\n",
       "         2.32000000e+00,   2.33000000e+00,   2.34000000e+00,\n",
       "         2.35000000e+00,   2.36000000e+00,   2.37000000e+00,\n",
       "         2.38000000e+00,   2.39000000e+00,   2.40000000e+00,\n",
       "         2.41000000e+00,   2.42000000e+00,   2.43000000e+00,\n",
       "         2.44000000e+00,   2.45000000e+00,   2.46000000e+00,\n",
       "         2.47000000e+00,   2.48000000e+00,   2.49000000e+00,\n",
       "         2.50000000e+00,   2.51000000e+00,   2.52000000e+00,\n",
       "         2.53000000e+00,   2.54000000e+00,   2.55000000e+00,\n",
       "         2.56000000e+00,   2.57000000e+00,   2.58000000e+00,\n",
       "         2.59000000e+00,   2.60000000e+00,   2.61000000e+00,\n",
       "         2.62000000e+00,   2.63000000e+00,   2.64000000e+00,\n",
       "         2.65000000e+00,   2.66000000e+00,   2.67000000e+00,\n",
       "         2.68000000e+00,   2.69000000e+00,   2.70000000e+00,\n",
       "         2.71000000e+00,   2.72000000e+00,   2.73000000e+00,\n",
       "         2.74000000e+00,   2.75000000e+00,   2.76000000e+00,\n",
       "         2.77000000e+00,   2.78000000e+00,   2.79000000e+00,\n",
       "         2.80000000e+00,   2.81000000e+00,   2.82000000e+00,\n",
       "         2.83000000e+00,   2.84000000e+00,   2.85000000e+00,\n",
       "         2.86000000e+00,   2.87000000e+00,   2.88000000e+00,\n",
       "         2.89000000e+00,   2.90000000e+00,   2.91000000e+00,\n",
       "         2.92000000e+00,   2.93000000e+00,   2.94000000e+00,\n",
       "         2.95000000e+00,   2.96000000e+00,   2.97000000e+00,\n",
       "         2.98000000e+00,   2.99000000e+00,   3.00000000e+00,\n",
       "         3.01000000e+00,   3.02000000e+00,   3.03000000e+00,\n",
       "         3.04000000e+00,   3.05000000e+00,   3.06000000e+00,\n",
       "         3.07000000e+00,   3.08000000e+00,   3.09000000e+00,\n",
       "         3.10000000e+00,   3.11000000e+00,   3.12000000e+00,\n",
       "         3.13000000e+00,   3.14000000e+00,   3.15000000e+00,\n",
       "         3.16000000e+00,   3.17000000e+00,   3.18000000e+00,\n",
       "         3.19000000e+00,   3.20000000e+00,   3.21000000e+00,\n",
       "         3.22000000e+00,   3.23000000e+00,   3.24000000e+00,\n",
       "         3.25000000e+00,   3.26000000e+00,   3.27000000e+00,\n",
       "         3.28000000e+00,   3.29000000e+00,   3.30000000e+00,\n",
       "         3.31000000e+00,   3.32000000e+00,   3.33000000e+00,\n",
       "         3.34000000e+00,   3.35000000e+00,   3.36000000e+00,\n",
       "         3.37000000e+00,   3.38000000e+00,   3.39000000e+00,\n",
       "         3.40000000e+00,   3.41000000e+00,   3.42000000e+00,\n",
       "         3.43000000e+00,   3.44000000e+00,   3.45000000e+00,\n",
       "         3.46000000e+00,   3.47000000e+00,   3.48000000e+00,\n",
       "         3.49000000e+00,   3.50000000e+00,   3.51000000e+00,\n",
       "         3.52000000e+00,   3.53000000e+00,   3.54000000e+00,\n",
       "         3.55000000e+00,   3.56000000e+00,   3.57000000e+00,\n",
       "         3.58000000e+00,   3.59000000e+00,   3.60000000e+00,\n",
       "         3.61000000e+00,   3.62000000e+00,   3.63000000e+00,\n",
       "         3.64000000e+00,   3.65000000e+00,   3.66000000e+00,\n",
       "         3.67000000e+00,   3.68000000e+00,   3.69000000e+00,\n",
       "         3.70000000e+00,   3.71000000e+00,   3.72000000e+00,\n",
       "         3.73000000e+00,   3.74000000e+00,   3.75000000e+00,\n",
       "         3.76000000e+00,   3.77000000e+00,   3.78000000e+00,\n",
       "         3.79000000e+00,   3.80000000e+00,   3.81000000e+00,\n",
       "         3.82000000e+00,   3.83000000e+00,   3.84000000e+00,\n",
       "         3.85000000e+00,   3.86000000e+00,   3.87000000e+00,\n",
       "         3.88000000e+00,   3.89000000e+00,   3.90000000e+00,\n",
       "         3.91000000e+00,   3.92000000e+00,   3.93000000e+00,\n",
       "         3.94000000e+00,   3.95000000e+00,   3.96000000e+00,\n",
       "         3.97000000e+00,   3.98000000e+00,   3.99000000e+00,\n",
       "         4.00000000e+00,   4.01000000e+00,   4.02000000e+00,\n",
       "         4.03000000e+00,   4.04000000e+00,   4.05000000e+00,\n",
       "         4.06000000e+00,   4.07000000e+00,   4.08000000e+00,\n",
       "         4.09000000e+00,   4.10000000e+00,   4.11000000e+00,\n",
       "         4.12000000e+00,   4.13000000e+00,   4.14000000e+00,\n",
       "         4.15000000e+00,   4.16000000e+00,   4.17000000e+00,\n",
       "         4.18000000e+00,   4.19000000e+00,   4.20000000e+00,\n",
       "         4.21000000e+00,   4.22000000e+00,   4.23000000e+00,\n",
       "         4.24000000e+00,   4.25000000e+00,   4.26000000e+00,\n",
       "         4.27000000e+00,   4.28000000e+00,   4.29000000e+00,\n",
       "         4.30000000e+00,   4.31000000e+00,   4.32000000e+00,\n",
       "         4.33000000e+00,   4.34000000e+00,   4.35000000e+00,\n",
       "         4.36000000e+00,   4.37000000e+00,   4.38000000e+00,\n",
       "         4.39000000e+00,   4.40000000e+00,   4.41000000e+00,\n",
       "         4.42000000e+00,   4.43000000e+00,   4.44000000e+00,\n",
       "         4.45000000e+00,   4.46000000e+00,   4.47000000e+00,\n",
       "         4.48000000e+00,   4.49000000e+00,   4.50000000e+00,\n",
       "         4.51000000e+00,   4.52000000e+00,   4.53000000e+00,\n",
       "         4.54000000e+00,   4.55000000e+00,   4.56000000e+00,\n",
       "         4.57000000e+00,   4.58000000e+00,   4.59000000e+00,\n",
       "         4.60000000e+00,   4.61000000e+00,   4.62000000e+00,\n",
       "         4.63000000e+00,   4.64000000e+00,   4.65000000e+00,\n",
       "         4.66000000e+00,   4.67000000e+00,   4.68000000e+00,\n",
       "         4.69000000e+00,   4.70000000e+00,   4.71000000e+00,\n",
       "         4.72000000e+00,   4.73000000e+00,   4.74000000e+00,\n",
       "         4.75000000e+00,   4.76000000e+00,   4.77000000e+00,\n",
       "         4.78000000e+00,   4.79000000e+00,   4.80000000e+00,\n",
       "         4.81000000e+00,   4.82000000e+00,   4.83000000e+00,\n",
       "         4.84000000e+00,   4.85000000e+00,   4.86000000e+00,\n",
       "         4.87000000e+00,   4.88000000e+00,   4.89000000e+00,\n",
       "         4.90000000e+00,   4.91000000e+00,   4.92000000e+00,\n",
       "         4.93000000e+00,   4.94000000e+00,   4.95000000e+00,\n",
       "         4.96000000e+00,   4.97000000e+00,   4.98000000e+00,\n",
       "         4.99000000e+00])"
      ]
     },
     "execution_count": 4,
     "metadata": {},
     "output_type": "execute_result"
    }
   ],
   "source": [
    "points"
   ]
  },
  {
   "cell_type": "code",
   "execution_count": 5,
   "metadata": {},
   "outputs": [],
   "source": [
    "xs, ys = np.meshgrid(points, points)"
   ]
  },
  {
   "cell_type": "code",
   "execution_count": 6,
   "metadata": {},
   "outputs": [
    {
     "data": {
      "text/plain": [
       "array([[-5.  , -5.  , -5.  , ..., -5.  , -5.  , -5.  ],\n",
       "       [-4.99, -4.99, -4.99, ..., -4.99, -4.99, -4.99],\n",
       "       [-4.98, -4.98, -4.98, ..., -4.98, -4.98, -4.98],\n",
       "       ..., \n",
       "       [ 4.97,  4.97,  4.97, ...,  4.97,  4.97,  4.97],\n",
       "       [ 4.98,  4.98,  4.98, ...,  4.98,  4.98,  4.98],\n",
       "       [ 4.99,  4.99,  4.99, ...,  4.99,  4.99,  4.99]])"
      ]
     },
     "execution_count": 6,
     "metadata": {},
     "output_type": "execute_result"
    }
   ],
   "source": [
    "ys"
   ]
  },
  {
   "cell_type": "code",
   "execution_count": 7,
   "metadata": {},
   "outputs": [
    {
     "data": {
      "image/png": "[encoded data removed]",
      "text/plain": [
       "<matplotlib.figure.Figure at 0x1ffd30cdeb8>"
      ]
     },
     "metadata": {},
     "output_type": "display_data"
    }
   ],
   "source": [
    "import matplotlib.pyplot as plt #https://zhuanlan.zhihu.com/p/29663486\n",
    "%matplotlib inline\n",
    "m, n = (5, 3)\n",
    "x = np.linspace(0, 1, m)\n",
    "y = np.linspace(0, 1, n)\n",
    "X, Y = np.meshgrid(x,y)\n",
    "plt.plot(X, Y, marker='.', color='blue', linestyle='none')\n",
    "plt.show()"
   ]
  },
  {
   "cell_type": "code",
   "execution_count": 10,
   "metadata": {},
   "outputs": [
    {
     "data": {
      "text/plain": [
       "<matplotlib.colorbar.Colorbar at 0x1ffd56f9d30>"
      ]
     },
     "execution_count": 10,
     "metadata": {},
     "output_type": "execute_result"
    },
    {
     "data": {
      "image/png": "[encoded data removed]",
      "text/plain": [
       "<matplotlib.figure.Figure at 0x1ffd56a0240>"
      ]
     },
     "metadata": {},
     "output_type": "display_data"
    }
   ],
   "source": [
    "z = np.sqrt(xs ** 2 + ys ** 2)\n",
    "plt.imshow(z, cmap=plt.cm.gray)\n",
    "plt.colorbar()"
   ]
  },
  {
   "cell_type": "code",
   "execution_count": 11,
   "metadata": {},
   "outputs": [
    {
     "data": {
      "text/plain": [
       "array([[ 7.07106781,  7.06400028,  7.05693985, ...,  7.04988652,\n",
       "         7.05693985,  7.06400028],\n",
       "       [ 7.06400028,  7.05692568,  7.04985815, ...,  7.04279774,\n",
       "         7.04985815,  7.05692568],\n",
       "       [ 7.05693985,  7.04985815,  7.04278354, ...,  7.03571603,\n",
       "         7.04278354,  7.04985815],\n",
       "       ..., \n",
       "       [ 7.04988652,  7.04279774,  7.03571603, ...,  7.0286414 ,\n",
       "         7.03571603,  7.04279774],\n",
       "       [ 7.05693985,  7.04985815,  7.04278354, ...,  7.03571603,\n",
       "         7.04278354,  7.04985815],\n",
       "       [ 7.06400028,  7.05692568,  7.04985815, ...,  7.04279774,\n",
       "         7.04985815,  7.05692568]])"
      ]
     },
     "execution_count": 11,
     "metadata": {},
     "output_type": "execute_result"
    }
   ],
   "source": [
    "z"
   ]
  },
  {
   "cell_type": "code",
   "execution_count": 12,
   "metadata": {},
   "outputs": [
    {
     "data": {
      "text/plain": [
       "<matplotlib.text.Text at 0x1ffd47e06d8>"
      ]
     },
     "execution_count": 12,
     "metadata": {},
     "output_type": "execute_result"
    },
    {
     "data": {
      "image/png": "[encoded data removed]",
      "text/plain": [
       "<matplotlib.figure.Figure at 0x1ffd56caf60>"
      ]
     },
     "metadata": {},
     "output_type": "display_data"
    }
   ],
   "source": [
    " plt.title(\"Image plot of $\\sqrt{x^2 + y^2}$ for a grid of values\")"
   ]
  },
  {
   "cell_type": "code",
   "execution_count": 13,
   "metadata": {},
   "outputs": [
    {
     "data": {
      "text/plain": [
       "<matplotlib.colorbar.Colorbar at 0x1ffcfe4e940>"
      ]
     },
     "execution_count": 13,
     "metadata": {},
     "output_type": "execute_result"
    },
    {
     "data": {
      "image/png": "[encoded data removed]",
      "text/plain": [
       "<matplotlib.figure.Figure at 0x1ffd4798940>"
      ]
     },
     "metadata": {},
     "output_type": "display_data"
    }
   ],
   "source": [
    "plt.title(\"Image plot of $\\sqrt{x^2 + y^2}$ for a grid of values\")\n",
    "plt.imshow(z, cmap=plt.cm.gray)\n",
    "plt.colorbar()"
   ]
  },
  {
   "cell_type": "markdown",
   "metadata": {},
   "source": [
    "# 将条件逻辑表述为数组运算"
   ]
  },
  {
   "cell_type": "code",
   "execution_count": 14,
   "metadata": {},
   "outputs": [],
   "source": [
    "xarr = np.array([1.1, 1.2, 1.3, 1.4, 1.5])\n",
    "\n",
    "yarr = np.array([2.1, 2.2, 2.3, 2.4, 2.5])\n",
    "\n",
    "cond = np.array([True, False, True, True, False])\n"
   ]
  },
  {
   "cell_type": "code",
   "execution_count": 15,
   "metadata": {},
   "outputs": [],
   "source": [
    "result = [(x if c else y)\n",
    "    for x, y, c in zip(xarr, yarr, cond)]"
   ]
  },
  {
   "cell_type": "code",
   "execution_count": 16,
   "metadata": {},
   "outputs": [
    {
     "data": {
      "text/plain": [
       "[1.1000000000000001, 2.2000000000000002, 1.3, 1.3999999999999999, 2.5]"
      ]
     },
     "execution_count": 16,
     "metadata": {},
     "output_type": "execute_result"
    }
   ],
   "source": [
    "result"
   ]
  },
  {
   "cell_type": "code",
   "execution_count": 17,
   "metadata": {},
   "outputs": [],
   "source": [
    "result = np.where(cond, xarr, yarr)"
   ]
  },
  {
   "cell_type": "code",
   "execution_count": 18,
   "metadata": {},
   "outputs": [
    {
     "data": {
      "text/plain": [
       "array([ 1.1,  2.2,  1.3,  1.4,  2.5])"
      ]
     },
     "execution_count": 18,
     "metadata": {},
     "output_type": "execute_result"
    }
   ],
   "source": [
    "result"
   ]
  },
  {
   "cell_type": "markdown",
   "metadata": {},
   "source": [
    "----------------"
   ]
  },
  {
   "cell_type": "code",
   "execution_count": 19,
   "metadata": {},
   "outputs": [
    {
     "data": {
      "text/plain": [
       "array([[-0.16603677, -0.98735174, -1.33442997, -2.00869548],\n",
       "       [-0.72055152,  0.19223337, -0.24329424, -0.11974288],\n",
       "       [-1.55748626,  0.54988153,  2.03927829, -2.25001298],\n",
       "       [ 0.86322672,  0.14372833, -1.31774637, -0.35052966]])"
      ]
     },
     "execution_count": 19,
     "metadata": {},
     "output_type": "execute_result"
    }
   ],
   "source": [
    "arr = np.random.randn(4, 4)\n",
    "arr"
   ]
  },
  {
   "cell_type": "code",
   "execution_count": 20,
   "metadata": {},
   "outputs": [
    {
     "data": {
      "text/plain": [
       "array([[False, False, False, False],\n",
       "       [False,  True, False, False],\n",
       "       [False,  True,  True, False],\n",
       "       [ True,  True, False, False]], dtype=bool)"
      ]
     },
     "execution_count": 20,
     "metadata": {},
     "output_type": "execute_result"
    }
   ],
   "source": [
    "arr > 0"
   ]
  },
  {
   "cell_type": "code",
   "execution_count": 21,
   "metadata": {},
   "outputs": [
    {
     "data": {
      "text/plain": [
       "array([[-2, -2, -2, -2],\n",
       "       [-2,  2, -2, -2],\n",
       "       [-2,  2,  2, -2],\n",
       "       [ 2,  2, -2, -2]])"
      ]
     },
     "execution_count": 21,
     "metadata": {},
     "output_type": "execute_result"
    }
   ],
   "source": [
    "np.where(arr > 0, 2, -2)"
   ]
  },
  {
   "cell_type": "code",
   "execution_count": 22,
   "metadata": {},
   "outputs": [
    {
     "data": {
      "text/plain": [
       "array([[-0.16603677, -0.98735174, -1.33442997, -2.00869548],\n",
       "       [-0.72055152,  2.        , -0.24329424, -0.11974288],\n",
       "       [-1.55748626,  2.        ,  2.        , -2.25001298],\n",
       "       [ 2.        ,  2.        , -1.31774637, -0.35052966]])"
      ]
     },
     "execution_count": 22,
     "metadata": {},
     "output_type": "execute_result"
    }
   ],
   "source": [
    "np.where(arr > 0, 2, arr) # set only positive values to 2"
   ]
  },
  {
   "cell_type": "markdown",
   "metadata": {},
   "source": [
    "# 数学和统计方法"
   ]
  },
  {
   "cell_type": "code",
   "execution_count": 23,
   "metadata": {},
   "outputs": [
    {
     "data": {
      "text/plain": [
       "array([[ 0.37382371,  0.31621845,  0.65040845,  0.26423565],\n",
       "       [-1.01919772,  0.31719635,  0.49819745,  0.65249665],\n",
       "       [-0.85836941,  0.46533733, -0.33476073,  1.94983348],\n",
       "       [ 0.15805101,  0.97334516, -0.83340765, -0.77362679],\n",
       "       [ 0.27211572, -0.71832341,  2.64037631,  1.03135476]])"
      ]
     },
     "execution_count": 23,
     "metadata": {},
     "output_type": "execute_result"
    }
   ],
   "source": [
    "arr = np.random.randn(5, 4)\n",
    "arr"
   ]
  },
  {
   "cell_type": "code",
   "execution_count": 24,
   "metadata": {},
   "outputs": [
    {
     "data": {
      "text/plain": [
       "0.30126523830479829"
      ]
     },
     "execution_count": 24,
     "metadata": {},
     "output_type": "execute_result"
    }
   ],
   "source": [
    "arr.mean()"
   ]
  },
  {
   "cell_type": "code",
   "execution_count": 25,
   "metadata": {},
   "outputs": [
    {
     "data": {
      "text/plain": [
       "0.30126523830479829"
      ]
     },
     "execution_count": 25,
     "metadata": {},
     "output_type": "execute_result"
    }
   ],
   "source": [
    "np.mean(arr)"
   ]
  },
  {
   "cell_type": "code",
   "execution_count": 26,
   "metadata": {},
   "outputs": [
    {
     "data": {
      "text/plain": [
       "6.0253047660959655"
      ]
     },
     "execution_count": 26,
     "metadata": {},
     "output_type": "execute_result"
    }
   ],
   "source": [
    "arr.sum()"
   ]
  },
  {
   "cell_type": "code",
   "execution_count": 29,
   "metadata": {},
   "outputs": [
    {
     "data": {
      "text/plain": [
       "array([ 0.40117157,  0.11217318,  0.30551016, -0.11890957,  0.80638085])"
      ]
     },
     "execution_count": 29,
     "metadata": {},
     "output_type": "execute_result"
    }
   ],
   "source": [
    "arr.mean(axis=1)#arr.mean(1)是“计算行的平均值”"
   ]
  },
  {
   "cell_type": "code",
   "execution_count": 30,
   "metadata": {},
   "outputs": [
    {
     "data": {
      "text/plain": [
       "array([-1.07357669,  1.35377388,  2.62081384,  3.12429375])"
      ]
     },
     "execution_count": 30,
     "metadata": {},
     "output_type": "execute_result"
    }
   ],
   "source": [
    "arr.sum(axis=0)#arr.sum(0)是“计算每列的和”"
   ]
  },
  {
   "cell_type": "code",
   "execution_count": 31,
   "metadata": {},
   "outputs": [
    {
     "data": {
      "text/plain": [
       "array([0, 1, 2, 3, 4, 5, 6, 7])"
      ]
     },
     "execution_count": 31,
     "metadata": {},
     "output_type": "execute_result"
    }
   ],
   "source": [
    "arr = np.array([0, 1, 2, 3, 4, 5, 6, 7])\n",
    "arr"
   ]
  },
  {
   "cell_type": "code",
   "execution_count": 33,
   "metadata": {},
   "outputs": [
    {
     "data": {
      "text/plain": [
       "array([ 0,  1,  3,  6, 10, 15, 21, 28], dtype=int32)"
      ]
     },
     "execution_count": 33,
     "metadata": {},
     "output_type": "execute_result"
    }
   ],
   "source": [
    "arr.cumsum()#累加函数"
   ]
  },
  {
   "cell_type": "code",
   "execution_count": 34,
   "metadata": {},
   "outputs": [
    {
     "data": {
      "text/plain": [
       "array([[0, 1, 2],\n",
       "       [3, 4, 5],\n",
       "       [6, 7, 8]])"
      ]
     },
     "execution_count": 34,
     "metadata": {},
     "output_type": "execute_result"
    }
   ],
   "source": [
    "arr = np.array([[0, 1, 2], [3, 4, 5], [6, 7, 8]])\n",
    "arr"
   ]
  },
  {
   "cell_type": "code",
   "execution_count": 35,
   "metadata": {},
   "outputs": [
    {
     "data": {
      "text/plain": [
       "array([[ 0,  1,  2],\n",
       "       [ 3,  5,  7],\n",
       "       [ 9, 12, 15]], dtype=int32)"
      ]
     },
     "execution_count": 35,
     "metadata": {},
     "output_type": "execute_result"
    }
   ],
   "source": [
    "arr.cumsum(axis=0)# 累积和"
   ]
  },
  {
   "cell_type": "code",
   "execution_count": 36,
   "metadata": {},
   "outputs": [
    {
     "data": {
      "text/plain": [
       "array([[  0,   0,   0],\n",
       "       [  3,  12,  60],\n",
       "       [  6,  42, 336]], dtype=int32)"
      ]
     },
     "execution_count": 36,
     "metadata": {},
     "output_type": "execute_result"
    }
   ],
   "source": [
    " arr.cumprod(axis=1)# 累计积"
   ]
  },
  {
   "cell_type": "markdown",
   "metadata": {},
   "source": [
    "- arr = np.array([1,2,3], dtype=np.float64)\n",
    "- np.zeros((3,6))  np.empty((2,3,2)) np.arange(15)\n",
    "- arr.dtype arr.ndim arr.shape\n",
    "- arr.astype(np.int32) #np.float64 np.string_ np.unicode_\n",
    "- arr * arr arr - arr 1/arr\n",
    "- arr= np.arange(32).reshape((8,4))\n",
    "- arr[1:3, : ]  #正常切片\n",
    "- arr[[1,2,3]]  #花式索引\n",
    "- arr.T   arr.transpose((...))   arr.swapaxes(...) #转置\n",
    "- arr.dot #矩阵内积\n",
    "- np.sqrt(arr)   np.exp(arr)    randn(8)＃正态分布值   np.maximum(x,y)\n",
    "- np.where(cond, xarr, yarr)  ＃当cond为真，取xarr,否则取yarr\n",
    "- arr.mean()  arr.mean(axis=1)   #算术平均数\n",
    "- arr.sum()   arr.std()  arr.var()   #和、标准差、方差\n",
    "- arr.min()   arr.max()   #最小值、最大值\n",
    "- arr.argmin()   arr.argmax()    #最小索引、最大索引\n",
    "- arr.cumsum()    arr.cumprod()   #所有元素的累计和、累计积\n",
    "- arr.all()   arr.any()   # 检查数组中是否全为真、部分为真\n",
    "- arr.sort()   arr.sort(1)   #排序、1轴向上排序\n",
    "- arr.unique()   #去重\n",
    "- np.in1d(arr1, arr2)  #arr1的值是否在arr2中\n",
    "- np.load() np.loadtxt() np.save() np.savez() ＃读取、保存文件\n",
    "- np.concatenate([arr, arr], axis=1)  ＃连接两个arr，按行的方向"
   ]
  },
  {
   "cell_type": "markdown",
   "metadata": {},
   "source": [
    "# 排序"
   ]
  },
  {
   "cell_type": "code",
   "execution_count": 38,
   "metadata": {},
   "outputs": [
    {
     "data": {
      "text/plain": [
       "array([ 0.98543442,  0.8074914 , -1.51210407,  0.53254064, -0.44446258,\n",
       "        2.25644075])"
      ]
     },
     "execution_count": 38,
     "metadata": {},
     "output_type": "execute_result"
    }
   ],
   "source": [
    "arr = np.random.randn(6)\n",
    "arr"
   ]
  },
  {
   "cell_type": "code",
   "execution_count": 39,
   "metadata": {},
   "outputs": [
    {
     "data": {
      "text/plain": [
       "array([-1.51210407, -0.44446258,  0.53254064,  0.8074914 ,  0.98543442,\n",
       "        2.25644075])"
      ]
     },
     "execution_count": 39,
     "metadata": {},
     "output_type": "execute_result"
    }
   ],
   "source": [
    "arr.sort()\n",
    "arr"
   ]
  },
  {
   "cell_type": "code",
   "execution_count": 40,
   "metadata": {},
   "outputs": [
    {
     "data": {
      "text/plain": [
       "array([[-0.10098166, -0.67505399, -1.18158876],\n",
       "       [ 0.26191808, -0.4441511 , -0.37506753],\n",
       "       [-0.49698216,  0.36335666, -0.8231432 ],\n",
       "       [-0.00158296, -0.67622766,  1.31046811],\n",
       "       [-0.05521063,  0.7617649 , -1.00686658]])"
      ]
     },
     "execution_count": 40,
     "metadata": {},
     "output_type": "execute_result"
    }
   ],
   "source": [
    "arr = np.random.randn(5, 3)\n",
    "arr"
   ]
  },
  {
   "cell_type": "code",
   "execution_count": 41,
   "metadata": {},
   "outputs": [
    {
     "data": {
      "text/plain": [
       "array([[-1.18158876, -0.67505399, -0.10098166],\n",
       "       [-0.4441511 , -0.37506753,  0.26191808],\n",
       "       [-0.8231432 , -0.49698216,  0.36335666],\n",
       "       [-0.67622766, -0.00158296,  1.31046811],\n",
       "       [-1.00686658, -0.05521063,  0.7617649 ]])"
      ]
     },
     "execution_count": 41,
     "metadata": {},
     "output_type": "execute_result"
    }
   ],
   "source": [
    "arr.sort(1)\n",
    "arr"
   ]
  },
  {
   "cell_type": "code",
   "execution_count": 43,
   "metadata": {},
   "outputs": [
    {
     "data": {
      "text/plain": [
       "array([  2.54564338e-01,  -5.29663779e-01,  -1.91156495e+00,\n",
       "         1.34078273e+00,  -1.79313675e+00,   3.48948457e-01,\n",
       "        -1.01112449e+00,  -7.59373205e-01,   4.72353611e-01,\n",
       "        -1.10394666e+00,   5.23872850e-01,  -7.63298741e-02,\n",
       "        -6.20608332e-01,   3.69827145e-01,   4.94916452e-01,\n",
       "         5.62811562e-01,   4.74947081e-01,  -6.69143239e-01,\n",
       "         1.63317277e+00,   1.35685207e+00,   4.37103900e-01,\n",
       "        -1.25277631e+00,   1.56528626e+00,  -2.19143623e-02,\n",
       "         1.99418782e+00,   1.65068157e+00,   1.74137227e-01,\n",
       "        -6.88332036e-01,   9.40201592e-01,   1.82667358e-02,\n",
       "        -1.35665576e-01,  -1.12418170e-01,   6.45868978e-01,\n",
       "         3.54146919e-01,   2.76537668e-01,  -8.30784681e-01,\n",
       "         9.39301010e-01,   8.37665334e-01,  -2.17459240e-01,\n",
       "        -1.35781705e+00,  -1.21009485e+00,   2.20021121e+00,\n",
       "        -2.28882707e-01,  -2.64125418e-01,  -4.90287091e-01,\n",
       "         4.88173981e-01,   3.32998456e-03,  -3.03538231e-01,\n",
       "        -6.77954645e-01,   1.09970085e+00,  -4.15076498e-01,\n",
       "         1.30823060e+00,   1.27514899e+00,  -1.68743889e+00,\n",
       "        -6.74329902e-02,  -1.45544179e+00,   1.35901581e+00,\n",
       "         3.80367838e-01,   2.11917969e-01,  -1.51733938e-01,\n",
       "         2.26180763e+00,   4.05441694e-01,  -9.12403921e-02,\n",
       "        -2.81714793e-01,   1.29803422e+00,   1.22252675e+00,\n",
       "        -6.50691957e-01,  -1.72793808e+00,   1.43281092e+00,\n",
       "         1.13167762e+00,   7.80092181e-01,  -9.09522221e-01,\n",
       "         8.37030760e-01,  -1.07960615e-01,   3.17424277e-01,\n",
       "        -3.33404764e-01,   1.39817700e+00,   5.36929576e-01,\n",
       "        -3.01634346e-01,   4.94424232e-01,   8.32993793e-01,\n",
       "        -5.17389170e-01,   9.59413734e-01,   7.04343890e-01,\n",
       "        -5.08186578e-01,  -2.70023746e-01,  -7.99254476e-01,\n",
       "        -5.39376550e-02,   1.52695175e-01,   8.03438021e-01,\n",
       "        -1.58109440e-01,   7.87627511e-02,  -3.87679369e-02,\n",
       "        -9.98789391e-01,   7.79605721e-01,   1.30891938e+00,\n",
       "        -2.01634423e+00,  -1.16588732e+00,   2.37131469e+00,\n",
       "        -2.49459269e-01,   1.33919405e+00,  -6.33499652e-01,\n",
       "        -1.63890842e+00,   5.31879671e-02,  -2.79913762e-01,\n",
       "         1.44201983e-01,  -6.08519940e-01,  -2.05806998e-01,\n",
       "        -4.71246049e-01,  -9.80722110e-01,  -2.36563012e+00,\n",
       "        -7.91995722e-01,   3.14772213e-01,   2.03348601e+00,\n",
       "         1.09833160e+00,   2.05740432e+00,   1.20886785e-01,\n",
       "        -4.53709903e-01,  -1.07301126e+00,  -3.47384880e-01,\n",
       "         3.50255623e-01,  -3.99054317e-01,  -5.33766473e-01,\n",
       "        -6.59001614e-01,   1.59410343e-01,   2.01696046e+00,\n",
       "         2.78737626e-01,  -1.39228345e+00,  -7.54009941e-01,\n",
       "        -4.86688584e-01,   6.21682065e-02,   1.18276470e+00,\n",
       "         1.61130951e+00,  -2.75207969e+00,   1.06392951e+00,\n",
       "         1.29979970e+00,  -2.74717939e-01,   1.41052831e-01,\n",
       "        -4.72987512e-02,  -1.46227650e+00,   7.91607325e-01,\n",
       "        -2.64531228e-02,  -8.93790710e-01,   9.57929113e-02,\n",
       "         1.39810522e-01,   2.53932376e-01,   1.03697939e+00,\n",
       "        -7.21151181e-01,  -3.44445098e-02,  -1.49043965e-01,\n",
       "         8.14140584e-02,   1.66832492e+00,   5.46892227e-01,\n",
       "        -2.69857555e-01,   8.14344263e-01,   2.82386721e-01,\n",
       "         9.90395381e-01,   1.73837516e+00,   1.04620247e+00,\n",
       "         8.54141501e-01,  -5.51219852e-02,   2.89190020e-01,\n",
       "        -1.21489271e+00,   4.00319004e-01,   1.70751490e+00,\n",
       "         1.35409489e+00,   3.03246224e+00,   1.51910824e+00,\n",
       "        -1.41281969e+00,  -5.45937895e-01,  -1.89383474e-01,\n",
       "        -7.20680717e-01,   1.10064936e+00,  -1.51762630e+00,\n",
       "         1.78369694e+00,   1.26765649e+00,   4.50070832e-01,\n",
       "         7.98333857e-01,   5.79218829e-01,  -8.91211310e-01,\n",
       "        -5.79167407e-01,   7.21108354e-01,   1.21679757e-01,\n",
       "        -1.20528526e+00,   8.34577435e-01,  -4.61043986e-02,\n",
       "         1.71607857e-01,   1.09078785e+00,  -8.03508098e-01,\n",
       "        -5.62343813e-01,  -1.53500742e+00,  -2.19269777e-01,\n",
       "         5.39093622e-01,  -3.76836035e-01,   7.81707736e-01,\n",
       "        -6.96878010e-01,   5.59576364e-01,  -5.64360348e-01,\n",
       "        -1.32980325e+00,   8.34961934e-01,  -1.34725573e+00,\n",
       "        -5.92818565e-01,  -1.35023061e+00,   1.25384105e-01,\n",
       "        -5.48954028e-02,   8.13956252e-02,  -1.75885544e-01,\n",
       "        -4.59728110e-01,   1.27616199e-01,   1.11585149e+00,\n",
       "        -4.66432843e-02,   8.84021743e-01,  -1.24432908e+00,\n",
       "        -4.22254527e-01,   2.00272647e+00,   1.67263379e-01,\n",
       "         1.10463887e-01,   4.91486680e-01,  -1.30207477e+00,\n",
       "         1.33354634e+00,  -1.01955702e+00,   8.92337352e-01,\n",
       "        -1.02376103e-02,   9.04872664e-02,   2.13579307e+00,\n",
       "        -7.99485193e-02,   2.23552214e-01,   1.61343308e-02,\n",
       "        -1.36015548e+00,   1.41083133e+00,   2.73327168e-02,\n",
       "         1.60830684e+00,  -4.40136848e-01,   2.06781134e+00,\n",
       "         2.77162309e-01,  -9.19763350e-01,   8.78073436e-01,\n",
       "         3.48726640e-01,  -5.93656237e-01,  -4.15335399e-01,\n",
       "        -3.67319604e-01,  -5.14690882e-01,  -1.33676497e+00,\n",
       "        -2.75584171e+00,   1.53044370e+00,   4.60799953e-02,\n",
       "        -2.67332046e-03,  -5.63897644e-01,   1.13346106e-01,\n",
       "        -1.47850751e+00,  -9.63565344e-01,   1.69443042e+00,\n",
       "        -3.50921367e-01,   1.34103184e+00,  -9.25420865e-01,\n",
       "         1.63489276e+00,   1.09543949e-01,   2.98383985e-01,\n",
       "        -3.63739655e-01,   1.82241699e+00,   8.39919768e-01,\n",
       "         8.86917315e-02,   1.03514777e+00,  -9.83395763e-01,\n",
       "         1.75062617e+00,  -1.41205686e+00,  -5.24091027e-02,\n",
       "        -1.04519876e+00,   1.03701005e+00,   2.89127120e-01,\n",
       "         8.89440976e-01,   1.44413975e-01,   3.97294983e-01,\n",
       "         2.71991998e-01,   7.81804983e-02,  -9.08928436e-01,\n",
       "         1.01390587e+00,  -1.84086968e-01,   2.26535373e-01,\n",
       "         9.11351563e-01,  -2.11976243e+00,  -1.20372860e-01,\n",
       "         7.38644476e-01,  -1.02858137e+00,  -6.56770363e-01,\n",
       "         6.53056773e-01,  -1.11218590e+00,   3.03679310e-01,\n",
       "         1.80486324e-01,   6.10483802e-01,  -9.31795549e-01,\n",
       "        -6.39610989e-01,  -4.33364479e-01,   3.80404816e-01,\n",
       "         1.00016709e-01,  -4.10227080e-01,   1.57908855e-01,\n",
       "         4.25975758e-01,   1.08036822e+00,  -1.32249079e+00,\n",
       "        -8.99482289e-01,  -1.47220126e+00,   1.56999773e+00,\n",
       "        -1.28638121e+00,  -7.94012566e-01,   1.31456920e+00,\n",
       "         8.68260056e-02,   1.09724481e+00,  -3.20706237e-01,\n",
       "        -5.69468952e-01,  -1.10151558e+00,   4.93524904e-01,\n",
       "         1.70836264e-01,  -1.41127036e+00,   1.97220362e-01,\n",
       "         1.03715695e+00,   5.70342249e-01,  -3.90582732e-01,\n",
       "         1.01071612e+00,  -1.74981901e-01,   1.46836521e+00,\n",
       "         7.83451111e-01,   1.61703933e+00,   2.16703751e+00,\n",
       "         1.97595693e+00,   3.02179372e-01,   3.01263887e-01,\n",
       "         2.28871749e+00,  -6.45621170e-01,   2.29152562e+00,\n",
       "         5.67308300e-01,  -1.21228127e+00,   2.90883992e-01,\n",
       "         1.70111487e+00,   2.58109287e-01,  -8.63185020e-01,\n",
       "        -9.48008559e-01,  -1.75886253e+00,   9.69860463e-01,\n",
       "         2.50955718e-01,  -4.69438619e-01,   1.05070244e+00,\n",
       "        -6.46192246e-01,  -1.35708740e+00,  -5.66071883e-01,\n",
       "         7.77626371e-01,  -3.18051440e-01,  -5.15471695e-01,\n",
       "        -3.49146736e-01,   1.21649999e+00,  -1.40064290e+00,\n",
       "         9.49259035e-01,  -8.05186852e-01,   6.51626478e-01,\n",
       "        -1.36491643e+00,  -5.28540981e-01,   5.03954545e-01,\n",
       "        -1.78791512e-01,  -2.40602310e-01,   7.14487611e-01,\n",
       "        -5.50671714e-01,  -5.39928718e-01,   4.82379555e-01,\n",
       "         1.69598038e+00,  -9.82642172e-01,  -2.36505568e-01,\n",
       "         1.78241002e-01,  -1.56817275e+00,   1.80450567e+00,\n",
       "        -1.25187490e+00,   4.96084861e-01,  -1.49884873e+00,\n",
       "        -8.33875653e-01,   3.25536847e-01,   1.07678277e+00,\n",
       "         5.47898541e-01,   2.43301496e+00,   2.18045589e+00,\n",
       "         9.67421588e-02,   1.19571859e+00,   2.63605478e-01,\n",
       "        -1.44727182e+00,   8.33816023e-01,  -1.89845946e+00,\n",
       "         1.14939367e-01,  -1.02290967e+00,   5.67627072e-01,\n",
       "        -1.16055903e+00,  -4.27171045e-01,   1.10184473e+00,\n",
       "        -1.17329636e+00,  -1.68362109e+00,   1.18838136e+00,\n",
       "        -7.94681211e-02,  -9.70109627e-01,   6.43645918e-01,\n",
       "        -6.73415216e-01,   1.77323661e-01,  -2.64651216e-01,\n",
       "         1.07034729e-01,  -3.03564946e+00,  -1.73605951e+00,\n",
       "        -7.17417491e-01,   1.29067345e+00,   1.94241630e+00,\n",
       "        -9.04773419e-01,   6.67901550e-01,   1.19453704e-01,\n",
       "        -1.35367295e+00,   4.29744211e-02,  -1.64593789e+00,\n",
       "         1.39179789e+00,  -1.40487343e-02,   1.95026542e+00,\n",
       "         2.06765115e-01,  -1.34907002e+00,  -6.34465517e-01,\n",
       "         1.00175417e+00,  -4.76519372e-01,  -1.79246087e+00,\n",
       "         7.51003976e-01,   4.40381862e-01,   4.36954847e-01,\n",
       "         4.12194330e-01,  -6.70907369e-01,   7.08876675e-01,\n",
       "        -7.78657365e-01,   1.80284334e-02,  -1.58758945e+00,\n",
       "        -2.55227908e-01,  -2.59154539e-01,  -1.05396121e+00,\n",
       "         1.00431521e+00,   5.96963386e-02,  -8.42375429e-01,\n",
       "         7.02919430e-01,  -1.93552049e+00,  -5.07763523e-02,\n",
       "         1.12310508e+00,  -2.13806479e+00,  -2.19076428e-01,\n",
       "         7.84037027e-01,  -1.20430287e+00,  -6.95680053e-01,\n",
       "        -4.55628049e-01,  -4.80706799e-02,   9.46113107e-02,\n",
       "        -9.03155883e-01,   1.43975603e+00,   1.10624090e-01,\n",
       "        -4.23556255e-01,   1.22719048e-01,   1.01179257e+00,\n",
       "         7.76265611e-01,   1.62245085e-01,  -1.36115906e+00,\n",
       "        -2.31898374e-01,   1.36720250e+00,   2.82604949e+00,\n",
       "        -1.06177732e-01,   5.32467543e-01,   1.54149316e+00,\n",
       "        -1.18142469e+00,  -1.61408334e-01,  -2.48675993e-02,\n",
       "        -1.36683896e+00,   1.06786392e+00,   5.47154781e-01,\n",
       "        -5.28202631e-01,   1.11571064e+00,  -4.74978535e-02,\n",
       "         2.19348250e-01,   1.74997320e+00,  -3.80311191e-01,\n",
       "        -2.29808786e-01,   1.07108315e+00,   7.34511396e-01,\n",
       "         2.11173572e+00,   2.29226583e-02,  -1.58677637e+00,\n",
       "         8.52350859e-01,   9.75177339e-01,   1.37620800e-01,\n",
       "         1.58454775e+00,  -1.16507414e+00,   1.09172841e+00,\n",
       "        -8.23146347e-01,  -9.53159979e-02,   9.07899779e-01,\n",
       "         1.91738809e-01,  -1.21977154e+00,   1.18828818e+00,\n",
       "        -3.30615582e-01,  -3.21607279e-01,   2.86622484e-01,\n",
       "         1.22883124e+00,   3.60241421e-01,   7.38125475e-01,\n",
       "        -1.09248842e-01,  -1.28010655e+00,  -5.75307736e-01,\n",
       "         1.27152187e+00,   1.21749501e-01,   1.60794163e-01,\n",
       "        -8.11534420e-01,  -2.07391112e-01,  -3.60080036e-01,\n",
       "        -8.12516897e-02,   3.77780339e-01,  -1.68389023e+00,\n",
       "        -7.98785710e-01,  -2.51021686e+00,  -1.65336559e+00,\n",
       "         2.09352587e+00,  -6.66481470e-01,   3.49186436e-01,\n",
       "         1.46691794e+00,  -1.06194111e+00,   1.09701717e+00,\n",
       "        -6.21701229e-01,   5.02357497e-01,   5.86034470e-01,\n",
       "         5.22077333e-01,   1.02872251e+00,   1.26926826e+00,\n",
       "         2.96369005e-04,  -9.67621226e-02,  -8.64921215e-01,\n",
       "         4.50064970e-01,  -4.93016663e-01,  -7.46568438e-01,\n",
       "        -8.81846927e-02,  -9.88547405e-01,   1.29151735e+00,\n",
       "         7.81943107e-01,  -3.70115564e-02,   1.06936666e+00,\n",
       "         2.77433456e+00,   2.20760083e-01,   2.65095964e-01,\n",
       "         6.95581694e-01,   1.01016875e+00,   4.21452424e-01,\n",
       "         1.07802057e+00,  -2.81198746e-02,   8.67795573e-01,\n",
       "         3.02383536e-01,   2.98402332e-01,  -3.30872415e-01,\n",
       "         2.03990676e+00,   1.54298147e+00,  -1.76577493e+00,\n",
       "         7.92544087e-01,  -2.06517309e+00,   2.33826657e-01,\n",
       "         4.30970006e-01,   1.53321918e+00,  -9.89893661e-01,\n",
       "        -9.91684103e-02,   1.96455755e+00,   7.11065655e-01,\n",
       "        -1.00229103e+00,  -2.42890062e+00,  -1.25223819e+00,\n",
       "        -4.55699712e-01,  -2.73710011e-01,   1.46179106e-01,\n",
       "         5.84092754e-01,  -7.37280966e-01,   1.68264585e+00,\n",
       "        -8.40519470e-01,   1.05412050e+00,  -1.90665730e+00,\n",
       "         1.41096632e+00,   5.52435830e-02,  -8.93404056e-01,\n",
       "        -1.19260998e+00,  -8.05874809e-02,   8.62212764e-01,\n",
       "         1.05382861e+00,   7.72893266e-01,  -7.78408391e-02,\n",
       "         1.54779696e+00,   2.92925597e-01,  -1.20463890e+00,\n",
       "         3.72343429e-01,   6.69616499e-02,   1.07820341e-01,\n",
       "         3.32431528e-01,  -2.29990614e+00,   2.46694592e-01,\n",
       "        -7.71379425e-01,  -2.72669178e-01,  -4.60369613e-01,\n",
       "        -9.36412715e-01,  -9.14802982e-01,  -5.28693631e-01,\n",
       "         1.06697915e+00,  -3.22737168e+00,   2.04445000e-01,\n",
       "        -1.83317842e-01,   1.26335750e+00,   7.51697892e-01,\n",
       "         4.06833198e-01,   7.40047116e-02,  -2.00167556e+00,\n",
       "        -1.05208257e+00,  -3.51382358e-01,   7.62252872e-01,\n",
       "         4.96403233e-01,   1.39512383e+00,   8.32132727e-01,\n",
       "         6.71657212e-01,   1.10089204e+00,  -1.14268800e+00,\n",
       "         3.09514903e-01,  -1.05205315e+00,  -3.73255590e-01,\n",
       "         4.92152685e-01,  -1.28575236e+00,  -6.25853068e-01,\n",
       "        -1.33501183e+00,   4.11024327e-01,  -1.08190700e+00,\n",
       "        -1.95188046e+00,  -2.14918659e-01,  -4.96010295e-01,\n",
       "        -4.99331520e-01,  -1.55536690e-01,  -8.88364952e-01,\n",
       "        -4.71623724e-01,   7.63352398e-03,  -1.55245584e-01,\n",
       "         7.15615298e-01,  -5.36639996e-01,   7.70958765e-01,\n",
       "         1.98381290e+00,  -1.90983573e+00,  -3.43618825e-01,\n",
       "        -4.56009915e-01,   3.20459556e-01,  -2.96542785e-01,\n",
       "         3.23348064e-01,   5.44256146e-01,  -4.34133587e-01,\n",
       "        -1.92631918e+00,  -8.06173107e-01,  -3.32041937e-01,\n",
       "         3.85530452e-01,   3.89732511e-01,   3.72640501e-01,\n",
       "        -2.13978571e-01,   4.84684345e-03,   2.33348419e-01,\n",
       "         1.33762905e+00,  -3.47103789e-02,   4.75421360e-01,\n",
       "        -9.03924513e-01,   4.43506659e-01,  -1.32498524e+00,\n",
       "         1.04127307e-01,   1.29146074e+00,  -1.62765513e+00,\n",
       "         5.25778159e-01,  -1.32824546e+00,  -5.95688828e-01,\n",
       "         4.66692845e-01,   1.47699594e+00,   1.75319521e+00,\n",
       "        -1.00564353e-01,  -1.01831151e+00,  -2.03120899e+00,\n",
       "         7.05401729e-01,   7.41590056e-01,   1.17320602e+00,\n",
       "        -1.12485120e+00,   6.96413912e-01,   1.10661270e+00,\n",
       "        -2.67224353e+00,   3.65318809e-01,   3.21520277e-01,\n",
       "         6.01622512e-01,  -5.64436453e-01,   7.25118436e-01,\n",
       "        -7.08648031e-01,  -5.66266777e-01,   5.04468396e-01,\n",
       "        -2.09237713e+00,   7.71675488e-03,   4.74002019e-01,\n",
       "         1.15941456e+00,   1.24424870e+00,   3.33994877e-01,\n",
       "         2.71002421e-01,   7.22106001e-02,   8.09486758e-01,\n",
       "        -2.17367640e-01,   8.53650128e-01,   1.82087968e-01,\n",
       "        -1.85940222e+00,  -1.18116454e+00,   2.64017665e-01,\n",
       "        -2.58048525e-01,  -3.47454806e-01,   1.05574348e+00,\n",
       "         1.33286897e+00,   7.70207814e-01,   1.98225239e-01,\n",
       "        -6.83565951e-01,   5.45993341e-01,  -1.63098995e+00,\n",
       "        -8.10228348e-01,  -3.21116794e-01,   3.77272998e-01,\n",
       "         1.90842564e-01,   1.16112236e+00,  -4.87439737e-01,\n",
       "         4.57604680e-01,   1.19840290e+00,   4.28047264e-02,\n",
       "         7.70579763e-01,   4.34085190e-01,   1.83865293e+00,\n",
       "        -1.08560377e+00,  -9.53030578e-02,   3.02544496e+00,\n",
       "         1.12167882e-01,  -5.82435705e-01,  -1.15094807e+00,\n",
       "        -1.18265037e+00,   2.01758653e+00,   2.49992051e+00,\n",
       "        -1.12208138e+00,  -7.42870949e-01,   1.08390335e+00,\n",
       "         1.63479277e+00,  -4.09667910e-01,  -6.52179775e-01,\n",
       "         5.30756927e-01,   2.95475220e-01,   8.04816335e-02,\n",
       "         1.17937918e+00,  -1.04030475e+00,   8.95091520e-01,\n",
       "        -7.42680121e-01,   5.87000959e-01,   2.05386117e-01,\n",
       "        -2.25492605e-01,   6.91248433e-01,  -3.28166073e-01,\n",
       "         2.59036972e+00,  -1.98055587e-01,   1.07767831e+00,\n",
       "        -2.39410014e+00,  -5.97442510e-01,   2.52685344e-01,\n",
       "         3.33679898e-01,   1.42701868e+00,   2.57223960e-01,\n",
       "        -2.30903479e+00,   1.48777795e-01,  -1.63917844e-01,\n",
       "         1.41438780e+00,  -1.45595007e+00,  -3.24551965e-01,\n",
       "         8.24885195e-01,  -2.93194564e-01,   1.69656305e+00,\n",
       "         1.75044347e+00,   1.03360987e+00,  -1.01020078e+00,\n",
       "         3.74917671e-01,  -4.87864446e-01,  -1.52110637e+00,\n",
       "        -4.54903199e-01,  -1.99606523e-01,   1.67979919e-01,\n",
       "         6.15016274e-01,   1.26848861e+00,   1.26525693e-01,\n",
       "         8.57137000e-01,   2.51895677e+00,   3.31271173e-01,\n",
       "         1.95271796e+00,  -1.59395240e+00,   8.80870853e-01,\n",
       "        -3.71824435e-01,  -1.92794157e+00,   9.55006329e-01,\n",
       "        -5.47304873e-01,  -4.19685750e-01,  -1.31386464e+00,\n",
       "         6.55666180e-01,   1.56935402e+00,   5.47589882e-01,\n",
       "        -2.17022816e-01,   4.75081950e-01,   3.44536221e-02,\n",
       "        -1.01788392e-01,   9.79187051e-02,  -3.76858078e-01,\n",
       "         8.81735667e-01,  -1.16524980e+00,   1.15918182e+00,\n",
       "        -6.90527662e-02,   8.70333576e-01,   2.42653673e+00,\n",
       "         4.87132294e-01,  -1.84516167e-01,   5.51359094e-01,\n",
       "        -1.73611407e+00,  -4.82857588e-01,  -5.17275246e-02,\n",
       "        -6.24414284e-01,  -1.75013253e+00,   6.73444487e-02,\n",
       "         5.22333210e-01,  -1.32850678e+00,   1.26784660e+00,\n",
       "         2.74930032e+00,  -4.05564507e-02,  -4.01416691e-01,\n",
       "         1.92830334e+00,   2.27752825e+00,   1.17617953e+00,\n",
       "         3.25024124e-01,  -7.46838072e-02,   4.21172978e-02,\n",
       "         2.05431733e-01,  -6.32412951e-01,   2.90846692e-01,\n",
       "        -6.84086138e-01,  -5.44759669e-01,  -1.06423108e-01,\n",
       "        -8.50416533e-02,   6.32489963e-01,   1.99968510e+00,\n",
       "        -7.34008893e-01,   3.57857376e-01,  -1.09463519e+00,\n",
       "         5.09086439e-01,   1.12069792e+00,  -1.74251475e+00,\n",
       "        -1.50768668e+00,   6.52063951e-01,   1.29229925e+00,\n",
       "         3.97124761e-01,  -3.97844088e-01,  -8.19228142e-01,\n",
       "         8.55316239e-01,   5.32708367e-02,  -1.88778263e-01,\n",
       "         3.61613309e-01,   1.08844657e+00,  -7.79244954e-01,\n",
       "        -2.59696183e-02,  -1.01752312e+00,  -3.31656171e-01,\n",
       "         2.49164611e-01,  -9.67820225e-02,   8.48061456e-02,\n",
       "         6.29808784e-01,   1.92390815e+00,  -5.52904693e-01,\n",
       "        -8.47043258e-01,  -3.38775186e-01,  -8.93088082e-02,\n",
       "        -7.90739598e-01,   8.93623511e-01,   2.34070396e-01,\n",
       "        -2.36700641e+00,   1.67553587e+00,   1.69495616e-01,\n",
       "         1.92496569e+00,  -3.85232853e-01,   1.03505404e+00,\n",
       "        -6.43025434e-01,  -3.87620502e-01,  -1.64633842e+00,\n",
       "        -4.39246812e-01,  -1.19865025e+00,   5.16420093e-01,\n",
       "        -1.00637392e-02,  -1.10795019e+00,  -6.05284074e-02,\n",
       "        -1.57942997e+00,   9.87646411e-01,  -1.39072846e+00,\n",
       "        -2.80252078e-01,   2.81387864e-01,   1.12191936e-01,\n",
       "         3.84959904e-01,  -1.66960461e+00,   3.36159427e-01,\n",
       "        -4.11084699e-01,   1.90941100e-01,   6.93367335e-01,\n",
       "        -1.58028485e+00,   4.25098264e-01,  -1.72746404e-01,\n",
       "        -1.36994951e+00,   1.20080168e+00,  -2.95551721e-01,\n",
       "         3.51243085e-01,   9.88676042e-01,  -4.79952130e-02,\n",
       "        -4.46464577e-01,   5.81435736e-01,  -1.04602930e+00,\n",
       "        -4.45080343e-01,   1.10917199e+00,   1.44162187e+00,\n",
       "         5.51937740e-01,  -9.08582787e-01,  -1.26663467e+00,\n",
       "        -4.00952603e-01,   4.44077545e-01,  -1.81540599e-01,\n",
       "        -4.38649205e-01,  -3.68592322e-01,   4.46844032e-01,\n",
       "         1.13816068e-01,   1.11291446e+00,  -9.12753323e-01,\n",
       "        -2.04424882e+00,   1.18579599e+00,   1.03665229e+00,\n",
       "        -1.96218151e-01,   2.11024699e-01,  -2.43328632e-01,\n",
       "        -2.59242816e-01,  -3.71646560e-01,  -5.38154505e-01,\n",
       "        -9.56454683e-03,   1.97601626e+00,  -1.24299876e+00,\n",
       "         1.22643072e+00,   1.88462766e+00,  -1.12945096e+00,\n",
       "        -2.04808259e+00,   5.35895052e-01,   4.64540914e-02,\n",
       "         9.65565772e-01,   1.23626438e+00,  -2.76019246e+00,\n",
       "         2.27093998e-01,  -6.76717667e-02,  -1.97187971e-01,\n",
       "        -3.67408721e-01,  -1.14787307e-01,  -1.05874473e-01,\n",
       "         7.92702974e-01,  -8.43796765e-01,  -2.33579216e-01,\n",
       "        -3.15783346e-01,  -9.11387765e-01,   7.01313930e-01,\n",
       "        -1.44631185e+00,   1.30092508e+00,   4.31652541e-01,\n",
       "         2.48127730e+00,  -3.94411378e-01,  -6.76934443e-02,\n",
       "        -4.43570024e-01,  -7.25637301e-01,  -2.94376986e-01,\n",
       "         1.35037164e-01,   4.41328497e-03,   7.15560380e-01,\n",
       "        -3.54325123e-01,   1.13020613e+00,  -1.35598015e-01,\n",
       "         6.16350621e-02,  -1.54660767e-01,  -2.28032564e-01,\n",
       "         1.00670718e+00,   8.37534769e-02,  -3.04289500e-01,\n",
       "         1.01439102e+00,   1.17390139e-01,   9.29930303e-01,\n",
       "        -3.52975772e-01,  -1.83236026e-01,  -3.43171623e-01,\n",
       "         6.43060207e-02,  -3.85029564e-01,  -6.72862421e-01,\n",
       "        -8.75616886e-01,   1.92288078e+00,  -8.36346776e-01,\n",
       "        -1.32412183e+00,  -9.86928854e-01,   8.45955331e-01,\n",
       "        -4.84333271e-01,   1.61586915e+00,  -3.46373806e-01,\n",
       "         2.56633198e-01,  -3.42887588e-01,  -6.06088785e-01,\n",
       "        -1.33120467e+00])"
      ]
     },
     "execution_count": 43,
     "metadata": {},
     "output_type": "execute_result"
    }
   ],
   "source": [
    "large_arr = np.random.randn(1000)\n",
    "large_arr"
   ]
  },
  {
   "cell_type": "code",
   "execution_count": 44,
   "metadata": {},
   "outputs": [
    {
     "data": {
      "text/plain": [
       "array([ -3.22737168e+00,  -3.03564946e+00,  -2.76019246e+00,\n",
       "        -2.75584171e+00,  -2.75207969e+00,  -2.67224353e+00,\n",
       "        -2.51021686e+00,  -2.42890062e+00,  -2.39410014e+00,\n",
       "        -2.36700641e+00,  -2.36563012e+00,  -2.30903479e+00,\n",
       "        -2.29990614e+00,  -2.13806479e+00,  -2.11976243e+00,\n",
       "        -2.09237713e+00,  -2.06517309e+00,  -2.04808259e+00,\n",
       "        -2.04424882e+00,  -2.03120899e+00,  -2.01634423e+00,\n",
       "        -2.00167556e+00,  -1.95188046e+00,  -1.93552049e+00,\n",
       "        -1.92794157e+00,  -1.92631918e+00,  -1.91156495e+00,\n",
       "        -1.90983573e+00,  -1.90665730e+00,  -1.89845946e+00,\n",
       "        -1.85940222e+00,  -1.79313675e+00,  -1.79246087e+00,\n",
       "        -1.76577493e+00,  -1.75886253e+00,  -1.75013253e+00,\n",
       "        -1.74251475e+00,  -1.73611407e+00,  -1.73605951e+00,\n",
       "        -1.72793808e+00,  -1.68743889e+00,  -1.68389023e+00,\n",
       "        -1.68362109e+00,  -1.66960461e+00,  -1.65336559e+00,\n",
       "        -1.64633842e+00,  -1.64593789e+00,  -1.63890842e+00,\n",
       "        -1.63098995e+00,  -1.62765513e+00,  -1.59395240e+00,\n",
       "        -1.58758945e+00,  -1.58677637e+00,  -1.58028485e+00,\n",
       "        -1.57942997e+00,  -1.56817275e+00,  -1.53500742e+00,\n",
       "        -1.52110637e+00,  -1.51762630e+00,  -1.50768668e+00,\n",
       "        -1.49884873e+00,  -1.47850751e+00,  -1.47220126e+00,\n",
       "        -1.46227650e+00,  -1.45595007e+00,  -1.45544179e+00,\n",
       "        -1.44727182e+00,  -1.44631185e+00,  -1.41281969e+00,\n",
       "        -1.41205686e+00,  -1.41127036e+00,  -1.40064290e+00,\n",
       "        -1.39228345e+00,  -1.39072846e+00,  -1.36994951e+00,\n",
       "        -1.36683896e+00,  -1.36491643e+00,  -1.36115906e+00,\n",
       "        -1.36015548e+00,  -1.35781705e+00,  -1.35708740e+00,\n",
       "        -1.35367295e+00,  -1.35023061e+00,  -1.34907002e+00,\n",
       "        -1.34725573e+00,  -1.33676497e+00,  -1.33501183e+00,\n",
       "        -1.33120467e+00,  -1.32980325e+00,  -1.32850678e+00,\n",
       "        -1.32824546e+00,  -1.32498524e+00,  -1.32412183e+00,\n",
       "        -1.32249079e+00,  -1.31386464e+00,  -1.30207477e+00,\n",
       "        -1.28638121e+00,  -1.28575236e+00,  -1.28010655e+00,\n",
       "        -1.26663467e+00,  -1.25277631e+00,  -1.25223819e+00,\n",
       "        -1.25187490e+00,  -1.24432908e+00,  -1.24299876e+00,\n",
       "        -1.21977154e+00,  -1.21489271e+00,  -1.21228127e+00,\n",
       "        -1.21009485e+00,  -1.20528526e+00,  -1.20463890e+00,\n",
       "        -1.20430287e+00,  -1.19865025e+00,  -1.19260998e+00,\n",
       "        -1.18265037e+00,  -1.18142469e+00,  -1.18116454e+00,\n",
       "        -1.17329636e+00,  -1.16588732e+00,  -1.16524980e+00,\n",
       "        -1.16507414e+00,  -1.16055903e+00,  -1.15094807e+00,\n",
       "        -1.14268800e+00,  -1.12945096e+00,  -1.12485120e+00,\n",
       "        -1.12208138e+00,  -1.11218590e+00,  -1.10795019e+00,\n",
       "        -1.10394666e+00,  -1.10151558e+00,  -1.09463519e+00,\n",
       "        -1.08560377e+00,  -1.08190700e+00,  -1.07301126e+00,\n",
       "        -1.06194111e+00,  -1.05396121e+00,  -1.05208257e+00,\n",
       "        -1.05205315e+00,  -1.04602930e+00,  -1.04519876e+00,\n",
       "        -1.04030475e+00,  -1.02858137e+00,  -1.02290967e+00,\n",
       "        -1.01955702e+00,  -1.01831151e+00,  -1.01752312e+00,\n",
       "        -1.01112449e+00,  -1.01020078e+00,  -1.00229103e+00,\n",
       "        -9.98789391e-01,  -9.89893661e-01,  -9.88547405e-01,\n",
       "        -9.86928854e-01,  -9.83395763e-01,  -9.82642172e-01,\n",
       "        -9.80722110e-01,  -9.70109627e-01,  -9.63565344e-01,\n",
       "        -9.48008559e-01,  -9.36412715e-01,  -9.31795549e-01,\n",
       "        -9.25420865e-01,  -9.19763350e-01,  -9.14802982e-01,\n",
       "        -9.12753323e-01,  -9.11387765e-01,  -9.09522221e-01,\n",
       "        -9.08928436e-01,  -9.08582787e-01,  -9.04773419e-01,\n",
       "        -9.03924513e-01,  -9.03155883e-01,  -8.99482289e-01,\n",
       "        -8.93790710e-01,  -8.93404056e-01,  -8.91211310e-01,\n",
       "        -8.88364952e-01,  -8.75616886e-01,  -8.64921215e-01,\n",
       "        -8.63185020e-01,  -8.47043258e-01,  -8.43796765e-01,\n",
       "        -8.42375429e-01,  -8.40519470e-01,  -8.36346776e-01,\n",
       "        -8.33875653e-01,  -8.30784681e-01,  -8.23146347e-01,\n",
       "        -8.19228142e-01,  -8.11534420e-01,  -8.10228348e-01,\n",
       "        -8.06173107e-01,  -8.05186852e-01,  -8.03508098e-01,\n",
       "        -7.99254476e-01,  -7.98785710e-01,  -7.94012566e-01,\n",
       "        -7.91995722e-01,  -7.90739598e-01,  -7.79244954e-01,\n",
       "        -7.78657365e-01,  -7.71379425e-01,  -7.59373205e-01,\n",
       "        -7.54009941e-01,  -7.46568438e-01,  -7.42870949e-01,\n",
       "        -7.42680121e-01,  -7.37280966e-01,  -7.34008893e-01,\n",
       "        -7.25637301e-01,  -7.21151181e-01,  -7.20680717e-01,\n",
       "        -7.17417491e-01,  -7.08648031e-01,  -6.96878010e-01,\n",
       "        -6.95680053e-01,  -6.88332036e-01,  -6.84086138e-01,\n",
       "        -6.83565951e-01,  -6.77954645e-01,  -6.73415216e-01,\n",
       "        -6.72862421e-01,  -6.70907369e-01,  -6.69143239e-01,\n",
       "        -6.66481470e-01,  -6.59001614e-01,  -6.56770363e-01,\n",
       "        -6.52179775e-01,  -6.50691957e-01,  -6.46192246e-01,\n",
       "        -6.45621170e-01,  -6.43025434e-01,  -6.39610989e-01,\n",
       "        -6.34465517e-01,  -6.33499652e-01,  -6.32412951e-01,\n",
       "        -6.25853068e-01,  -6.24414284e-01,  -6.21701229e-01,\n",
       "        -6.20608332e-01,  -6.08519940e-01,  -6.06088785e-01,\n",
       "        -5.97442510e-01,  -5.95688828e-01,  -5.93656237e-01,\n",
       "        -5.92818565e-01,  -5.82435705e-01,  -5.79167407e-01,\n",
       "        -5.75307736e-01,  -5.69468952e-01,  -5.66266777e-01,\n",
       "        -5.66071883e-01,  -5.64436453e-01,  -5.64360348e-01,\n",
       "        -5.63897644e-01,  -5.62343813e-01,  -5.52904693e-01,\n",
       "        -5.50671714e-01,  -5.47304873e-01,  -5.45937895e-01,\n",
       "        -5.44759669e-01,  -5.39928718e-01,  -5.38154505e-01,\n",
       "        -5.36639996e-01,  -5.33766473e-01,  -5.29663779e-01,\n",
       "        -5.28693631e-01,  -5.28540981e-01,  -5.28202631e-01,\n",
       "        -5.17389170e-01,  -5.15471695e-01,  -5.14690882e-01,\n",
       "        -5.08186578e-01,  -4.99331520e-01,  -4.96010295e-01,\n",
       "        -4.93016663e-01,  -4.90287091e-01,  -4.87864446e-01,\n",
       "        -4.87439737e-01,  -4.86688584e-01,  -4.84333271e-01,\n",
       "        -4.82857588e-01,  -4.76519372e-01,  -4.71623724e-01,\n",
       "        -4.71246049e-01,  -4.69438619e-01,  -4.60369613e-01,\n",
       "        -4.59728110e-01,  -4.56009915e-01,  -4.55699712e-01,\n",
       "        -4.55628049e-01,  -4.54903199e-01,  -4.53709903e-01,\n",
       "        -4.46464577e-01,  -4.45080343e-01,  -4.43570024e-01,\n",
       "        -4.40136848e-01,  -4.39246812e-01,  -4.38649205e-01,\n",
       "        -4.34133587e-01,  -4.33364479e-01,  -4.27171045e-01,\n",
       "        -4.23556255e-01,  -4.22254527e-01,  -4.19685750e-01,\n",
       "        -4.15335399e-01,  -4.15076498e-01,  -4.11084699e-01,\n",
       "        -4.10227080e-01,  -4.09667910e-01,  -4.01416691e-01,\n",
       "        -4.00952603e-01,  -3.99054317e-01,  -3.97844088e-01,\n",
       "        -3.94411378e-01,  -3.90582732e-01,  -3.87620502e-01,\n",
       "        -3.85232853e-01,  -3.85029564e-01,  -3.80311191e-01,\n",
       "        -3.76858078e-01,  -3.76836035e-01,  -3.73255590e-01,\n",
       "        -3.71824435e-01,  -3.71646560e-01,  -3.68592322e-01,\n",
       "        -3.67408721e-01,  -3.67319604e-01,  -3.63739655e-01,\n",
       "        -3.60080036e-01,  -3.54325123e-01,  -3.52975772e-01,\n",
       "        -3.51382358e-01,  -3.50921367e-01,  -3.49146736e-01,\n",
       "        -3.47454806e-01,  -3.47384880e-01,  -3.46373806e-01,\n",
       "        -3.43618825e-01,  -3.43171623e-01,  -3.42887588e-01,\n",
       "        -3.38775186e-01,  -3.33404764e-01,  -3.32041937e-01,\n",
       "        -3.31656171e-01,  -3.30872415e-01,  -3.30615582e-01,\n",
       "        -3.28166073e-01,  -3.24551965e-01,  -3.21607279e-01,\n",
       "        -3.21116794e-01,  -3.20706237e-01,  -3.18051440e-01,\n",
       "        -3.15783346e-01,  -3.04289500e-01,  -3.03538231e-01,\n",
       "        -3.01634346e-01,  -2.96542785e-01,  -2.95551721e-01,\n",
       "        -2.94376986e-01,  -2.93194564e-01,  -2.81714793e-01,\n",
       "        -2.80252078e-01,  -2.79913762e-01,  -2.74717939e-01,\n",
       "        -2.73710011e-01,  -2.72669178e-01,  -2.70023746e-01,\n",
       "        -2.69857555e-01,  -2.64651216e-01,  -2.64125418e-01,\n",
       "        -2.59242816e-01,  -2.59154539e-01,  -2.58048525e-01,\n",
       "        -2.55227908e-01,  -2.49459269e-01,  -2.43328632e-01,\n",
       "        -2.40602310e-01,  -2.36505568e-01,  -2.33579216e-01,\n",
       "        -2.31898374e-01,  -2.29808786e-01,  -2.28882707e-01,\n",
       "        -2.28032564e-01,  -2.25492605e-01,  -2.19269777e-01,\n",
       "        -2.19076428e-01,  -2.17459240e-01,  -2.17367640e-01,\n",
       "        -2.17022816e-01,  -2.14918659e-01,  -2.13978571e-01,\n",
       "        -2.07391112e-01,  -2.05806998e-01,  -1.99606523e-01,\n",
       "        -1.98055587e-01,  -1.97187971e-01,  -1.96218151e-01,\n",
       "        -1.89383474e-01,  -1.88778263e-01,  -1.84516167e-01,\n",
       "        -1.84086968e-01,  -1.83317842e-01,  -1.83236026e-01,\n",
       "        -1.81540599e-01,  -1.78791512e-01,  -1.75885544e-01,\n",
       "        -1.74981901e-01,  -1.72746404e-01,  -1.63917844e-01,\n",
       "        -1.61408334e-01,  -1.58109440e-01,  -1.55536690e-01,\n",
       "        -1.55245584e-01,  -1.54660767e-01,  -1.51733938e-01,\n",
       "        -1.49043965e-01,  -1.35665576e-01,  -1.35598015e-01,\n",
       "        -1.20372860e-01,  -1.14787307e-01,  -1.12418170e-01,\n",
       "        -1.09248842e-01,  -1.07960615e-01,  -1.06423108e-01,\n",
       "        -1.06177732e-01,  -1.05874473e-01,  -1.01788392e-01,\n",
       "        -1.00564353e-01,  -9.91684103e-02,  -9.67820225e-02,\n",
       "        -9.67621226e-02,  -9.53159979e-02,  -9.53030578e-02,\n",
       "        -9.12403921e-02,  -8.93088082e-02,  -8.81846927e-02,\n",
       "        -8.50416533e-02,  -8.12516897e-02,  -8.05874809e-02,\n",
       "        -7.99485193e-02,  -7.94681211e-02,  -7.78408391e-02,\n",
       "        -7.63298741e-02,  -7.46838072e-02,  -6.90527662e-02,\n",
       "        -6.76934443e-02,  -6.76717667e-02,  -6.74329902e-02,\n",
       "        -6.05284074e-02,  -5.51219852e-02,  -5.48954028e-02,\n",
       "        -5.39376550e-02,  -5.24091027e-02,  -5.17275246e-02,\n",
       "        -5.07763523e-02,  -4.80706799e-02,  -4.79952130e-02,\n",
       "        -4.74978535e-02,  -4.72987512e-02,  -4.66432843e-02,\n",
       "        -4.61043986e-02,  -4.05564507e-02,  -3.87679369e-02,\n",
       "        -3.70115564e-02,  -3.47103789e-02,  -3.44445098e-02,\n",
       "        -2.81198746e-02,  -2.64531228e-02,  -2.59696183e-02,\n",
       "        -2.48675993e-02,  -2.19143623e-02,  -1.40487343e-02,\n",
       "        -1.02376103e-02,  -1.00637392e-02,  -9.56454683e-03,\n",
       "        -2.67332046e-03,   2.96369005e-04,   3.32998456e-03,\n",
       "         4.41328497e-03,   4.84684345e-03,   7.63352398e-03,\n",
       "         7.71675488e-03,   1.61343308e-02,   1.80284334e-02,\n",
       "         1.82667358e-02,   2.29226583e-02,   2.73327168e-02,\n",
       "         3.44536221e-02,   4.21172978e-02,   4.28047264e-02,\n",
       "         4.29744211e-02,   4.60799953e-02,   4.64540914e-02,\n",
       "         5.31879671e-02,   5.32708367e-02,   5.52435830e-02,\n",
       "         5.96963386e-02,   6.16350621e-02,   6.21682065e-02,\n",
       "         6.43060207e-02,   6.69616499e-02,   6.73444487e-02,\n",
       "         7.22106001e-02,   7.40047116e-02,   7.81804983e-02,\n",
       "         7.87627511e-02,   8.04816335e-02,   8.13956252e-02,\n",
       "         8.14140584e-02,   8.37534769e-02,   8.48061456e-02,\n",
       "         8.68260056e-02,   8.86917315e-02,   9.04872664e-02,\n",
       "         9.46113107e-02,   9.57929113e-02,   9.67421588e-02,\n",
       "         9.79187051e-02,   1.00016709e-01,   1.04127307e-01,\n",
       "         1.07034729e-01,   1.07820341e-01,   1.09543949e-01,\n",
       "         1.10463887e-01,   1.10624090e-01,   1.12167882e-01,\n",
       "         1.12191936e-01,   1.13346106e-01,   1.13816068e-01,\n",
       "         1.14939367e-01,   1.17390139e-01,   1.19453704e-01,\n",
       "         1.20886785e-01,   1.21679757e-01,   1.21749501e-01,\n",
       "         1.22719048e-01,   1.25384105e-01,   1.26525693e-01,\n",
       "         1.27616199e-01,   1.35037164e-01,   1.37620800e-01,\n",
       "         1.39810522e-01,   1.41052831e-01,   1.44201983e-01,\n",
       "         1.44413975e-01,   1.46179106e-01,   1.48777795e-01,\n",
       "         1.52695175e-01,   1.57908855e-01,   1.59410343e-01,\n",
       "         1.60794163e-01,   1.62245085e-01,   1.67263379e-01,\n",
       "         1.67979919e-01,   1.69495616e-01,   1.70836264e-01,\n",
       "         1.71607857e-01,   1.74137227e-01,   1.77323661e-01,\n",
       "         1.78241002e-01,   1.80486324e-01,   1.82087968e-01,\n",
       "         1.90842564e-01,   1.90941100e-01,   1.91738809e-01,\n",
       "         1.97220362e-01,   1.98225239e-01,   2.04445000e-01,\n",
       "         2.05386117e-01,   2.05431733e-01,   2.06765115e-01,\n",
       "         2.11024699e-01,   2.11917969e-01,   2.19348250e-01,\n",
       "         2.20760083e-01,   2.23552214e-01,   2.26535373e-01,\n",
       "         2.27093998e-01,   2.33348419e-01,   2.33826657e-01,\n",
       "         2.34070396e-01,   2.46694592e-01,   2.49164611e-01,\n",
       "         2.50955718e-01,   2.52685344e-01,   2.53932376e-01,\n",
       "         2.54564338e-01,   2.56633198e-01,   2.57223960e-01,\n",
       "         2.58109287e-01,   2.63605478e-01,   2.64017665e-01,\n",
       "         2.65095964e-01,   2.71002421e-01,   2.71991998e-01,\n",
       "         2.76537668e-01,   2.77162309e-01,   2.78737626e-01,\n",
       "         2.81387864e-01,   2.82386721e-01,   2.86622484e-01,\n",
       "         2.89127120e-01,   2.89190020e-01,   2.90846692e-01,\n",
       "         2.90883992e-01,   2.92925597e-01,   2.95475220e-01,\n",
       "         2.98383985e-01,   2.98402332e-01,   3.01263887e-01,\n",
       "         3.02179372e-01,   3.02383536e-01,   3.03679310e-01,\n",
       "         3.09514903e-01,   3.14772213e-01,   3.17424277e-01,\n",
       "         3.20459556e-01,   3.21520277e-01,   3.23348064e-01,\n",
       "         3.25024124e-01,   3.25536847e-01,   3.31271173e-01,\n",
       "         3.32431528e-01,   3.33679898e-01,   3.33994877e-01,\n",
       "         3.36159427e-01,   3.48726640e-01,   3.48948457e-01,\n",
       "         3.49186436e-01,   3.50255623e-01,   3.51243085e-01,\n",
       "         3.54146919e-01,   3.57857376e-01,   3.60241421e-01,\n",
       "         3.61613309e-01,   3.65318809e-01,   3.69827145e-01,\n",
       "         3.72343429e-01,   3.72640501e-01,   3.74917671e-01,\n",
       "         3.77272998e-01,   3.77780339e-01,   3.80367838e-01,\n",
       "         3.80404816e-01,   3.84959904e-01,   3.85530452e-01,\n",
       "         3.89732511e-01,   3.97124761e-01,   3.97294983e-01,\n",
       "         4.00319004e-01,   4.05441694e-01,   4.06833198e-01,\n",
       "         4.11024327e-01,   4.12194330e-01,   4.21452424e-01,\n",
       "         4.25098264e-01,   4.25975758e-01,   4.30970006e-01,\n",
       "         4.31652541e-01,   4.34085190e-01,   4.36954847e-01,\n",
       "         4.37103900e-01,   4.40381862e-01,   4.43506659e-01,\n",
       "         4.44077545e-01,   4.46844032e-01,   4.50064970e-01,\n",
       "         4.50070832e-01,   4.57604680e-01,   4.66692845e-01,\n",
       "         4.72353611e-01,   4.74002019e-01,   4.74947081e-01,\n",
       "         4.75081950e-01,   4.75421360e-01,   4.82379555e-01,\n",
       "         4.87132294e-01,   4.88173981e-01,   4.91486680e-01,\n",
       "         4.92152685e-01,   4.93524904e-01,   4.94424232e-01,\n",
       "         4.94916452e-01,   4.96084861e-01,   4.96403233e-01,\n",
       "         5.02357497e-01,   5.03954545e-01,   5.04468396e-01,\n",
       "         5.09086439e-01,   5.16420093e-01,   5.22077333e-01,\n",
       "         5.22333210e-01,   5.23872850e-01,   5.25778159e-01,\n",
       "         5.30756927e-01,   5.32467543e-01,   5.35895052e-01,\n",
       "         5.36929576e-01,   5.39093622e-01,   5.44256146e-01,\n",
       "         5.45993341e-01,   5.46892227e-01,   5.47154781e-01,\n",
       "         5.47589882e-01,   5.47898541e-01,   5.51359094e-01,\n",
       "         5.51937740e-01,   5.59576364e-01,   5.62811562e-01,\n",
       "         5.67308300e-01,   5.67627072e-01,   5.70342249e-01,\n",
       "         5.79218829e-01,   5.81435736e-01,   5.84092754e-01,\n",
       "         5.86034470e-01,   5.87000959e-01,   6.01622512e-01,\n",
       "         6.10483802e-01,   6.15016274e-01,   6.29808784e-01,\n",
       "         6.32489963e-01,   6.43645918e-01,   6.45868978e-01,\n",
       "         6.51626478e-01,   6.52063951e-01,   6.53056773e-01,\n",
       "         6.55666180e-01,   6.67901550e-01,   6.71657212e-01,\n",
       "         6.91248433e-01,   6.93367335e-01,   6.95581694e-01,\n",
       "         6.96413912e-01,   7.01313930e-01,   7.02919430e-01,\n",
       "         7.04343890e-01,   7.05401729e-01,   7.08876675e-01,\n",
       "         7.11065655e-01,   7.14487611e-01,   7.15560380e-01,\n",
       "         7.15615298e-01,   7.21108354e-01,   7.25118436e-01,\n",
       "         7.34511396e-01,   7.38125475e-01,   7.38644476e-01,\n",
       "         7.41590056e-01,   7.51003976e-01,   7.51697892e-01,\n",
       "         7.62252872e-01,   7.70207814e-01,   7.70579763e-01,\n",
       "         7.70958765e-01,   7.72893266e-01,   7.76265611e-01,\n",
       "         7.77626371e-01,   7.79605721e-01,   7.80092181e-01,\n",
       "         7.81707736e-01,   7.81943107e-01,   7.83451111e-01,\n",
       "         7.84037027e-01,   7.91607325e-01,   7.92544087e-01,\n",
       "         7.92702974e-01,   7.98333857e-01,   8.03438021e-01,\n",
       "         8.09486758e-01,   8.14344263e-01,   8.24885195e-01,\n",
       "         8.32132727e-01,   8.32993793e-01,   8.33816023e-01,\n",
       "         8.34577435e-01,   8.34961934e-01,   8.37030760e-01,\n",
       "         8.37665334e-01,   8.39919768e-01,   8.45955331e-01,\n",
       "         8.52350859e-01,   8.53650128e-01,   8.54141501e-01,\n",
       "         8.55316239e-01,   8.57137000e-01,   8.62212764e-01,\n",
       "         8.67795573e-01,   8.70333576e-01,   8.78073436e-01,\n",
       "         8.80870853e-01,   8.81735667e-01,   8.84021743e-01,\n",
       "         8.89440976e-01,   8.92337352e-01,   8.93623511e-01,\n",
       "         8.95091520e-01,   9.07899779e-01,   9.11351563e-01,\n",
       "         9.29930303e-01,   9.39301010e-01,   9.40201592e-01,\n",
       "         9.49259035e-01,   9.55006329e-01,   9.59413734e-01,\n",
       "         9.65565772e-01,   9.69860463e-01,   9.75177339e-01,\n",
       "         9.87646411e-01,   9.88676042e-01,   9.90395381e-01,\n",
       "         1.00175417e+00,   1.00431521e+00,   1.00670718e+00,\n",
       "         1.01016875e+00,   1.01071612e+00,   1.01179257e+00,\n",
       "         1.01390587e+00,   1.01439102e+00,   1.02872251e+00,\n",
       "         1.03360987e+00,   1.03505404e+00,   1.03514777e+00,\n",
       "         1.03665229e+00,   1.03697939e+00,   1.03701005e+00,\n",
       "         1.03715695e+00,   1.04620247e+00,   1.05070244e+00,\n",
       "         1.05382861e+00,   1.05412050e+00,   1.05574348e+00,\n",
       "         1.06392951e+00,   1.06697915e+00,   1.06786392e+00,\n",
       "         1.06936666e+00,   1.07108315e+00,   1.07678277e+00,\n",
       "         1.07767831e+00,   1.07802057e+00,   1.08036822e+00,\n",
       "         1.08390335e+00,   1.08844657e+00,   1.09078785e+00,\n",
       "         1.09172841e+00,   1.09701717e+00,   1.09724481e+00,\n",
       "         1.09833160e+00,   1.09970085e+00,   1.10064936e+00,\n",
       "         1.10089204e+00,   1.10184473e+00,   1.10661270e+00,\n",
       "         1.10917199e+00,   1.11291446e+00,   1.11571064e+00,\n",
       "         1.11585149e+00,   1.12069792e+00,   1.12310508e+00,\n",
       "         1.13020613e+00,   1.13167762e+00,   1.15918182e+00,\n",
       "         1.15941456e+00,   1.16112236e+00,   1.17320602e+00,\n",
       "         1.17617953e+00,   1.17937918e+00,   1.18276470e+00,\n",
       "         1.18579599e+00,   1.18828818e+00,   1.18838136e+00,\n",
       "         1.19571859e+00,   1.19840290e+00,   1.20080168e+00,\n",
       "         1.21649999e+00,   1.22252675e+00,   1.22643072e+00,\n",
       "         1.22883124e+00,   1.23626438e+00,   1.24424870e+00,\n",
       "         1.26335750e+00,   1.26765649e+00,   1.26784660e+00,\n",
       "         1.26848861e+00,   1.26926826e+00,   1.27152187e+00,\n",
       "         1.27514899e+00,   1.29067345e+00,   1.29146074e+00,\n",
       "         1.29151735e+00,   1.29229925e+00,   1.29803422e+00,\n",
       "         1.29979970e+00,   1.30092508e+00,   1.30823060e+00,\n",
       "         1.30891938e+00,   1.31456920e+00,   1.33286897e+00,\n",
       "         1.33354634e+00,   1.33762905e+00,   1.33919405e+00,\n",
       "         1.34078273e+00,   1.34103184e+00,   1.35409489e+00,\n",
       "         1.35685207e+00,   1.35901581e+00,   1.36720250e+00,\n",
       "         1.39179789e+00,   1.39512383e+00,   1.39817700e+00,\n",
       "         1.41083133e+00,   1.41096632e+00,   1.41438780e+00,\n",
       "         1.42701868e+00,   1.43281092e+00,   1.43975603e+00,\n",
       "         1.44162187e+00,   1.46691794e+00,   1.46836521e+00,\n",
       "         1.47699594e+00,   1.51910824e+00,   1.53044370e+00,\n",
       "         1.53321918e+00,   1.54149316e+00,   1.54298147e+00,\n",
       "         1.54779696e+00,   1.56528626e+00,   1.56935402e+00,\n",
       "         1.56999773e+00,   1.58454775e+00,   1.60830684e+00,\n",
       "         1.61130951e+00,   1.61586915e+00,   1.61703933e+00,\n",
       "         1.63317277e+00,   1.63479277e+00,   1.63489276e+00,\n",
       "         1.65068157e+00,   1.66832492e+00,   1.67553587e+00,\n",
       "         1.68264585e+00,   1.69443042e+00,   1.69598038e+00,\n",
       "         1.69656305e+00,   1.70111487e+00,   1.70751490e+00,\n",
       "         1.73837516e+00,   1.74997320e+00,   1.75044347e+00,\n",
       "         1.75062617e+00,   1.75319521e+00,   1.78369694e+00,\n",
       "         1.80450567e+00,   1.82241699e+00,   1.83865293e+00,\n",
       "         1.88462766e+00,   1.92288078e+00,   1.92390815e+00,\n",
       "         1.92496569e+00,   1.92830334e+00,   1.94241630e+00,\n",
       "         1.95026542e+00,   1.95271796e+00,   1.96455755e+00,\n",
       "         1.97595693e+00,   1.97601626e+00,   1.98381290e+00,\n",
       "         1.99418782e+00,   1.99968510e+00,   2.00272647e+00,\n",
       "         2.01696046e+00,   2.01758653e+00,   2.03348601e+00,\n",
       "         2.03990676e+00,   2.05740432e+00,   2.06781134e+00,\n",
       "         2.09352587e+00,   2.11173572e+00,   2.13579307e+00,\n",
       "         2.16703751e+00,   2.18045589e+00,   2.20021121e+00,\n",
       "         2.26180763e+00,   2.27752825e+00,   2.28871749e+00,\n",
       "         2.29152562e+00,   2.37131469e+00,   2.42653673e+00,\n",
       "         2.43301496e+00,   2.48127730e+00,   2.49992051e+00,\n",
       "         2.51895677e+00,   2.59036972e+00,   2.74930032e+00,\n",
       "         2.77433456e+00,   2.82604949e+00,   3.02544496e+00,\n",
       "         3.03246224e+00])"
      ]
     },
     "execution_count": 44,
     "metadata": {},
     "output_type": "execute_result"
    }
   ],
   "source": [
    "large_arr.sort()\n",
    "large_arr"
   ]
  },
  {
   "cell_type": "code",
   "execution_count": 45,
   "metadata": {},
   "outputs": [
    {
     "data": {
      "text/plain": [
       "-1.5939523976254313"
      ]
     },
     "execution_count": 45,
     "metadata": {},
     "output_type": "execute_result"
    }
   ],
   "source": [
    "large_arr[int(0.05 * len(large_arr))] # 5% quantile"
   ]
  },
  {
   "cell_type": "markdown",
   "metadata": {},
   "source": [
    "# 唯一化以及其它的集合逻辑"
   ]
  },
  {
   "cell_type": "code",
   "execution_count": 46,
   "metadata": {},
   "outputs": [
    {
     "data": {
      "text/plain": [
       "array(['Bob', 'Joe', 'Will'],\n",
       "      dtype='<U4')"
      ]
     },
     "execution_count": 46,
     "metadata": {},
     "output_type": "execute_result"
    }
   ],
   "source": [
    "names = np.array(['Bob', 'Joe', 'Will', 'Bob', 'Will', 'Joe', 'Joe'])\n",
    "np.unique(names)"
   ]
  },
  {
   "cell_type": "code",
   "execution_count": 47,
   "metadata": {},
   "outputs": [
    {
     "data": {
      "text/plain": [
       "array([ True, False, False,  True,  True, False,  True], dtype=bool)"
      ]
     },
     "execution_count": 47,
     "metadata": {},
     "output_type": "execute_result"
    }
   ],
   "source": [
    "values = np.array([6, 0, 0, 3, 2, 5, 6])\n",
    "np.in1d(values, [2, 3, 6])"
   ]
  },
  {
   "cell_type": "code",
   "execution_count": null,
   "metadata": {},
   "outputs": [],
   "source": []
  }
 ],
 "metadata": {
  "kernelspec": {
   "display_name": "Python 3",
   "language": "python",
   "name": "python3"
  },
  "language_info": {
   "codemirror_mode": {
    "name": "ipython",
    "version": 3
   },
   "file_extension": ".py",
   "mimetype": "text/x-python",
   "name": "python",
   "nbconvert_exporter": "python",
   "pygments_lexer": "ipython3",
   "version": "3.6.2"
  }
 },
 "nbformat": 4,
 "nbformat_minor": 2
}
