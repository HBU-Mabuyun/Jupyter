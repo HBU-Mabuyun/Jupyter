{
 "cells": [
  {
   "cell_type": "markdown",
   "metadata": {},
   "source": [
    "# Advantages of Estimators"
   ]
  },
  {
   "cell_type": "markdown",
   "metadata": {},
   "source": [
    "Estimators提供以下好处：\n",
    "\n",
    "您可以在不改变模型的情况下，在本地主机上或分布式多服务器环境中运行基于评估的模型。\n",
    "此外，您可以在不重新编码模型的情况下，在cpu、gpu或TPUs上运行基于Estimators的模型。\n",
    "\n",
    "Estimators 简化了模型开发人员之间的共享实现。\n",
    "\n",
    "你可以用高级直观的代码来开发一种艺术模型，简而言之，用Estimators创建模型通常要比使用低级的TensorFlow api容易得多。\n",
    "\n",
    "Estimators是自动建立在tf.layers之上的,简化了定制。\n",
    "\n",
    "Estimators为您构建图。换句话说，你不需要构建图。\n",
    "\n",
    "Estimators提供了一个安全的分布式训练循环，它控制着如何以及何时：\n",
    "- 建立图\n",
    "- 初始化变量\n",
    "- 启动队列\n",
    "- 处理异常\n",
    "- 创建检查点 和 错误恢复\n",
    "- 保存TensorBoard的概要\n",
    "\n",
    "用Estimators编写应用程序时，您必须将数据输入管道与模型分离。这种分离简化了不同数据集的实验。"
   ]
  },
  {
   "cell_type": "markdown",
   "metadata": {},
   "source": [
    "# Pre-made Estimators"
   ]
  },
  {
   "cell_type": "markdown",
   "metadata": {},
   "source": [
    "预做的Estimators使您能够在比基础TensorFlow api更高的概念级别上工作。您不再需要担心创建计算图或会话，因为Estimators会为您处理所有的“管道”。也就是说，预制的Estimators为您创建和管理图和会话对象。此外，预做的估计器允许您通过只进行最小的代码更改来试验不同的模型架构。例如DNNClassifier, 是一个预制的估计量类，它通过密集的、前馈神经网络来训练分类模型。"
   ]
  },
  {
   "cell_type": "markdown",
   "metadata": {},
   "source": [
    "## Structure of a pre-made Estimators program"
   ]
  },
  {
   "cell_type": "markdown",
   "metadata": {},
   "source": [
    "一个依赖于预制估计量的TensorFlow程序通常由以下四个步骤组成："
   ]
  },
  {
   "cell_type": "markdown",
   "metadata": {},
   "source": [
    "### 1.编写一个或多个数据集导入函数。"
   ]
  },
  {
   "cell_type": "markdown",
   "metadata": {},
   "source": [
    "例如，您可以创建一个函数来导入培训集和另一个导入测试集的函数。每个数据集导入功能必须返回两个对象："
   ]
  },
  {
   "cell_type": "markdown",
   "metadata": {},
   "source": [
    "在字典中，键是特征名，值是包含相应特征数据的张量（或sparsetendata）"
   ]
  },
  {
   "cell_type": "markdown",
   "metadata": {},
   "source": [
    "包含一个或多个标签的张量"
   ]
  },
  {
   "cell_type": "markdown",
   "metadata": {},
   "source": [
    "### 2.定义特性列。"
   ]
  },
  {
   "cell_type": "markdown",
   "metadata": {},
   "source": [
    "### 3.实例化相关预制预估器。"
   ]
  },
  {
   "cell_type": "markdown",
   "metadata": {},
   "source": [
    "### 4.调用培训、评估或推理方法。"
   ]
  },
  {
   "cell_type": "markdown",
   "metadata": {},
   "source": [
    "## Benefits of pre-made Estimators"
   ]
  },
  {
   "cell_type": "markdown",
   "metadata": {},
   "source": [
    "预制的估计器编码最佳实践，提供以下好处："
   ]
  },
  {
   "cell_type": "markdown",
   "metadata": {},
   "source": [
    "用于确定计算图的不同部分应该运行的最佳实践，在单个机器上或集群上实施策略。"
   ]
  },
  {
   "cell_type": "markdown",
   "metadata": {},
   "source": [
    "事件（摘要）写作和普遍有用的总结的最佳实践。"
   ]
  },
  {
   "cell_type": "markdown",
   "metadata": {},
   "source": [
    "如果您不使用预估的估计器，您必须自己实现前面的特性。"
   ]
  },
  {
   "cell_type": "markdown",
   "metadata": {},
   "source": [
    "# Custom Estimators"
   ]
  },
  {
   "cell_type": "markdown",
   "metadata": {},
   "source": [
    "每个评估者的核心——无论是预制还是自定义——都是其模型功能，是一种为训练、评估和预测建立图表的方法。当您使用预估的预估程序时，其他人已经实现了模型功能。当依赖自定义预估程序时，您必须自己编写模型函数。一个配套的文档解释了如何编写模型函数。"
   ]
  },
  {
   "cell_type": "markdown",
   "metadata": {},
   "source": [
    "# Recommended workflow"
   ]
  },
  {
   "cell_type": "markdown",
   "metadata": {},
   "source": [
    "假设有一个合适的预估预估器存在，那么使用它来构建您的第一个模型，并使用它的结果来建立一个基线。"
   ]
  },
  {
   "cell_type": "markdown",
   "metadata": {},
   "source": [
    "构建和测试您的整个管道，包括您的数据的完整性和可靠性，以及这个预制的估计量。"
   ]
  },
  {
   "cell_type": "markdown",
   "metadata": {},
   "source": [
    "如果有合适的预制预估器可用，则运行实验来确定预制预估器产生最佳结果。"
   ]
  },
  {
   "cell_type": "markdown",
   "metadata": {},
   "source": [
    "可能，通过构建您自己的自定义估计器来进一步改进您的模型。"
   ]
  },
  {
   "cell_type": "markdown",
   "metadata": {},
   "source": [
    "# Creating Estimators from Keras models"
   ]
  },
  {
   "cell_type": "markdown",
   "metadata": {},
   "source": [
    "您可以将现有的Keras模型转换为估计器。这样做使您的Keras模型能够访问评估人员的优势，例如分布式培训。"
   ]
  },
  {
   "cell_type": "code",
   "execution_count": null,
   "metadata": {},
   "outputs": [],
   "source": []
  }
 ],
 "metadata": {
  "kernelspec": {
   "display_name": "Python 3",
   "language": "python",
   "name": "python3"
  },
  "language_info": {
   "codemirror_mode": {
    "name": "ipython",
    "version": 3
   },
   "file_extension": ".py",
   "mimetype": "text/x-python",
   "name": "python",
   "nbconvert_exporter": "python",
   "pygments_lexer": "ipython3",
   "version": "3.6.2"
  }
 },
 "nbformat": 4,
 "nbformat_minor": 2
}
