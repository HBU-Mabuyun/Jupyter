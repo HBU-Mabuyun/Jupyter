{
 "cells": [
  {
   "cell_type": "code",
   "execution_count": 1,
   "metadata": {},
   "outputs": [],
   "source": [
    "%matplotlib inline"
   ]
  },
  {
   "cell_type": "markdown",
   "metadata": {},
   "source": [
    "\n",
    "Deep Learning with PyTorch\n",
    "**************************\n",
    "\n",
    "Deep Learning Building Blocks: Affine maps, non-linearities and objectives\n",
    "深度学习构建模块：仿射映射、非线性和对象\n",
    "==========================================================================\n",
    "\n",
    "Deep learning consists of composing linearities with non-linearities in clever ways. \n",
    "\n",
    "深度学习包含以巧妙的方式组合的非线性的线性关系。\n",
    "\n",
    "The introduction of non-linearities allows for powerful models. \n",
    "\n",
    "非线性的引入允许有强大的模型。\n",
    "\n",
    "In this section, we will play with these core components, make up an objective function, and see how the model is trained.\n",
    "\n",
    "在本节中，我们将使用这些核心组件，组成一个目标函数，并查看模型是如何被训练的。\n",
    "\n",
    "Affine Maps\n",
    "## 仿射映射\n",
    "\n",
    "### 一个向量空间进行一次线性变换并接上一个平移，变换为另一个向量空间。\n",
    "\n",
    "One of the core workhorses of deep learning is the affine map, which is a function $f(x)$ where\n",
    "\n",
    "深度学习的核心工作之一是仿射映射，它是一个函数$f(x)$：\n",
    "\n",
    "\\begin{align}f(x) = Ax + b\\end{align}\n",
    "\n",
    "for a matrix $A$ and vectors $x, b$. The parameters to be learned here are $A$ and $b$. \n",
    "\n",
    "对于一个矩阵$A$和向量$x$，$b$。这里要学习的参数是$A$和$b$。\n",
    "\n",
    "Often, $b$ is refered to as the *bias* term.\n",
    "\n",
    "通常，$b$被用为$偏差$项。\n",
    "\n",
    "PyTorch and most other deep learning frameworks do things a little differently than traditional linear algebra. \n",
    "\n",
    "PyTorch和大多数其他深度学习框架的做法，与传统的线性代数略有不同。\n",
    "\n",
    "It maps the rows of the input instead of the columns. \n",
    "\n",
    "它映射输入的行而不是列。\n",
    "\n",
    "That is, the $i$'th row of the output below is the mapping of the $i$'th row of the input under $A$, plus the bias term. \n",
    "\n",
    "也就是说，输出的第$i$行下面，是在$A$下面的第$i$行的映射，加上偏差项。\n",
    "\n",
    "Look at the example below.\n",
    "\n",
    "\n",
    "请看下面的例子。"
   ]
  },
  {
   "cell_type": "code",
   "execution_count": 2,
   "metadata": {},
   "outputs": [
    {
     "data": {
      "text/plain": [
       "<torch._C.Generator at 0x244abc3b4f0>"
      ]
     },
     "execution_count": 2,
     "metadata": {},
     "output_type": "execute_result"
    }
   ],
   "source": [
    "# Author: Robert Guthrie\n",
    "\n",
    "import torch\n",
    "import torch.nn as nn\n",
    "import torch.nn.functional as F\n",
    "import torch.optim as optim\n",
    "\n",
    "torch.manual_seed(1)"
   ]
  },
  {
   "cell_type": "code",
   "execution_count": 3,
   "metadata": {},
   "outputs": [
    {
     "data": {
      "text/plain": [
       "Linear(in_features=5, out_features=3, bias=True)"
      ]
     },
     "execution_count": 3,
     "metadata": {},
     "output_type": "execute_result"
    }
   ],
   "source": [
    "lin = nn.Linear(5, 3)  # maps from R^5 to R^3, parameters A, b\n",
    "lin"
   ]
  },
  {
   "cell_type": "code",
   "execution_count": 4,
   "metadata": {},
   "outputs": [
    {
     "data": {
      "text/plain": [
       "tensor([[-1.1948,  0.0250, -0.7627,  1.3969, -0.3245],\n",
       "        [ 0.2879,  1.0579,  0.9621,  0.3935,  1.1322]])"
      ]
     },
     "execution_count": 4,
     "metadata": {},
     "output_type": "execute_result"
    }
   ],
   "source": [
    "# data is 2x5.  A maps from 5 to 3... can we map \"data\" under A?\n",
    "data = torch.randn(2, 5)\n",
    "data"
   ]
  },
  {
   "cell_type": "code",
   "execution_count": 5,
   "metadata": {},
   "outputs": [
    {
     "data": {
      "text/plain": [
       "tensor([[ 0.1755, -0.3268, -0.5069],\n",
       "        [-0.6602,  0.2260,  0.1089]])"
      ]
     },
     "execution_count": 5,
     "metadata": {},
     "output_type": "execute_result"
    }
   ],
   "source": [
    "lin(data)  # yes"
   ]
  },
  {
   "cell_type": "markdown",
   "metadata": {},
   "source": [
    "Non-Linearities\n",
    "# 非线性关系\n",
    "\n",
    "First, note the following fact, which will explain why we need non-linearities in the first place. \n",
    "\n",
    "首先，注意以下事实，这将解释：为什么我们首先需要非线性。\n",
    "\n",
    "Suppose we have two affine maps\n",
    "\n",
    "假设我们有两个仿射变换\n",
    "\n",
    "$f(x) = Ax + b$   和  $g(x) = Cx + d$. \n",
    "\n",
    "What is  $f(g(x))$?\n",
    "\n",
    "\\begin{align}f(g(x)) = A(Cx + d) + b = ACx + (Ad + b)\\end{align}\n",
    "\n",
    "$AC$ is a matrix and $Ad + b$ is a vector, so we see that composing affine maps gives you an affine map.\n",
    "\n",
    "所以我们看到，合成仿射映射会给你一个仿射映射\n",
    "\n",
    "From this, you can see that if you wanted your neural network to be long chains of affine compositions, that this adds no new power to your model than just doing a single affine map.\n",
    "\n",
    "由此，你可以看到，如果你想让你的神经网络成为一长串的仿射组合，那么，比起只做一个仿射映射，这对你的模型来说并没有什么新的力量。\n",
    "\n",
    "If we introduce non-linearities in between the affine layers, this is no longer the case, and we can build much more powerful models.\n",
    "\n",
    "如果我们在仿射层之间引入非线性，现在已经不是这样了，我们可以构建更强大的模型。\n",
    "\n",
    "There are a few core non-linearities.\n",
    "\n",
    "有一些核心的非线性。\n",
    "\n",
    "$\\tanh(x), \\sigma(x), \\text{ReLU}(x)$ are the most common. 是最常见的。\n",
    "\n",
    "You are probably wondering: \"why these functions? I can think of plenty of other non-linearities.\" \n",
    "\n",
    "你可能在想：“为什么这些函数？我能想到很多其他的非线性。”\n",
    "\n",
    "The reason for this is that they have gradients that are easy to compute, and computing gradients is essential for learning.\n",
    "\n",
    "这样做的原因是它们的梯度很容易计算，而计算梯度对于学习是必不可少的。\n",
    "\n",
    "For example\n",
    "\n",
    "\\begin{align}\\frac{d\\sigma}{dx} = \\sigma(x)(1 - \\sigma(x))\\end{align}\n",
    "\n",
    "A quick note: \n",
    "\n",
    "although you may have learned some neural networks in your intro to AI class where $\\sigma(x)$ was the default non-linearity,typically people shy away from it in practice. \n",
    "\n",
    "尽管你可能已经在AI课程的介绍中学习了一些神经网络，在这里，$sigma（x）$是默认的非线性，通常人们在实践中会回避它。\n",
    "\n",
    "This is because the gradient *vanishes* very quickly as the absolute value of the argument grows. \n",
    "\n",
    "这是因为当参数的绝对值增加时，梯度就会很快消失。\n",
    "\n",
    "Small gradients means it is hard to learn.\n",
    "\n",
    "小的梯度意味着它很难学。\n",
    "\n",
    "Most people default to tanh or ReLU.\n",
    "\n",
    "大多数人默认用tanh或ReLU。\n"
   ]
  },
  {
   "cell_type": "code",
   "execution_count": 6,
   "metadata": {},
   "outputs": [
    {
     "name": "stdout",
     "output_type": "stream",
     "text": [
      "tensor([[-0.5404, -2.2102],\n",
      "        [ 2.1130, -0.0040]])\n",
      "tensor([[ 0.0000,  0.0000],\n",
      "        [ 2.1130,  0.0000]])\n"
     ]
    }
   ],
   "source": [
    "# In pytorch, most non-linearities are in torch.functional (we have it imported as F)\n",
    "# Note that non-linearites typically don't have parameters like affine maps do.\n",
    "# That is, they don't have weights that are updated during training.\n",
    "data = torch.randn(2, 2)\n",
    "print(data)\n",
    "print(F.relu(data))"
   ]
  },
  {
   "cell_type": "markdown",
   "metadata": {},
   "source": [
    "## Softmax and Probabilities\n",
    "\n",
    "\n",
    "The function $\\text{Softmax}(x)$ is also just a non-linearity, but it is special in that it usually is the last operation done in a\n",
    "network. \n",
    "\n",
    "This is because it takes in a vector of real numbers and returns a probability distribution. \n",
    "\n",
    "Its definition is as follows. \n",
    "\n",
    "Let $x$ be a vector of real numbers (positive, negative, whatever,there are no constraints). \n",
    "\n",
    "Then the i'th component of $\\text{Softmax}(x)$ is \\begin{align}\\frac{\\exp(x_i)}{\\sum_j \\exp(x_j)}\\end{align}\n",
    "\n",
    "It should be clear that the output is a probability distribution: each element is non-negative and the sum over all components is 1.\n",
    "\n",
    "You could also think of it as just applying an element-wise exponentiation operator to the input to make everything non-negative and\n",
    "then dividing by the normalization constant.\n",
    "\n",
    "\n"
   ]
  },
  {
   "cell_type": "code",
   "execution_count": 7,
   "metadata": {},
   "outputs": [
    {
     "name": "stdout",
     "output_type": "stream",
     "text": [
      "tensor([ 1.3800, -1.3505,  0.3455,  0.5046,  1.8213])\n",
      "tensor([ 0.2948,  0.0192,  0.1048,  0.1228,  0.4584])\n",
      "tensor(1.)\n",
      "tensor([-1.2214, -3.9519, -2.2560, -2.0969, -0.7801])\n",
      "tensor(-10.3063)\n"
     ]
    }
   ],
   "source": [
    "# Softmax is also in torch.nn.functional\n",
    "data = torch.randn(5)\n",
    "print(data)\n",
    "print(F.softmax(data, dim=0))\n",
    "print(F.softmax(data, dim=0).sum())  # Sums to 1 because it is a distribution!\n",
    "print(F.log_softmax(data, dim=0))  # theres also log_softmax\n",
    "print(F.log_softmax(data, dim=0).sum()) "
   ]
  },
  {
   "cell_type": "markdown",
   "metadata": {},
   "source": [
    "## Objective Functions\n",
    "\n",
    "### loss function 损失函数\n",
    "\n",
    "The objective function is the function that your network is being trained to minimize (in which case it is often called a *loss function*\n",
    "or *cost function*). \n",
    "\n",
    "This proceeds by first choosing a training instance, running it through your neural network, and then computing the loss of the output. \n",
    "\n",
    "The parameters of the model are then updated by taking the derivative（导数） of the loss function. \n",
    "\n",
    "Intuitively（直观地）, if your model is completely confident in its answer, and its answer is wrong, your loss will be high. \n",
    "\n",
    "If it is very confident in its answer, and its answer is correct, the loss will be low.\n",
    "\n",
    "The idea behind minimizing the loss function on your training examples is that your network will hopefully generalize well and have small loss on unseen examples in your dev set, test set, or in production. \n",
    "\n",
    "An example loss function is the *negative log likelihood loss （负对数似然损失）*, which is a very common objective for multi-class classification. \n",
    "\n",
    "For supervised multi-class classification, this means training the network to minimize the negative log probability of the correct output (or equivalently,maximize the log probability of the correct output).\n",
    "\n",
    "\n"
   ]
  },
  {
   "cell_type": "markdown",
   "metadata": {},
   "source": [
    "Optimization（优化） and Training\n",
    "=========================\n",
    "\n",
    "So what we can compute a loss function for an instance? \n",
    "\n",
    "What do we do with that? \n",
    "\n",
    "We saw earlier that Tensors know how to compute gradients（梯度） with respect to the things that were used to compute it. \n",
    "\n",
    "Well,since our loss is an Tensor, we can compute gradients with respect to all of the parameters used to compute it! \n",
    "\n",
    "Then we can perform standard gradient updates. \n",
    "\n",
    "### Let $\\theta$ be our parameters,$L(\\theta)$ the loss function, and $\\eta$ a positive learning rate. Then:\n",
    "\n",
    "\\begin{align}\\theta^{(t+1)} = \\theta^{(t)} - \\eta \\nabla_\\theta L(\\theta)\\end{align}\n",
    "\n",
    "There are a huge collection of algorithms and active research in attempting to do something more than just this vanilla gradient（批梯度） update.\n",
    "\n",
    "[Vanilla gradient descent 又称为 Batch gradient descent (BGD)，其需要计算整个训练集的梯度](https://blog.csdn.net/shuzfan/article/details/75675568)\n",
    "\n",
    "Many attempt to vary（改变） the learning rate based on what is happening at train time. \n",
    "\n",
    "You don't need to worry about what specifically（明确的） these algorithms are doing unless you are really interested. \n",
    "\n",
    "Torch provides many in the torch.optim package, and they are all completely transparent（透明的）. \n",
    "\n",
    "Using the simplest gradient update is the same as the more complicated algorithms. \n",
    "\n",
    "Trying different update algorithms and different parameters for the update algorithms (like different initial learning rates) is important in optimizing your network's performance. \n",
    "\n",
    "Often,just replacing vanilla SGD with an optimizer like Adam or RMSProp will boost performance （提高性能） noticably.\n",
    "\n",
    "Stochastic gradient descent (SGD) 随机梯度下降\n",
    "\n",
    "vanilla SGD 朴素SGD"
   ]
  },
  {
   "cell_type": "markdown",
   "metadata": {},
   "source": [
    "Creating Network Components in PyTorch\n",
    "======================================\n",
    "\n",
    "Before we move on to our focus on NLP, lets do an annotated（有注释的） example of building a network in PyTorch using only affine maps and non-linearities. \n",
    "\n",
    "We will also see how to compute a loss function, using PyTorch's built in negative log likelihood, and update parameters by\n",
    "backpropagation.\n",
    "\n",
    "All network components should inherit（继承） from nn.Module and override（覆盖 重写 重载） the forward() method. \n",
    "\n",
    "That is about it, as far as the boilerplate（引用） is concerned. \n",
    "\n",
    "Inheriting from nn.Module provides functionality to your component. \n",
    "\n",
    "For example, it makes it keep track of its trainable parameters, you can swap it between CPU and GPU with the ``.to(device)``\n",
    "method, where device can be a CPU device ``torch.device(\"cpu\")`` or CUDA device ``torch.device(\"cuda:0\")``.\n",
    "\n",
    "Let's write an annotated example of a network that takes in a sparse bag-of-words representation and outputs a probability distribution over two labels: \"English\" and \"Spanish\". \n",
    "\n",
    "This model is just logistic regression.\n"
   ]
  },
  {
   "cell_type": "markdown",
   "metadata": {},
   "source": [
    "## Example: Logistic Regression Bag-of-Words classifier\n",
    "\n",
    "\n",
    "Our model will map a sparse BoW representation to log probabilities over labels. \n",
    "\n",
    "We assign（指定） each word in the vocab（词汇vocabulary） an index. \n",
    "\n",
    "For example, say our entire vocab is two words \"hello\" and \"world\", with indices 0 and 1 respectively（分别地）. \n",
    "\n",
    "The BoW vector for the sentence \"hello hello hello hello\" is \\begin{align}\\left[ 4, 0 \\right]\\end{align}\n",
    "\n",
    "For \"hello world world hello\", it is \\begin{align}\\left[ 2, 2 \\right]\\end{align} etc. \n",
    "\n",
    "In general, it is \\begin{align}\\left[ \\text{Count}(\\text{hello}), \\text{Count}(\\text{world}) \\right]\\end{align}\n",
    "\n",
    "Denote（表示） this BOW vector as $x$. \n",
    "\n",
    "The output of our network is: \\begin{align}\\log \\text{Softmax}(Ax + b)\\end{align}\n",
    "\n",
    "That is, we pass the input through an affine map and then do log softmax.\n",
    "\n",
    "\n"
   ]
  },
  {
   "cell_type": "code",
   "execution_count": 13,
   "metadata": {},
   "outputs": [],
   "source": [
    "data = [(\"me gusta comer en la cafeteria\".split(), \"SPANISH\"),\n",
    "        (\"Give it to me\".split(), \"ENGLISH\"),\n",
    "        (\"No creo que sea una buena idea\".split(), \"SPANISH\"),\n",
    "        (\"No it is not a good idea to get lost at sea\".split(), \"ENGLISH\")]\n",
    "\n",
    "test_data = [(\"Yo creo que si\".split(), \"SPANISH\"),\n",
    "             (\"it is lost on me\".split(), \"ENGLISH\")]"
   ]
  },
  {
   "cell_type": "code",
   "execution_count": 14,
   "metadata": {},
   "outputs": [
    {
     "data": {
      "text/plain": [
       "[(['me', 'gusta', 'comer', 'en', 'la', 'cafeteria'], 'SPANISH'),\n",
       " (['Give', 'it', 'to', 'me'], 'ENGLISH'),\n",
       " (['No', 'creo', 'que', 'sea', 'una', 'buena', 'idea'], 'SPANISH'),\n",
       " (['No',\n",
       "   'it',\n",
       "   'is',\n",
       "   'not',\n",
       "   'a',\n",
       "   'good',\n",
       "   'idea',\n",
       "   'to',\n",
       "   'get',\n",
       "   'lost',\n",
       "   'at',\n",
       "   'sea'],\n",
       "  'ENGLISH')]"
      ]
     },
     "execution_count": 14,
     "metadata": {},
     "output_type": "execute_result"
    }
   ],
   "source": [
    "data"
   ]
  },
  {
   "cell_type": "code",
   "execution_count": 15,
   "metadata": {},
   "outputs": [
    {
     "data": {
      "text/plain": [
       "[(['Yo', 'creo', 'que', 'si'], 'SPANISH'),\n",
       " (['it', 'is', 'lost', 'on', 'me'], 'ENGLISH')]"
      ]
     },
     "execution_count": 15,
     "metadata": {},
     "output_type": "execute_result"
    }
   ],
   "source": [
    "test_data"
   ]
  },
  {
   "cell_type": "code",
   "execution_count": 17,
   "metadata": {},
   "outputs": [
    {
     "name": "stdout",
     "output_type": "stream",
     "text": [
      "{'me': 0, 'gusta': 1, 'comer': 2, 'en': 3, 'la': 4, 'cafeteria': 5, 'Give': 6, 'it': 7, 'to': 8, 'No': 9, 'creo': 10, 'que': 11, 'sea': 12, 'una': 13, 'buena': 14, 'idea': 15, 'is': 16, 'not': 17, 'a': 18, 'good': 19, 'get': 20, 'lost': 21, 'at': 22, 'Yo': 23, 'si': 24, 'on': 25}\n"
     ]
    }
   ],
   "source": [
    "# word_to_ix maps each word in the vocab to a unique integer, which will be its index into the Bag of words vector\n",
    "word_to_ix = {}\n",
    "for sent, _ in data + test_data:\n",
    "    for word in sent:\n",
    "        if word not in word_to_ix:\n",
    "            word_to_ix[word] = len(word_to_ix)\n",
    "print(word_to_ix)\n",
    "\n",
    "VOCAB_SIZE = len(word_to_ix)\n",
    "NUM_LABELS = 2"
   ]
  },
  {
   "cell_type": "code",
   "execution_count": 12,
   "metadata": {},
   "outputs": [
    {
     "data": {
      "text/plain": [
       "26"
      ]
     },
     "execution_count": 12,
     "metadata": {},
     "output_type": "execute_result"
    }
   ],
   "source": [
    "VOCAB_SIZE"
   ]
  },
  {
   "cell_type": "code",
   "execution_count": 18,
   "metadata": {},
   "outputs": [],
   "source": [
    "class BoWClassifier(nn.Module):  # inheriting from nn.Module!\n",
    "\n",
    "    def __init__(self, num_labels, vocab_size):\n",
    "        # calls the init function of nn.Module.  Dont get confused by syntax,just always do it in an nn.Module\n",
    "        super(BoWClassifier, self).__init__()\n",
    "\n",
    "        # Define the parameters that you will need.  In this case, we need A and b,the parameters of the affine mapping.\n",
    "        # Torch defines nn.Linear(), which provides the affine map.\n",
    "        # Make sure you understand why the input dimension is vocab_size and the output is num_labels!\n",
    "        self.linear = nn.Linear(vocab_size, num_labels)\n",
    "\n",
    "        # NOTE! The non-linearity log softmax does not have parameters! So we don't need to worry about that here\n",
    "\n",
    "    def forward(self, bow_vec):\n",
    "        # Pass the input through the linear layer,then pass that through log_softmax.\n",
    "        # Many non-linearities and other functions are in torch.nn.functional\n",
    "        return F.log_softmax(self.linear(bow_vec), dim=1)\n"
   ]
  },
  {
   "cell_type": "code",
   "execution_count": 20,
   "metadata": {},
   "outputs": [],
   "source": [
    "def make_bow_vector(sentence, word_to_ix):\n",
    "    vec = torch.zeros(len(word_to_ix))\n",
    "    for word in sentence:\n",
    "        vec[word_to_ix[word]] += 1\n",
    "    return vec.view(1, -1)\n",
    "\n",
    "\n",
    "def make_target(label, label_to_ix):\n",
    "    return torch.LongTensor([label_to_ix[label]])\n",
    "\n",
    "\n",
    "model = BoWClassifier(NUM_LABELS, VOCAB_SIZE)"
   ]
  },
  {
   "cell_type": "code",
   "execution_count": 19,
   "metadata": {},
   "outputs": [
    {
     "name": "stdout",
     "output_type": "stream",
     "text": [
      "Parameter containing:\n",
      "tensor([[ 0.1860, -0.1301,  0.0245,  0.1464,  0.1421,  0.1218, -0.1419,\n",
      "         -0.1412, -0.1186,  0.0246,  0.1955, -0.1239,  0.1045, -0.1085,\n",
      "         -0.1844, -0.0417,  0.1130,  0.1821, -0.1218,  0.0426,  0.1692,\n",
      "          0.1300,  0.1222,  0.1394,  0.1240,  0.0507],\n",
      "        [-0.1341, -0.1647, -0.0899, -0.0228, -0.1202,  0.0717,  0.0607,\n",
      "         -0.0444,  0.0754,  0.0634,  0.1197,  0.1321, -0.0664,  0.1916,\n",
      "         -0.0227, -0.0067, -0.1851, -0.1262, -0.1146, -0.0839,  0.1394,\n",
      "         -0.0641, -0.1466,  0.0755,  0.0628,  0.1270]])\n",
      "Parameter containing:\n",
      "tensor([-0.1015,  0.0425])\n",
      "tensor([[-0.3691, -1.1756]])\n"
     ]
    }
   ],
   "source": [
    "# the model knows its parameters.  The first output below is A, the second is b.\n",
    "# Whenever you assign a component to a class variable in the __init__ function  of a module, which was done with the line\n",
    "# self.linear = nn.Linear(...)\n",
    "# Then through some Python magic from the PyTorch devs, your module (in this case, BoWClassifier) will store knowledge of the nn.Linear's parameters\n",
    "for param in model.parameters():\n",
    "    print(param)\n",
    "\n",
    "# To run the model, pass in a BoW vector\n",
    "# Here we don't need to train, so the code is wrapped in torch.no_grad()\n",
    "with torch.no_grad():\n",
    "    sample = data[0]\n",
    "    bow_vector = make_bow_vector(sample[0], word_to_ix)\n",
    "    log_probs = model(bow_vector)\n",
    "    print(log_probs)"
   ]
  },
  {
   "cell_type": "markdown",
   "metadata": {},
   "source": [
    "Which of the above values corresponds to the log probability of ENGLISH,and which to SPANISH? \n",
    "\n",
    "We never defined it, but we need to if we want to train the thing."
   ]
  },
  {
   "cell_type": "code",
   "execution_count": 21,
   "metadata": {},
   "outputs": [],
   "source": [
    "label_to_ix = {\"SPANISH\": 0, \"ENGLISH\": 1}"
   ]
  },
  {
   "cell_type": "markdown",
   "metadata": {},
   "source": [
    "### So lets train! \n",
    "\n",
    "To do this, \n",
    "1. we pass instances through to get log probabilities, \n",
    "2. compute a loss function, \n",
    "3. compute the gradient of the loss function, \n",
    "4. and then update the parameters with a gradient step. \n",
    "\n",
    "Loss functions are provided by Torch in the nn package. nn.NLLLoss() is the negative log likelihood loss we want. \n",
    "\n",
    "It also defines optimization functions in torch.optim. \n",
    "\n",
    "Here, we will just use SGD.\n",
    "\n",
    "Note that the *input* to NLLLoss is a vector of log probabilities, and a target label. \n",
    "\n",
    "It doesn't compute the log probabilities for us. \n",
    "\n",
    "This is why the last layer of our network is log softmax. \n",
    "\n",
    "The loss function nn.CrossEntropyLoss() is the same as NLLLoss(), except it does the log softmax for you."
   ]
  },
  {
   "cell_type": "code",
   "execution_count": 22,
   "metadata": {},
   "outputs": [
    {
     "name": "stdout",
     "output_type": "stream",
     "text": [
      "tensor([[-0.9991, -0.4592]])\n",
      "tensor([[-0.9562, -0.4850]])\n"
     ]
    }
   ],
   "source": [
    "# Run on test data before we train, just to see a before-and-after\n",
    "with torch.no_grad():\n",
    "    for instance, label in test_data:\n",
    "        bow_vec = make_bow_vector(instance, word_to_ix)\n",
    "        log_probs = model(bow_vec)\n",
    "        print(log_probs)"
   ]
  },
  {
   "cell_type": "code",
   "execution_count": 23,
   "metadata": {},
   "outputs": [
    {
     "name": "stdout",
     "output_type": "stream",
     "text": [
      "tensor([ 0.1338,  0.1674])\n"
     ]
    }
   ],
   "source": [
    "# Print the matrix column corresponding to \"creo\"\n",
    "print(next(model.parameters())[:, word_to_ix[\"creo\"]])"
   ]
  },
  {
   "cell_type": "code",
   "execution_count": 25,
   "metadata": {},
   "outputs": [],
   "source": [
    "loss_function = nn.NLLLoss()\n",
    "optimizer = optim.SGD(model.parameters(), lr=0.1)\n",
    "\n",
    "# Usually you want to pass over the training data several times.\n",
    "# 100 is much bigger than on a real data set, but real datasets have more than two instances.  \n",
    "#  Usually, somewhere between 5 and 30 epochs is reasonable.\n",
    "for epoch in range(100):\n",
    "    for instance, label in data:\n",
    "        # Step 1. Remember that PyTorch accumulates gradients. We need to clear them out before each instance.\n",
    "        model.zero_grad()\n",
    "\n",
    "        # Step 2. Make our BOW vector and also we must wrap the target in a Tensor as an integer. \n",
    "        # For example, if the target is SPANISH, then we wrap the integer 0. \n",
    "        # The loss function then knows that the 0th element of the log probabilities is the log probability corresponding to SPANISH\n",
    "        bow_vec = make_bow_vector(instance, word_to_ix)\n",
    "        target = make_target(label, label_to_ix)\n",
    "\n",
    "        # Step 3. Run our forward pass.\n",
    "        log_probs = model(bow_vec)\n",
    "\n",
    "        # Step 4. Compute the loss, gradients, and update the parameters by calling optimizer.step()\n",
    "        loss = loss_function(log_probs, target)\n",
    "        loss.backward()\n",
    "        optimizer.step()\n"
   ]
  },
  {
   "cell_type": "code",
   "execution_count": 26,
   "metadata": {},
   "outputs": [
    {
     "name": "stdout",
     "output_type": "stream",
     "text": [
      "tensor([[-0.1783, -1.8122]])\n",
      "tensor([[-3.2430, -0.0398]])\n"
     ]
    }
   ],
   "source": [
    "with torch.no_grad():\n",
    "    for instance, label in test_data:\n",
    "        bow_vec = make_bow_vector(instance, word_to_ix)\n",
    "        log_probs = model(bow_vec)\n",
    "        print(log_probs)"
   ]
  },
  {
   "cell_type": "code",
   "execution_count": 27,
   "metadata": {},
   "outputs": [
    {
     "name": "stdout",
     "output_type": "stream",
     "text": [
      "tensor([ 0.6079, -0.3067])\n"
     ]
    }
   ],
   "source": [
    "# Index corresponding to Spanish goes up, English goes down!\n",
    "print(next(model.parameters())[:, word_to_ix[\"creo\"]])"
   ]
  },
  {
   "cell_type": "code",
   "execution_count": 29,
   "metadata": {},
   "outputs": [
    {
     "name": "stdout",
     "output_type": "stream",
     "text": [
      "tensor([-0.3986,  0.3886])\n"
     ]
    }
   ],
   "source": [
    "print(next(model.parameters())[:, word_to_ix[\"lost\"]])"
   ]
  },
  {
   "cell_type": "markdown",
   "metadata": {},
   "source": [
    "We got the right answer! \n",
    "\n",
    "You can see that the log probability for Spanish is much higher in the first example, and the log probability for English is much higher in the second for the test data, as it should be.\n",
    "\n",
    "Now you see how to make a PyTorch component, pass some data through it and do gradient updates. \n",
    "\n",
    "We are ready to dig deeper into what deep NLP has to offer."
   ]
  },
  {
   "cell_type": "code",
   "execution_count": null,
   "metadata": {},
   "outputs": [],
   "source": []
  }
 ],
 "metadata": {
  "kernelspec": {
   "display_name": "Python 3",
   "language": "python",
   "name": "python3"
  },
  "language_info": {
   "codemirror_mode": {
    "name": "ipython",
    "version": 3
   },
   "file_extension": ".py",
   "mimetype": "text/x-python",
   "name": "python",
   "nbconvert_exporter": "python",
   "pygments_lexer": "ipython3",
   "version": "3.6.2"
  }
 },
 "nbformat": 4,
 "nbformat_minor": 1
}
