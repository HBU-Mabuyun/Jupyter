{
 "cells": [
  {
   "cell_type": "code",
   "execution_count": 1,
   "metadata": {},
   "outputs": [],
   "source": [
    "%matplotlib inline"
   ]
  },
  {
   "cell_type": "markdown",
   "metadata": {},
   "source": [
    "\n",
    "Autograd: automatic differentiation 自动微分\n",
    "===================================\n",
    "\n",
    "Central to all neural networks in PyTorch is the ``autograd`` package.\n",
    "\n",
    "PyTorch的所有神经网络的中心是“autograd”包。\n",
    "\n",
    "Let’s first briefly visit this, and we will then go to training our first neural network.\n",
    "\n",
    "让我们先简单地了解一下，然后我们将开始训练我们的第一个神经网络。\n",
    "\n",
    "The ``autograd`` package provides automatic differentiation for all operations on Tensors. \n",
    "\n",
    "“autograd”包提供了对张量的所有操作的自动微分。\n",
    "\n",
    "It is a define-by-run framework, which means that your backprop is defined by how your code is run, and that every single iteration can be different.\n",
    "\n",
    "它是一个define-by-run框架，这意味着您的backprop是由您的代码运行的方式定义的，并且每一个迭代都是不同的。\n",
    "\n",
    "Let us see this in more simple terms with some examples.\n",
    "\n",
    "让我们用更简单的术语来看看这个例子。\n",
    "\n",
    "Tensor 张量\n",
    "--------\n",
    "\n",
    "``torch.Tensor`` is the central class of the package. \n",
    "\n",
    "``torch.Tensor``是这个包的中心类。\n",
    "\n",
    "If you set its attribute``.requires_grad`` as ``True``, it starts to track all operations on it. \n",
    "\n",
    "如果你设置它的属性requires_grad为‘True’，他开始跟踪所有操作。\n",
    "\n",
    "When you finish your computation you can call ``.backward()`` and have all the gradients computed automatically. \n",
    "\n",
    "当你完成计算时，你可以调用``.backward()``，并自动计算所有的梯度。\n",
    "\n",
    "The gradient for this tensor will be accumulated into ``.grad`` attribute.\n",
    "\n",
    "这个张量的梯度将被累积成“.grad“属性。\n",
    "\n",
    "To stop a tensor from tracking history, you can call ``.detach()`` to detach it from the computation history, and to prevent future computation from being tracked.\n",
    "\n",
    "停止一个张量跟踪历史，你可以调用``.detach()``来将它从计算历史中分离出来，并防止未来的计算被跟踪。\n",
    "\n",
    "To prevent tracking history (and using memory), you can also wrap the code block in ``with torch.no_grad():``.\n",
    "\n",
    "防止跟踪历史（和使用内存），您还可以用``with torch.no_grad():``来包装代码块。\n",
    "\n",
    "This can be particularly helpful when evaluating a model because the model may have trainable parameters with `requires_grad=True`,but we don't need the gradients.\n",
    "\n",
    "这在评估模型时特别有用，因为模型可能具有“requiresgrad=True”的可培训参数，但我们不需要梯度。\n",
    "\n",
    "There’s one more class which is very important for autogradimplementation - a ``Function``.\n",
    "\n",
    "还有一个类对于自动梯度法来说是非常重要的 - ``Function``\n",
    "\n",
    "``Tensor`` and ``Function`` are interconnected and build up an acyclic graph, that encodes a complete history of computation. \n",
    "\n",
    "“张量”和“功能”是相互联系的，建立了一个非循环图，它编码了一个完整的计算历史。\n",
    "\n",
    "Each variable has a ``.grad_fn`` attribute that references a ``Function`` that has created the ``Tensor`` (except for Tensors created by the user - their ``grad_fn is None``).\n",
    "\n",
    "每个变量都有一个``.grad_fn``属性是“函数”，它创造了“张量”（除了用户创建的张量，他们的``grad_fn is None``）。\n",
    "\n",
    "If you want to compute the derivatives, you can call ``.backward()`` on a ``Tensor``. \n",
    "\n",
    "如果你想计算导数，你可以在“张量”上调用``.backward()``。\n",
    "\n",
    "If ``Tensor`` is a scalar (i.e. it holds a one element data), you don’t need to specify any arguments to ``backward()``,however if it has more elements, you need to specify a ``gradient``argument that is a tensor of matching shape.\n",
    "\n",
    "如果“张量”是一个标量（也就是说它包含一个元素数据），你不需要为“backward（）”指定任何参数，但是如果它有更多的元素，你需要指定一个“gradient”参数，它是一个匹配形状的张量。"
   ]
  },
  {
   "cell_type": "code",
   "execution_count": 2,
   "metadata": {},
   "outputs": [],
   "source": [
    "import torch"
   ]
  },
  {
   "cell_type": "markdown",
   "metadata": {},
   "source": [
    "Create a tensor and set requires_grad=True to track computation with it\n",
    "\n",
    "创建一个张量并设置requiresgrad=True来跟踪计算"
   ]
  },
  {
   "cell_type": "code",
   "execution_count": 4,
   "metadata": {},
   "outputs": [
    {
     "name": "stdout",
     "output_type": "stream",
     "text": [
      "tensor([[ 1.,  1.],\n",
      "        [ 1.,  1.]])\n"
     ]
    }
   ],
   "source": [
    "x = torch.ones(2, 2, requires_grad=True)\n",
    "print(x)"
   ]
  },
  {
   "cell_type": "markdown",
   "metadata": {},
   "source": [
    "Do an operation of tensor:\n",
    "\n",
    "做张量的运算："
   ]
  },
  {
   "cell_type": "code",
   "execution_count": 5,
   "metadata": {},
   "outputs": [
    {
     "name": "stdout",
     "output_type": "stream",
     "text": [
      "tensor([[ 3.,  3.],\n",
      "        [ 3.,  3.]])\n"
     ]
    }
   ],
   "source": [
    "y = x + 2\n",
    "print(y)"
   ]
  },
  {
   "cell_type": "markdown",
   "metadata": {},
   "source": [
    "``y`` was created as a result of an operation, so it has a ``grad_fn``.\n",
    "\n",
    "y是作为一个操作的结果创建的，所以它有一个gradfn。"
   ]
  },
  {
   "cell_type": "code",
   "execution_count": 6,
   "metadata": {},
   "outputs": [
    {
     "name": "stdout",
     "output_type": "stream",
     "text": [
      "<AddBackward0 object at 0x0000017BFE246A58>\n"
     ]
    }
   ],
   "source": [
    "print(y.grad_fn)"
   ]
  },
  {
   "cell_type": "code",
   "execution_count": 8,
   "metadata": {},
   "outputs": [
    {
     "data": {
      "text/plain": [
       "<AddBackward0 at 0x17baec4eac8>"
      ]
     },
     "execution_count": 8,
     "metadata": {},
     "output_type": "execute_result"
    }
   ],
   "source": [
    "y.grad_fn"
   ]
  },
  {
   "cell_type": "markdown",
   "metadata": {},
   "source": [
    "Do more operations on y\n",
    "\n",
    "对y做更多的操作"
   ]
  },
  {
   "cell_type": "code",
   "execution_count": 9,
   "metadata": {},
   "outputs": [
    {
     "name": "stdout",
     "output_type": "stream",
     "text": [
      "tensor([[ 27.,  27.],\n",
      "        [ 27.,  27.]]) tensor(27.)\n"
     ]
    }
   ],
   "source": [
    "z = y * y * 3\n",
    "out = z.mean()\n",
    "\n",
    "print(z, out)"
   ]
  },
  {
   "cell_type": "code",
   "execution_count": 10,
   "metadata": {},
   "outputs": [
    {
     "data": {
      "text/plain": [
       "tensor([[ 27.,  27.],\n",
       "        [ 27.,  27.]])"
      ]
     },
     "execution_count": 10,
     "metadata": {},
     "output_type": "execute_result"
    }
   ],
   "source": [
    "z"
   ]
  },
  {
   "cell_type": "code",
   "execution_count": 11,
   "metadata": {},
   "outputs": [
    {
     "data": {
      "text/plain": [
       "tensor(27.)"
      ]
     },
     "execution_count": 11,
     "metadata": {},
     "output_type": "execute_result"
    }
   ],
   "source": [
    "out"
   ]
  },
  {
   "cell_type": "markdown",
   "metadata": {},
   "source": [
    "``.requires_grad_( ... )`` changes an existing Tensor's ``requires_grad``flag in-place. \n",
    "\n",
    "``.requires_grad_( ... )``改变一个现有张量的“requiresgrad”标志。\n",
    "\n",
    "The input flag defaults to ``True`` if not given.\n",
    "\n",
    "如果没有输入，输入标志默认为“True”。"
   ]
  },
  {
   "cell_type": "code",
   "execution_count": 12,
   "metadata": {},
   "outputs": [
    {
     "name": "stdout",
     "output_type": "stream",
     "text": [
      "False\n",
      "True\n",
      "<SumBackward0 object at 0x0000017BAEC63588>\n"
     ]
    }
   ],
   "source": [
    "a = torch.randn(2, 2)\n",
    "a = ((a * 3) / (a - 1))\n",
    "print(a.requires_grad)\n",
    "a.requires_grad_(True)\n",
    "print(a.requires_grad)\n",
    "b = (a * a).sum()\n",
    "print(b.grad_fn)"
   ]
  },
  {
   "cell_type": "code",
   "execution_count": 13,
   "metadata": {},
   "outputs": [
    {
     "data": {
      "text/plain": [
       "tensor([[ 0.0248,  1.4551],\n",
       "        [ 0.3484, -4.4953]])"
      ]
     },
     "execution_count": 13,
     "metadata": {},
     "output_type": "execute_result"
    }
   ],
   "source": [
    "a"
   ]
  },
  {
   "cell_type": "code",
   "execution_count": 14,
   "metadata": {},
   "outputs": [
    {
     "data": {
      "text/plain": [
       "tensor(22.4472)"
      ]
     },
     "execution_count": 14,
     "metadata": {},
     "output_type": "execute_result"
    }
   ],
   "source": [
    "b"
   ]
  },
  {
   "cell_type": "code",
   "execution_count": null,
   "metadata": {},
   "outputs": [],
   "source": []
  },
  {
   "cell_type": "markdown",
   "metadata": {},
   "source": [
    "Gradients 梯度\n",
    "---------\n",
    "Let's backprop now Because ``out`` contains a single scalar, ``out.backward()`` is equivalent to ``out.backward(torch.tensor(1))``.\n",
    "\n",
    "现在让我们backprop，因为“out”包含一个标量，``out.backward()``相当于``out.backward(torch.tensor(1))``."
   ]
  },
  {
   "cell_type": "code",
   "execution_count": 15,
   "metadata": {},
   "outputs": [],
   "source": [
    "out.backward()"
   ]
  },
  {
   "cell_type": "markdown",
   "metadata": {},
   "source": [
    "print gradients d(out)/dx\n",
    "\n",
    "\n",
    "打印梯度 d(out)/dx"
   ]
  },
  {
   "cell_type": "code",
   "execution_count": 16,
   "metadata": {},
   "outputs": [
    {
     "name": "stdout",
     "output_type": "stream",
     "text": [
      "tensor([[ 4.5000,  4.5000],\n",
      "        [ 4.5000,  4.5000]])\n"
     ]
    }
   ],
   "source": [
    "print(x.grad)"
   ]
  },
  {
   "cell_type": "markdown",
   "metadata": {},
   "source": [
    "You should have got a matrix of ``4.5``. \n",
    "\n",
    "你应该得到一个“4.5”的矩阵。\n",
    "\n",
    "Let’s call the ``out``*Tensor* “$o$”.\n",
    "\n",
    "We have that \n",
    "\n",
    "$o = \\frac{1}{4}\\sum_i z_i$,\n",
    "\n",
    "$z_i = 3(x_i+2)^2$ and $z_i\\bigr\\rvert_{x_i=1} = 27$.\n",
    "\n",
    "Therefore,\n",
    "\n",
    "$\\frac{\\partial o}{\\partial x_i} = \\frac{3}{2}(x_i+2)$, \n",
    "\n",
    "hence\n",
    "\n",
    "$\\frac{\\partial o}{\\partial x_i}\\bigr\\rvert_{x_i=1} = \\frac{9}{2} = 4.5$.\n",
    "\n"
   ]
  },
  {
   "cell_type": "markdown",
   "metadata": {},
   "source": [
    "You can do many crazy things with autograd!\n",
    "\n",
    "你可以用autograd做很多疯狂的事情！"
   ]
  },
  {
   "cell_type": "code",
   "execution_count": 18,
   "metadata": {},
   "outputs": [
    {
     "name": "stdout",
     "output_type": "stream",
     "text": [
      "tensor([ 346.7196, -715.7305, -697.0422])\n"
     ]
    }
   ],
   "source": [
    "x = torch.randn(3, requires_grad=True)\n",
    "\n",
    "y = x * 2\n",
    "while y.data.norm() < 1000:\n",
    "    y = y * 2\n",
    "\n",
    "print(y)"
   ]
  },
  {
   "cell_type": "code",
   "execution_count": 19,
   "metadata": {},
   "outputs": [
    {
     "name": "stdout",
     "output_type": "stream",
     "text": [
      "tensor([  102.4000,  1024.0000,     0.1024])\n"
     ]
    }
   ],
   "source": [
    "gradients = torch.tensor([0.1, 1.0, 0.0001], dtype=torch.float)\n",
    "y.backward(gradients)\n",
    "\n",
    "print(x.grad)"
   ]
  },
  {
   "cell_type": "markdown",
   "metadata": {},
   "source": [
    "You can also stops autograd from tracking history on Tensorswith requires_grad=True by wrapping the code block in ``with torch.no_grad():``\n",
    "\n",
    "你也可以阻止autograd在使用requiresgrad=True的情况下跟踪历史，通过将代码块包装在``with torch.no_grad():``"
   ]
  },
  {
   "cell_type": "code",
   "execution_count": 20,
   "metadata": {},
   "outputs": [
    {
     "name": "stdout",
     "output_type": "stream",
     "text": [
      "True\n",
      "True\n",
      "False\n"
     ]
    }
   ],
   "source": [
    "print(x.requires_grad)\n",
    "print((x ** 2).requires_grad)\n",
    "\n",
    "with torch.no_grad():\n",
    "    print((x ** 2).requires_grad)"
   ]
  },
  {
   "cell_type": "markdown",
   "metadata": {},
   "source": [
    "**Read Later:**\n",
    "\n",
    "Documentation of ``autograd`` and ``Function`` is at http://pytorch.org/docs/autograd\n",
    "\n",
    "“autograd”和“功能”的文档在 http://pytorch.org/docs/autograd"
   ]
  },
  {
   "cell_type": "code",
   "execution_count": null,
   "metadata": {},
   "outputs": [],
   "source": []
  }
 ],
 "metadata": {
  "kernelspec": {
   "display_name": "Python 3",
   "language": "python",
   "name": "python3"
  },
  "language_info": {
   "codemirror_mode": {
    "name": "ipython",
    "version": 3
   },
   "file_extension": ".py",
   "mimetype": "text/x-python",
   "name": "python",
   "nbconvert_exporter": "python",
   "pygments_lexer": "ipython3",
   "version": "3.6.2"
  }
 },
 "nbformat": 4,
 "nbformat_minor": 1
}
