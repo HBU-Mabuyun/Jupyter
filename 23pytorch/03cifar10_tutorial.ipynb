{
 "cells": [
  {
   "cell_type": "markdown",
   "metadata": {},
   "source": [
    "http://pytorch.org/tutorials/beginner/blitz/cifar10_tutorial.html"
   ]
  },
  {
   "cell_type": "code",
   "execution_count": 4,
   "metadata": {},
   "outputs": [],
   "source": [
    "%matplotlib inline"
   ]
  },
  {
   "cell_type": "markdown",
   "metadata": {},
   "source": [
    "\n",
    "Training a classifier 训练一个分类器\n",
    "=====================\n",
    "\n",
    "This is it.是这样。\n",
    "\n",
    "You have seen how to define neural networks, compute loss and make updates to the weights of the network.\n",
    "\n",
    "您已经了解了如何定义神经网络，计算损失并对网络的权重进行更新。\n",
    "\n",
    "Now you might be thinking,现在你可能会想，\n",
    "\n",
    "What about data? 数据什么样子？\n",
    "----------------\n",
    "\n",
    "Generally, when you have to deal with image, text, audio or video data,you can use standard python packages that load data into a numpy array.\n",
    "\n",
    "通常，当您需要处理图像、文本、音频或视频数据时，您可以使用标准的python包来将数据加载到numpy数组中。\n",
    "\n",
    "Then you can convert this array into a ``torch.*Tensor``.\n",
    "\n",
    "然后你可以把这个数组转换成一个``torch.*Tensor``。\n",
    "\n",
    "-  For images, packages such as Pillow, OpenCV are useful\n",
    "-  图片：Pillow，OpenCV包有用\n",
    "-  For audio, packages such as scipy and librosa\n",
    "-  声音：scipy和librosa有用\n",
    "-  For text, either raw Python or Cython based loading, or NLTK and SpaCy are useful\n",
    "-  文本：要么是原始的Python，要么是基于Cython的加载，NLT和SpaCy也有用处\n",
    "\n",
    "Specifically for vision, we have created a package called ``torchvision``, that has data loaders for common datasets such as\n",
    "Imagenet, CIFAR10, MNIST, etc. and data transformers for images, viz.,``torchvision.datasets`` and ``torch.utils.data.DataLoader``.\n",
    "\n",
    "特别是对于视觉，我们创造了一个叫做``torchvision``的包，它有用于公共数据集的数据加载器，例如Imagenet、CIFAR10 MNIST等等。以及用于图像的数据转换器。``torchvision.datasets`` and ``torch.utils.data.DataLoader``.\n",
    "\n",
    "This provides a huge convenience and avoids writing boilerplate code.\n",
    "\n",
    "这提供了极大的便利，避免了编写样板代码。\n",
    "\n",
    "For this tutorial, we will use the CIFAR10 dataset.\n",
    "\n",
    "对于本教程，我们将使用CIFAR10数据集。\n",
    "\n",
    "It has the classes: ‘airplane’, ‘automobile’, ‘bird’, ‘cat’, ‘deer’,‘dog’, ‘frog’, ‘horse’, ‘ship’, ‘truck’. \n",
    "\n",
    "它有这样的类：“飞机”、“汽车”、“鸟”、“猫”、“鹿”、“狗”、“青蛙”、“马”、“船”、“卡车”。\n",
    "\n",
    "The images in CIFAR-10 are ofsize 3x32x32, i.e. 3-channel color images of 32x32 pixels in size.\n",
    "\n",
    "cifar 10的图像尺寸为3x32x32，即3-通道彩色图像，大小为32x32像素。\n",
    "\n",
    ".. figure:: /_static/img/cifar10.png\n",
    "   :alt: cifar10\n",
    "\n",
    "   cifar10\n",
    "![](http://pytorch.org/tutorials/_images/cifar10.png)\n",
    "\n",
    "Training an image classifier 训练一个图像分类器\n",
    "----------------------------\n",
    "\n",
    "We will do the following steps in order:我们将采取以下步骤：\n",
    "\n",
    "1. Load and normalizing the CIFAR10 training and test datasets using ``torchvision``\n",
    "2. Define a Convolution Neural Network\n",
    "3. Define a loss function\n",
    "4. Train the network on the training data\n",
    "5. Test the network on the test data\n",
    "\n",
    "1. Loading and normalizing CIFAR10\n",
    "\n",
    "\n",
    "Using ``torchvision``, it’s extremely easy to load CIFAR10.\n",
    "\n",
    "cifar-10：\n",
    "image的个数：60000\n",
    "image的大小：32*32*3\n",
    "class的个数：10 （飞机；汽车；鸟；猫；鹿；狗；青蛙；马；船；卡车）"
   ]
  },
  {
   "cell_type": "code",
   "execution_count": 1,
   "metadata": {},
   "outputs": [],
   "source": [
    "import torch\n",
    "import torchvision\n",
    "import torchvision.transforms as transforms"
   ]
  },
  {
   "cell_type": "markdown",
   "metadata": {},
   "source": [
    "The output of torchvision datasets are PILImage images of range [0, 1].\n",
    "We transform them to Tensors of normalized range [-1, 1].\n",
    "\n"
   ]
  },
  {
   "cell_type": "code",
   "execution_count": 2,
   "metadata": {},
   "outputs": [
    {
     "name": "stdout",
     "output_type": "stream",
     "text": [
      "Downloading https://www.cs.toronto.edu/~kriz/cifar-10-python.tar.gz to ./data\\cifar-10-python.tar.gz\n",
      "Files already downloaded and verified\n"
     ]
    }
   ],
   "source": [
    "transform = transforms.Compose(\n",
    "    [transforms.ToTensor(),\n",
    "     transforms.Normalize((0.5, 0.5, 0.5), (0.5, 0.5, 0.5))])\n",
    "\n",
    "trainset = torchvision.datasets.CIFAR10(root='./data', train=True,download=True, transform=transform)\n",
    "trainloader = torch.utils.data.DataLoader(trainset, batch_size=4,shuffle=True, num_workers=2)\n",
    "\n",
    "testset = torchvision.datasets.CIFAR10(root='./data', train=False,download=True, transform=transform)\n",
    "testloader = torch.utils.data.DataLoader(testset, batch_size=4,shuffle=False, num_workers=2)\n",
    "\n",
    "classes = ('plane', 'car', 'bird', 'cat', 'deer', 'dog', 'frog', 'horse', 'ship', 'truck')"
   ]
  },
  {
   "cell_type": "markdown",
   "metadata": {},
   "source": [
    "Let us show some of the training images, for fun.\n",
    "\n",
    "让我们展示一些训练图片，为了好玩。"
   ]
  },
  {
   "cell_type": "code",
   "execution_count": 6,
   "metadata": {},
   "outputs": [
    {
     "name": "stdout",
     "output_type": "stream",
     "text": [
      "  car   dog   dog truck\n"
     ]
    },
    {
     "data": {
      "image/png": "[encoded data removed]",
      "text/plain": [
       "<matplotlib.figure.Figure at 0x1f1803a1ac8>"
      ]
     },
     "metadata": {},
     "output_type": "display_data"
    }
   ],
   "source": [
    "import matplotlib.pyplot as plt\n",
    "import numpy as np\n",
    "\n",
    "# functions to show an image\n",
    "\n",
    "\n",
    "def imshow(img):\n",
    "    img = img / 2 + 0.5     # unnormalize\n",
    "    npimg = img.numpy()\n",
    "    plt.imshow(np.transpose(npimg, (1, 2, 0)))\n",
    "\n",
    "\n",
    "# get some random training images\n",
    "dataiter = iter(trainloader)\n",
    "images, labels = dataiter.next()\n",
    "\n",
    "# show images\n",
    "imshow(torchvision.utils.make_grid(images))\n",
    "# print labels\n",
    "print(' '.join('%5s' % classes[labels[j]] for j in range(4)))"
   ]
  },
  {
   "cell_type": "markdown",
   "metadata": {},
   "source": [
    "2. Define a Convolution Neural Network\n",
    "^^^^^^^^^^^^^^^^^^^^^^^^^^^^^^^^^^^^^^\n",
    "Copy the neural network from the Neural Networks section before and modify it to\n",
    "take 3-channel images (instead of 1-channel images as it was defined).\n",
    "\n"
   ]
  },
  {
   "cell_type": "code",
   "execution_count": 8,
   "metadata": {},
   "outputs": [],
   "source": [
    "import torch.nn as nn\n",
    "import torch.nn.functional as F\n",
    "\n",
    "\n",
    "class Net(nn.Module):\n",
    "    def __init__(self):\n",
    "        super(Net, self).__init__()\n",
    "        self.conv1 = nn.Conv2d(3, 6, 5)\n",
    "        self.pool = nn.MaxPool2d(2, 2)\n",
    "        self.conv2 = nn.Conv2d(6, 16, 5)\n",
    "        self.fc1 = nn.Linear(16 * 5 * 5, 120)\n",
    "        self.fc2 = nn.Linear(120, 84)\n",
    "        self.fc3 = nn.Linear(84, 10)\n",
    "\n",
    "    def forward(self, x):\n",
    "        x = self.pool(F.relu(self.conv1(x)))\n",
    "        x = self.pool(F.relu(self.conv2(x)))\n",
    "        x = x.view(-1, 16 * 5 * 5)\n",
    "        x = F.relu(self.fc1(x))\n",
    "        x = F.relu(self.fc2(x))\n",
    "        x = self.fc3(x)\n",
    "        return x\n",
    "\n",
    "\n",
    "net = Net()"
   ]
  },
  {
   "cell_type": "markdown",
   "metadata": {},
   "source": [
    "3. Define a Loss function and optimizer\n",
    "^^^^^^^^^^^^^^^^^^^^^^^^^^^^^^^^^^^^^^^\n",
    "Let's use a Classification Cross-Entropy loss and SGD with momentum.\n",
    "\n"
   ]
  },
  {
   "cell_type": "code",
   "execution_count": 9,
   "metadata": {},
   "outputs": [],
   "source": [
    "import torch.optim as optim\n",
    "\n",
    "criterion = nn.CrossEntropyLoss()\n",
    "optimizer = optim.SGD(net.parameters(), lr=0.001, momentum=0.9)"
   ]
  },
  {
   "cell_type": "markdown",
   "metadata": {},
   "source": [
    "4. Train the network\n",
    "^^^^^^^^^^^^^^^^^^^^\n",
    "\n",
    "This is when things start to get interesting.\n",
    "We simply have to loop over our data iterator, and feed the inputs to the\n",
    "network and optimize.\n",
    "\n"
   ]
  },
  {
   "cell_type": "code",
   "execution_count": 10,
   "metadata": {},
   "outputs": [
    {
     "name": "stdout",
     "output_type": "stream",
     "text": [
      "[1,  2000] loss: 2.205\n",
      "[1,  4000] loss: 1.881\n",
      "[1,  6000] loss: 1.649\n",
      "[1,  8000] loss: 1.558\n",
      "[1, 10000] loss: 1.499\n",
      "[1, 12000] loss: 1.459\n",
      "[2,  2000] loss: 1.389\n",
      "[2,  4000] loss: 1.356\n",
      "[2,  6000] loss: 1.331\n",
      "[2,  8000] loss: 1.304\n",
      "[2, 10000] loss: 1.296\n",
      "[2, 12000] loss: 1.274\n",
      "Finished Training\n"
     ]
    }
   ],
   "source": [
    "for epoch in range(2):  # loop over the dataset multiple times\n",
    "\n",
    "    running_loss = 0.0\n",
    "    for i, data in enumerate(trainloader, 0):\n",
    "        # get the inputs\n",
    "        inputs, labels = data\n",
    "\n",
    "        # zero the parameter gradients\n",
    "        optimizer.zero_grad()\n",
    "\n",
    "        # forward + backward + optimize\n",
    "        outputs = net(inputs)\n",
    "        loss = criterion(outputs, labels)\n",
    "        loss.backward()\n",
    "        optimizer.step()\n",
    "\n",
    "        # print statistics\n",
    "        running_loss += loss.item()\n",
    "        if i % 2000 == 1999:    # print every 2000 mini-batches\n",
    "            print('[%d, %5d] loss: %.3f' %\n",
    "                  (epoch + 1, i + 1, running_loss / 2000))\n",
    "            running_loss = 0.0\n",
    "\n",
    "print('Finished Training')"
   ]
  },
  {
   "cell_type": "markdown",
   "metadata": {},
   "source": [
    "5. Test the network on the test data\n",
    "^^^^^^^^^^^^^^^^^^^^^^^^^^^^^^^^^^^^\n",
    "\n",
    "We have trained the network for 2 passes over the training dataset.\n",
    "But we need to check if the network has learnt anything at all.\n",
    "\n",
    "We will check this by predicting the class label that the neural network\n",
    "outputs, and checking it against the ground-truth. If the prediction is\n",
    "correct, we add the sample to the list of correct predictions.\n",
    "\n",
    "Okay, first step. Let us display an image from the test set to get familiar.\n",
    "\n"
   ]
  },
  {
   "cell_type": "code",
   "execution_count": 11,
   "metadata": {},
   "outputs": [
    {
     "name": "stdout",
     "output_type": "stream",
     "text": [
      "GroundTruth:    cat  ship  ship plane\n"
     ]
    },
    {
     "data": {
      "image/png": "[encoded data removed]",
      "text/plain": [
       "<matplotlib.figure.Figure at 0x1f1803ad7f0>"
      ]
     },
     "metadata": {},
     "output_type": "display_data"
    }
   ],
   "source": [
    "dataiter = iter(testloader)\n",
    "images, labels = dataiter.next()\n",
    "\n",
    "# print images\n",
    "imshow(torchvision.utils.make_grid(images))\n",
    "print('GroundTruth: ', ' '.join('%5s' % classes[labels[j]] for j in range(4)))"
   ]
  },
  {
   "cell_type": "markdown",
   "metadata": {},
   "source": [
    "Okay, now let us see what the neural network thinks these examples above are:\n",
    "\n"
   ]
  },
  {
   "cell_type": "code",
   "execution_count": 12,
   "metadata": {},
   "outputs": [],
   "source": [
    "outputs = net(images)"
   ]
  },
  {
   "cell_type": "markdown",
   "metadata": {},
   "source": [
    "The outputs are energies for the 10 classes.\n",
    "\n",
    "输出是10个类的能量。\n",
    "\n",
    "Higher the energy for a class, the more the network thinks that the image is of the particular class.\n",
    "\n",
    "对于一个类来说，更高的能量，网络认为图像是特定类的越多。\n",
    "\n",
    "So, let's get the index of the highest energy:\n",
    "\n",
    "那么，让我们来看看最高能量的指数："
   ]
  },
  {
   "cell_type": "code",
   "execution_count": 13,
   "metadata": {},
   "outputs": [
    {
     "name": "stdout",
     "output_type": "stream",
     "text": [
      "Predicted:    cat   car  ship  ship\n"
     ]
    }
   ],
   "source": [
    "_, predicted = torch.max(outputs, 1)\n",
    "\n",
    "print('Predicted: ', ' '.join('%5s' % classes[predicted[j]]for j in range(4)))"
   ]
  },
  {
   "cell_type": "markdown",
   "metadata": {},
   "source": [
    "The results seem pretty good.结果看起来很不错。\n",
    "\n",
    "Let us look at how the network performs on the whole dataset.\n",
    "\n",
    "让我们看看网络是如何在整个数据集上执行的。"
   ]
  },
  {
   "cell_type": "code",
   "execution_count": 14,
   "metadata": {},
   "outputs": [
    {
     "name": "stdout",
     "output_type": "stream",
     "text": [
      "Accuracy of the network on the 10000 test images: 55 %\n"
     ]
    }
   ],
   "source": [
    "correct = 0\n",
    "total = 0\n",
    "with torch.no_grad():\n",
    "    for data in testloader:\n",
    "        images, labels = data\n",
    "        outputs = net(images)\n",
    "        _, predicted = torch.max(outputs.data, 1)\n",
    "        total += labels.size(0)\n",
    "        correct += (predicted == labels).sum().item()\n",
    "\n",
    "print('Accuracy of the network on the 10000 test images: %d %%' % (100 * correct / total))"
   ]
  },
  {
   "cell_type": "markdown",
   "metadata": {},
   "source": [
    "That looks waaay better than chance, which is 10% accuracy (randomly picking a class out of 10 classes).\n",
    "\n",
    "这看起来比碰运气好，这是10%的准确率（随机从10个类中挑选一个类）。\n",
    "\n",
    "Seems like the network learnt something.似乎网络学到了什么。\n",
    "\n",
    "Hmmm, what are the classes that performed well, and the classes that did not perform well:\n",
    "\n",
    "嗯，那些表现良好的类，以及表现不佳的类："
   ]
  },
  {
   "cell_type": "code",
   "execution_count": 15,
   "metadata": {},
   "outputs": [
    {
     "name": "stdout",
     "output_type": "stream",
     "text": [
      "Accuracy of plane : 44 %\n",
      "Accuracy of   car : 54 %\n",
      "Accuracy of  bird : 48 %\n",
      "Accuracy of   cat : 42 %\n",
      "Accuracy of  deer : 55 %\n",
      "Accuracy of   dog : 39 %\n",
      "Accuracy of  frog : 71 %\n",
      "Accuracy of horse : 55 %\n",
      "Accuracy of  ship : 84 %\n",
      "Accuracy of truck : 56 %\n"
     ]
    }
   ],
   "source": [
    "class_correct = list(0. for i in range(10))\n",
    "class_total = list(0. for i in range(10))\n",
    "with torch.no_grad():\n",
    "    for data in testloader:\n",
    "        images, labels = data\n",
    "        outputs = net(images)\n",
    "        _, predicted = torch.max(outputs, 1)\n",
    "        c = (predicted == labels).squeeze()\n",
    "        for i in range(4):\n",
    "            label = labels[i]\n",
    "            class_correct[label] += c[i].item()\n",
    "            class_total[label] += 1\n",
    "\n",
    "\n",
    "for i in range(10):\n",
    "    print('Accuracy of %5s : %2d %%' % (\n",
    "        classes[i], 100 * class_correct[i] / class_total[i]))"
   ]
  },
  {
   "cell_type": "markdown",
   "metadata": {},
   "source": [
    "Okay, so what next? 好的,下一个?\n",
    "\n",
    "How do we run these neural networks on the GPU?我们如何在GPU上运行这些神经网络？\n",
    "\n",
    "Training on GPU 在GPU上训练\n",
    "----------------\n",
    "Just like how you transfer a Tensor on to the GPU, you transfer the neural net onto the GPU.\n",
    "\n",
    "就像你把一个张量转移到GPU上一样，你把神经网络转移到GPU上。\n",
    "\n",
    "Let's first define our device as the first visible cuda device if we have CUDA available:\n",
    "\n",
    "让我们首先把我们的设备定义为第一个可见的CUDA设备如果我们有CUDA的话："
   ]
  },
  {
   "cell_type": "code",
   "execution_count": 16,
   "metadata": {},
   "outputs": [
    {
     "name": "stdout",
     "output_type": "stream",
     "text": [
      "cuda:0\n"
     ]
    }
   ],
   "source": [
    "device = torch.device(\"cuda:0\" if torch.cuda.is_available() else \"cpu\")\n",
    "\n",
    "# Assume that we are on a CUDA machine, then this should print a CUDA device:\n",
    "\n",
    "print(device)\n",
    "\n",
    "# The rest of this section assumes that `device` is a CUDA device.\n",
    "#\n",
    "# Then these methods will recursively go over all modules and convert their\n",
    "# parameters and buffers to CUDA tensors:\n",
    "#\n",
    "# .. code:: python\n",
    "#\n",
    "#     net.to(device)\n",
    "#\n",
    "#\n",
    "# Remember that you will have to send the inputs and targets at every step\n",
    "# to the GPU too:\n",
    "#\n",
    "# .. code:: python\n",
    "#\n",
    "#         inputs, labels = inputs.to(device), labels.to(device)\n",
    "#\n",
    "# Why dont I notice MASSIVE speedup compared to CPU? Because your network\n",
    "# is realllly small.\n",
    "#\n",
    "# **Exercise:** Try increasing the width of your network (argument 2 of\n",
    "# the first ``nn.Conv2d``, and argument 1 of the second ``nn.Conv2d`` –\n",
    "# they need to be the same number), see what kind of speedup you get.\n",
    "#\n",
    "# **Goals achieved**:\n",
    "#\n",
    "# - Understanding PyTorch's Tensor library and neural networks at a high level.\n",
    "# - Train a small neural network to classify images\n",
    "#\n",
    "# Training on multiple GPUs\n",
    "# -------------------------\n",
    "# If you want to see even more MASSIVE speedup using all of your GPUs,\n",
    "# please check out :doc:`data_parallel_tutorial`.\n",
    "#\n",
    "# Where do I go next?\n",
    "# -------------------\n",
    "#\n",
    "# -  :doc:`Train neural nets to play video games </intermediate/reinforcement_q_learning>`\n",
    "# -  `Train a state-of-the-art ResNet network on imagenet`_\n",
    "# -  `Train a face generator using Generative Adversarial Networks`_\n",
    "# -  `Train a word-level language model using Recurrent LSTM networks`_\n",
    "# -  `More examples`_\n",
    "# -  `More tutorials`_\n",
    "# -  `Discuss PyTorch on the Forums`_\n",
    "# -  `Chat with other users on Slack`_\n",
    "#\n",
    "# .. _Train a state-of-the-art ResNet network on imagenet: https://github.com/pytorch/examples/tree/master/imagenet\n",
    "# .. _Train a face generator using Generative Adversarial Networks: https://github.com/pytorch/examples/tree/master/dcgan\n",
    "# .. _Train a word-level language model using Recurrent LSTM networks: https://github.com/pytorch/examples/tree/master/word_language_model\n",
    "# .. _More examples: https://github.com/pytorch/examples\n",
    "# .. _More tutorials: https://github.com/pytorch/tutorials\n",
    "# .. _Discuss PyTorch on the Forums: https://discuss.pytorch.org/\n",
    "# .. _Chat with other users on Slack: http://pytorch.slack.com/messages/beginner/"
   ]
  },
  {
   "cell_type": "code",
   "execution_count": null,
   "metadata": {},
   "outputs": [],
   "source": []
  }
 ],
 "metadata": {
  "kernelspec": {
   "display_name": "Python 3",
   "language": "python",
   "name": "python3"
  },
  "language_info": {
   "codemirror_mode": {
    "name": "ipython",
    "version": 3
   },
   "file_extension": ".py",
   "mimetype": "text/x-python",
   "name": "python",
   "nbconvert_exporter": "python",
   "pygments_lexer": "ipython3",
   "version": "3.6.4"
  }
 },
 "nbformat": 4,
 "nbformat_minor": 1
}
