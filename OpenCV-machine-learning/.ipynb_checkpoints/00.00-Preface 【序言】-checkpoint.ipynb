{
 "cells": [
  {
   "cell_type": "markdown",
   "metadata": {
    "collapsed": true
   },
   "source": [
    "# Machine Learning for OpenCV\n",
    "# OpenCV 机器学习\n",
    "## A practical introduction to the world of machine learning using OpenCV and Python\n",
    "## OpenCV和Python学习机器学习实践"
   ]
  },
  {
   "cell_type": "markdown",
   "metadata": {},
   "source": [
    "I’m glad you’re here. It’s about time we talked about machine learning.\n",
    "\n",
    "### 很高兴在这里遇到你。是时候讨论下机器学习了。\n",
    "\n",
    "**Machine learning** is no longer just a buzzword, it is all around us: from protecting your email, to automatically tagging friends in pictures, to predicting what movies you like. \n",
    "\n",
    "### **机器学习**不仅仅是时髦用语，他就在我们身边：保护电子邮件，自动标记照片中的朋友，预测你喜欢的电影。\n",
    "\n",
    "As a subfield of **data science**, machine learning enables computers to learn through experience: to make predictions about the future using collected data from the past.\n",
    "\n",
    "### 作为**数据科学**的子域，机器学习使计算机能够通过经验学习：利用过去收集的数据来预测未来。\n",
    "\n",
    "------------------------\n",
    "\n",
    "And the amount of data to be analyzed is enormous!要分析的数据量是巨大的！\n",
    "\n",
    "Current estimates put the daily amount of produced data at 2.5 exabytes (or roughly 1 billion gigabytes). \n",
    "### 目前的估计数据显示，每天的生产数据量为2.5 eb（或者大约10亿G）。\n",
    "\n",
    "Can you believe it? This would be enough data to fill up 10 million blu-ray discs, or amount to 90 years of HD video. \n",
    "### 你能相信吗？这些数据足够填满1000万张蓝光光盘，或者相当于90年的高清视频。\n",
    "\n",
    "In order to deal with these vast amounts of data, \n",
    "### 为了处理这些大量的数据\n",
    "\n",
    "companies such as Google, Amazon, Microsoft, and Facebook have been heavily investing in the development of data science platforms that allow us to benefit from machine learning wherever we go – scaling from your mobile phone application all the way to supercomputers connected through the cloud.\n",
    "### 谷歌、亚马逊、微软和Facebook等公司 大量投资 发展数据科学平台 使得我们从机器学习中受益 - 通过云 连接 测量 手机APP一直到超级计算机。\n",
    "\n",
    "> **In other words: This is the time to invest in machine learning. And if it is your wish to become a machine learning practitioner, too – then this book is for you!**\n",
    "\n",
    "> **换句话说: 现在是投资机器学习的时候了。如果你也想成为一名机器学习实践者，那么这本书是为你准备的！**"
   ]
  },
  {
   "cell_type": "markdown",
   "metadata": {},
   "source": [
    "## What this book covers 本书包含的内容\n",
    "\n",
    "The first step of this book is to introduce you to the essential concepts of statistical learning, such as [classification and regression](03.00-First-Steps-in-Supervised-Learning.ipynb), with the help of simple and intuitive examples. \n",
    "#### 第一步介绍统计学的基本概念，例如【分类和回归】，提供简单直接的例子帮助学习。\n",
    "If you have already studied machine learning theory in detail, this book will show you how to put your knowledge into practice. Oh, and don't worry if you are completely new to the field of machine learning – all you need is the willingness to learn.\n",
    "#### 如果你已经仔细学习过机器学习原理，本书将展示如何把知识用于实践。如果你完全是个菜鸟，也不必担心---你所需要的做的就是：乐于学习。\n",
    "Once we covered all the basic concepts, we will start exploring various algorithms such as [decision trees](05.00-Using-Decision-Trees-to-Make-a-Medical-Diagnosis.ipynb), [support vector machines](06.00-Detecting-Pedestrians-with-Support-Vector-Machines.ipynb), and [Bayesian networks](07.00-Implementing-a-Spam-Filter-with-Bayesian-Learning.ipynb), and learn how to combine them with other OpenCV functionality. Along the way, you will learn how to [‘understand the task by understanding the data’](04.00-Representing-Data-and-Engineering-Features.ipynb) and how to build fully functioning [machine learning pipelines](11.03-Chaining-Algorithms-Together-to-Form-a-Pipeline.ipynb).\n",
    "#### 学习完基本概念后，开始探索大量算法，例如：决策树、支持向量机、贝叶斯网络，使用OpenCV函数结合这些算法。同时学习‘通过理解数据来理解任务’和如何建立功能完善的‘机器学习管道’。\n",
    "As the book progresses, so will your machine learning skills, until you are ready to take on today's hottest topic in the field: [deep learning](09.00-Using-Deep-Learning-to-Classify-Handwritten-Digits.ipynb). Combined with the trained skill of knowing [how to select the right tool for the task](11.00-Selecting-the-Right-Model-with-Hyper-Parameter-Tuning.ipynb), we will make sure you get comfortable with all relevant machine learning fundamentals.\n",
    "#### 随着学习的进展，机器学习技能逐渐提高，直到现在领域内最火爆的话题：深度学习。 结合知识训练技能，我们确定你会熟悉所有相关的机器学习基础。\n",
    "At the end of the book, you will be ready to take on your own machine learning problems, either by building on the existing source code or developing your own algorithm from scratch!\n",
    "#### 本书最后部分，你将准备好解决你自己的机器学习困难：或在现有的源代码上建立，或从零开始研发自己的算法。"
   ]
  },
  {
   "cell_type": "markdown",
   "metadata": {},
   "source": [
    "## What you need for this book 学习必备\n",
    "\n",
    "You will need a computer, Python Anaconda, and enthusiasm. Lots of enthusiasm.\n",
    "#### 一台电脑，Python Anaconda 和热情。极大的热情！\n",
    "*Why Python?,* you may ask. The answer is simple: It has become the de facto language of data science, thanks to its great number of open-source libraries and tools to process and interact with data.\n",
    "#### 为什么是Python？答案很简单：它已经成为了数据科学的实际语言，感谢大量的开源库和工具来处理和交互数据。\n",
    "One of these tools is the **Python Anaconda** distribution, which provides all the scientific computing libraries we could possibly ask for, such as **NumPy**, **SciPy**, **Matplotlib**, **scikit-learn**, and **Pandas**. In addition, installing **OpenCV** is essentially a one-liner. No more flipping switches in ccmake or compiling from scratch! We will talk about how to install Python Anaconda in [Chapter 1, A Taste of Machine Learning](01.00-A-Taste-of-Machine-Learning.ipynb).\n",
    "#### 其中的一个工具是**Python Anaconda**，几乎提供了我们能用的所有的科学计算库，例如：**NumPy**, **SciPy**, **Matplotlib**, **scikit-learn**, and **Pandas**。此外，安装 **OpenCV**就是一条语句。没有乱糟糟的切换。在第一章，将会讨论如何安装anaconda。\n",
    "If you have mostly been using OpenCV in combination with C++, that’s fine. \n",
    "#### 如果你大多数时候是用C++操作OpenCV，这很好。\n",
    "But, at least for the purpose of this book, I would strongly suggest that you switch to Python. \n",
    "#### 但是至少为了达到学习本书的目的，强烈建议你转用Python。\n",
    "C++ is fine when your task is to develop high-performance code or real-time applications. \n",
    "#### 当你的目标是高性能代码或实时应用时，C++很棒。\n",
    "But, when it comes to picking up a new skill, I believe Python to be the fundamentally better choice of language, because you can do more by typing less. \n",
    "#### 但是，当你学习新技能时，我相信Python是从根本上更好的语言选择，因为你可以少打字多做事。\n",
    "Rather than getting annoyed by the syntactic subtleties of C++, or wasting hours trying to convert data from one format into another, Python will help you concentrate on the topic at hand: to become an expert in machine learning.\n",
    "#### 不被C++的语法微妙之处所困扰，或者浪费时间试图将数据从一种格式转换成另一种格式，Python将帮助您专注于手头的主题：成为机器学习方面的专家。\n",
    "If you get stuck or have questions about the source code, you are welcome to post in our[Discussion group](https://groups.google.com/d/forum/machine-learning-for-opencv).\n",
    "#### 如果你被卡住了或者对源代码有疑问，欢迎大家在我们的讨论组中发帖。\n",
    "Chances are, someone else has already shared a solution to your specific problem.\n",
    "#### 很有可能，其他人已经为您的特定问题提供了解决方案。"
   ]
  },
  {
   "cell_type": "markdown",
   "metadata": {},
   "source": [
    "## About the author 关于作者\n",
    "\n",
    "Michael Beyeler is a [Postdoctoral Fellow in Neuroengineering and Data Science at the University of Washington](http://faculty.washington.edu/mbeyeler), where he is working on computational models of bionic vision in order to improve the perceptual experience of blind patients implanted with a retinal prosthesis (\"bionic eye\"). \n",
    "\n",
    "His work lies at the intersection of neuroscience, computer engineering, computer vision, and machine learning. \n",
    "\n",
    "Michael is the author of [OpenCV with\n",
    "Python Blueprints (Packt Publishing Ltd., 2015)](https://github.com/mbeyeler/opencv-python-blueprints), \n",
    "a practical guide for building advanced computer vision projects. \n",
    "\n",
    "He is also an active contributor to several open-source software projects, and has professional programming experience in Python, C/C++, CUDA,MATLAB, and Android.\n",
    "\n",
    "Michael received a Ph.D. in Computer Science from the University of California, Irvine as well as a M.Sc. in Biomedical Engineering and a B.Sc. in Electrical Engineering from ETH Zurich, Switzerland. \n",
    "\n",
    "When he is not \"nerding out\" on brains, he can be found on top of a snowy mountain, in front of a live band, or behind the piano."
   ]
  },
  {
   "cell_type": "markdown",
   "metadata": {},
   "source": [
    "<!--NAVIGATION-->\n",
    "| [Contents](../README.md) | [Foreword](00.01-Foreword-by-Ariel-Rokem.ipynb) >"
   ]
  }
 ],
 "metadata": {
  "kernelspec": {
   "display_name": "Python 3",
   "language": "python",
   "name": "python3"
  },
  "language_info": {
   "codemirror_mode": {
    "name": "ipython",
    "version": 3
   },
   "file_extension": ".py",
   "mimetype": "text/x-python",
   "name": "python",
   "nbconvert_exporter": "python",
   "pygments_lexer": "ipython3",
   "version": "3.6.2"
  }
 },
 "nbformat": 4,
 "nbformat_minor": 1
}
