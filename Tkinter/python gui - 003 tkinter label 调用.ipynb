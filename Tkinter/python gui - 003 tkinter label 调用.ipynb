{
 "cells": [
  {
   "cell_type": "markdown",
   "metadata": {},
   "source": [
    "##### https://www.jianshu.com/p/a59a0dcc6e66?utm_campaign=maleskine&utm_content=note&utm_medium=pc_all_hots&utm_source=recommendation"
   ]
  },
  {
   "cell_type": "code",
   "execution_count": 9,
   "metadata": {},
   "outputs": [],
   "source": [
    "from tkinter import *\n",
    "root = Tk()\n",
    "one = Label(root, text = 'one', width = 30, height = 5)\n",
    "one.pack()\n",
    "\n",
    "two = Label(root, text = 'two')\n",
    "two['width'] = 40\n",
    "two['height'] = 10\n",
    "two.pack()\n",
    "\n",
    "\n",
    "three = Label(root, text = 'three')\n",
    "three.pack()\n",
    "three.configure(width =  50, height = 15)\n",
    "three.pack()\n",
    "\n",
    "root.mainloop()"
   ]
  },
  {
   "cell_type": "code",
   "execution_count": null,
   "metadata": {},
   "outputs": [],
   "source": []
  }
 ],
 "metadata": {
  "kernelspec": {
   "display_name": "Python 3",
   "language": "python",
   "name": "python3"
  },
  "language_info": {
   "codemirror_mode": {
    "name": "ipython",
    "version": 3
   },
   "file_extension": ".py",
   "mimetype": "text/x-python",
   "name": "python",
   "nbconvert_exporter": "python",
   "pygments_lexer": "ipython3",
   "version": "3.6.2"
  }
 },
 "nbformat": 4,
 "nbformat_minor": 2
}
