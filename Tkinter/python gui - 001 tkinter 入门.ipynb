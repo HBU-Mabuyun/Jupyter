{
 "cells": [
  {
   "cell_type": "markdown",
   "metadata": {},
   "source": [
    "### https://www.jianshu.com/p/158e5c2a1247"
   ]
  },
  {
   "cell_type": "code",
   "execution_count": 7,
   "metadata": {},
   "outputs": [],
   "source": [
    "import tkinter         #加载模块\n",
    "top = tkinter.Tk()    \n",
    "top.mainloop() #进入消息循环"
   ]
  },
  {
   "cell_type": "code",
   "execution_count": 9,
   "metadata": {},
   "outputs": [],
   "source": [
    "import tkinter   #导入tkinter库 \n",
    "root = tkinter.Tk() \n",
    "li = ['C','python','php','html','SQL','java']        #创建列表li\n",
    "movie = ['CSS','jQuery','Bootstrap']    #创建列表movie\n",
    "listb = tkinter.Listbox(root)    #创建列表窗口\n",
    "listb2 = tkinter.Listbox(root)     #创建列表窗口\n",
    "for item in li:    #在列表窗口内填入列表内容\n",
    "  listb.insert(0,item) \n",
    "for item in movie: \n",
    "  listb2.insert(0,item)\n",
    "listb.pack()     #pack函数是布局函数\n",
    "listb2.pack() \n",
    "root.mainloop()"
   ]
  },
  {
   "cell_type": "code",
   "execution_count": 10,
   "metadata": {},
   "outputs": [],
   "source": [
    "#第一种方法改变窗口的名字\n",
    "from tkinter import *\n",
    "root = Tk()\n",
    "root.title(\"窗口标题\") #在这里修改窗口的标题\n",
    "root.mainloop()"
   ]
  },
  {
   "cell_type": "code",
   "execution_count": 11,
   "metadata": {},
   "outputs": [],
   "source": [
    "#第二种方法\n",
    "from tkinter import *\n",
    "root = Tk(className = '窗口标题2')\n",
    "root.mainloop()"
   ]
  },
  {
   "cell_type": "code",
   "execution_count": null,
   "metadata": {},
   "outputs": [],
   "source": []
  }
 ],
 "metadata": {
  "kernelspec": {
   "display_name": "Python 3",
   "language": "python",
   "name": "python3"
  },
  "language_info": {
   "codemirror_mode": {
    "name": "ipython",
    "version": 3
   },
   "file_extension": ".py",
   "mimetype": "text/x-python",
   "name": "python",
   "nbconvert_exporter": "python",
   "pygments_lexer": "ipython3",
   "version": "3.6.2"
  }
 },
 "nbformat": 4,
 "nbformat_minor": 2
}
