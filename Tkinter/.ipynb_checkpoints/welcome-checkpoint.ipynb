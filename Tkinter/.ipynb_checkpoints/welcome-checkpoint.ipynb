{
 "cells": [
  {
   "cell_type": "markdown",
   "metadata": {},
   "source": [
    "### https://morvanzhou.github.io/tutorials/python-basic/tkinter/"
   ]
  },
  {
   "cell_type": "code",
   "execution_count": 12,
   "metadata": {},
   "outputs": [
    {
     "name": "stdout",
     "output_type": "stream",
     "text": [
      "pyimage10\n"
     ]
    }
   ],
   "source": [
    "# View more python learning tutorial on my Youtube and Youku channel!!!\n",
    "\n",
    "# Youtube video tutorial: https://www.youtube.com/channel/UCdyjiB5H8Pu7aDTNVXTTpcg\n",
    "# Youku video tutorial: http://i.youku.com/pythontutorial\n",
    "\n",
    "import tkinter as tk\n",
    "\n",
    "window = tk.Tk()\n",
    "window.title('Welcome to Mofan Python')\n",
    "window.geometry('450x300')\n",
    "\n",
    "# welcome image\n",
    "canvas = tk.Canvas(window, height=200, width=500)#创建画布\n",
    "image_file = tk.PhotoImage(file='welcome.gif')#加载图片文件\n",
    "print (image_file)\n",
    "image = canvas.create_image(0,0, anchor='nw', image=image_file)#将图片置于画布上\n",
    "canvas.pack(side='top')#放置画布（为上端）\n",
    "\n",
    "# user information\n",
    "tk.Label(window, text='User name: ').place(x=50, y= 150)\n",
    "tk.Label(window, text='Password: ').place(x=50, y= 190)\n",
    "\n",
    "var_usr_name = tk.StringVar()\n",
    "var_usr_name.set('example@python.com')\n",
    "entry_usr_name = tk.Entry(window, textvariable=var_usr_name)\n",
    "entry_usr_name.place(x=160, y=150)\n",
    "var_usr_pwd = tk.StringVar()\n",
    "entry_usr_pwd = tk.Entry(window, textvariable=var_usr_pwd, show='*')\n",
    "entry_usr_pwd.place(x=160, y=190)\n",
    "\n",
    "def usr_login():\n",
    "    pass\n",
    "def usr_sign_up():\n",
    "    pass\n",
    "\n",
    "# login and sign up button\n",
    "btn_login = tk.Button(window, text='Login', command=usr_login)\n",
    "btn_login.place(x=170, y=230)\n",
    "btn_sign_up = tk.Button(window, text='Sign up', command=usr_sign_up)\n",
    "btn_sign_up.place(x=270, y=230)\n",
    "\n",
    "window.mainloop()"
   ]
  },
  {
   "cell_type": "code",
   "execution_count": null,
   "metadata": {},
   "outputs": [],
   "source": []
  }
 ],
 "metadata": {
  "kernelspec": {
   "display_name": "Python 3",
   "language": "python",
   "name": "python3"
  },
  "language_info": {
   "codemirror_mode": {
    "name": "ipython",
    "version": 3
   },
   "file_extension": ".py",
   "mimetype": "text/x-python",
   "name": "python",
   "nbconvert_exporter": "python",
   "pygments_lexer": "ipython3",
   "version": "3.6.4"
  }
 },
 "nbformat": 4,
 "nbformat_minor": 2
}
