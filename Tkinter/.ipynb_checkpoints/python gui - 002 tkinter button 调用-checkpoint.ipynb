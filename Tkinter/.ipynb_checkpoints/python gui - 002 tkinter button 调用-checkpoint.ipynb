{
 "cells": [
  {
   "cell_type": "markdown",
   "metadata": {},
   "source": [
    "用python构建button组件的方法"
   ]
  },
  {
   "cell_type": "code",
   "execution_count": 1,
   "metadata": {},
   "outputs": [
    {
     "name": "stdout",
     "output_type": "stream",
     "text": [
      "Hello Button!\n",
      "Hello Button!\n",
      "Hello Button!\n"
     ]
    }
   ],
   "source": [
    "from tkinter import *  #载入tkinter模块\n",
    "root = Tk()\n",
    "\n",
    "def helloButton():  #构建button执行动作\n",
    "  print('Hello Button!')\n",
    "\n",
    "Button(root, text = 'Hello Button!', command = helloButton).pack()\n",
    "\n",
    "root.mainloop()\n"
   ]
  },
  {
   "cell_type": "code",
   "execution_count": 4,
   "metadata": {},
   "outputs": [],
   "source": [
    "from tkinter import * #导入tkinter库\n",
    "\n",
    "root = Tk()\n",
    "\n",
    "def helloButton():  #构建button执行动作\n",
    "  print('Hello Button!')\n",
    "\n",
    "#设置button样式\n",
    "Button(root, text = 'FLAT button',command = helloButton,relief = FLAT).pack()\n",
    "Button(root, text = 'GROOVE button',command = helloButton,relief = GROOVE).pack()\n",
    "Button(root, text = 'RAISED button',command = helloButton,relief = RAISED).pack()\n",
    "Button(root, text = 'SOLID button',command = helloButton,relief = SOLID).pack()\n",
    "Button(root, text = 'SUNKEN button',command = helloButton,relief = SUNKEN).pack()\n",
    "\n",
    "root.mainloop()"
   ]
  },
  {
   "cell_type": "code",
   "execution_count": 5,
   "metadata": {},
   "outputs": [],
   "source": [
    "root = Tk()\n",
    "\n",
    "Button(root, text='botton', compound='bottom', bitmap='error').pack()  \n",
    "Button(root, text='top', compound='top', bitmap='error').pack()  \n",
    "Button(root, text='right', compound='right', bitmap='error').pack()  \n",
    "Button(root, text='left', compound='left', bitmap='error').pack()  \n",
    "Button(root, text='center', compound='center', bitmap='error').pack()  \n",
    "\n",
    "\n",
    "root.mainloop()"
   ]
  },
  {
   "cell_type": "code",
   "execution_count": 6,
   "metadata": {},
   "outputs": [],
   "source": [
    "root = Tk()\n",
    "img = PhotoImage(file = 'color_love.png')  #如果和主程序不在同一文件夹下，则需要写入详细路径，如果和主程序在同一文件夹下，则只需要写文件名。如果在主程序所在的文件夹内的子文件夹内，则可以写’./****/**.gif‘\n",
    "button = Button(root,image = img)\n",
    "button.pack()\n",
    "root.mainloop()\n"
   ]
  },
  {
   "cell_type": "code",
   "execution_count": null,
   "metadata": {},
   "outputs": [],
   "source": []
  }
 ],
 "metadata": {
  "kernelspec": {
   "display_name": "Python 3",
   "language": "python",
   "name": "python3"
  },
  "language_info": {
   "codemirror_mode": {
    "name": "ipython",
    "version": 3
   },
   "file_extension": ".py",
   "mimetype": "text/x-python",
   "name": "python",
   "nbconvert_exporter": "python",
   "pygments_lexer": "ipython3",
   "version": "3.6.2"
  }
 },
 "nbformat": 4,
 "nbformat_minor": 2
}
