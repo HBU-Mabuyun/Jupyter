{
 "cells": [
  {
   "cell_type": "code",
   "execution_count": 1,
   "metadata": {},
   "outputs": [],
   "source": [
    "# -*- coding: utf-8 -*-\n",
    "\n",
    "# Form implementation generated from reading ui file 'test.ui'\n",
    "#\n",
    "# Created by: PyQt5 UI code generator 5.6\n",
    "#\n",
    "# WARNING! All changes made in this file will be lost!\n",
    "\n",
    "from PyQt5 import QtCore, QtGui, QtWidgets\n",
    "\n",
    "class Ui_MainWindow(object):\n",
    "    def setupUi(self, MainWindow):\n",
    "        MainWindow.setObjectName(\"MainWindow\")\n",
    "        MainWindow.resize(800, 600)\n",
    "        self.centralwidget = QtWidgets.QWidget(MainWindow)\n",
    "        self.centralwidget.setObjectName(\"centralwidget\")\n",
    "        self.pushButton = QtWidgets.QPushButton(self.centralwidget)\n",
    "        self.pushButton.setGeometry(QtCore.QRect(200, 460, 75, 23))\n",
    "        self.pushButton.setObjectName(\"pushButton\")\n",
    "        self.pushButton_2 = QtWidgets.QPushButton(self.centralwidget)\n",
    "        self.pushButton_2.setGeometry(QtCore.QRect(340, 460, 75, 23))\n",
    "        self.pushButton_2.setObjectName(\"pushButton_2\")\n",
    "        self.textEdit = QtWidgets.QTextEdit(self.centralwidget)\n",
    "        self.textEdit.setGeometry(QtCore.QRect(180, 240, 104, 71))\n",
    "        self.textEdit.setObjectName(\"textEdit\")\n",
    "        self.textEdit_2 = QtWidgets.QTextEdit(self.centralwidget)\n",
    "        self.textEdit_2.setGeometry(QtCore.QRect(180, 340, 104, 71))\n",
    "        self.textEdit_2.setObjectName(\"textEdit_2\")\n",
    "        self.label = QtWidgets.QLabel(self.centralwidget)\n",
    "        self.label.setGeometry(QtCore.QRect(180, 130, 54, 12))\n",
    "        self.label.setObjectName(\"label\")\n",
    "        MainWindow.setCentralWidget(self.centralwidget)\n",
    "        self.menubar = QtWidgets.QMenuBar(MainWindow)\n",
    "        self.menubar.setGeometry(QtCore.QRect(0, 0, 800, 23))\n",
    "        self.menubar.setObjectName(\"menubar\")\n",
    "        self.menu = QtWidgets.QMenu(self.menubar)\n",
    "        self.menu.setObjectName(\"menu\")\n",
    "        self.menuedit = QtWidgets.QMenu(self.menubar)\n",
    "        self.menuedit.setObjectName(\"menuedit\")\n",
    "        MainWindow.setMenuBar(self.menubar)\n",
    "        self.statusbar = QtWidgets.QStatusBar(MainWindow)\n",
    "        self.statusbar.setObjectName(\"statusbar\")\n",
    "        MainWindow.setStatusBar(self.statusbar)\n",
    "        self.actionopen = QtWidgets.QAction(MainWindow)\n",
    "        self.actionopen.setObjectName(\"actionopen\")\n",
    "        self.actionclose = QtWidgets.QAction(MainWindow)\n",
    "        self.actionclose.setObjectName(\"actionclose\")\n",
    "        self.menu.addAction(self.actionopen)\n",
    "        self.menu.addAction(self.actionclose)\n",
    "        self.menubar.addAction(self.menu.menuAction())\n",
    "        self.menubar.addAction(self.menuedit.menuAction())\n",
    "\n",
    "        self.retranslateUi(MainWindow)\n",
    "        QtCore.QMetaObject.connectSlotsByName(MainWindow)\n",
    "\n",
    "    def retranslateUi(self, MainWindow):\n",
    "        _translate = QtCore.QCoreApplication.translate\n",
    "        MainWindow.setWindowTitle(_translate(\"MainWindow\", \"MainWindow\"))\n",
    "        self.pushButton.setText(_translate(\"MainWindow\", \"PushButton\"))\n",
    "        self.pushButton_2.setText(_translate(\"MainWindow\", \"PushButton\"))\n",
    "        self.label.setText(_translate(\"MainWindow\", \"TextLabel\"))\n",
    "        self.menu.setTitle(_translate(\"MainWindow\", \"文件\"))\n",
    "        self.menuedit.setTitle(_translate(\"MainWindow\", \"edit\"))\n",
    "        self.actionopen.setText(_translate(\"MainWindow\", \"open\"))\n",
    "        self.actionclose.setText(_translate(\"MainWindow\", \"close\"))\n",
    "\n"
   ]
  },
  {
   "cell_type": "code",
   "execution_count": 2,
   "metadata": {},
   "outputs": [
    {
     "ename": "SystemExit",
     "evalue": "0",
     "output_type": "error",
     "traceback": [
      "An exception has occurred, use %tb to see the full traceback.\n",
      "\u001b[1;31mSystemExit\u001b[0m\u001b[1;31m:\u001b[0m 0\n"
     ]
    },
    {
     "name": "stderr",
     "output_type": "stream",
     "text": [
      "C:\\Users\\David\\Anaconda3\\envs\\tensorflow\\lib\\site-packages\\IPython\\core\\interactiveshell.py:2870: UserWarning: To exit: use 'exit', 'quit', or Ctrl-D.\n",
      "  warn(\"To exit: use 'exit', 'quit', or Ctrl-D.\", stacklevel=1)\n"
     ]
    }
   ],
   "source": [
    "import sys\n",
    "from PyQt5.QtWidgets import QApplication, QMainWindow\n",
    "if __name__ == '__main__':\n",
    "    app = QApplication(sys.argv)\n",
    "    MainWindow = QMainWindow()\n",
    "    ui = Ui_MainWindow()\n",
    "    ui.setupUi(MainWindow)\n",
    "    MainWindow.show()\n",
    "    sys.exit(app.exec_())"
   ]
  },
  {
   "cell_type": "code",
   "execution_count": 1,
   "metadata": {},
   "outputs": [
    {
     "ename": "SystemExit",
     "evalue": "0",
     "output_type": "error",
     "traceback": [
      "An exception has occurred, use %tb to see the full traceback.\n",
      "\u001b[1;31mSystemExit\u001b[0m\u001b[1;31m:\u001b[0m 0\n"
     ]
    },
    {
     "name": "stderr",
     "output_type": "stream",
     "text": [
      "C:\\Users\\David\\Anaconda3\\envs\\tensorflow\\lib\\site-packages\\IPython\\core\\interactiveshell.py:2870: UserWarning: To exit: use 'exit', 'quit', or Ctrl-D.\n",
      "  warn(\"To exit: use 'exit', 'quit', or Ctrl-D.\", stacklevel=1)\n"
     ]
    }
   ],
   "source": [
    "import sys\n",
    "from PyQt5.QtWidgets import QWidget, QPushButton, QApplication\n",
    "from PyQt5.QtCore import QCoreApplication\n",
    "\n",
    "\n",
    "class Example(QWidget):\n",
    "\n",
    "    def __init__(self):\n",
    "        super().__init__()\n",
    "\n",
    "        self.initUI()\n",
    "\n",
    "    def initUI(self):\n",
    "        qbtn = QPushButton('Quit', self)\n",
    "        qbtn.clicked.connect(QCoreApplication.instance().quit)\n",
    "        qbtn.resize(qbtn.sizeHint())\n",
    "        qbtn.move(50, 50)\n",
    "\n",
    "        self.setGeometry(300, 300, 250, 150)\n",
    "        self.setWindowTitle('Quit button')\n",
    "        self.show()\n",
    "\n",
    "\n",
    "if __name__ == '__main__':\n",
    "    app = QApplication(sys.argv)\n",
    "    ex = Example()\n",
    "    sys.exit(app.exec_())"
   ]
  },
  {
   "cell_type": "code",
   "execution_count": null,
   "metadata": {},
   "outputs": [],
   "source": []
  }
 ],
 "metadata": {
  "kernelspec": {
   "display_name": "Python 3",
   "language": "python",
   "name": "python3"
  },
  "language_info": {
   "codemirror_mode": {
    "name": "ipython",
    "version": 3
   },
   "file_extension": ".py",
   "mimetype": "text/x-python",
   "name": "python",
   "nbconvert_exporter": "python",
   "pygments_lexer": "ipython3",
   "version": "3.6.2"
  }
 },
 "nbformat": 4,
 "nbformat_minor": 2
}
