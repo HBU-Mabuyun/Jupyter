{
 "cells": [
  {
   "cell_type": "markdown",
   "metadata": {},
   "source": [
    "### 可以直接作用于for循环的对象统称为可迭代对象：Iterable。"
   ]
  },
  {
   "cell_type": "markdown",
   "metadata": {},
   "source": [
    "### 可以被next()函数调用并不断返回下一个值的对象称为迭代器：Iterator。"
   ]
  },
  {
   "cell_type": "code",
   "execution_count": 2,
   "metadata": {},
   "outputs": [
    {
     "name": "stdout",
     "output_type": "stream",
     "text": [
      "1\n",
      "2\n",
      "3\n",
      "4\n",
      "5\n"
     ]
    }
   ],
   "source": [
    "# 首先获得Iterator对象:\n",
    "it = iter([1, 2, 3, 4, 5])\n",
    "# 循环:\n",
    "while True:\n",
    "    try:\n",
    "        # 获得下一个值:\n",
    "        x = next(it)\n",
    "        print(x)\n",
    "    except StopIteration:\n",
    "        # 遇到StopIteration就退出循环\n",
    "        break"
   ]
  },
  {
   "cell_type": "markdown",
   "metadata": {},
   "source": [
    "简单地讲，yield 的作用就是把一个函数变成一个 generator，带有 yield 的函数不再是一个普通函数，Python 解释器会将其视为一个 generator\n",
    "\n",
    "https://www.ibm.com/developerworks/cn/opensource/os-cn-python-yield/"
   ]
  },
  {
   "cell_type": "code",
   "execution_count": 3,
   "metadata": {},
   "outputs": [],
   "source": [
    "from collections import Iterable, Iterator\n",
    "\n",
    "def g():\n",
    "    yield 1\n",
    "    yield 2\n",
    "    yield 3"
   ]
  },
  {
   "cell_type": "code",
   "execution_count": 4,
   "metadata": {},
   "outputs": [
    {
     "name": "stdout",
     "output_type": "stream",
     "text": [
      "Iterable? [1, 2, 3]: True\n",
      "Iterable? 'abc': True\n",
      "Iterable? 123: False\n",
      "Iterable? g(): True\n"
     ]
    }
   ],
   "source": [
    "print('Iterable? [1, 2, 3]:', isinstance([1, 2, 3], Iterable))\n",
    "print('Iterable? \\'abc\\':', isinstance('abc', Iterable))\n",
    "print('Iterable? 123:', isinstance(123, Iterable))\n",
    "print('Iterable? g():', isinstance(g(), Iterable))"
   ]
  },
  {
   "cell_type": "code",
   "execution_count": 5,
   "metadata": {},
   "outputs": [
    {
     "name": "stdout",
     "output_type": "stream",
     "text": [
      "Iterator? [1, 2, 3]: False\n",
      "Iterator? iter([1, 2, 3]): True\n",
      "Iterator? 'abc': False\n",
      "Iterator? 123: False\n",
      "Iterator? g(): True\n"
     ]
    }
   ],
   "source": [
    "print('Iterator? [1, 2, 3]:', isinstance([1, 2, 3], Iterator))\n",
    "print('Iterator? iter([1, 2, 3]):', isinstance(iter([1, 2, 3]), Iterator))\n",
    "print('Iterator? \\'abc\\':', isinstance('abc', Iterator))\n",
    "print('Iterator? 123:', isinstance(123, Iterator))\n",
    "print('Iterator? g():', isinstance(g(), Iterator))"
   ]
  },
  {
   "cell_type": "code",
   "execution_count": 6,
   "metadata": {},
   "outputs": [
    {
     "name": "stdout",
     "output_type": "stream",
     "text": [
      "for x in [1, 2, 3, 4, 5]:\n",
      "1\n",
      "2\n",
      "3\n",
      "4\n",
      "5\n"
     ]
    }
   ],
   "source": [
    "# iter list:\n",
    "print('for x in [1, 2, 3, 4, 5]:')\n",
    "for x in [1, 2, 3, 4, 5]:\n",
    "    print(x)"
   ]
  },
  {
   "cell_type": "code",
   "execution_count": 7,
   "metadata": {},
   "outputs": [
    {
     "name": "stdout",
     "output_type": "stream",
     "text": [
      "for x in iter([1, 2, 3, 4, 5]):\n",
      "1\n",
      "2\n",
      "3\n",
      "4\n",
      "5\n"
     ]
    }
   ],
   "source": [
    "print('for x in iter([1, 2, 3, 4, 5]):')\n",
    "for x in iter([1, 2, 3, 4, 5]):\n",
    "    print(x)"
   ]
  },
  {
   "cell_type": "code",
   "execution_count": 8,
   "metadata": {},
   "outputs": [
    {
     "name": "stdout",
     "output_type": "stream",
     "text": [
      "next():\n",
      "1\n",
      "2\n",
      "3\n",
      "4\n",
      "5\n"
     ]
    }
   ],
   "source": [
    "print('next():')\n",
    "it = iter([1, 2, 3, 4, 5])\n",
    "print(next(it))\n",
    "print(next(it))\n",
    "print(next(it))\n",
    "print(next(it))\n",
    "print(next(it))"
   ]
  },
  {
   "cell_type": "code",
   "execution_count": 9,
   "metadata": {},
   "outputs": [],
   "source": [
    "d = {'a': 1, 'b': 2, 'c': 3}"
   ]
  },
  {
   "cell_type": "code",
   "execution_count": 10,
   "metadata": {},
   "outputs": [
    {
     "name": "stdout",
     "output_type": "stream",
     "text": [
      "iter key: {'a': 1, 'b': 2, 'c': 3}\n",
      "key: a\n",
      "key: b\n",
      "key: c\n"
     ]
    }
   ],
   "source": [
    "# iter each key:\n",
    "print('iter key:', d)\n",
    "for k in d.keys():\n",
    "    print('key:', k)"
   ]
  },
  {
   "cell_type": "code",
   "execution_count": 11,
   "metadata": {},
   "outputs": [
    {
     "name": "stdout",
     "output_type": "stream",
     "text": [
      "iter value: {'a': 1, 'b': 2, 'c': 3}\n",
      "value: 1\n",
      "value: 2\n",
      "value: 3\n"
     ]
    }
   ],
   "source": [
    "# iter each value:\n",
    "print('iter value:', d)\n",
    "for v in d.values():\n",
    "    print('value:', v)"
   ]
  },
  {
   "cell_type": "code",
   "execution_count": 12,
   "metadata": {},
   "outputs": [
    {
     "name": "stdout",
     "output_type": "stream",
     "text": [
      "iter item: {'a': 1, 'b': 2, 'c': 3}\n",
      "item: a 1\n",
      "item: b 2\n",
      "item: c 3\n"
     ]
    }
   ],
   "source": [
    "# iter both key and value:\n",
    "print('iter item:', d)\n",
    "for k, v in d.items():\n",
    "    print('item:', k, v)"
   ]
  },
  {
   "cell_type": "code",
   "execution_count": 13,
   "metadata": {},
   "outputs": [
    {
     "name": "stdout",
     "output_type": "stream",
     "text": [
      "iter enumerate(['A', 'B', 'C']\n",
      "0 A\n",
      "1 B\n",
      "2 C\n"
     ]
    }
   ],
   "source": [
    "# iter list with index:\n",
    "print('iter enumerate([\\'A\\', \\'B\\', \\'C\\']')\n",
    "for i, value in enumerate(['A', 'B', 'C']):#枚举\n",
    "    print(i, value)"
   ]
  },
  {
   "cell_type": "code",
   "execution_count": 14,
   "metadata": {},
   "outputs": [
    {
     "name": "stdout",
     "output_type": "stream",
     "text": [
      "iter [(1, 1), (2, 4), (3, 9)]:\n",
      "1 1\n",
      "2 4\n",
      "3 9\n"
     ]
    }
   ],
   "source": [
    "# iter complex list:\n",
    "print('iter [(1, 1), (2, 4), (3, 9)]:')\n",
    "for x, y in [(1, 1), (2, 4), (3, 9)]:\n",
    "    print(x, y)"
   ]
  },
  {
   "cell_type": "code",
   "execution_count": null,
   "metadata": {},
   "outputs": [],
   "source": []
  }
 ],
 "metadata": {
  "kernelspec": {
   "display_name": "Python 3",
   "language": "python",
   "name": "python3"
  },
  "language_info": {
   "codemirror_mode": {
    "name": "ipython",
    "version": 3
   },
   "file_extension": ".py",
   "mimetype": "text/x-python",
   "name": "python",
   "nbconvert_exporter": "python",
   "pygments_lexer": "ipython3",
   "version": "3.6.2"
  }
 },
 "nbformat": 4,
 "nbformat_minor": 2
}
